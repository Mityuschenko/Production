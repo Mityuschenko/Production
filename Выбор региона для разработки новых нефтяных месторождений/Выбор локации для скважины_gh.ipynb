{
 "cells": [
  {
   "cell_type": "markdown",
   "metadata": {},
   "source": [
    "# Выбор локации для скважины"
   ]
  },
  {
   "cell_type": "markdown",
   "metadata": {},
   "source": [
    "Допустим, вы работаете в добывающей компании «ГлавРосГосНефть». Нужно решить, где бурить новую скважину.\n",
    "\n",
    "Вам предоставлены пробы нефти в трёх регионах: в каждом 10 000 месторождений, где измерили качество нефти и объём её запасов. Постройте модель машинного обучения, которая поможет определить регион, где добыча принесёт наибольшую прибыль. Проанализируйте возможную прибыль и риски техникой *Bootstrap.*\n",
    "\n",
    "Шаги для выбора локации:\n",
    "\n",
    "- В избранном регионе ищут месторождения, для каждого определяют значения признаков;\n",
    "- Строят модель и оценивают объём запасов;\n",
    "- Выбирают месторождения с самым высокими оценками значений. Количество месторождений зависит от бюджета компании и стоимости разработки одной скважины;\n",
    "- Прибыль равна суммарной прибыли отобранных месторождений."
   ]
  },
  {
   "cell_type": "markdown",
   "metadata": {},
   "source": [
    "## Загрузка и подготовка данных"
   ]
  },
  {
   "cell_type": "markdown",
   "metadata": {},
   "source": [
    "Данные геологоразведки:\n",
    "1. id — уникальный идентификатор скважины;\n",
    "2. f0, f1, f2 — три признака точек (неважно, что они означают, но сами признаки значимы);\n",
    "3. product — объём запасов в скважине (тыс. баррелей)."
   ]
  },
  {
   "cell_type": "code",
   "execution_count": 35,
   "metadata": {},
   "outputs": [],
   "source": [
    "import pandas as pd\n",
    "import numpy as np\n",
    "\n",
    "from sklearn.linear_model import LinearRegression\n",
    "from sklearn.model_selection import train_test_split\n",
    "from sklearn.metrics import mean_squared_error"
   ]
  },
  {
   "cell_type": "code",
   "execution_count": 36,
   "metadata": {},
   "outputs": [
    {
     "data": {
      "text/html": [
       "<div>\n",
       "<style scoped>\n",
       "    .dataframe tbody tr th:only-of-type {\n",
       "        vertical-align: middle;\n",
       "    }\n",
       "\n",
       "    .dataframe tbody tr th {\n",
       "        vertical-align: top;\n",
       "    }\n",
       "\n",
       "    .dataframe thead th {\n",
       "        text-align: right;\n",
       "    }\n",
       "</style>\n",
       "<table border=\"1\" class=\"dataframe\">\n",
       "  <thead>\n",
       "    <tr style=\"text-align: right;\">\n",
       "      <th></th>\n",
       "      <th>id</th>\n",
       "      <th>f0</th>\n",
       "      <th>f1</th>\n",
       "      <th>f2</th>\n",
       "      <th>product</th>\n",
       "    </tr>\n",
       "  </thead>\n",
       "  <tbody>\n",
       "    <tr>\n",
       "      <th>0</th>\n",
       "      <td>txEyH</td>\n",
       "      <td>0.705745</td>\n",
       "      <td>-0.497823</td>\n",
       "      <td>1.221170</td>\n",
       "      <td>105.280062</td>\n",
       "    </tr>\n",
       "    <tr>\n",
       "      <th>1</th>\n",
       "      <td>2acmU</td>\n",
       "      <td>1.334711</td>\n",
       "      <td>-0.340164</td>\n",
       "      <td>4.365080</td>\n",
       "      <td>73.037750</td>\n",
       "    </tr>\n",
       "    <tr>\n",
       "      <th>2</th>\n",
       "      <td>409Wp</td>\n",
       "      <td>1.022732</td>\n",
       "      <td>0.151990</td>\n",
       "      <td>1.419926</td>\n",
       "      <td>85.265647</td>\n",
       "    </tr>\n",
       "    <tr>\n",
       "      <th>3</th>\n",
       "      <td>iJLyR</td>\n",
       "      <td>-0.032172</td>\n",
       "      <td>0.139033</td>\n",
       "      <td>2.978566</td>\n",
       "      <td>168.620776</td>\n",
       "    </tr>\n",
       "    <tr>\n",
       "      <th>4</th>\n",
       "      <td>Xdl7t</td>\n",
       "      <td>1.988431</td>\n",
       "      <td>0.155413</td>\n",
       "      <td>4.751769</td>\n",
       "      <td>154.036647</td>\n",
       "    </tr>\n",
       "    <tr>\n",
       "      <th>...</th>\n",
       "      <td>...</td>\n",
       "      <td>...</td>\n",
       "      <td>...</td>\n",
       "      <td>...</td>\n",
       "      <td>...</td>\n",
       "    </tr>\n",
       "    <tr>\n",
       "      <th>99995</th>\n",
       "      <td>DLsed</td>\n",
       "      <td>0.971957</td>\n",
       "      <td>0.370953</td>\n",
       "      <td>6.075346</td>\n",
       "      <td>110.744026</td>\n",
       "    </tr>\n",
       "    <tr>\n",
       "      <th>99996</th>\n",
       "      <td>QKivN</td>\n",
       "      <td>1.392429</td>\n",
       "      <td>-0.382606</td>\n",
       "      <td>1.273912</td>\n",
       "      <td>122.346843</td>\n",
       "    </tr>\n",
       "    <tr>\n",
       "      <th>99997</th>\n",
       "      <td>3rnvd</td>\n",
       "      <td>1.029585</td>\n",
       "      <td>0.018787</td>\n",
       "      <td>-1.348308</td>\n",
       "      <td>64.375443</td>\n",
       "    </tr>\n",
       "    <tr>\n",
       "      <th>99998</th>\n",
       "      <td>7kl59</td>\n",
       "      <td>0.998163</td>\n",
       "      <td>-0.528582</td>\n",
       "      <td>1.583869</td>\n",
       "      <td>74.040764</td>\n",
       "    </tr>\n",
       "    <tr>\n",
       "      <th>99999</th>\n",
       "      <td>1CWhH</td>\n",
       "      <td>1.764754</td>\n",
       "      <td>-0.266417</td>\n",
       "      <td>5.722849</td>\n",
       "      <td>149.633246</td>\n",
       "    </tr>\n",
       "  </tbody>\n",
       "</table>\n",
       "<p>100000 rows × 5 columns</p>\n",
       "</div>"
      ],
      "text/plain": [
       "          id        f0        f1        f2     product\n",
       "0      txEyH  0.705745 -0.497823  1.221170  105.280062\n",
       "1      2acmU  1.334711 -0.340164  4.365080   73.037750\n",
       "2      409Wp  1.022732  0.151990  1.419926   85.265647\n",
       "3      iJLyR -0.032172  0.139033  2.978566  168.620776\n",
       "4      Xdl7t  1.988431  0.155413  4.751769  154.036647\n",
       "...      ...       ...       ...       ...         ...\n",
       "99995  DLsed  0.971957  0.370953  6.075346  110.744026\n",
       "99996  QKivN  1.392429 -0.382606  1.273912  122.346843\n",
       "99997  3rnvd  1.029585  0.018787 -1.348308   64.375443\n",
       "99998  7kl59  0.998163 -0.528582  1.583869   74.040764\n",
       "99999  1CWhH  1.764754 -0.266417  5.722849  149.633246\n",
       "\n",
       "[100000 rows x 5 columns]"
      ]
     },
     "metadata": {},
     "output_type": "display_data"
    },
    {
     "name": "stdout",
     "output_type": "stream",
     "text": [
      "<class 'pandas.core.frame.DataFrame'>\n",
      "RangeIndex: 100000 entries, 0 to 99999\n",
      "Data columns (total 5 columns):\n",
      " #   Column   Non-Null Count   Dtype  \n",
      "---  ------   --------------   -----  \n",
      " 0   id       100000 non-null  object \n",
      " 1   f0       100000 non-null  float64\n",
      " 2   f1       100000 non-null  float64\n",
      " 3   f2       100000 non-null  float64\n",
      " 4   product  100000 non-null  float64\n",
      "dtypes: float64(4), object(1)\n",
      "memory usage: 3.8+ MB\n"
     ]
    }
   ],
   "source": [
    "geo_data_reg_0 = pd.read_csv('/datasets/geo_data_0.csv')\n",
    "display(geo_data_reg_0)\n",
    "geo_data_reg_0.info()"
   ]
  },
  {
   "cell_type": "code",
   "execution_count": 37,
   "metadata": {},
   "outputs": [
    {
     "data": {
      "text/html": [
       "<div>\n",
       "<style scoped>\n",
       "    .dataframe tbody tr th:only-of-type {\n",
       "        vertical-align: middle;\n",
       "    }\n",
       "\n",
       "    .dataframe tbody tr th {\n",
       "        vertical-align: top;\n",
       "    }\n",
       "\n",
       "    .dataframe thead th {\n",
       "        text-align: right;\n",
       "    }\n",
       "</style>\n",
       "<table border=\"1\" class=\"dataframe\">\n",
       "  <thead>\n",
       "    <tr style=\"text-align: right;\">\n",
       "      <th></th>\n",
       "      <th>id</th>\n",
       "      <th>f0</th>\n",
       "      <th>f1</th>\n",
       "      <th>f2</th>\n",
       "      <th>product</th>\n",
       "    </tr>\n",
       "  </thead>\n",
       "  <tbody>\n",
       "    <tr>\n",
       "      <th>0</th>\n",
       "      <td>kBEdx</td>\n",
       "      <td>-15.001348</td>\n",
       "      <td>-8.276000</td>\n",
       "      <td>-0.005876</td>\n",
       "      <td>3.179103</td>\n",
       "    </tr>\n",
       "    <tr>\n",
       "      <th>1</th>\n",
       "      <td>62mP7</td>\n",
       "      <td>14.272088</td>\n",
       "      <td>-3.475083</td>\n",
       "      <td>0.999183</td>\n",
       "      <td>26.953261</td>\n",
       "    </tr>\n",
       "    <tr>\n",
       "      <th>2</th>\n",
       "      <td>vyE1P</td>\n",
       "      <td>6.263187</td>\n",
       "      <td>-5.948386</td>\n",
       "      <td>5.001160</td>\n",
       "      <td>134.766305</td>\n",
       "    </tr>\n",
       "    <tr>\n",
       "      <th>3</th>\n",
       "      <td>KcrkZ</td>\n",
       "      <td>-13.081196</td>\n",
       "      <td>-11.506057</td>\n",
       "      <td>4.999415</td>\n",
       "      <td>137.945408</td>\n",
       "    </tr>\n",
       "    <tr>\n",
       "      <th>4</th>\n",
       "      <td>AHL4O</td>\n",
       "      <td>12.702195</td>\n",
       "      <td>-8.147433</td>\n",
       "      <td>5.004363</td>\n",
       "      <td>134.766305</td>\n",
       "    </tr>\n",
       "    <tr>\n",
       "      <th>...</th>\n",
       "      <td>...</td>\n",
       "      <td>...</td>\n",
       "      <td>...</td>\n",
       "      <td>...</td>\n",
       "      <td>...</td>\n",
       "    </tr>\n",
       "    <tr>\n",
       "      <th>99995</th>\n",
       "      <td>QywKC</td>\n",
       "      <td>9.535637</td>\n",
       "      <td>-6.878139</td>\n",
       "      <td>1.998296</td>\n",
       "      <td>53.906522</td>\n",
       "    </tr>\n",
       "    <tr>\n",
       "      <th>99996</th>\n",
       "      <td>ptvty</td>\n",
       "      <td>-10.160631</td>\n",
       "      <td>-12.558096</td>\n",
       "      <td>5.005581</td>\n",
       "      <td>137.945408</td>\n",
       "    </tr>\n",
       "    <tr>\n",
       "      <th>99997</th>\n",
       "      <td>09gWa</td>\n",
       "      <td>-7.378891</td>\n",
       "      <td>-3.084104</td>\n",
       "      <td>4.998651</td>\n",
       "      <td>137.945408</td>\n",
       "    </tr>\n",
       "    <tr>\n",
       "      <th>99998</th>\n",
       "      <td>rqwUm</td>\n",
       "      <td>0.665714</td>\n",
       "      <td>-6.152593</td>\n",
       "      <td>1.000146</td>\n",
       "      <td>30.132364</td>\n",
       "    </tr>\n",
       "    <tr>\n",
       "      <th>99999</th>\n",
       "      <td>relB0</td>\n",
       "      <td>-3.426139</td>\n",
       "      <td>-7.794274</td>\n",
       "      <td>-0.003299</td>\n",
       "      <td>3.179103</td>\n",
       "    </tr>\n",
       "  </tbody>\n",
       "</table>\n",
       "<p>100000 rows × 5 columns</p>\n",
       "</div>"
      ],
      "text/plain": [
       "          id         f0         f1        f2     product\n",
       "0      kBEdx -15.001348  -8.276000 -0.005876    3.179103\n",
       "1      62mP7  14.272088  -3.475083  0.999183   26.953261\n",
       "2      vyE1P   6.263187  -5.948386  5.001160  134.766305\n",
       "3      KcrkZ -13.081196 -11.506057  4.999415  137.945408\n",
       "4      AHL4O  12.702195  -8.147433  5.004363  134.766305\n",
       "...      ...        ...        ...       ...         ...\n",
       "99995  QywKC   9.535637  -6.878139  1.998296   53.906522\n",
       "99996  ptvty -10.160631 -12.558096  5.005581  137.945408\n",
       "99997  09gWa  -7.378891  -3.084104  4.998651  137.945408\n",
       "99998  rqwUm   0.665714  -6.152593  1.000146   30.132364\n",
       "99999  relB0  -3.426139  -7.794274 -0.003299    3.179103\n",
       "\n",
       "[100000 rows x 5 columns]"
      ]
     },
     "metadata": {},
     "output_type": "display_data"
    },
    {
     "name": "stdout",
     "output_type": "stream",
     "text": [
      "<class 'pandas.core.frame.DataFrame'>\n",
      "RangeIndex: 100000 entries, 0 to 99999\n",
      "Data columns (total 5 columns):\n",
      " #   Column   Non-Null Count   Dtype  \n",
      "---  ------   --------------   -----  \n",
      " 0   id       100000 non-null  object \n",
      " 1   f0       100000 non-null  float64\n",
      " 2   f1       100000 non-null  float64\n",
      " 3   f2       100000 non-null  float64\n",
      " 4   product  100000 non-null  float64\n",
      "dtypes: float64(4), object(1)\n",
      "memory usage: 3.8+ MB\n"
     ]
    }
   ],
   "source": [
    "geo_data_reg_1 = pd.read_csv('/datasets/geo_data_1.csv')\n",
    "display(geo_data_reg_1)\n",
    "geo_data_reg_1.info()"
   ]
  },
  {
   "cell_type": "code",
   "execution_count": 38,
   "metadata": {},
   "outputs": [
    {
     "data": {
      "text/html": [
       "<div>\n",
       "<style scoped>\n",
       "    .dataframe tbody tr th:only-of-type {\n",
       "        vertical-align: middle;\n",
       "    }\n",
       "\n",
       "    .dataframe tbody tr th {\n",
       "        vertical-align: top;\n",
       "    }\n",
       "\n",
       "    .dataframe thead th {\n",
       "        text-align: right;\n",
       "    }\n",
       "</style>\n",
       "<table border=\"1\" class=\"dataframe\">\n",
       "  <thead>\n",
       "    <tr style=\"text-align: right;\">\n",
       "      <th></th>\n",
       "      <th>id</th>\n",
       "      <th>f0</th>\n",
       "      <th>f1</th>\n",
       "      <th>f2</th>\n",
       "      <th>product</th>\n",
       "    </tr>\n",
       "  </thead>\n",
       "  <tbody>\n",
       "    <tr>\n",
       "      <th>0</th>\n",
       "      <td>fwXo0</td>\n",
       "      <td>-1.146987</td>\n",
       "      <td>0.963328</td>\n",
       "      <td>-0.828965</td>\n",
       "      <td>27.758673</td>\n",
       "    </tr>\n",
       "    <tr>\n",
       "      <th>1</th>\n",
       "      <td>WJtFt</td>\n",
       "      <td>0.262778</td>\n",
       "      <td>0.269839</td>\n",
       "      <td>-2.530187</td>\n",
       "      <td>56.069697</td>\n",
       "    </tr>\n",
       "    <tr>\n",
       "      <th>2</th>\n",
       "      <td>ovLUW</td>\n",
       "      <td>0.194587</td>\n",
       "      <td>0.289035</td>\n",
       "      <td>-5.586433</td>\n",
       "      <td>62.871910</td>\n",
       "    </tr>\n",
       "    <tr>\n",
       "      <th>3</th>\n",
       "      <td>q6cA6</td>\n",
       "      <td>2.236060</td>\n",
       "      <td>-0.553760</td>\n",
       "      <td>0.930038</td>\n",
       "      <td>114.572842</td>\n",
       "    </tr>\n",
       "    <tr>\n",
       "      <th>4</th>\n",
       "      <td>WPMUX</td>\n",
       "      <td>-0.515993</td>\n",
       "      <td>1.716266</td>\n",
       "      <td>5.899011</td>\n",
       "      <td>149.600746</td>\n",
       "    </tr>\n",
       "    <tr>\n",
       "      <th>...</th>\n",
       "      <td>...</td>\n",
       "      <td>...</td>\n",
       "      <td>...</td>\n",
       "      <td>...</td>\n",
       "      <td>...</td>\n",
       "    </tr>\n",
       "    <tr>\n",
       "      <th>99995</th>\n",
       "      <td>4GxBu</td>\n",
       "      <td>-1.777037</td>\n",
       "      <td>1.125220</td>\n",
       "      <td>6.263374</td>\n",
       "      <td>172.327046</td>\n",
       "    </tr>\n",
       "    <tr>\n",
       "      <th>99996</th>\n",
       "      <td>YKFjq</td>\n",
       "      <td>-1.261523</td>\n",
       "      <td>-0.894828</td>\n",
       "      <td>2.524545</td>\n",
       "      <td>138.748846</td>\n",
       "    </tr>\n",
       "    <tr>\n",
       "      <th>99997</th>\n",
       "      <td>tKPY3</td>\n",
       "      <td>-1.199934</td>\n",
       "      <td>-2.957637</td>\n",
       "      <td>5.219411</td>\n",
       "      <td>157.080080</td>\n",
       "    </tr>\n",
       "    <tr>\n",
       "      <th>99998</th>\n",
       "      <td>nmxp2</td>\n",
       "      <td>-2.419896</td>\n",
       "      <td>2.417221</td>\n",
       "      <td>-5.548444</td>\n",
       "      <td>51.795253</td>\n",
       "    </tr>\n",
       "    <tr>\n",
       "      <th>99999</th>\n",
       "      <td>V9kWn</td>\n",
       "      <td>-2.551421</td>\n",
       "      <td>-2.025625</td>\n",
       "      <td>6.090891</td>\n",
       "      <td>102.775767</td>\n",
       "    </tr>\n",
       "  </tbody>\n",
       "</table>\n",
       "<p>100000 rows × 5 columns</p>\n",
       "</div>"
      ],
      "text/plain": [
       "          id        f0        f1        f2     product\n",
       "0      fwXo0 -1.146987  0.963328 -0.828965   27.758673\n",
       "1      WJtFt  0.262778  0.269839 -2.530187   56.069697\n",
       "2      ovLUW  0.194587  0.289035 -5.586433   62.871910\n",
       "3      q6cA6  2.236060 -0.553760  0.930038  114.572842\n",
       "4      WPMUX -0.515993  1.716266  5.899011  149.600746\n",
       "...      ...       ...       ...       ...         ...\n",
       "99995  4GxBu -1.777037  1.125220  6.263374  172.327046\n",
       "99996  YKFjq -1.261523 -0.894828  2.524545  138.748846\n",
       "99997  tKPY3 -1.199934 -2.957637  5.219411  157.080080\n",
       "99998  nmxp2 -2.419896  2.417221 -5.548444   51.795253\n",
       "99999  V9kWn -2.551421 -2.025625  6.090891  102.775767\n",
       "\n",
       "[100000 rows x 5 columns]"
      ]
     },
     "metadata": {},
     "output_type": "display_data"
    },
    {
     "name": "stdout",
     "output_type": "stream",
     "text": [
      "<class 'pandas.core.frame.DataFrame'>\n",
      "RangeIndex: 100000 entries, 0 to 99999\n",
      "Data columns (total 5 columns):\n",
      " #   Column   Non-Null Count   Dtype  \n",
      "---  ------   --------------   -----  \n",
      " 0   id       100000 non-null  object \n",
      " 1   f0       100000 non-null  float64\n",
      " 2   f1       100000 non-null  float64\n",
      " 3   f2       100000 non-null  float64\n",
      " 4   product  100000 non-null  float64\n",
      "dtypes: float64(4), object(1)\n",
      "memory usage: 3.8+ MB\n"
     ]
    }
   ],
   "source": [
    "geo_data_reg_2 = pd.read_csv('/datasets/geo_data_2.csv')\n",
    "display(geo_data_reg_2)\n",
    "geo_data_reg_2.info()"
   ]
  },
  {
   "cell_type": "markdown",
   "metadata": {},
   "source": [
    "## Обучение и проверка модели"
   ]
  },
  {
   "cell_type": "markdown",
   "metadata": {},
   "source": [
    "### Функция моделирования"
   ]
  },
  {
   "cell_type": "code",
   "execution_count": 39,
   "metadata": {},
   "outputs": [],
   "source": [
    "def modeling(features_train, features_valid, target_train, target_valid):\n",
    "    model = LinearRegression() # инициализация модели \"линейная регрессия\"\n",
    "    model.fit(features_train, target_train) # обучение модели на обучающей выборке\n",
    "    predictions = model.predict(features_valid) # предсказания модели на валидационной выборке\n",
    "    rmse = mean_squared_error(target_valid, predictions) ** 0.5 # значение метрики RMSE на валидационной выборке\n",
    "    \n",
    "    return predictions, rmse, target_valid"
   ]
  },
  {
   "cell_type": "markdown",
   "metadata": {},
   "source": [
    "**Важно**\n",
    "\n",
    "Признак `id` для данного исследования интереса не представляют, т.к. являются служебной информацией, изночально уникальной для каждой скважины, поэтому этот столбец исключим из данных для создания и тестирования модели."
   ]
  },
  {
   "cell_type": "markdown",
   "metadata": {},
   "source": [
    "### Регион 0"
   ]
  },
  {
   "cell_type": "code",
   "execution_count": 40,
   "metadata": {},
   "outputs": [],
   "source": [
    "#Выделение Признаков и Целевого признака\n",
    "features = geo_data_reg_0.drop(['id','product',], axis=1)\n",
    "target = geo_data_reg_0['product']"
   ]
  },
  {
   "cell_type": "code",
   "execution_count": 41,
   "metadata": {},
   "outputs": [
    {
     "data": {
      "text/plain": [
       "86601     42.679586\n",
       "89058    104.522378\n",
       "94735     60.898494\n",
       "57141    108.557772\n",
       "78255     45.963185\n",
       "            ...    \n",
       "3575     108.439854\n",
       "29957     82.017013\n",
       "53584    109.635221\n",
       "73150     52.503049\n",
       "91204     97.957026\n",
       "Name: product, Length: 25000, dtype: float64"
      ]
     },
     "execution_count": 41,
     "metadata": {},
     "output_type": "execute_result"
    }
   ],
   "source": [
    "#Разбивка выборки на обучающую и валидационную выборки\n",
    "features_train, features_valid, target_train, target_valid = train_test_split(\n",
    "    features, target, test_size=0.25, random_state=12091977)\n",
    "target_valid"
   ]
  },
  {
   "cell_type": "code",
   "execution_count": 42,
   "metadata": {},
   "outputs": [
    {
     "name": "stdout",
     "output_type": "stream",
     "text": [
      "RMSE модели линейной регрессии на валидационной выборке: 37.34738707044069\n",
      "Cредний запас предсказанного сырья: 92.28299910080804\n"
     ]
    }
   ],
   "source": [
    "reg_0 = modeling(features_train, features_valid, target_train, target_valid)\n",
    "print(\"RMSE модели линейной регрессии на валидационной выборке:\", reg_0[1])\n",
    "print(\"Cредний запас предсказанного сырья:\", reg_0[0].mean())\n"
   ]
  },
  {
   "cell_type": "markdown",
   "metadata": {},
   "source": [
    "### Регион 1"
   ]
  },
  {
   "cell_type": "code",
   "execution_count": 43,
   "metadata": {},
   "outputs": [],
   "source": [
    "#Выделение Признаков и Целевого признака\n",
    "features = geo_data_reg_1.drop(['id','product',], axis=1)\n",
    "target = geo_data_reg_1['product']"
   ]
  },
  {
   "cell_type": "code",
   "execution_count": 44,
   "metadata": {},
   "outputs": [
    {
     "data": {
      "text/html": [
       "<div>\n",
       "<style scoped>\n",
       "    .dataframe tbody tr th:only-of-type {\n",
       "        vertical-align: middle;\n",
       "    }\n",
       "\n",
       "    .dataframe tbody tr th {\n",
       "        vertical-align: top;\n",
       "    }\n",
       "\n",
       "    .dataframe thead th {\n",
       "        text-align: right;\n",
       "    }\n",
       "</style>\n",
       "<table border=\"1\" class=\"dataframe\">\n",
       "  <thead>\n",
       "    <tr style=\"text-align: right;\">\n",
       "      <th></th>\n",
       "      <th>f0</th>\n",
       "      <th>f1</th>\n",
       "      <th>f2</th>\n",
       "    </tr>\n",
       "  </thead>\n",
       "  <tbody>\n",
       "    <tr>\n",
       "      <th>86601</th>\n",
       "      <td>0.777234</td>\n",
       "      <td>1.292963</td>\n",
       "      <td>3.005624</td>\n",
       "    </tr>\n",
       "    <tr>\n",
       "      <th>89058</th>\n",
       "      <td>10.615361</td>\n",
       "      <td>-10.037798</td>\n",
       "      <td>3.001227</td>\n",
       "    </tr>\n",
       "    <tr>\n",
       "      <th>94735</th>\n",
       "      <td>-4.433437</td>\n",
       "      <td>-7.679420</td>\n",
       "      <td>1.001997</td>\n",
       "    </tr>\n",
       "    <tr>\n",
       "      <th>57141</th>\n",
       "      <td>-5.648996</td>\n",
       "      <td>-14.101062</td>\n",
       "      <td>2.004878</td>\n",
       "    </tr>\n",
       "    <tr>\n",
       "      <th>78255</th>\n",
       "      <td>7.131766</td>\n",
       "      <td>-4.558284</td>\n",
       "      <td>2.008987</td>\n",
       "    </tr>\n",
       "    <tr>\n",
       "      <th>...</th>\n",
       "      <td>...</td>\n",
       "      <td>...</td>\n",
       "      <td>...</td>\n",
       "    </tr>\n",
       "    <tr>\n",
       "      <th>3575</th>\n",
       "      <td>-7.020147</td>\n",
       "      <td>-15.276959</td>\n",
       "      <td>5.001826</td>\n",
       "    </tr>\n",
       "    <tr>\n",
       "      <th>29957</th>\n",
       "      <td>-1.085298</td>\n",
       "      <td>1.183474</td>\n",
       "      <td>4.996948</td>\n",
       "    </tr>\n",
       "    <tr>\n",
       "      <th>53584</th>\n",
       "      <td>-12.375617</td>\n",
       "      <td>0.413205</td>\n",
       "      <td>-0.000935</td>\n",
       "    </tr>\n",
       "    <tr>\n",
       "      <th>73150</th>\n",
       "      <td>2.556158</td>\n",
       "      <td>0.808446</td>\n",
       "      <td>3.004397</td>\n",
       "    </tr>\n",
       "    <tr>\n",
       "      <th>91204</th>\n",
       "      <td>-6.279218</td>\n",
       "      <td>1.534933</td>\n",
       "      <td>2.991154</td>\n",
       "    </tr>\n",
       "  </tbody>\n",
       "</table>\n",
       "<p>25000 rows × 3 columns</p>\n",
       "</div>"
      ],
      "text/plain": [
       "              f0         f1        f2\n",
       "86601   0.777234   1.292963  3.005624\n",
       "89058  10.615361 -10.037798  3.001227\n",
       "94735  -4.433437  -7.679420  1.001997\n",
       "57141  -5.648996 -14.101062  2.004878\n",
       "78255   7.131766  -4.558284  2.008987\n",
       "...          ...        ...       ...\n",
       "3575   -7.020147 -15.276959  5.001826\n",
       "29957  -1.085298   1.183474  4.996948\n",
       "53584 -12.375617   0.413205 -0.000935\n",
       "73150   2.556158   0.808446  3.004397\n",
       "91204  -6.279218   1.534933  2.991154\n",
       "\n",
       "[25000 rows x 3 columns]"
      ]
     },
     "execution_count": 44,
     "metadata": {},
     "output_type": "execute_result"
    }
   ],
   "source": [
    "#Разбивка выборки на обучающую и валидационную выборки\n",
    "features_train, features_valid, target_train, target_valid = train_test_split(\n",
    "    features, target, test_size=0.25, random_state=12091977)\n",
    "features_valid"
   ]
  },
  {
   "cell_type": "code",
   "execution_count": 45,
   "metadata": {},
   "outputs": [
    {
     "name": "stdout",
     "output_type": "stream",
     "text": [
      "RMSE модели линейной регрессии на валидационной выборке: 0.8922847864260562\n",
      "Cредний запас предсказанного сырья: 68.87605889990549\n"
     ]
    }
   ],
   "source": [
    "reg_1 = modeling(features_train, features_valid, target_train, target_valid)\n",
    "print(\"RMSE модели линейной регрессии на валидационной выборке:\", reg_1[1])\n",
    "print(\"Cредний запас предсказанного сырья:\", reg_1[0].mean())\n"
   ]
  },
  {
   "cell_type": "markdown",
   "metadata": {},
   "source": [
    "### Регион 2"
   ]
  },
  {
   "cell_type": "code",
   "execution_count": 46,
   "metadata": {},
   "outputs": [],
   "source": [
    "#Выделение Признаков и Целевого признака\n",
    "features = geo_data_reg_2.drop(['id','product',], axis=1)\n",
    "target = geo_data_reg_2['product']"
   ]
  },
  {
   "cell_type": "code",
   "execution_count": 47,
   "metadata": {},
   "outputs": [
    {
     "data": {
      "text/html": [
       "<div>\n",
       "<style scoped>\n",
       "    .dataframe tbody tr th:only-of-type {\n",
       "        vertical-align: middle;\n",
       "    }\n",
       "\n",
       "    .dataframe tbody tr th {\n",
       "        vertical-align: top;\n",
       "    }\n",
       "\n",
       "    .dataframe thead th {\n",
       "        text-align: right;\n",
       "    }\n",
       "</style>\n",
       "<table border=\"1\" class=\"dataframe\">\n",
       "  <thead>\n",
       "    <tr style=\"text-align: right;\">\n",
       "      <th></th>\n",
       "      <th>f0</th>\n",
       "      <th>f1</th>\n",
       "      <th>f2</th>\n",
       "    </tr>\n",
       "  </thead>\n",
       "  <tbody>\n",
       "    <tr>\n",
       "      <th>86601</th>\n",
       "      <td>-0.538323</td>\n",
       "      <td>-1.278551</td>\n",
       "      <td>-5.529411</td>\n",
       "    </tr>\n",
       "    <tr>\n",
       "      <th>89058</th>\n",
       "      <td>-2.314127</td>\n",
       "      <td>2.386062</td>\n",
       "      <td>4.231771</td>\n",
       "    </tr>\n",
       "    <tr>\n",
       "      <th>94735</th>\n",
       "      <td>-2.446468</td>\n",
       "      <td>3.195713</td>\n",
       "      <td>6.372292</td>\n",
       "    </tr>\n",
       "    <tr>\n",
       "      <th>57141</th>\n",
       "      <td>0.148190</td>\n",
       "      <td>0.939364</td>\n",
       "      <td>8.191370</td>\n",
       "    </tr>\n",
       "    <tr>\n",
       "      <th>78255</th>\n",
       "      <td>0.056715</td>\n",
       "      <td>-0.870233</td>\n",
       "      <td>4.628166</td>\n",
       "    </tr>\n",
       "    <tr>\n",
       "      <th>...</th>\n",
       "      <td>...</td>\n",
       "      <td>...</td>\n",
       "      <td>...</td>\n",
       "    </tr>\n",
       "    <tr>\n",
       "      <th>3575</th>\n",
       "      <td>-1.459180</td>\n",
       "      <td>0.598307</td>\n",
       "      <td>-1.561765</td>\n",
       "    </tr>\n",
       "    <tr>\n",
       "      <th>29957</th>\n",
       "      <td>-1.898419</td>\n",
       "      <td>-3.566105</td>\n",
       "      <td>2.737400</td>\n",
       "    </tr>\n",
       "    <tr>\n",
       "      <th>53584</th>\n",
       "      <td>3.665042</td>\n",
       "      <td>-0.856673</td>\n",
       "      <td>2.426073</td>\n",
       "    </tr>\n",
       "    <tr>\n",
       "      <th>73150</th>\n",
       "      <td>1.685306</td>\n",
       "      <td>-1.608017</td>\n",
       "      <td>5.121823</td>\n",
       "    </tr>\n",
       "    <tr>\n",
       "      <th>91204</th>\n",
       "      <td>2.273046</td>\n",
       "      <td>-0.118124</td>\n",
       "      <td>5.555662</td>\n",
       "    </tr>\n",
       "  </tbody>\n",
       "</table>\n",
       "<p>25000 rows × 3 columns</p>\n",
       "</div>"
      ],
      "text/plain": [
       "             f0        f1        f2\n",
       "86601 -0.538323 -1.278551 -5.529411\n",
       "89058 -2.314127  2.386062  4.231771\n",
       "94735 -2.446468  3.195713  6.372292\n",
       "57141  0.148190  0.939364  8.191370\n",
       "78255  0.056715 -0.870233  4.628166\n",
       "...         ...       ...       ...\n",
       "3575  -1.459180  0.598307 -1.561765\n",
       "29957 -1.898419 -3.566105  2.737400\n",
       "53584  3.665042 -0.856673  2.426073\n",
       "73150  1.685306 -1.608017  5.121823\n",
       "91204  2.273046 -0.118124  5.555662\n",
       "\n",
       "[25000 rows x 3 columns]"
      ]
     },
     "execution_count": 47,
     "metadata": {},
     "output_type": "execute_result"
    }
   ],
   "source": [
    "#Разбивка выборки на обучающую и валидационную выборки\n",
    "features_train, features_valid, target_train, target_valid = train_test_split(\n",
    "    features, target, test_size=0.25, random_state=12091977)\n",
    "features_valid"
   ]
  },
  {
   "cell_type": "code",
   "execution_count": 48,
   "metadata": {},
   "outputs": [
    {
     "name": "stdout",
     "output_type": "stream",
     "text": [
      "RMSE модели линейной регрессии на валидационной выборке: 40.10506382882196\n",
      "Cредний запас предсказанного сырья: 94.85133392288175\n"
     ]
    }
   ],
   "source": [
    "reg_2 = modeling(features_train, features_valid, target_train, target_valid)\n",
    "print(\"RMSE модели линейной регрессии на валидационной выборке:\", reg_2[1])\n",
    "print(\"Cредний запас предсказанного сырья:\", reg_2[0].mean())\n"
   ]
  },
  {
   "cell_type": "markdown",
   "metadata": {},
   "source": [
    "### Выводы по результатам исследования"
   ]
  },
  {
   "cell_type": "markdown",
   "metadata": {},
   "source": [
    "Регион 0:\n",
    "1. RMSE модели линейной регрессии на валидационной выборке: 37.34738707044069\n",
    "2. Cредний запас предсказанного сырья: 92.28299910080804\n",
    "\n",
    "Регион 1:\n",
    "1. RMSE модели линейной регрессии на валидационной выборке: 0.8922847864260552\n",
    "2. Cредний запас предсказанного сырья: 68.87605889990549\n",
    "\n",
    "Регион 2:\n",
    "1. RMSE модели линейной регрессии на валидационной выборке: 40.105063828821955\n",
    "2. Cредний запас предсказанного сырья: 94.85133392288175\n",
    "\n",
    "Распределение запасов по площади месторождения Региона 1, самое равномерное. Что это даёт? В начале разработки месторождения, можно строить скважины на определённом, локальном участке, т.е. избежать случая, когда надо строить скважины на диаметрально противоположных участках месторождения, для обеспечения требуемого объёма добычи. Локализация объектов строительства существенно сокращает расходы на инфраструктуру (дороги, линии электропередачи, объекты подготовки и транспортировки нефти, объекты быта и т.д.)."
   ]
  },
  {
   "cell_type": "markdown",
   "metadata": {},
   "source": [
    "## Подготовка к расчёту прибыли"
   ]
  },
  {
   "cell_type": "code",
   "execution_count": 49,
   "metadata": {},
   "outputs": [],
   "source": [
    "RESEARCH_POINT = 500 #количество исследованных точек при разведке региона\n",
    "INVESTMENTS = 10**10 # Бюджет на разработку скважин в регионе, рублей\n",
    "WELLS_COUNT = 200 # количество скважин для разработки\n",
    "BARREL_PRICE = 450 # Цена за баррель нефти, рублей\n",
    "well_product = INVESTMENTS / (WELLS_COUNT * BARREL_PRICE * 1000) # необходимый для окупаемости объём \n",
    "                                                                     #извлекаемых запасов из скважины (тыс. баррелей) \n"
   ]
  },
  {
   "cell_type": "code",
   "execution_count": 50,
   "metadata": {},
   "outputs": [
    {
     "data": {
      "text/plain": [
       "111.11111111111111"
      ]
     },
     "execution_count": 50,
     "metadata": {},
     "output_type": "execute_result"
    }
   ],
   "source": [
    "well_product  "
   ]
  },
  {
   "cell_type": "markdown",
   "metadata": {},
   "source": [
    "**Вывод:** полученный объём на одну скважину, для безубыточного производства, больше чем средний запас на одну скважину в каждом регионе. Что приводит нас к дополнительным расчётам, т.е. выбрать любую скважину из рассчитанных и начать её строить неразумно, необходимо найти скважины у которых расчётные запасы больше полученного объёма безубыточности и их уже строить и эксплуатировать.\n"
   ]
  },
  {
   "cell_type": "markdown",
   "metadata": {},
   "source": [
    "### Функция расчёта прибыли"
   ]
  },
  {
   "cell_type": "code",
   "execution_count": 51,
   "metadata": {},
   "outputs": [],
   "source": [
    "def revenue(target, predictions, wells_count):\n",
    "    predict_sorted = predictions.sort_values(ascending=False)\n",
    "    selected = target[predict_sorted.index][:wells_count]\n",
    "    return 1000 * BARREL_PRICE * selected.sum() - INVESTMENTS\n"
   ]
  },
  {
   "cell_type": "markdown",
   "metadata": {},
   "source": [
    "## Расчёт прибыли и рисков "
   ]
  },
  {
   "cell_type": "markdown",
   "metadata": {},
   "source": [
    "### Регион 0"
   ]
  },
  {
   "cell_type": "code",
   "execution_count": 52,
   "metadata": {},
   "outputs": [
    {
     "name": "stdout",
     "output_type": "stream",
     "text": [
      "Средняя прибыль: 441838876.1741194\n",
      "2,5%-квантиль: -116066293.46359591\n",
      "97,5%-квантиль: 1003495497.1075948\n",
      "CPU times: user 1.31 s, sys: 0 ns, total: 1.31 s\n",
      "Wall time: 1.33 s\n"
     ]
    }
   ],
   "source": [
    "%%time\n",
    "state = np.random.RandomState(12345)\n",
    "predictions_0 = pd.Series(reg_0[0], index=features_valid.index)\n",
    "\n",
    "values = []\n",
    "for i in range(1000):\n",
    "    target_subsample = reg_0[2].sample(n=RESEARCH_POINT, replace=True, random_state=state)\n",
    "    predic_subsample = predictions_0[target_subsample.index]\n",
    "    \n",
    "    values.append(revenue(target_subsample, predic_subsample, WELLS_COUNT))\n",
    "\n",
    "values = pd.Series(values)\n",
    "lower = values.quantile(0.025)\n",
    "upper = values.quantile(0.975)\n",
    "mean = values.mean()\n",
    "\n",
    "print(\"Средняя прибыль:\", mean)\n",
    "print(\"2,5%-квантиль:\", lower)\n",
    "print(\"97,5%-квантиль:\", upper)\n"
   ]
  },
  {
   "cell_type": "code",
   "execution_count": 53,
   "metadata": {},
   "outputs": [
    {
     "name": "stdout",
     "output_type": "stream",
     "text": [
      "Вероятность убытков: 5.0 %\n"
     ]
    }
   ],
   "source": [
    "\n",
    "risc_of_loss = values[values < 0].count() / len(values)\n",
    "print(\"Вероятность убытков:\",risc_of_loss * 100, \"%\")\n"
   ]
  },
  {
   "cell_type": "markdown",
   "metadata": {},
   "source": [
    "### Регион 1"
   ]
  },
  {
   "cell_type": "code",
   "execution_count": 54,
   "metadata": {},
   "outputs": [
    {
     "name": "stdout",
     "output_type": "stream",
     "text": [
      "Средняя прибыль: 483036350.1829771\n",
      "2,5%-квантиль: 74524080.2121541\n",
      "97,5%-квантиль: 875294062.1564543\n",
      "CPU times: user 1.27 s, sys: 0 ns, total: 1.27 s\n",
      "Wall time: 1.28 s\n"
     ]
    }
   ],
   "source": [
    "%%time\n",
    "state = np.random.RandomState(12345)\n",
    "predictions_1 = pd.Series(reg_1[0], index=features_valid.index)\n",
    "\n",
    "values = []\n",
    "for i in range(1000):\n",
    "    target_subsample = reg_1[2].sample(n=RESEARCH_POINT, replace=True, random_state=state)\n",
    "    predic_subsample = predictions_1[target_subsample.index]\n",
    "    \n",
    "    values.append(revenue(target_subsample, predic_subsample, WELLS_COUNT))\n",
    "\n",
    "values = pd.Series(values)\n",
    "lower = values.quantile(0.025)\n",
    "upper = values.quantile(0.975)\n",
    "mean = values.mean()\n",
    "\n",
    "print(\"Средняя прибыль:\", mean)\n",
    "print(\"2,5%-квантиль:\", lower)\n",
    "print(\"97,5%-квантиль:\", upper)"
   ]
  },
  {
   "cell_type": "code",
   "execution_count": 55,
   "metadata": {},
   "outputs": [
    {
     "name": "stdout",
     "output_type": "stream",
     "text": [
      "Вероятность убытков: 1.5 %\n"
     ]
    }
   ],
   "source": [
    "risc_of_loss = values[values < 0].count() / len(values)\n",
    "print(\"Вероятность убытков:\",risc_of_loss * 100, \"%\")"
   ]
  },
  {
   "cell_type": "markdown",
   "metadata": {},
   "source": [
    "### Регион 2"
   ]
  },
  {
   "cell_type": "code",
   "execution_count": 56,
   "metadata": {},
   "outputs": [
    {
     "name": "stdout",
     "output_type": "stream",
     "text": [
      "Средняя прибыль: 405326700.25333875\n",
      "2,5%-квантиль: -171528232.68842882\n",
      "97,5%-квантиль: 995447126.1677542\n",
      "CPU times: user 1.29 s, sys: 0 ns, total: 1.29 s\n",
      "Wall time: 1.3 s\n"
     ]
    }
   ],
   "source": [
    "%%time\n",
    "state = np.random.RandomState(12345)\n",
    "predictions_2 = pd.Series(reg_2[0], index=features_valid.index)\n",
    "\n",
    "values = []\n",
    "for i in range(1000):\n",
    "    target_subsample = reg_2[2].sample(n=RESEARCH_POINT, replace=True, random_state=state)\n",
    "    predic_subsample = predictions_2[target_subsample.index]\n",
    "    \n",
    "    values.append(revenue(target_subsample, predic_subsample, WELLS_COUNT))\n",
    "\n",
    "values = pd.Series(values)\n",
    "lower = values.quantile(0.025)\n",
    "upper = values.quantile(0.975)\n",
    "mean = values.mean()\n",
    "\n",
    "print(\"Средняя прибыль:\", mean)\n",
    "print(\"2,5%-квантиль:\", lower)\n",
    "print(\"97,5%-квантиль:\", upper)"
   ]
  },
  {
   "cell_type": "code",
   "execution_count": 57,
   "metadata": {},
   "outputs": [
    {
     "name": "stdout",
     "output_type": "stream",
     "text": [
      "Вероятность убытков: 7.8 %\n"
     ]
    }
   ],
   "source": [
    "risc_of_loss = values[values < 0].count() / len(values)\n",
    "print(\"Вероятность убытков:\",risc_of_loss * 100, \"%\")"
   ]
  },
  {
   "cell_type": "markdown",
   "metadata": {},
   "source": [
    "### Выводы по результатам исследования"
   ]
  },
  {
   "cell_type": "markdown",
   "metadata": {},
   "source": [
    "И так, свяжем средние значения и квантили с экономическими показателями выручки и риска. Сначала определимся, что же такое квантиль и с чем его едят. \n",
    "\n",
    "Кванти́ль в математической статистике — значение, которое заданная случайная величина не превышает с фиксированной вероятностью. Если вероятность задана в процентах, то квантиль называется процентилем или перцентилем.\n",
    "Например, фраза «90-й процентиль массы тела у новорожденных мальчиков составляет 4 кг»[1] означает, что 90 % мальчиков рождаются с весом, меньшим либо равным 4 кг, а 10 % мальчиков рождаются с весом, большим 4 кг.\n",
    "\n",
    "Из этого следует, что с 95% вероятностью значение прибыли в рублях для регионов будет находиться в диапазоне:\n",
    "1. Регион 0 - от -116 066 293 до 1 003 495 497, при средней прибыли по региону 441 838 876;\n",
    "2. Регион 1 - от 74 524 080 до 875 294 062, при средней прибыли по региону 483 036 350;\n",
    "3. Регион 2 - от -171 528 232 до 995 447 126, при средней прибыли по региону 405 326 700.\n",
    "\n",
    "Вероятность убытков по регионам:\n",
    "1. Регион 0 - вероятность убытков: 5.0 %;\n",
    "2. Регион 1 - вероятность убытков: 1.5 %;\n",
    "3. Регион 2 - вероятность убытков: 7.8 %.\n",
    "\n",
    "Выбирать регион для разработки будем исходя из следующих условий:\n",
    "1. Средния прибыль по региону имеет наибольшее значение;\n",
    "2. Вероятность убытка должна быть меньше 2,5%.\n",
    "\n",
    "Выдвинутым условиям соответсвует Регион 1, его и будем разрабатывать первым.\n",
    "\n"
   ]
  },
  {
   "cell_type": "markdown",
   "metadata": {},
   "source": [
    "## Чек-лист готовности проекта"
   ]
  },
  {
   "cell_type": "markdown",
   "metadata": {},
   "source": [
    "Поставьте 'x' в выполненных пунктах. Далее нажмите Shift+Enter."
   ]
  },
  {
   "cell_type": "markdown",
   "metadata": {},
   "source": [
    "- [x]  Jupyter Notebook открыт\n",
    "- [x]  Весь код выполняется без ошибок\n",
    "- [x]  Ячейки с кодом расположены в порядке исполнения\n",
    "- [x]  Выполнен шаг 1: данные подготовлены\n",
    "- [x]  Выполнен шаг 2: модели обучены и проверены\n",
    "    - [x]  Данные корректно разбиты на обучающую и валидационную выборки\n",
    "    - [x]  Модели обучены, предсказания сделаны\n",
    "    - [x]  Предсказания и правильные ответы на валидационной выборке сохранены\n",
    "    - [x]  На экране напечатаны результаты\n",
    "    - [x]  Сделаны выводы\n",
    "- [x]  Выполнен шаг 3: проведена подготовка к расчёту прибыли\n",
    "    - [x]  Для всех ключевых значений созданы константы Python\n",
    "    - [x]  Посчитано минимальное среднее количество продукта в месторождениях региона, достаточное для разработки\n",
    "    - [x]  По предыдущему пункту сделаны выводы\n",
    "    - [x]  Написана функция расчёта прибыли\n",
    "- [x]  Выполнен шаг 4: посчитаны риски и прибыль\n",
    "    - [x]  Проведена процедура *Bootstrap*\n",
    "    - [x]  Все параметры бутстрепа соответствуют условию\n",
    "    - [x]  Найдены все нужные величины\n",
    "    - [x]  Предложен регион для разработки месторождения\n",
    "    - [x]  Выбор региона обоснован"
   ]
  },
  {
   "cell_type": "code",
   "execution_count": null,
   "metadata": {},
   "outputs": [],
   "source": []
  }
 ],
 "metadata": {
  "ExecuteTimeLog": [
   {
    "duration": 214,
    "start_time": "2022-02-28T04:50:56.726Z"
   },
   {
    "duration": 1475,
    "start_time": "2022-02-28T04:51:01.197Z"
   },
   {
    "duration": 140,
    "start_time": "2022-02-28T04:51:02.673Z"
   },
   {
    "duration": 3,
    "start_time": "2022-02-28T04:55:01.721Z"
   },
   {
    "duration": 137,
    "start_time": "2022-02-28T04:55:01.728Z"
   },
   {
    "duration": 130,
    "start_time": "2022-02-28T04:55:01.867Z"
   },
   {
    "duration": 134,
    "start_time": "2022-02-28T04:55:02.000Z"
   },
   {
    "duration": 5,
    "start_time": "2022-02-28T06:10:43.635Z"
   },
   {
    "duration": 7,
    "start_time": "2022-02-28T06:11:10.285Z"
   },
   {
    "duration": 5,
    "start_time": "2022-02-28T06:11:27.084Z"
   },
   {
    "duration": 19,
    "start_time": "2022-02-28T06:13:58.472Z"
   },
   {
    "duration": 3,
    "start_time": "2022-02-28T06:17:34.567Z"
   },
   {
    "duration": 140,
    "start_time": "2022-02-28T06:17:34.572Z"
   },
   {
    "duration": 126,
    "start_time": "2022-02-28T06:17:34.714Z"
   },
   {
    "duration": 128,
    "start_time": "2022-02-28T06:17:34.841Z"
   },
   {
    "duration": 4,
    "start_time": "2022-02-28T06:17:34.970Z"
   },
   {
    "duration": 23,
    "start_time": "2022-02-28T06:17:34.975Z"
   },
   {
    "duration": 4,
    "start_time": "2022-02-28T06:17:35.000Z"
   },
   {
    "duration": 18,
    "start_time": "2022-02-28T06:17:35.005Z"
   },
   {
    "duration": 3,
    "start_time": "2022-02-28T06:17:35.025Z"
   },
   {
    "duration": 43,
    "start_time": "2022-02-28T06:17:35.030Z"
   },
   {
    "duration": 239,
    "start_time": "2022-02-28T06:28:46.274Z"
   },
   {
    "duration": 204,
    "start_time": "2022-02-28T06:29:25.604Z"
   },
   {
    "duration": 14,
    "start_time": "2022-02-28T06:29:37.684Z"
   },
   {
    "duration": 3,
    "start_time": "2022-02-28T06:33:25.467Z"
   },
   {
    "duration": 137,
    "start_time": "2022-02-28T06:33:25.475Z"
   },
   {
    "duration": 137,
    "start_time": "2022-02-28T06:33:25.614Z"
   },
   {
    "duration": 139,
    "start_time": "2022-02-28T06:33:25.759Z"
   },
   {
    "duration": 5,
    "start_time": "2022-02-28T06:33:25.900Z"
   },
   {
    "duration": 22,
    "start_time": "2022-02-28T06:33:25.907Z"
   },
   {
    "duration": 36,
    "start_time": "2022-02-28T06:33:25.931Z"
   },
   {
    "duration": 91,
    "start_time": "2022-02-28T06:33:25.969Z"
   },
   {
    "duration": 109,
    "start_time": "2022-02-28T06:33:26.063Z"
   },
   {
    "duration": 15,
    "start_time": "2022-02-28T06:33:26.175Z"
   },
   {
    "duration": 99,
    "start_time": "2022-02-28T06:33:26.260Z"
   },
   {
    "duration": 18,
    "start_time": "2022-02-28T06:33:26.361Z"
   },
   {
    "duration": 14,
    "start_time": "2022-02-28T06:33:26.380Z"
   },
   {
    "duration": 6,
    "start_time": "2022-02-28T08:54:21.037Z"
   },
   {
    "duration": 4,
    "start_time": "2022-02-28T08:59:42.280Z"
   },
   {
    "duration": 3,
    "start_time": "2022-02-28T08:59:43.168Z"
   },
   {
    "duration": 6,
    "start_time": "2022-02-28T08:59:55.095Z"
   },
   {
    "duration": 6,
    "start_time": "2022-02-28T09:04:03.943Z"
   },
   {
    "duration": 4,
    "start_time": "2022-02-28T10:01:15.605Z"
   },
   {
    "duration": 3,
    "start_time": "2022-02-28T10:18:03.050Z"
   },
   {
    "duration": 8,
    "start_time": "2022-02-28T10:21:52.465Z"
   },
   {
    "duration": 334,
    "start_time": "2022-02-28T14:15:04.640Z"
   },
   {
    "duration": 1254,
    "start_time": "2022-02-28T14:15:22.182Z"
   },
   {
    "duration": 149,
    "start_time": "2022-02-28T14:15:23.438Z"
   },
   {
    "duration": 142,
    "start_time": "2022-02-28T14:15:23.589Z"
   },
   {
    "duration": 148,
    "start_time": "2022-02-28T14:15:23.733Z"
   },
   {
    "duration": 5,
    "start_time": "2022-02-28T14:15:23.883Z"
   },
   {
    "duration": 34,
    "start_time": "2022-02-28T14:15:23.902Z"
   },
   {
    "duration": 63,
    "start_time": "2022-02-28T14:15:23.938Z"
   },
   {
    "duration": 105,
    "start_time": "2022-02-28T14:15:24.005Z"
   },
   {
    "duration": 32,
    "start_time": "2022-02-28T14:15:24.112Z"
   },
   {
    "duration": 22,
    "start_time": "2022-02-28T14:15:24.146Z"
   },
   {
    "duration": 99,
    "start_time": "2022-02-28T14:15:24.202Z"
   },
   {
    "duration": 23,
    "start_time": "2022-02-28T14:15:24.303Z"
   },
   {
    "duration": 6,
    "start_time": "2022-02-28T14:15:24.328Z"
   },
   {
    "duration": 68,
    "start_time": "2022-02-28T14:15:24.335Z"
   },
   {
    "duration": 107,
    "start_time": "2022-02-28T14:15:24.405Z"
   },
   {
    "duration": 14,
    "start_time": "2022-02-28T14:15:24.514Z"
   },
   {
    "duration": 12,
    "start_time": "2022-02-28T14:15:24.530Z"
   },
   {
    "duration": 290,
    "start_time": "2022-02-28T14:15:24.544Z"
   },
   {
    "duration": -13234,
    "start_time": "2022-02-28T14:15:38.070Z"
   },
   {
    "duration": -13241,
    "start_time": "2022-02-28T14:15:38.078Z"
   },
   {
    "duration": -13249,
    "start_time": "2022-02-28T14:15:38.087Z"
   },
   {
    "duration": -13256,
    "start_time": "2022-02-28T14:15:38.095Z"
   },
   {
    "duration": 4,
    "start_time": "2022-02-28T14:15:59.720Z"
   },
   {
    "duration": 149,
    "start_time": "2022-02-28T14:15:59.726Z"
   },
   {
    "duration": 152,
    "start_time": "2022-02-28T14:15:59.877Z"
   },
   {
    "duration": 161,
    "start_time": "2022-02-28T14:16:00.031Z"
   },
   {
    "duration": 10,
    "start_time": "2022-02-28T14:16:00.194Z"
   },
   {
    "duration": 37,
    "start_time": "2022-02-28T14:16:00.206Z"
   },
   {
    "duration": 59,
    "start_time": "2022-02-28T14:16:00.247Z"
   },
   {
    "duration": 92,
    "start_time": "2022-02-28T14:16:00.309Z"
   },
   {
    "duration": 22,
    "start_time": "2022-02-28T14:16:00.403Z"
   },
   {
    "duration": 81,
    "start_time": "2022-02-28T14:16:00.427Z"
   },
   {
    "duration": 95,
    "start_time": "2022-02-28T14:16:00.510Z"
   },
   {
    "duration": 30,
    "start_time": "2022-02-28T14:16:00.607Z"
   },
   {
    "duration": 5,
    "start_time": "2022-02-28T14:16:00.639Z"
   },
   {
    "duration": 70,
    "start_time": "2022-02-28T14:16:00.645Z"
   },
   {
    "duration": 186,
    "start_time": "2022-02-28T14:16:00.718Z"
   },
   {
    "duration": 15,
    "start_time": "2022-02-28T14:16:00.906Z"
   },
   {
    "duration": 25,
    "start_time": "2022-02-28T14:16:00.923Z"
   },
   {
    "duration": 22,
    "start_time": "2022-02-28T14:16:00.950Z"
   },
   {
    "duration": 28,
    "start_time": "2022-02-28T14:16:00.975Z"
   },
   {
    "duration": 13,
    "start_time": "2022-02-28T14:16:01.005Z"
   },
   {
    "duration": 239,
    "start_time": "2022-02-28T14:16:01.020Z"
   },
   {
    "duration": -13173,
    "start_time": "2022-02-28T14:16:14.435Z"
   },
   {
    "duration": -13177,
    "start_time": "2022-02-28T14:16:14.440Z"
   },
   {
    "duration": 5,
    "start_time": "2022-02-28T14:17:04.570Z"
   },
   {
    "duration": 6,
    "start_time": "2022-02-28T14:17:05.744Z"
   },
   {
    "duration": 5,
    "start_time": "2022-02-28T14:18:02.394Z"
   },
   {
    "duration": 4,
    "start_time": "2022-02-28T14:20:29.906Z"
   },
   {
    "duration": 4,
    "start_time": "2022-02-28T14:20:55.331Z"
   },
   {
    "duration": 6,
    "start_time": "2022-02-28T14:21:16.996Z"
   },
   {
    "duration": 247,
    "start_time": "2022-02-28T14:22:57.187Z"
   },
   {
    "duration": 3,
    "start_time": "2022-02-28T14:23:02.867Z"
   },
   {
    "duration": 5,
    "start_time": "2022-02-28T14:23:04.633Z"
   },
   {
    "duration": 6,
    "start_time": "2022-02-28T14:23:06.857Z"
   },
   {
    "duration": 6,
    "start_time": "2022-02-28T14:23:21.585Z"
   },
   {
    "duration": 4,
    "start_time": "2022-02-28T14:24:33.796Z"
   },
   {
    "duration": 5,
    "start_time": "2022-02-28T14:25:04.881Z"
   },
   {
    "duration": 7,
    "start_time": "2022-02-28T14:25:04.888Z"
   },
   {
    "duration": 212,
    "start_time": "2022-02-28T14:39:39.302Z"
   },
   {
    "duration": 3558,
    "start_time": "2022-02-28T14:39:59.401Z"
   },
   {
    "duration": 3,
    "start_time": "2022-02-28T14:45:14.605Z"
   },
   {
    "duration": 156,
    "start_time": "2022-02-28T14:45:14.611Z"
   },
   {
    "duration": 152,
    "start_time": "2022-02-28T14:45:14.769Z"
   },
   {
    "duration": 149,
    "start_time": "2022-02-28T14:45:14.923Z"
   },
   {
    "duration": 5,
    "start_time": "2022-02-28T14:45:15.074Z"
   },
   {
    "duration": 38,
    "start_time": "2022-02-28T14:45:15.081Z"
   },
   {
    "duration": 15,
    "start_time": "2022-02-28T14:45:15.121Z"
   },
   {
    "duration": 66,
    "start_time": "2022-02-28T14:45:15.138Z"
   },
   {
    "duration": 108,
    "start_time": "2022-02-28T14:45:15.207Z"
   },
   {
    "duration": 15,
    "start_time": "2022-02-28T14:45:15.317Z"
   },
   {
    "duration": 96,
    "start_time": "2022-02-28T14:45:15.406Z"
   },
   {
    "duration": 21,
    "start_time": "2022-02-28T14:45:15.504Z"
   },
   {
    "duration": 5,
    "start_time": "2022-02-28T14:45:15.527Z"
   },
   {
    "duration": 74,
    "start_time": "2022-02-28T14:45:15.534Z"
   },
   {
    "duration": 5,
    "start_time": "2022-02-28T14:45:15.702Z"
   },
   {
    "duration": 9,
    "start_time": "2022-02-28T14:45:15.709Z"
   },
   {
    "duration": 13,
    "start_time": "2022-02-28T14:45:15.720Z"
   },
   {
    "duration": 4,
    "start_time": "2022-02-28T14:45:15.735Z"
   },
   {
    "duration": 5,
    "start_time": "2022-02-28T14:45:15.742Z"
   },
   {
    "duration": 3399,
    "start_time": "2022-02-28T14:45:15.748Z"
   },
   {
    "duration": 3382,
    "start_time": "2022-02-28T14:45:19.149Z"
   },
   {
    "duration": 3322,
    "start_time": "2022-02-28T14:45:22.533Z"
   },
   {
    "duration": 3,
    "start_time": "2022-02-28T14:47:38.944Z"
   },
   {
    "duration": 161,
    "start_time": "2022-02-28T14:47:38.950Z"
   },
   {
    "duration": 156,
    "start_time": "2022-02-28T14:47:39.114Z"
   },
   {
    "duration": 161,
    "start_time": "2022-02-28T14:47:39.272Z"
   },
   {
    "duration": 6,
    "start_time": "2022-02-28T14:47:39.435Z"
   },
   {
    "duration": 25,
    "start_time": "2022-02-28T14:47:39.442Z"
   },
   {
    "duration": 42,
    "start_time": "2022-02-28T14:47:39.469Z"
   },
   {
    "duration": 101,
    "start_time": "2022-02-28T14:47:39.513Z"
   },
   {
    "duration": 98,
    "start_time": "2022-02-28T14:47:39.618Z"
   },
   {
    "duration": 83,
    "start_time": "2022-02-28T14:47:39.718Z"
   },
   {
    "duration": 97,
    "start_time": "2022-02-28T14:47:39.805Z"
   },
   {
    "duration": 26,
    "start_time": "2022-02-28T14:47:39.904Z"
   },
   {
    "duration": 5,
    "start_time": "2022-02-28T14:47:39.932Z"
   },
   {
    "duration": 64,
    "start_time": "2022-02-28T14:47:39.939Z"
   },
   {
    "duration": 102,
    "start_time": "2022-02-28T14:47:40.005Z"
   },
   {
    "duration": 17,
    "start_time": "2022-02-28T14:47:40.110Z"
   },
   {
    "duration": 37,
    "start_time": "2022-02-28T14:47:40.129Z"
   },
   {
    "duration": 15,
    "start_time": "2022-02-28T14:47:40.168Z"
   },
   {
    "duration": 11,
    "start_time": "2022-02-28T14:47:40.185Z"
   },
   {
    "duration": 3404,
    "start_time": "2022-02-28T14:47:40.198Z"
   },
   {
    "duration": 3338,
    "start_time": "2022-02-28T14:47:43.604Z"
   },
   {
    "duration": 3249,
    "start_time": "2022-02-28T14:47:46.944Z"
   },
   {
    "duration": 6,
    "start_time": "2022-02-28T14:52:19.401Z"
   },
   {
    "duration": 3346,
    "start_time": "2022-02-28T14:55:06.455Z"
   },
   {
    "duration": 3454,
    "start_time": "2022-02-28T14:55:24.020Z"
   },
   {
    "duration": 3396,
    "start_time": "2022-02-28T14:55:32.628Z"
   },
   {
    "duration": 3361,
    "start_time": "2022-02-28T14:55:45.691Z"
   },
   {
    "duration": 3391,
    "start_time": "2022-02-28T14:56:01.015Z"
   },
   {
    "duration": 7,
    "start_time": "2022-02-28T15:01:20.035Z"
   },
   {
    "duration": 3,
    "start_time": "2022-02-28T15:02:48.665Z"
   },
   {
    "duration": 151,
    "start_time": "2022-02-28T15:02:48.671Z"
   },
   {
    "duration": 153,
    "start_time": "2022-02-28T15:02:48.825Z"
   },
   {
    "duration": 156,
    "start_time": "2022-02-28T15:02:48.981Z"
   },
   {
    "duration": 5,
    "start_time": "2022-02-28T15:02:49.139Z"
   },
   {
    "duration": 22,
    "start_time": "2022-02-28T15:02:49.147Z"
   },
   {
    "duration": 35,
    "start_time": "2022-02-28T15:02:49.172Z"
   },
   {
    "duration": 89,
    "start_time": "2022-02-28T15:02:49.212Z"
   },
   {
    "duration": 115,
    "start_time": "2022-02-28T15:02:49.303Z"
   },
   {
    "duration": 14,
    "start_time": "2022-02-28T15:02:49.421Z"
   },
   {
    "duration": 167,
    "start_time": "2022-02-28T15:02:49.437Z"
   },
   {
    "duration": 6,
    "start_time": "2022-02-28T15:02:49.606Z"
   },
   {
    "duration": 24,
    "start_time": "2022-02-28T15:02:49.614Z"
   },
   {
    "duration": 6,
    "start_time": "2022-02-28T15:02:49.640Z"
   },
   {
    "duration": 55,
    "start_time": "2022-02-28T15:02:49.648Z"
   },
   {
    "duration": 95,
    "start_time": "2022-02-28T15:02:49.706Z"
   },
   {
    "duration": 9,
    "start_time": "2022-02-28T15:02:49.803Z"
   },
   {
    "duration": 10,
    "start_time": "2022-02-28T15:02:49.814Z"
   },
   {
    "duration": 6,
    "start_time": "2022-02-28T15:02:49.827Z"
   },
   {
    "duration": 8,
    "start_time": "2022-02-28T15:02:49.835Z"
   },
   {
    "duration": 3363,
    "start_time": "2022-02-28T15:02:49.844Z"
   },
   {
    "duration": 3381,
    "start_time": "2022-02-28T15:02:53.209Z"
   },
   {
    "duration": 3309,
    "start_time": "2022-02-28T15:02:56.592Z"
   },
   {
    "duration": 1339,
    "start_time": "2022-03-01T04:07:37.897Z"
   },
   {
    "duration": 190,
    "start_time": "2022-03-01T04:07:39.239Z"
   },
   {
    "duration": 261,
    "start_time": "2022-03-01T04:07:39.432Z"
   },
   {
    "duration": 259,
    "start_time": "2022-03-01T04:07:39.697Z"
   },
   {
    "duration": 8,
    "start_time": "2022-03-01T04:07:39.959Z"
   },
   {
    "duration": 55,
    "start_time": "2022-03-01T04:07:39.970Z"
   },
   {
    "duration": 160,
    "start_time": "2022-03-01T04:07:40.028Z"
   },
   {
    "duration": 10,
    "start_time": "2022-03-01T04:07:40.193Z"
   },
   {
    "duration": 40,
    "start_time": "2022-03-01T04:07:40.206Z"
   },
   {
    "duration": 141,
    "start_time": "2022-03-01T04:07:40.249Z"
   },
   {
    "duration": 98,
    "start_time": "2022-03-01T04:07:40.393Z"
   },
   {
    "duration": 38,
    "start_time": "2022-03-01T04:07:40.495Z"
   },
   {
    "duration": 53,
    "start_time": "2022-03-01T04:07:40.536Z"
   },
   {
    "duration": 94,
    "start_time": "2022-03-01T04:07:40.596Z"
   },
   {
    "duration": 5,
    "start_time": "2022-03-01T04:07:40.694Z"
   },
   {
    "duration": 8244,
    "start_time": "2022-03-01T04:07:40.702Z"
   },
   {
    "duration": 8167,
    "start_time": "2022-03-01T04:07:48.949Z"
   },
   {
    "duration": 8469,
    "start_time": "2022-03-01T04:07:57.119Z"
   },
   {
    "duration": 9,
    "start_time": "2022-03-01T04:09:26.429Z"
   },
   {
    "duration": 9,
    "start_time": "2022-03-01T04:10:13.379Z"
   },
   {
    "duration": 9,
    "start_time": "2022-03-01T04:10:29.013Z"
   },
   {
    "duration": 4,
    "start_time": "2022-03-01T04:13:32.956Z"
   },
   {
    "duration": 206,
    "start_time": "2022-03-01T04:13:32.963Z"
   },
   {
    "duration": 180,
    "start_time": "2022-03-01T04:13:33.172Z"
   },
   {
    "duration": 178,
    "start_time": "2022-03-01T04:13:33.355Z"
   },
   {
    "duration": 6,
    "start_time": "2022-03-01T04:13:33.536Z"
   },
   {
    "duration": 47,
    "start_time": "2022-03-01T04:13:33.545Z"
   },
   {
    "duration": 93,
    "start_time": "2022-03-01T04:13:33.596Z"
   },
   {
    "duration": 98,
    "start_time": "2022-03-01T04:13:33.693Z"
   },
   {
    "duration": 30,
    "start_time": "2022-03-01T04:13:33.794Z"
   },
   {
    "duration": 63,
    "start_time": "2022-03-01T04:13:33.827Z"
   },
   {
    "duration": 101,
    "start_time": "2022-03-01T04:13:33.894Z"
   },
   {
    "duration": 29,
    "start_time": "2022-03-01T04:13:33.998Z"
   },
   {
    "duration": 68,
    "start_time": "2022-03-01T04:13:34.030Z"
   },
   {
    "duration": 90,
    "start_time": "2022-03-01T04:13:34.101Z"
   },
   {
    "duration": 7,
    "start_time": "2022-03-01T04:13:34.194Z"
   },
   {
    "duration": 5216,
    "start_time": "2022-03-01T04:13:34.204Z"
   },
   {
    "duration": 7,
    "start_time": "2022-03-01T04:13:39.423Z"
   },
   {
    "duration": 10,
    "start_time": "2022-03-01T04:13:39.433Z"
   },
   {
    "duration": 39,
    "start_time": "2022-03-01T04:13:39.450Z"
   },
   {
    "duration": 5139,
    "start_time": "2022-03-01T04:13:39.492Z"
   },
   {
    "duration": 5121,
    "start_time": "2022-03-01T04:13:44.633Z"
   },
   {
    "duration": 5,
    "start_time": "2022-03-01T04:14:48.717Z"
   },
   {
    "duration": 179,
    "start_time": "2022-03-01T04:14:48.725Z"
   },
   {
    "duration": 186,
    "start_time": "2022-03-01T04:14:48.907Z"
   },
   {
    "duration": 190,
    "start_time": "2022-03-01T04:14:49.097Z"
   },
   {
    "duration": 7,
    "start_time": "2022-03-01T04:14:49.289Z"
   },
   {
    "duration": 30,
    "start_time": "2022-03-01T04:14:49.299Z"
   },
   {
    "duration": 59,
    "start_time": "2022-03-01T04:14:49.333Z"
   },
   {
    "duration": 95,
    "start_time": "2022-03-01T04:14:49.396Z"
   },
   {
    "duration": 29,
    "start_time": "2022-03-01T04:14:49.494Z"
   },
   {
    "duration": 18,
    "start_time": "2022-03-01T04:14:49.526Z"
   },
   {
    "duration": 9,
    "start_time": "2022-03-01T04:14:49.589Z"
   },
   {
    "duration": 29,
    "start_time": "2022-03-01T04:14:49.688Z"
   },
   {
    "duration": 75,
    "start_time": "2022-03-01T04:14:49.720Z"
   },
   {
    "duration": 95,
    "start_time": "2022-03-01T04:14:49.798Z"
   },
   {
    "duration": 9,
    "start_time": "2022-03-01T04:14:49.895Z"
   },
   {
    "duration": 5182,
    "start_time": "2022-03-01T04:14:49.907Z"
   },
   {
    "duration": 6,
    "start_time": "2022-03-01T04:14:55.091Z"
   },
   {
    "duration": 10,
    "start_time": "2022-03-01T04:14:55.099Z"
   },
   {
    "duration": 7,
    "start_time": "2022-03-01T04:14:55.113Z"
   },
   {
    "duration": 5236,
    "start_time": "2022-03-01T04:14:55.122Z"
   },
   {
    "duration": 5084,
    "start_time": "2022-03-01T04:15:00.360Z"
   },
   {
    "duration": 4,
    "start_time": "2022-03-01T04:16:15.371Z"
   },
   {
    "duration": 197,
    "start_time": "2022-03-01T04:16:15.378Z"
   },
   {
    "duration": 174,
    "start_time": "2022-03-01T04:16:15.577Z"
   },
   {
    "duration": 179,
    "start_time": "2022-03-01T04:16:15.753Z"
   },
   {
    "duration": 8,
    "start_time": "2022-03-01T04:16:15.934Z"
   },
   {
    "duration": 44,
    "start_time": "2022-03-01T04:16:15.944Z"
   },
   {
    "duration": 18,
    "start_time": "2022-03-01T04:16:15.992Z"
   },
   {
    "duration": 81,
    "start_time": "2022-03-01T04:16:16.014Z"
   },
   {
    "duration": 34,
    "start_time": "2022-03-01T04:16:16.186Z"
   },
   {
    "duration": 72,
    "start_time": "2022-03-01T04:16:16.223Z"
   },
   {
    "duration": 91,
    "start_time": "2022-03-01T04:16:16.298Z"
   },
   {
    "duration": 31,
    "start_time": "2022-03-01T04:16:16.392Z"
   },
   {
    "duration": 164,
    "start_time": "2022-03-01T04:16:16.426Z"
   },
   {
    "duration": 7,
    "start_time": "2022-03-01T04:16:16.593Z"
   },
   {
    "duration": 5,
    "start_time": "2022-03-01T04:16:16.688Z"
   },
   {
    "duration": 5018,
    "start_time": "2022-03-01T04:16:16.697Z"
   },
   {
    "duration": 6,
    "start_time": "2022-03-01T04:16:21.718Z"
   },
   {
    "duration": 13,
    "start_time": "2022-03-01T04:16:21.727Z"
   },
   {
    "duration": 7,
    "start_time": "2022-03-01T04:16:21.744Z"
   },
   {
    "duration": 5111,
    "start_time": "2022-03-01T04:16:21.787Z"
   },
   {
    "duration": 5201,
    "start_time": "2022-03-01T04:16:26.901Z"
   },
   {
    "duration": 4,
    "start_time": "2022-03-01T04:17:31.630Z"
   },
   {
    "duration": 193,
    "start_time": "2022-03-01T04:17:31.636Z"
   },
   {
    "duration": 188,
    "start_time": "2022-03-01T04:17:31.831Z"
   },
   {
    "duration": 185,
    "start_time": "2022-03-01T04:17:32.021Z"
   },
   {
    "duration": 6,
    "start_time": "2022-03-01T04:17:32.208Z"
   },
   {
    "duration": 41,
    "start_time": "2022-03-01T04:17:32.216Z"
   },
   {
    "duration": 133,
    "start_time": "2022-03-01T04:17:32.260Z"
   },
   {
    "duration": 94,
    "start_time": "2022-03-01T04:17:32.396Z"
   },
   {
    "duration": 35,
    "start_time": "2022-03-01T04:17:32.493Z"
   },
   {
    "duration": 64,
    "start_time": "2022-03-01T04:17:32.531Z"
   },
   {
    "duration": 93,
    "start_time": "2022-03-01T04:17:32.598Z"
   },
   {
    "duration": 46,
    "start_time": "2022-03-01T04:17:32.694Z"
   },
   {
    "duration": 148,
    "start_time": "2022-03-01T04:17:32.743Z"
   },
   {
    "duration": 93,
    "start_time": "2022-03-01T04:17:32.899Z"
   },
   {
    "duration": 19,
    "start_time": "2022-03-01T04:17:32.994Z"
   },
   {
    "duration": 5085,
    "start_time": "2022-03-01T04:17:33.015Z"
   },
   {
    "duration": 7,
    "start_time": "2022-03-01T04:17:38.103Z"
   },
   {
    "duration": 12,
    "start_time": "2022-03-01T04:17:38.112Z"
   },
   {
    "duration": 9,
    "start_time": "2022-03-01T04:17:38.128Z"
   },
   {
    "duration": 5117,
    "start_time": "2022-03-01T04:17:38.139Z"
   },
   {
    "duration": 5109,
    "start_time": "2022-03-01T04:17:43.258Z"
   },
   {
    "duration": 4,
    "start_time": "2022-03-01T04:19:00.648Z"
   },
   {
    "duration": 193,
    "start_time": "2022-03-01T04:19:00.657Z"
   },
   {
    "duration": 183,
    "start_time": "2022-03-01T04:19:00.853Z"
   },
   {
    "duration": 185,
    "start_time": "2022-03-01T04:19:01.040Z"
   },
   {
    "duration": 7,
    "start_time": "2022-03-01T04:19:01.227Z"
   },
   {
    "duration": 32,
    "start_time": "2022-03-01T04:19:01.236Z"
   },
   {
    "duration": 112,
    "start_time": "2022-03-01T04:19:01.288Z"
   },
   {
    "duration": 6,
    "start_time": "2022-03-01T04:19:01.487Z"
   },
   {
    "duration": 32,
    "start_time": "2022-03-01T04:19:01.497Z"
   },
   {
    "duration": 57,
    "start_time": "2022-03-01T04:19:01.532Z"
   },
   {
    "duration": 105,
    "start_time": "2022-03-01T04:19:01.592Z"
   },
   {
    "duration": 44,
    "start_time": "2022-03-01T04:19:01.700Z"
   },
   {
    "duration": 44,
    "start_time": "2022-03-01T04:19:01.747Z"
   },
   {
    "duration": 105,
    "start_time": "2022-03-01T04:19:01.794Z"
   },
   {
    "duration": 37,
    "start_time": "2022-03-01T04:19:01.901Z"
   },
   {
    "duration": 49,
    "start_time": "2022-03-01T04:19:01.941Z"
   },
   {
    "duration": 5190,
    "start_time": "2022-03-01T04:19:01.992Z"
   },
   {
    "duration": 7,
    "start_time": "2022-03-01T04:19:07.188Z"
   },
   {
    "duration": 10,
    "start_time": "2022-03-01T04:19:07.197Z"
   },
   {
    "duration": 8,
    "start_time": "2022-03-01T04:19:07.210Z"
   },
   {
    "duration": 5421,
    "start_time": "2022-03-01T04:19:07.220Z"
   },
   {
    "duration": 5576,
    "start_time": "2022-03-01T04:19:12.643Z"
   },
   {
    "duration": 4,
    "start_time": "2022-03-01T04:20:38.494Z"
   },
   {
    "duration": 4,
    "start_time": "2022-03-01T04:32:06.436Z"
   },
   {
    "duration": 192,
    "start_time": "2022-03-01T04:32:06.443Z"
   },
   {
    "duration": 189,
    "start_time": "2022-03-01T04:32:06.638Z"
   },
   {
    "duration": 183,
    "start_time": "2022-03-01T04:32:06.829Z"
   },
   {
    "duration": 5,
    "start_time": "2022-03-01T04:32:07.015Z"
   },
   {
    "duration": 32,
    "start_time": "2022-03-01T04:32:07.022Z"
   },
   {
    "duration": 54,
    "start_time": "2022-03-01T04:32:07.059Z"
   },
   {
    "duration": 9,
    "start_time": "2022-03-01T04:32:07.192Z"
   },
   {
    "duration": 34,
    "start_time": "2022-03-01T04:32:07.289Z"
   },
   {
    "duration": 64,
    "start_time": "2022-03-01T04:32:07.326Z"
   },
   {
    "duration": 97,
    "start_time": "2022-03-01T04:32:07.394Z"
   },
   {
    "duration": 43,
    "start_time": "2022-03-01T04:32:07.493Z"
   },
   {
    "duration": 53,
    "start_time": "2022-03-01T04:32:07.538Z"
   },
   {
    "duration": 95,
    "start_time": "2022-03-01T04:32:07.594Z"
   },
   {
    "duration": 8,
    "start_time": "2022-03-01T04:32:07.692Z"
   },
   {
    "duration": 5,
    "start_time": "2022-03-01T04:32:07.703Z"
   },
   {
    "duration": 5161,
    "start_time": "2022-03-01T04:32:07.711Z"
   },
   {
    "duration": 5173,
    "start_time": "2022-03-01T04:32:12.875Z"
   },
   {
    "duration": 5182,
    "start_time": "2022-03-01T04:32:18.052Z"
   },
   {
    "duration": 1089,
    "start_time": "2022-03-01T14:35:14.847Z"
   },
   {
    "duration": 165,
    "start_time": "2022-03-01T14:35:15.938Z"
   },
   {
    "duration": 140,
    "start_time": "2022-03-01T14:35:16.106Z"
   },
   {
    "duration": 146,
    "start_time": "2022-03-01T14:35:16.248Z"
   },
   {
    "duration": 5,
    "start_time": "2022-03-01T14:35:16.401Z"
   },
   {
    "duration": 25,
    "start_time": "2022-03-01T14:35:16.408Z"
   },
   {
    "duration": 70,
    "start_time": "2022-03-01T14:35:16.435Z"
   },
   {
    "duration": 97,
    "start_time": "2022-03-01T14:35:16.509Z"
   },
   {
    "duration": 32,
    "start_time": "2022-03-01T14:35:16.608Z"
   },
   {
    "duration": 62,
    "start_time": "2022-03-01T14:35:16.642Z"
   },
   {
    "duration": 97,
    "start_time": "2022-03-01T14:35:16.706Z"
   },
   {
    "duration": 25,
    "start_time": "2022-03-01T14:35:16.805Z"
   },
   {
    "duration": 72,
    "start_time": "2022-03-01T14:35:16.832Z"
   },
   {
    "duration": 4,
    "start_time": "2022-03-01T14:35:16.906Z"
   },
   {
    "duration": 99,
    "start_time": "2022-03-01T14:35:16.912Z"
   },
   {
    "duration": 12,
    "start_time": "2022-03-01T14:35:17.013Z"
   },
   {
    "duration": 3535,
    "start_time": "2022-03-01T14:35:17.027Z"
   },
   {
    "duration": 3420,
    "start_time": "2022-03-01T14:35:20.565Z"
   },
   {
    "duration": 3416,
    "start_time": "2022-03-01T14:35:23.987Z"
   },
   {
    "duration": 6,
    "start_time": "2022-03-01T15:44:04.977Z"
   },
   {
    "duration": 8,
    "start_time": "2022-03-01T15:46:23.745Z"
   },
   {
    "duration": 8,
    "start_time": "2022-03-01T15:48:29.224Z"
   },
   {
    "duration": 7,
    "start_time": "2022-03-01T15:48:34.776Z"
   },
   {
    "duration": 329,
    "start_time": "2022-03-01T15:48:53.670Z"
   },
   {
    "duration": 6,
    "start_time": "2022-03-01T15:49:15.314Z"
   },
   {
    "duration": 7,
    "start_time": "2022-03-01T15:49:27.607Z"
   },
   {
    "duration": 7,
    "start_time": "2022-03-01T15:51:59.982Z"
   },
   {
    "duration": 3,
    "start_time": "2022-03-01T15:52:43.375Z"
   },
   {
    "duration": 214,
    "start_time": "2022-03-01T15:52:43.383Z"
   },
   {
    "duration": 153,
    "start_time": "2022-03-01T15:52:43.598Z"
   },
   {
    "duration": 153,
    "start_time": "2022-03-01T15:52:43.753Z"
   },
   {
    "duration": 5,
    "start_time": "2022-03-01T15:52:43.908Z"
   },
   {
    "duration": 23,
    "start_time": "2022-03-01T15:52:43.915Z"
   },
   {
    "duration": 66,
    "start_time": "2022-03-01T15:52:43.939Z"
   },
   {
    "duration": 94,
    "start_time": "2022-03-01T15:52:44.007Z"
   },
   {
    "duration": 21,
    "start_time": "2022-03-01T15:52:44.105Z"
   },
   {
    "duration": 72,
    "start_time": "2022-03-01T15:52:44.129Z"
   },
   {
    "duration": 97,
    "start_time": "2022-03-01T15:52:44.204Z"
   },
   {
    "duration": 23,
    "start_time": "2022-03-01T15:52:44.304Z"
   },
   {
    "duration": 16,
    "start_time": "2022-03-01T15:52:44.329Z"
   },
   {
    "duration": 8,
    "start_time": "2022-03-01T15:52:44.402Z"
   },
   {
    "duration": 5,
    "start_time": "2022-03-01T15:52:44.501Z"
   },
   {
    "duration": 8,
    "start_time": "2022-03-01T15:52:44.508Z"
   },
   {
    "duration": 3387,
    "start_time": "2022-03-01T15:52:44.517Z"
   },
   {
    "duration": 6,
    "start_time": "2022-03-01T15:52:47.906Z"
   },
   {
    "duration": 3513,
    "start_time": "2022-03-01T15:52:47.914Z"
   },
   {
    "duration": 6,
    "start_time": "2022-03-01T15:52:51.429Z"
   },
   {
    "duration": 3508,
    "start_time": "2022-03-01T15:52:51.436Z"
   },
   {
    "duration": 5,
    "start_time": "2022-03-01T15:52:54.946Z"
   },
   {
    "duration": 64,
    "start_time": "2022-03-02T03:13:20.358Z"
   },
   {
    "duration": 1032,
    "start_time": "2022-03-02T03:14:09.753Z"
   },
   {
    "duration": 141,
    "start_time": "2022-03-02T03:14:10.787Z"
   },
   {
    "duration": 136,
    "start_time": "2022-03-02T03:14:10.930Z"
   },
   {
    "duration": 137,
    "start_time": "2022-03-02T03:14:11.067Z"
   },
   {
    "duration": 4,
    "start_time": "2022-03-02T03:14:11.206Z"
   },
   {
    "duration": 25,
    "start_time": "2022-03-02T03:14:11.211Z"
   },
   {
    "duration": 126,
    "start_time": "2022-03-02T03:14:11.238Z"
   },
   {
    "duration": 96,
    "start_time": "2022-03-02T03:14:11.368Z"
   },
   {
    "duration": 31,
    "start_time": "2022-03-02T03:14:11.466Z"
   },
   {
    "duration": 14,
    "start_time": "2022-03-02T03:14:11.499Z"
   },
   {
    "duration": 49,
    "start_time": "2022-03-02T03:14:11.515Z"
   },
   {
    "duration": 117,
    "start_time": "2022-03-02T03:14:11.566Z"
   },
   {
    "duration": 16,
    "start_time": "2022-03-02T03:14:11.684Z"
   },
   {
    "duration": 6,
    "start_time": "2022-03-02T03:14:11.763Z"
   },
   {
    "duration": 100,
    "start_time": "2022-03-02T03:14:11.772Z"
   },
   {
    "duration": 6,
    "start_time": "2022-03-02T03:14:11.874Z"
   },
   {
    "duration": 3014,
    "start_time": "2022-03-02T03:14:11.882Z"
   },
   {
    "duration": 6,
    "start_time": "2022-03-02T03:14:14.897Z"
   },
   {
    "duration": 3032,
    "start_time": "2022-03-02T03:14:14.904Z"
   },
   {
    "duration": 5,
    "start_time": "2022-03-02T03:14:17.937Z"
   },
   {
    "duration": 2988,
    "start_time": "2022-03-02T03:14:17.944Z"
   },
   {
    "duration": 5,
    "start_time": "2022-03-02T03:14:20.933Z"
   },
   {
    "duration": 3,
    "start_time": "2022-03-02T03:22:14.766Z"
   },
   {
    "duration": 145,
    "start_time": "2022-03-02T03:22:14.772Z"
   },
   {
    "duration": 145,
    "start_time": "2022-03-02T03:22:14.919Z"
   },
   {
    "duration": 146,
    "start_time": "2022-03-02T03:22:15.067Z"
   },
   {
    "duration": 5,
    "start_time": "2022-03-02T03:22:15.215Z"
   },
   {
    "duration": 21,
    "start_time": "2022-03-02T03:22:15.221Z"
   },
   {
    "duration": 36,
    "start_time": "2022-03-02T03:22:15.243Z"
   },
   {
    "duration": 7,
    "start_time": "2022-03-02T03:22:15.365Z"
   },
   {
    "duration": 21,
    "start_time": "2022-03-02T03:22:15.465Z"
   },
   {
    "duration": 14,
    "start_time": "2022-03-02T03:22:15.488Z"
   },
   {
    "duration": 7,
    "start_time": "2022-03-02T03:22:15.564Z"
   },
   {
    "duration": 20,
    "start_time": "2022-03-02T03:22:15.664Z"
   },
   {
    "duration": 14,
    "start_time": "2022-03-02T03:22:15.686Z"
   },
   {
    "duration": 100,
    "start_time": "2022-03-02T03:22:15.764Z"
   },
   {
    "duration": 14,
    "start_time": "2022-03-02T03:22:15.866Z"
   },
   {
    "duration": 14,
    "start_time": "2022-03-02T03:22:15.882Z"
   },
   {
    "duration": 3047,
    "start_time": "2022-03-02T03:22:15.897Z"
   },
   {
    "duration": 5,
    "start_time": "2022-03-02T03:22:18.946Z"
   },
   {
    "duration": 3084,
    "start_time": "2022-03-02T03:22:18.953Z"
   },
   {
    "duration": 5,
    "start_time": "2022-03-02T03:22:22.039Z"
   },
   {
    "duration": 3192,
    "start_time": "2022-03-02T03:22:22.045Z"
   },
   {
    "duration": 5,
    "start_time": "2022-03-02T03:22:25.239Z"
   },
   {
    "duration": 3,
    "start_time": "2022-03-02T03:24:10.168Z"
   },
   {
    "duration": 152,
    "start_time": "2022-03-02T03:24:10.173Z"
   },
   {
    "duration": 149,
    "start_time": "2022-03-02T03:24:10.328Z"
   },
   {
    "duration": 140,
    "start_time": "2022-03-02T03:24:10.479Z"
   },
   {
    "duration": 6,
    "start_time": "2022-03-02T03:24:10.621Z"
   },
   {
    "duration": 35,
    "start_time": "2022-03-02T03:24:10.629Z"
   },
   {
    "duration": 20,
    "start_time": "2022-03-02T03:24:10.666Z"
   },
   {
    "duration": 97,
    "start_time": "2022-03-02T03:24:10.766Z"
   },
   {
    "duration": 20,
    "start_time": "2022-03-02T03:24:10.865Z"
   },
   {
    "duration": 75,
    "start_time": "2022-03-02T03:24:10.887Z"
   },
   {
    "duration": 97,
    "start_time": "2022-03-02T03:24:10.967Z"
   },
   {
    "duration": 26,
    "start_time": "2022-03-02T03:24:11.066Z"
   },
   {
    "duration": 13,
    "start_time": "2022-03-02T03:24:11.094Z"
   },
   {
    "duration": 153,
    "start_time": "2022-03-02T03:24:11.109Z"
   },
   {
    "duration": 4,
    "start_time": "2022-03-02T03:24:11.264Z"
   },
   {
    "duration": 3,
    "start_time": "2022-03-02T03:24:11.270Z"
   },
   {
    "duration": 2999,
    "start_time": "2022-03-02T03:24:11.275Z"
   },
   {
    "duration": 5,
    "start_time": "2022-03-02T03:24:14.276Z"
   },
   {
    "duration": 3032,
    "start_time": "2022-03-02T03:24:14.283Z"
   },
   {
    "duration": 5,
    "start_time": "2022-03-02T03:24:17.317Z"
   },
   {
    "duration": 3004,
    "start_time": "2022-03-02T03:24:17.323Z"
   },
   {
    "duration": 5,
    "start_time": "2022-03-02T03:24:20.329Z"
   },
   {
    "duration": 20,
    "start_time": "2022-03-02T03:51:12.756Z"
   },
   {
    "duration": 3,
    "start_time": "2022-03-02T03:51:22.118Z"
   },
   {
    "duration": 11,
    "start_time": "2022-03-02T03:51:23.222Z"
   },
   {
    "duration": 4,
    "start_time": "2022-03-02T03:51:24.351Z"
   },
   {
    "duration": 4,
    "start_time": "2022-03-02T03:52:19.254Z"
   },
   {
    "duration": 3,
    "start_time": "2022-03-02T03:52:55.699Z"
   },
   {
    "duration": 3002,
    "start_time": "2022-03-02T04:03:16.886Z"
   },
   {
    "duration": 3,
    "start_time": "2022-03-02T04:13:17.003Z"
   },
   {
    "duration": 138,
    "start_time": "2022-03-02T04:13:17.009Z"
   },
   {
    "duration": 145,
    "start_time": "2022-03-02T04:13:17.149Z"
   },
   {
    "duration": 137,
    "start_time": "2022-03-02T04:13:17.296Z"
   },
   {
    "duration": 3,
    "start_time": "2022-03-02T04:13:17.435Z"
   },
   {
    "duration": 7,
    "start_time": "2022-03-02T04:13:17.440Z"
   },
   {
    "duration": 31,
    "start_time": "2022-03-02T04:13:17.449Z"
   },
   {
    "duration": 15,
    "start_time": "2022-03-02T04:13:17.482Z"
   },
   {
    "duration": 69,
    "start_time": "2022-03-02T04:13:17.501Z"
   },
   {
    "duration": 109,
    "start_time": "2022-03-02T04:13:17.574Z"
   },
   {
    "duration": 79,
    "start_time": "2022-03-02T04:13:17.684Z"
   },
   {
    "duration": 6,
    "start_time": "2022-03-02T04:13:17.766Z"
   },
   {
    "duration": 6,
    "start_time": "2022-03-02T04:13:17.863Z"
   },
   {
    "duration": 8,
    "start_time": "2022-03-02T04:13:17.870Z"
   },
   {
    "duration": 21,
    "start_time": "2022-03-02T04:13:17.879Z"
   },
   {
    "duration": 12,
    "start_time": "2022-03-02T04:13:17.901Z"
   },
   {
    "duration": 54,
    "start_time": "2022-03-02T04:13:17.914Z"
   },
   {
    "duration": 114,
    "start_time": "2022-03-02T04:13:17.971Z"
   },
   {
    "duration": 12,
    "start_time": "2022-03-02T04:13:18.086Z"
   },
   {
    "duration": 167,
    "start_time": "2022-03-02T04:13:18.101Z"
   },
   {
    "duration": 13,
    "start_time": "2022-03-02T04:13:18.269Z"
   },
   {
    "duration": 83,
    "start_time": "2022-03-02T04:13:18.284Z"
   },
   {
    "duration": 95,
    "start_time": "2022-03-02T04:13:18.370Z"
   },
   {
    "duration": 5,
    "start_time": "2022-03-02T04:13:18.469Z"
   },
   {
    "duration": 7,
    "start_time": "2022-03-02T04:13:18.476Z"
   },
   {
    "duration": 5,
    "start_time": "2022-03-02T04:13:18.484Z"
   },
   {
    "duration": 3129,
    "start_time": "2022-03-02T04:13:18.490Z"
   },
   {
    "duration": 5,
    "start_time": "2022-03-02T04:13:21.621Z"
   },
   {
    "duration": 3059,
    "start_time": "2022-03-02T04:13:21.628Z"
   },
   {
    "duration": 6,
    "start_time": "2022-03-02T04:13:24.688Z"
   },
   {
    "duration": 3053,
    "start_time": "2022-03-02T04:13:24.695Z"
   },
   {
    "duration": 3064,
    "start_time": "2022-03-02T04:13:27.750Z"
   },
   {
    "duration": 5,
    "start_time": "2022-03-02T04:13:30.815Z"
   },
   {
    "duration": 12,
    "start_time": "2022-03-02T04:14:40.414Z"
   },
   {
    "duration": 5,
    "start_time": "2022-03-02T04:21:23.165Z"
   },
   {
    "duration": 19,
    "start_time": "2022-03-02T04:21:23.821Z"
   },
   {
    "duration": 12,
    "start_time": "2022-03-02T04:21:26.583Z"
   },
   {
    "duration": 5,
    "start_time": "2022-03-02T04:22:12.459Z"
   },
   {
    "duration": 20,
    "start_time": "2022-03-02T04:22:13.054Z"
   },
   {
    "duration": 13,
    "start_time": "2022-03-02T04:22:14.302Z"
   },
   {
    "duration": 16,
    "start_time": "2022-03-02T04:33:43.461Z"
   },
   {
    "duration": 18,
    "start_time": "2022-03-02T04:33:45.324Z"
   },
   {
    "duration": 278,
    "start_time": "2022-03-02T04:33:46.028Z"
   },
   {
    "duration": 13,
    "start_time": "2022-03-02T04:34:02.104Z"
   },
   {
    "duration": 241,
    "start_time": "2022-03-02T04:34:02.978Z"
   },
   {
    "duration": 5,
    "start_time": "2022-03-02T04:34:13.012Z"
   },
   {
    "duration": 3,
    "start_time": "2022-03-02T04:34:21.432Z"
   },
   {
    "duration": 5,
    "start_time": "2022-03-02T04:34:24.424Z"
   },
   {
    "duration": 16,
    "start_time": "2022-03-02T04:34:25.023Z"
   },
   {
    "duration": 17,
    "start_time": "2022-03-02T04:34:25.887Z"
   },
   {
    "duration": 5,
    "start_time": "2022-03-02T04:34:27.255Z"
   },
   {
    "duration": 5,
    "start_time": "2022-03-02T04:34:39.766Z"
   },
   {
    "duration": 3,
    "start_time": "2022-03-02T04:37:40.153Z"
   },
   {
    "duration": 141,
    "start_time": "2022-03-02T04:37:40.157Z"
   },
   {
    "duration": 136,
    "start_time": "2022-03-02T04:37:40.300Z"
   },
   {
    "duration": 139,
    "start_time": "2022-03-02T04:37:40.438Z"
   },
   {
    "duration": 2,
    "start_time": "2022-03-02T04:37:40.579Z"
   },
   {
    "duration": 12,
    "start_time": "2022-03-02T04:37:40.583Z"
   },
   {
    "duration": 16,
    "start_time": "2022-03-02T04:37:40.597Z"
   },
   {
    "duration": 50,
    "start_time": "2022-03-02T04:37:40.615Z"
   },
   {
    "duration": 96,
    "start_time": "2022-03-02T04:37:40.667Z"
   },
   {
    "duration": 21,
    "start_time": "2022-03-02T04:37:40.765Z"
   },
   {
    "duration": 16,
    "start_time": "2022-03-02T04:37:40.788Z"
   },
   {
    "duration": 7,
    "start_time": "2022-03-02T04:37:40.864Z"
   },
   {
    "duration": 110,
    "start_time": "2022-03-02T04:37:40.873Z"
   },
   {
    "duration": 11,
    "start_time": "2022-03-02T04:37:40.984Z"
   },
   {
    "duration": 69,
    "start_time": "2022-03-02T04:37:40.998Z"
   },
   {
    "duration": 98,
    "start_time": "2022-03-02T04:37:41.069Z"
   },
   {
    "duration": 3,
    "start_time": "2022-03-02T04:37:41.169Z"
   },
   {
    "duration": 2990,
    "start_time": "2022-03-02T04:37:41.174Z"
   },
   {
    "duration": 5,
    "start_time": "2022-03-02T04:37:44.167Z"
   },
   {
    "duration": 3114,
    "start_time": "2022-03-02T04:37:44.173Z"
   },
   {
    "duration": 6,
    "start_time": "2022-03-02T04:37:47.288Z"
   },
   {
    "duration": 3027,
    "start_time": "2022-03-02T04:37:47.295Z"
   },
   {
    "duration": 5,
    "start_time": "2022-03-02T04:37:50.324Z"
   },
   {
    "duration": 1108,
    "start_time": "2022-04-21T10:02:24.705Z"
   },
   {
    "duration": 154,
    "start_time": "2022-04-21T10:02:25.816Z"
   },
   {
    "duration": 165,
    "start_time": "2022-04-21T10:02:25.972Z"
   },
   {
    "duration": 184,
    "start_time": "2022-04-21T10:02:26.140Z"
   },
   {
    "duration": 4,
    "start_time": "2022-04-21T10:02:26.327Z"
   },
   {
    "duration": 7,
    "start_time": "2022-04-21T10:02:26.334Z"
   },
   {
    "duration": 21,
    "start_time": "2022-04-21T10:02:26.342Z"
   },
   {
    "duration": 142,
    "start_time": "2022-04-21T10:02:26.364Z"
   },
   {
    "duration": 11,
    "start_time": "2022-04-21T10:02:26.509Z"
   },
   {
    "duration": 28,
    "start_time": "2022-04-21T10:02:26.524Z"
   },
   {
    "duration": 75,
    "start_time": "2022-04-21T10:02:26.554Z"
   },
   {
    "duration": 7,
    "start_time": "2022-04-21T10:02:26.707Z"
   },
   {
    "duration": 24,
    "start_time": "2022-04-21T10:02:26.717Z"
   },
   {
    "duration": 63,
    "start_time": "2022-04-21T10:02:26.743Z"
   },
   {
    "duration": 188,
    "start_time": "2022-04-21T10:02:26.821Z"
   },
   {
    "duration": 0,
    "start_time": "2022-04-21T10:02:27.011Z"
   },
   {
    "duration": 0,
    "start_time": "2022-04-21T10:02:27.012Z"
   },
   {
    "duration": 0,
    "start_time": "2022-04-21T10:02:27.013Z"
   },
   {
    "duration": 0,
    "start_time": "2022-04-21T10:02:27.014Z"
   },
   {
    "duration": 0,
    "start_time": "2022-04-21T10:02:27.017Z"
   },
   {
    "duration": 0,
    "start_time": "2022-04-21T10:02:27.018Z"
   },
   {
    "duration": 0,
    "start_time": "2022-04-21T10:02:27.019Z"
   },
   {
    "duration": 0,
    "start_time": "2022-04-21T10:02:27.020Z"
   },
   {
    "duration": 2,
    "start_time": "2022-04-21T10:03:35.048Z"
   },
   {
    "duration": 142,
    "start_time": "2022-04-21T10:03:35.054Z"
   },
   {
    "duration": 160,
    "start_time": "2022-04-21T10:03:35.197Z"
   },
   {
    "duration": 146,
    "start_time": "2022-04-21T10:03:35.358Z"
   },
   {
    "duration": 5,
    "start_time": "2022-04-21T10:03:35.506Z"
   },
   {
    "duration": 7,
    "start_time": "2022-04-21T10:03:35.513Z"
   },
   {
    "duration": 19,
    "start_time": "2022-04-21T10:03:35.523Z"
   },
   {
    "duration": 67,
    "start_time": "2022-04-21T10:03:35.544Z"
   },
   {
    "duration": 8,
    "start_time": "2022-04-21T10:03:35.619Z"
   },
   {
    "duration": 32,
    "start_time": "2022-04-21T10:03:35.709Z"
   },
   {
    "duration": 14,
    "start_time": "2022-04-21T10:03:35.744Z"
   },
   {
    "duration": 66,
    "start_time": "2022-04-21T10:03:35.760Z"
   },
   {
    "duration": 104,
    "start_time": "2022-04-21T10:03:35.828Z"
   },
   {
    "duration": 14,
    "start_time": "2022-04-21T10:03:35.934Z"
   },
   {
    "duration": 68,
    "start_time": "2022-04-21T10:03:35.950Z"
   },
   {
    "duration": 85,
    "start_time": "2022-04-21T10:03:36.024Z"
   },
   {
    "duration": 4,
    "start_time": "2022-04-21T10:03:36.112Z"
   },
   {
    "duration": 98,
    "start_time": "2022-04-21T10:03:36.118Z"
   },
   {
    "duration": 9,
    "start_time": "2022-04-21T10:03:36.218Z"
   },
   {
    "duration": 0,
    "start_time": "2022-04-21T10:03:36.230Z"
   },
   {
    "duration": 0,
    "start_time": "2022-04-21T10:03:36.231Z"
   },
   {
    "duration": 0,
    "start_time": "2022-04-21T10:03:36.232Z"
   },
   {
    "duration": 0,
    "start_time": "2022-04-21T10:03:36.234Z"
   },
   {
    "duration": 3,
    "start_time": "2022-04-21T10:09:04.843Z"
   },
   {
    "duration": 144,
    "start_time": "2022-04-21T10:09:04.848Z"
   },
   {
    "duration": 145,
    "start_time": "2022-04-21T10:09:04.994Z"
   },
   {
    "duration": 148,
    "start_time": "2022-04-21T10:09:05.141Z"
   },
   {
    "duration": 4,
    "start_time": "2022-04-21T10:09:05.291Z"
   },
   {
    "duration": 17,
    "start_time": "2022-04-21T10:09:05.296Z"
   },
   {
    "duration": 22,
    "start_time": "2022-04-21T10:09:05.315Z"
   },
   {
    "duration": 14,
    "start_time": "2022-04-21T10:09:05.338Z"
   },
   {
    "duration": 155,
    "start_time": "2022-04-21T10:09:05.353Z"
   },
   {
    "duration": 17,
    "start_time": "2022-04-21T10:09:05.509Z"
   },
   {
    "duration": 14,
    "start_time": "2022-04-21T10:09:05.530Z"
   },
   {
    "duration": 97,
    "start_time": "2022-04-21T10:09:05.610Z"
   },
   {
    "duration": 21,
    "start_time": "2022-04-21T10:09:05.710Z"
   },
   {
    "duration": 14,
    "start_time": "2022-04-21T10:09:05.733Z"
   },
   {
    "duration": 75,
    "start_time": "2022-04-21T10:09:05.749Z"
   },
   {
    "duration": 5,
    "start_time": "2022-04-21T10:09:05.908Z"
   },
   {
    "duration": 4,
    "start_time": "2022-04-21T10:09:05.916Z"
   },
   {
    "duration": 1338,
    "start_time": "2022-04-21T10:09:05.922Z"
   },
   {
    "duration": 5,
    "start_time": "2022-04-21T10:09:07.261Z"
   },
   {
    "duration": 1288,
    "start_time": "2022-04-21T10:09:07.268Z"
   },
   {
    "duration": 5,
    "start_time": "2022-04-21T10:09:08.557Z"
   },
   {
    "duration": 1306,
    "start_time": "2022-04-21T10:09:08.564Z"
   },
   {
    "duration": 5,
    "start_time": "2022-04-21T10:09:09.872Z"
   }
  ],
  "kernelspec": {
   "display_name": "Python 3 (ipykernel)",
   "language": "python",
   "name": "python3"
  },
  "language_info": {
   "codemirror_mode": {
    "name": "ipython",
    "version": 3
   },
   "file_extension": ".py",
   "mimetype": "text/x-python",
   "name": "python",
   "nbconvert_exporter": "python",
   "pygments_lexer": "ipython3",
   "version": "3.9.5"
  },
  "toc": {
   "base_numbering": 1,
   "nav_menu": {},
   "number_sections": true,
   "sideBar": true,
   "skip_h1_title": true,
   "title_cell": "Table of Contents",
   "title_sidebar": "Contents",
   "toc_cell": false,
   "toc_position": {},
   "toc_section_display": true,
   "toc_window_display": true
  }
 },
 "nbformat": 4,
 "nbformat_minor": 2
}
