{
 "cells": [
  {
   "cell_type": "markdown",
   "metadata": {
    "toc": true
   },
   "source": [
    "<h1>Содержание<span class=\"tocSkip\"></span></h1>\n",
    "<div class=\"toc\"><ul class=\"toc-item\"><li><span><a href=\"#Подготовка-данных\" data-toc-modified-id=\"Подготовка-данных-1\"><span class=\"toc-item-num\">1&nbsp;&nbsp;</span>Подготовка данных</a></span><ul class=\"toc-item\"><li><span><a href=\"#Откроим-файлы-и-изучим-их\" data-toc-modified-id=\"Откроим-файлы-и-изучим-их-1.1\"><span class=\"toc-item-num\">1.1&nbsp;&nbsp;</span>Откроим файлы и изучим их</a></span></li><li><span><a href=\"#Проверим,-что-эффективность-обогащения-рассчитана-правильно\" data-toc-modified-id=\"Проверим,-что-эффективность-обогащения-рассчитана-правильно-1.2\"><span class=\"toc-item-num\">1.2&nbsp;&nbsp;</span>Проверим, что эффективность обогащения рассчитана правильно</a></span></li><li><span><a href=\"#Анализ-признаков,-недоступных-в-тестовой-выборке.\" data-toc-modified-id=\"Анализ-признаков,-недоступных-в-тестовой-выборке.-1.3\"><span class=\"toc-item-num\">1.3&nbsp;&nbsp;</span>Анализ признаков, недоступных в тестовой выборке.</a></span></li><li><span><a href=\"#Предобработка-данных.\" data-toc-modified-id=\"Предобработка-данных.-1.4\"><span class=\"toc-item-num\">1.4&nbsp;&nbsp;</span>Предобработка данных.</a></span></li></ul></li><li><span><a href=\"#Анализ-данных\" data-toc-modified-id=\"Анализ-данных-2\"><span class=\"toc-item-num\">2&nbsp;&nbsp;</span>Анализ данных</a></span><ul class=\"toc-item\"><li><span><a href=\"#Концентрация-металлов-(Au,-Ag,-Pb)-на-различных-этапах-очистки\" data-toc-modified-id=\"Концентрация-металлов-(Au,-Ag,-Pb)-на-различных-этапах-очистки-2.1\"><span class=\"toc-item-num\">2.1&nbsp;&nbsp;</span>Концентрация металлов (Au, Ag, Pb) на различных этапах очистки</a></span><ul class=\"toc-item\"><li><span><a href=\"#Концентрация-Au-на-различных-этапах-очистки\" data-toc-modified-id=\"Концентрация-Au-на-различных-этапах-очистки-2.1.1\"><span class=\"toc-item-num\">2.1.1&nbsp;&nbsp;</span>Концентрация Au на различных этапах очистки</a></span></li><li><span><a href=\"#Концентрация--Ag-на-различных-этапах-очистки\" data-toc-modified-id=\"Концентрация--Ag-на-различных-этапах-очистки-2.1.2\"><span class=\"toc-item-num\">2.1.2&nbsp;&nbsp;</span>Концентрация  Ag на различных этапах очистки</a></span></li><li><span><a href=\"#Концентрация-Pb-на-различных-этапах-очистки\" data-toc-modified-id=\"Концентрация-Pb-на-различных-этапах-очистки-2.1.3\"><span class=\"toc-item-num\">2.1.3&nbsp;&nbsp;</span>Концентрация Pb на различных этапах очистки</a></span></li></ul></li><li><span><a href=\"#Сравните-распределения-размеров-гранул-сырья-на-обучающей-и-тестовой-выборках\" data-toc-modified-id=\"Сравните-распределения-размеров-гранул-сырья-на-обучающей-и-тестовой-выборках-2.2\"><span class=\"toc-item-num\">2.2&nbsp;&nbsp;</span>Сравните распределения размеров гранул сырья на обучающей и тестовой выборках</a></span></li><li><span><a href=\"#Исследуйте-суммарную-концентрацию-всех-веществ-на-разных-стадиях:-в-сырье,-в-черновом-и-финальном-концентратах\" data-toc-modified-id=\"Исследуйте-суммарную-концентрацию-всех-веществ-на-разных-стадиях:-в-сырье,-в-черновом-и-финальном-концентратах-2.3\"><span class=\"toc-item-num\">2.3&nbsp;&nbsp;</span>Исследуйте суммарную концентрацию всех веществ на разных стадиях: в сырье, в черновом и финальном концентратах</a></span></li></ul></li><li><span><a href=\"#Модель\" data-toc-modified-id=\"Модель-3\"><span class=\"toc-item-num\">3&nbsp;&nbsp;</span>Модель</a></span><ul class=\"toc-item\"><li><span><a href=\"#Функция-для-вычисления-итогового-sMAPE\" data-toc-modified-id=\"Функция-для-вычисления-итогового-sMAPE-3.1\"><span class=\"toc-item-num\">3.1&nbsp;&nbsp;</span>Функция для вычисления итогового sMAPE</a></span></li><li><span><a href=\"#Выделение-Признаков-и-Целевого-признак\" data-toc-modified-id=\"Выделение-Признаков-и-Целевого-признак-3.2\"><span class=\"toc-item-num\">3.2&nbsp;&nbsp;</span>Выделение Признаков и Целевого признак</a></span></li><li><span><a href=\"#Масштабирование-признаков\" data-toc-modified-id=\"Масштабирование-признаков-3.3\"><span class=\"toc-item-num\">3.3&nbsp;&nbsp;</span>Масштабирование признаков</a></span></li><li><span><a href=\"#Построение-моделей\" data-toc-modified-id=\"Построение-моделей-3.4\"><span class=\"toc-item-num\">3.4&nbsp;&nbsp;</span>Построение моделей</a></span><ul class=\"toc-item\"><li><span><a href=\"#Константная-модель---для-сравнения\" data-toc-modified-id=\"Константная-модель---для-сравнения-3.4.1\"><span class=\"toc-item-num\">3.4.1&nbsp;&nbsp;</span>Константная модель - для сравнения</a></span></li><li><span><a href=\"#Модель---линейная-регрессия\" data-toc-modified-id=\"Модель---линейная-регрессия-3.4.2\"><span class=\"toc-item-num\">3.4.2&nbsp;&nbsp;</span>Модель - линейная регрессия</a></span></li><li><span><a href=\"#Модель----дерево-решений\" data-toc-modified-id=\"Модель----дерево-решений-3.4.3\"><span class=\"toc-item-num\">3.4.3&nbsp;&nbsp;</span>Модель -  дерево решений</a></span></li><li><span><a href=\"#Модель---случайный-лес\" data-toc-modified-id=\"Модель---случайный-лес-3.4.4\"><span class=\"toc-item-num\">3.4.4&nbsp;&nbsp;</span>Модель - случайный лес</a></span></li></ul></li><li><span><a href=\"#Выбор-лучшей-модель,-проверка-её-качества-на-тестовой-выборке\" data-toc-modified-id=\"Выбор-лучшей-модель,-проверка-её-качества-на-тестовой-выборке-3.5\"><span class=\"toc-item-num\">3.5&nbsp;&nbsp;</span>Выбор лучшей модель, проверка её качества на тестовой выборке</a></span></li></ul></li><li><span><a href=\"#Чек-лист-готовности-проекта\" data-toc-modified-id=\"Чек-лист-готовности-проекта-4\"><span class=\"toc-item-num\">4&nbsp;&nbsp;</span>Чек-лист готовности проекта</a></span></li></ul></div>"
   ]
  },
  {
   "cell_type": "markdown",
   "metadata": {},
   "source": [
    "# Восстановление золота из руды"
   ]
  },
  {
   "cell_type": "markdown",
   "metadata": {},
   "source": [
    "Подготовьте прототип модели машинного обучения для «Цифры». Компания разрабатывает решения для эффективной работы промышленных предприятий.\n",
    "\n",
    "Модель должна предсказать коэффициент восстановления золота из золотосодержащей руды. Используйте данные с параметрами добычи и очистки. \n",
    "\n",
    "Модель поможет оптимизировать производство, чтобы не запускать предприятие с убыточными характеристиками.\n",
    "\n",
    "Вам нужно:\n",
    "\n",
    "1. Подготовить данные;\n",
    "2. Провести исследовательский анализ данных;\n",
    "3. Построить и обучить модель.\n",
    "\n",
    "Чтобы выполнить проект, обращайтесь к библиотекам *pandas*, *matplotlib* и *sklearn.* Вам поможет их документация."
   ]
  },
  {
   "cell_type": "markdown",
   "metadata": {},
   "source": [
    "## Подготовка данных"
   ]
  },
  {
   "cell_type": "code",
   "execution_count": 1,
   "metadata": {},
   "outputs": [],
   "source": [
    "import pandas as pd\n",
    "import numpy as np\n",
    "import matplotlib.pyplot as plt\n",
    "\n",
    "from sklearn.metrics import mean_absolute_error\n",
    "from sklearn.model_selection import train_test_split\n",
    "from sklearn.preprocessing import StandardScaler\n",
    "\n",
    "from sklearn.dummy import DummyRegressor\n",
    "from sklearn.linear_model import LinearRegression\n",
    "from sklearn.tree import DecisionTreeRegressor\n",
    "from sklearn.ensemble import RandomForestRegressor\n",
    "\n",
    "from sklearn.model_selection import cross_val_score\n",
    "from sklearn.metrics import make_scorer\n"
   ]
  },
  {
   "cell_type": "markdown",
   "metadata": {},
   "source": [
    "### Откроим файлы и изучим их"
   ]
  },
  {
   "cell_type": "code",
   "execution_count": 2,
   "metadata": {
    "scrolled": false
   },
   "outputs": [
    {
     "data": {
      "text/html": [
       "<div>\n",
       "<style scoped>\n",
       "    .dataframe tbody tr th:only-of-type {\n",
       "        vertical-align: middle;\n",
       "    }\n",
       "\n",
       "    .dataframe tbody tr th {\n",
       "        vertical-align: top;\n",
       "    }\n",
       "\n",
       "    .dataframe thead th {\n",
       "        text-align: right;\n",
       "    }\n",
       "</style>\n",
       "<table border=\"1\" class=\"dataframe\">\n",
       "  <thead>\n",
       "    <tr style=\"text-align: right;\">\n",
       "      <th></th>\n",
       "      <th>date</th>\n",
       "      <th>final.output.concentrate_ag</th>\n",
       "      <th>final.output.concentrate_pb</th>\n",
       "      <th>final.output.concentrate_sol</th>\n",
       "      <th>final.output.concentrate_au</th>\n",
       "      <th>final.output.recovery</th>\n",
       "      <th>final.output.tail_ag</th>\n",
       "      <th>final.output.tail_pb</th>\n",
       "      <th>final.output.tail_sol</th>\n",
       "      <th>final.output.tail_au</th>\n",
       "      <th>...</th>\n",
       "      <th>secondary_cleaner.state.floatbank4_a_air</th>\n",
       "      <th>secondary_cleaner.state.floatbank4_a_level</th>\n",
       "      <th>secondary_cleaner.state.floatbank4_b_air</th>\n",
       "      <th>secondary_cleaner.state.floatbank4_b_level</th>\n",
       "      <th>secondary_cleaner.state.floatbank5_a_air</th>\n",
       "      <th>secondary_cleaner.state.floatbank5_a_level</th>\n",
       "      <th>secondary_cleaner.state.floatbank5_b_air</th>\n",
       "      <th>secondary_cleaner.state.floatbank5_b_level</th>\n",
       "      <th>secondary_cleaner.state.floatbank6_a_air</th>\n",
       "      <th>secondary_cleaner.state.floatbank6_a_level</th>\n",
       "    </tr>\n",
       "  </thead>\n",
       "  <tbody>\n",
       "    <tr>\n",
       "      <th>0</th>\n",
       "      <td>2016-01-15 00:00:00</td>\n",
       "      <td>6.055403</td>\n",
       "      <td>9.889648</td>\n",
       "      <td>5.507324</td>\n",
       "      <td>42.192020</td>\n",
       "      <td>70.541216</td>\n",
       "      <td>10.411962</td>\n",
       "      <td>0.895447</td>\n",
       "      <td>16.904297</td>\n",
       "      <td>2.143149</td>\n",
       "      <td>...</td>\n",
       "      <td>14.016835</td>\n",
       "      <td>-502.488007</td>\n",
       "      <td>12.099931</td>\n",
       "      <td>-504.715942</td>\n",
       "      <td>9.925633</td>\n",
       "      <td>-498.310211</td>\n",
       "      <td>8.079666</td>\n",
       "      <td>-500.470978</td>\n",
       "      <td>14.151341</td>\n",
       "      <td>-605.841980</td>\n",
       "    </tr>\n",
       "    <tr>\n",
       "      <th>1</th>\n",
       "      <td>2016-01-15 01:00:00</td>\n",
       "      <td>6.029369</td>\n",
       "      <td>9.968944</td>\n",
       "      <td>5.257781</td>\n",
       "      <td>42.701629</td>\n",
       "      <td>69.266198</td>\n",
       "      <td>10.462676</td>\n",
       "      <td>0.927452</td>\n",
       "      <td>16.634514</td>\n",
       "      <td>2.224930</td>\n",
       "      <td>...</td>\n",
       "      <td>13.992281</td>\n",
       "      <td>-505.503262</td>\n",
       "      <td>11.950531</td>\n",
       "      <td>-501.331529</td>\n",
       "      <td>10.039245</td>\n",
       "      <td>-500.169983</td>\n",
       "      <td>7.984757</td>\n",
       "      <td>-500.582168</td>\n",
       "      <td>13.998353</td>\n",
       "      <td>-599.787184</td>\n",
       "    </tr>\n",
       "    <tr>\n",
       "      <th>2</th>\n",
       "      <td>2016-01-15 02:00:00</td>\n",
       "      <td>6.055926</td>\n",
       "      <td>10.213995</td>\n",
       "      <td>5.383759</td>\n",
       "      <td>42.657501</td>\n",
       "      <td>68.116445</td>\n",
       "      <td>10.507046</td>\n",
       "      <td>0.953716</td>\n",
       "      <td>16.208849</td>\n",
       "      <td>2.257889</td>\n",
       "      <td>...</td>\n",
       "      <td>14.015015</td>\n",
       "      <td>-502.520901</td>\n",
       "      <td>11.912783</td>\n",
       "      <td>-501.133383</td>\n",
       "      <td>10.070913</td>\n",
       "      <td>-500.129135</td>\n",
       "      <td>8.013877</td>\n",
       "      <td>-500.517572</td>\n",
       "      <td>14.028663</td>\n",
       "      <td>-601.427363</td>\n",
       "    </tr>\n",
       "    <tr>\n",
       "      <th>3</th>\n",
       "      <td>2016-01-15 03:00:00</td>\n",
       "      <td>6.047977</td>\n",
       "      <td>9.977019</td>\n",
       "      <td>4.858634</td>\n",
       "      <td>42.689819</td>\n",
       "      <td>68.347543</td>\n",
       "      <td>10.422762</td>\n",
       "      <td>0.883763</td>\n",
       "      <td>16.532835</td>\n",
       "      <td>2.146849</td>\n",
       "      <td>...</td>\n",
       "      <td>14.036510</td>\n",
       "      <td>-500.857308</td>\n",
       "      <td>11.999550</td>\n",
       "      <td>-501.193686</td>\n",
       "      <td>9.970366</td>\n",
       "      <td>-499.201640</td>\n",
       "      <td>7.977324</td>\n",
       "      <td>-500.255908</td>\n",
       "      <td>14.005551</td>\n",
       "      <td>-599.996129</td>\n",
       "    </tr>\n",
       "    <tr>\n",
       "      <th>4</th>\n",
       "      <td>2016-01-15 04:00:00</td>\n",
       "      <td>6.148599</td>\n",
       "      <td>10.142511</td>\n",
       "      <td>4.939416</td>\n",
       "      <td>42.774141</td>\n",
       "      <td>66.927016</td>\n",
       "      <td>10.360302</td>\n",
       "      <td>0.792826</td>\n",
       "      <td>16.525686</td>\n",
       "      <td>2.055292</td>\n",
       "      <td>...</td>\n",
       "      <td>14.027298</td>\n",
       "      <td>-499.838632</td>\n",
       "      <td>11.953070</td>\n",
       "      <td>-501.053894</td>\n",
       "      <td>9.925709</td>\n",
       "      <td>-501.686727</td>\n",
       "      <td>7.894242</td>\n",
       "      <td>-500.356035</td>\n",
       "      <td>13.996647</td>\n",
       "      <td>-601.496691</td>\n",
       "    </tr>\n",
       "    <tr>\n",
       "      <th>...</th>\n",
       "      <td>...</td>\n",
       "      <td>...</td>\n",
       "      <td>...</td>\n",
       "      <td>...</td>\n",
       "      <td>...</td>\n",
       "      <td>...</td>\n",
       "      <td>...</td>\n",
       "      <td>...</td>\n",
       "      <td>...</td>\n",
       "      <td>...</td>\n",
       "      <td>...</td>\n",
       "      <td>...</td>\n",
       "      <td>...</td>\n",
       "      <td>...</td>\n",
       "      <td>...</td>\n",
       "      <td>...</td>\n",
       "      <td>...</td>\n",
       "      <td>...</td>\n",
       "      <td>...</td>\n",
       "      <td>...</td>\n",
       "      <td>...</td>\n",
       "    </tr>\n",
       "    <tr>\n",
       "      <th>14144</th>\n",
       "      <td>2018-08-18 06:59:59</td>\n",
       "      <td>3.224920</td>\n",
       "      <td>11.356233</td>\n",
       "      <td>6.803482</td>\n",
       "      <td>46.713954</td>\n",
       "      <td>73.755150</td>\n",
       "      <td>8.769645</td>\n",
       "      <td>3.141541</td>\n",
       "      <td>10.403181</td>\n",
       "      <td>1.529220</td>\n",
       "      <td>...</td>\n",
       "      <td>23.031497</td>\n",
       "      <td>-501.167942</td>\n",
       "      <td>20.007571</td>\n",
       "      <td>-499.740028</td>\n",
       "      <td>18.006038</td>\n",
       "      <td>-499.834374</td>\n",
       "      <td>13.001114</td>\n",
       "      <td>-500.155694</td>\n",
       "      <td>20.007840</td>\n",
       "      <td>-501.296428</td>\n",
       "    </tr>\n",
       "    <tr>\n",
       "      <th>14145</th>\n",
       "      <td>2018-08-18 07:59:59</td>\n",
       "      <td>3.195978</td>\n",
       "      <td>11.349355</td>\n",
       "      <td>6.862249</td>\n",
       "      <td>46.866780</td>\n",
       "      <td>69.049291</td>\n",
       "      <td>8.897321</td>\n",
       "      <td>3.130493</td>\n",
       "      <td>10.549470</td>\n",
       "      <td>1.612542</td>\n",
       "      <td>...</td>\n",
       "      <td>22.960095</td>\n",
       "      <td>-501.612783</td>\n",
       "      <td>20.035660</td>\n",
       "      <td>-500.251357</td>\n",
       "      <td>17.998535</td>\n",
       "      <td>-500.395178</td>\n",
       "      <td>12.954048</td>\n",
       "      <td>-499.895163</td>\n",
       "      <td>19.968498</td>\n",
       "      <td>-501.041608</td>\n",
       "    </tr>\n",
       "    <tr>\n",
       "      <th>14146</th>\n",
       "      <td>2018-08-18 08:59:59</td>\n",
       "      <td>3.109998</td>\n",
       "      <td>11.434366</td>\n",
       "      <td>6.886013</td>\n",
       "      <td>46.795691</td>\n",
       "      <td>67.002189</td>\n",
       "      <td>8.529606</td>\n",
       "      <td>2.911418</td>\n",
       "      <td>11.115147</td>\n",
       "      <td>1.596616</td>\n",
       "      <td>...</td>\n",
       "      <td>23.015718</td>\n",
       "      <td>-501.711599</td>\n",
       "      <td>19.951231</td>\n",
       "      <td>-499.857027</td>\n",
       "      <td>18.019543</td>\n",
       "      <td>-500.451156</td>\n",
       "      <td>13.023431</td>\n",
       "      <td>-499.914391</td>\n",
       "      <td>19.990885</td>\n",
       "      <td>-501.518452</td>\n",
       "    </tr>\n",
       "    <tr>\n",
       "      <th>14147</th>\n",
       "      <td>2018-08-18 09:59:59</td>\n",
       "      <td>3.367241</td>\n",
       "      <td>11.625587</td>\n",
       "      <td>6.799433</td>\n",
       "      <td>46.408188</td>\n",
       "      <td>65.523246</td>\n",
       "      <td>8.777171</td>\n",
       "      <td>2.819214</td>\n",
       "      <td>10.463847</td>\n",
       "      <td>1.602879</td>\n",
       "      <td>...</td>\n",
       "      <td>23.024963</td>\n",
       "      <td>-501.153409</td>\n",
       "      <td>20.054122</td>\n",
       "      <td>-500.314711</td>\n",
       "      <td>17.979515</td>\n",
       "      <td>-499.272871</td>\n",
       "      <td>12.992404</td>\n",
       "      <td>-499.976268</td>\n",
       "      <td>20.013986</td>\n",
       "      <td>-500.625471</td>\n",
       "    </tr>\n",
       "    <tr>\n",
       "      <th>14148</th>\n",
       "      <td>2018-08-18 10:59:59</td>\n",
       "      <td>3.598375</td>\n",
       "      <td>11.737832</td>\n",
       "      <td>6.717509</td>\n",
       "      <td>46.299438</td>\n",
       "      <td>70.281454</td>\n",
       "      <td>8.406690</td>\n",
       "      <td>2.517518</td>\n",
       "      <td>10.652193</td>\n",
       "      <td>1.389434</td>\n",
       "      <td>...</td>\n",
       "      <td>23.018622</td>\n",
       "      <td>-500.492702</td>\n",
       "      <td>20.020205</td>\n",
       "      <td>-500.220296</td>\n",
       "      <td>17.963512</td>\n",
       "      <td>-499.939490</td>\n",
       "      <td>12.990306</td>\n",
       "      <td>-500.080993</td>\n",
       "      <td>19.990336</td>\n",
       "      <td>-499.191575</td>\n",
       "    </tr>\n",
       "  </tbody>\n",
       "</table>\n",
       "<p>14149 rows × 87 columns</p>\n",
       "</div>"
      ],
      "text/plain": [
       "                      date  final.output.concentrate_ag  \\\n",
       "0      2016-01-15 00:00:00                     6.055403   \n",
       "1      2016-01-15 01:00:00                     6.029369   \n",
       "2      2016-01-15 02:00:00                     6.055926   \n",
       "3      2016-01-15 03:00:00                     6.047977   \n",
       "4      2016-01-15 04:00:00                     6.148599   \n",
       "...                    ...                          ...   \n",
       "14144  2018-08-18 06:59:59                     3.224920   \n",
       "14145  2018-08-18 07:59:59                     3.195978   \n",
       "14146  2018-08-18 08:59:59                     3.109998   \n",
       "14147  2018-08-18 09:59:59                     3.367241   \n",
       "14148  2018-08-18 10:59:59                     3.598375   \n",
       "\n",
       "       final.output.concentrate_pb  final.output.concentrate_sol  \\\n",
       "0                         9.889648                      5.507324   \n",
       "1                         9.968944                      5.257781   \n",
       "2                        10.213995                      5.383759   \n",
       "3                         9.977019                      4.858634   \n",
       "4                        10.142511                      4.939416   \n",
       "...                            ...                           ...   \n",
       "14144                    11.356233                      6.803482   \n",
       "14145                    11.349355                      6.862249   \n",
       "14146                    11.434366                      6.886013   \n",
       "14147                    11.625587                      6.799433   \n",
       "14148                    11.737832                      6.717509   \n",
       "\n",
       "       final.output.concentrate_au  final.output.recovery  \\\n",
       "0                        42.192020              70.541216   \n",
       "1                        42.701629              69.266198   \n",
       "2                        42.657501              68.116445   \n",
       "3                        42.689819              68.347543   \n",
       "4                        42.774141              66.927016   \n",
       "...                            ...                    ...   \n",
       "14144                    46.713954              73.755150   \n",
       "14145                    46.866780              69.049291   \n",
       "14146                    46.795691              67.002189   \n",
       "14147                    46.408188              65.523246   \n",
       "14148                    46.299438              70.281454   \n",
       "\n",
       "       final.output.tail_ag  final.output.tail_pb  final.output.tail_sol  \\\n",
       "0                 10.411962              0.895447              16.904297   \n",
       "1                 10.462676              0.927452              16.634514   \n",
       "2                 10.507046              0.953716              16.208849   \n",
       "3                 10.422762              0.883763              16.532835   \n",
       "4                 10.360302              0.792826              16.525686   \n",
       "...                     ...                   ...                    ...   \n",
       "14144              8.769645              3.141541              10.403181   \n",
       "14145              8.897321              3.130493              10.549470   \n",
       "14146              8.529606              2.911418              11.115147   \n",
       "14147              8.777171              2.819214              10.463847   \n",
       "14148              8.406690              2.517518              10.652193   \n",
       "\n",
       "       final.output.tail_au  ...  secondary_cleaner.state.floatbank4_a_air  \\\n",
       "0                  2.143149  ...                                 14.016835   \n",
       "1                  2.224930  ...                                 13.992281   \n",
       "2                  2.257889  ...                                 14.015015   \n",
       "3                  2.146849  ...                                 14.036510   \n",
       "4                  2.055292  ...                                 14.027298   \n",
       "...                     ...  ...                                       ...   \n",
       "14144              1.529220  ...                                 23.031497   \n",
       "14145              1.612542  ...                                 22.960095   \n",
       "14146              1.596616  ...                                 23.015718   \n",
       "14147              1.602879  ...                                 23.024963   \n",
       "14148              1.389434  ...                                 23.018622   \n",
       "\n",
       "       secondary_cleaner.state.floatbank4_a_level  \\\n",
       "0                                     -502.488007   \n",
       "1                                     -505.503262   \n",
       "2                                     -502.520901   \n",
       "3                                     -500.857308   \n",
       "4                                     -499.838632   \n",
       "...                                           ...   \n",
       "14144                                 -501.167942   \n",
       "14145                                 -501.612783   \n",
       "14146                                 -501.711599   \n",
       "14147                                 -501.153409   \n",
       "14148                                 -500.492702   \n",
       "\n",
       "       secondary_cleaner.state.floatbank4_b_air  \\\n",
       "0                                     12.099931   \n",
       "1                                     11.950531   \n",
       "2                                     11.912783   \n",
       "3                                     11.999550   \n",
       "4                                     11.953070   \n",
       "...                                         ...   \n",
       "14144                                 20.007571   \n",
       "14145                                 20.035660   \n",
       "14146                                 19.951231   \n",
       "14147                                 20.054122   \n",
       "14148                                 20.020205   \n",
       "\n",
       "       secondary_cleaner.state.floatbank4_b_level  \\\n",
       "0                                     -504.715942   \n",
       "1                                     -501.331529   \n",
       "2                                     -501.133383   \n",
       "3                                     -501.193686   \n",
       "4                                     -501.053894   \n",
       "...                                           ...   \n",
       "14144                                 -499.740028   \n",
       "14145                                 -500.251357   \n",
       "14146                                 -499.857027   \n",
       "14147                                 -500.314711   \n",
       "14148                                 -500.220296   \n",
       "\n",
       "       secondary_cleaner.state.floatbank5_a_air  \\\n",
       "0                                      9.925633   \n",
       "1                                     10.039245   \n",
       "2                                     10.070913   \n",
       "3                                      9.970366   \n",
       "4                                      9.925709   \n",
       "...                                         ...   \n",
       "14144                                 18.006038   \n",
       "14145                                 17.998535   \n",
       "14146                                 18.019543   \n",
       "14147                                 17.979515   \n",
       "14148                                 17.963512   \n",
       "\n",
       "       secondary_cleaner.state.floatbank5_a_level  \\\n",
       "0                                     -498.310211   \n",
       "1                                     -500.169983   \n",
       "2                                     -500.129135   \n",
       "3                                     -499.201640   \n",
       "4                                     -501.686727   \n",
       "...                                           ...   \n",
       "14144                                 -499.834374   \n",
       "14145                                 -500.395178   \n",
       "14146                                 -500.451156   \n",
       "14147                                 -499.272871   \n",
       "14148                                 -499.939490   \n",
       "\n",
       "       secondary_cleaner.state.floatbank5_b_air  \\\n",
       "0                                      8.079666   \n",
       "1                                      7.984757   \n",
       "2                                      8.013877   \n",
       "3                                      7.977324   \n",
       "4                                      7.894242   \n",
       "...                                         ...   \n",
       "14144                                 13.001114   \n",
       "14145                                 12.954048   \n",
       "14146                                 13.023431   \n",
       "14147                                 12.992404   \n",
       "14148                                 12.990306   \n",
       "\n",
       "       secondary_cleaner.state.floatbank5_b_level  \\\n",
       "0                                     -500.470978   \n",
       "1                                     -500.582168   \n",
       "2                                     -500.517572   \n",
       "3                                     -500.255908   \n",
       "4                                     -500.356035   \n",
       "...                                           ...   \n",
       "14144                                 -500.155694   \n",
       "14145                                 -499.895163   \n",
       "14146                                 -499.914391   \n",
       "14147                                 -499.976268   \n",
       "14148                                 -500.080993   \n",
       "\n",
       "       secondary_cleaner.state.floatbank6_a_air  \\\n",
       "0                                     14.151341   \n",
       "1                                     13.998353   \n",
       "2                                     14.028663   \n",
       "3                                     14.005551   \n",
       "4                                     13.996647   \n",
       "...                                         ...   \n",
       "14144                                 20.007840   \n",
       "14145                                 19.968498   \n",
       "14146                                 19.990885   \n",
       "14147                                 20.013986   \n",
       "14148                                 19.990336   \n",
       "\n",
       "       secondary_cleaner.state.floatbank6_a_level  \n",
       "0                                     -605.841980  \n",
       "1                                     -599.787184  \n",
       "2                                     -601.427363  \n",
       "3                                     -599.996129  \n",
       "4                                     -601.496691  \n",
       "...                                           ...  \n",
       "14144                                 -501.296428  \n",
       "14145                                 -501.041608  \n",
       "14146                                 -501.518452  \n",
       "14147                                 -500.625471  \n",
       "14148                                 -499.191575  \n",
       "\n",
       "[14149 rows x 87 columns]"
      ]
     },
     "metadata": {},
     "output_type": "display_data"
    },
    {
     "name": "stdout",
     "output_type": "stream",
     "text": [
      "<class 'pandas.core.frame.DataFrame'>\n",
      "RangeIndex: 14149 entries, 0 to 14148\n",
      "Data columns (total 87 columns):\n",
      " #   Column                                              Non-Null Count  Dtype  \n",
      "---  ------                                              --------------  -----  \n",
      " 0   date                                                14149 non-null  object \n",
      " 1   final.output.concentrate_ag                         14148 non-null  float64\n",
      " 2   final.output.concentrate_pb                         14148 non-null  float64\n",
      " 3   final.output.concentrate_sol                        13938 non-null  float64\n",
      " 4   final.output.concentrate_au                         14149 non-null  float64\n",
      " 5   final.output.recovery                               14149 non-null  float64\n",
      " 6   final.output.tail_ag                                14149 non-null  float64\n",
      " 7   final.output.tail_pb                                14049 non-null  float64\n",
      " 8   final.output.tail_sol                               14144 non-null  float64\n",
      " 9   final.output.tail_au                                14149 non-null  float64\n",
      " 10  primary_cleaner.input.sulfate                       14129 non-null  float64\n",
      " 11  primary_cleaner.input.depressant                    14117 non-null  float64\n",
      " 12  primary_cleaner.input.feed_size                     14149 non-null  float64\n",
      " 13  primary_cleaner.input.xanthate                      14049 non-null  float64\n",
      " 14  primary_cleaner.output.concentrate_ag               14149 non-null  float64\n",
      " 15  primary_cleaner.output.concentrate_pb               14063 non-null  float64\n",
      " 16  primary_cleaner.output.concentrate_sol              13863 non-null  float64\n",
      " 17  primary_cleaner.output.concentrate_au               14149 non-null  float64\n",
      " 18  primary_cleaner.output.tail_ag                      14148 non-null  float64\n",
      " 19  primary_cleaner.output.tail_pb                      14134 non-null  float64\n",
      " 20  primary_cleaner.output.tail_sol                     14103 non-null  float64\n",
      " 21  primary_cleaner.output.tail_au                      14149 non-null  float64\n",
      " 22  primary_cleaner.state.floatbank8_a_air              14145 non-null  float64\n",
      " 23  primary_cleaner.state.floatbank8_a_level            14148 non-null  float64\n",
      " 24  primary_cleaner.state.floatbank8_b_air              14145 non-null  float64\n",
      " 25  primary_cleaner.state.floatbank8_b_level            14148 non-null  float64\n",
      " 26  primary_cleaner.state.floatbank8_c_air              14147 non-null  float64\n",
      " 27  primary_cleaner.state.floatbank8_c_level            14148 non-null  float64\n",
      " 28  primary_cleaner.state.floatbank8_d_air              14146 non-null  float64\n",
      " 29  primary_cleaner.state.floatbank8_d_level            14148 non-null  float64\n",
      " 30  rougher.calculation.sulfate_to_au_concentrate       14148 non-null  float64\n",
      " 31  rougher.calculation.floatbank10_sulfate_to_au_feed  14148 non-null  float64\n",
      " 32  rougher.calculation.floatbank11_sulfate_to_au_feed  14148 non-null  float64\n",
      " 33  rougher.calculation.au_pb_ratio                     14149 non-null  float64\n",
      " 34  rougher.input.feed_ag                               14149 non-null  float64\n",
      " 35  rougher.input.feed_pb                               14049 non-null  float64\n",
      " 36  rougher.input.feed_rate                             14141 non-null  float64\n",
      " 37  rougher.input.feed_size                             14005 non-null  float64\n",
      " 38  rougher.input.feed_sol                              14071 non-null  float64\n",
      " 39  rougher.input.feed_au                               14149 non-null  float64\n",
      " 40  rougher.input.floatbank10_sulfate                   14120 non-null  float64\n",
      " 41  rougher.input.floatbank10_xanthate                  14141 non-null  float64\n",
      " 42  rougher.input.floatbank11_sulfate                   14113 non-null  float64\n",
      " 43  rougher.input.floatbank11_xanthate                  13721 non-null  float64\n",
      " 44  rougher.output.concentrate_ag                       14149 non-null  float64\n",
      " 45  rougher.output.concentrate_pb                       14149 non-null  float64\n",
      " 46  rougher.output.concentrate_sol                      14127 non-null  float64\n",
      " 47  rougher.output.concentrate_au                       14149 non-null  float64\n",
      " 48  rougher.output.recovery                             14149 non-null  float64\n",
      " 49  rougher.output.tail_ag                              14148 non-null  float64\n",
      " 50  rougher.output.tail_pb                              14149 non-null  float64\n",
      " 51  rougher.output.tail_sol                             14149 non-null  float64\n",
      " 52  rougher.output.tail_au                              14149 non-null  float64\n",
      " 53  rougher.state.floatbank10_a_air                     14148 non-null  float64\n",
      " 54  rougher.state.floatbank10_a_level                   14148 non-null  float64\n",
      " 55  rougher.state.floatbank10_b_air                     14148 non-null  float64\n",
      " 56  rougher.state.floatbank10_b_level                   14148 non-null  float64\n",
      " 57  rougher.state.floatbank10_c_air                     14148 non-null  float64\n",
      " 58  rougher.state.floatbank10_c_level                   14148 non-null  float64\n",
      " 59  rougher.state.floatbank10_d_air                     14149 non-null  float64\n",
      " 60  rougher.state.floatbank10_d_level                   14149 non-null  float64\n",
      " 61  rougher.state.floatbank10_e_air                     13713 non-null  float64\n",
      " 62  rougher.state.floatbank10_e_level                   14149 non-null  float64\n",
      " 63  rougher.state.floatbank10_f_air                     14149 non-null  float64\n",
      " 64  rougher.state.floatbank10_f_level                   14149 non-null  float64\n",
      " 65  secondary_cleaner.output.tail_ag                    14147 non-null  float64\n",
      " 66  secondary_cleaner.output.tail_pb                    14139 non-null  float64\n",
      " 67  secondary_cleaner.output.tail_sol                   12544 non-null  float64\n",
      " 68  secondary_cleaner.output.tail_au                    14149 non-null  float64\n",
      " 69  secondary_cleaner.state.floatbank2_a_air            13932 non-null  float64\n",
      " 70  secondary_cleaner.state.floatbank2_a_level          14148 non-null  float64\n",
      " 71  secondary_cleaner.state.floatbank2_b_air            14128 non-null  float64\n",
      " 72  secondary_cleaner.state.floatbank2_b_level          14148 non-null  float64\n",
      " 73  secondary_cleaner.state.floatbank3_a_air            14145 non-null  float64\n",
      " 74  secondary_cleaner.state.floatbank3_a_level          14148 non-null  float64\n",
      " 75  secondary_cleaner.state.floatbank3_b_air            14148 non-null  float64\n",
      " 76  secondary_cleaner.state.floatbank3_b_level          14148 non-null  float64\n",
      " 77  secondary_cleaner.state.floatbank4_a_air            14143 non-null  float64\n",
      " 78  secondary_cleaner.state.floatbank4_a_level          14148 non-null  float64\n",
      " 79  secondary_cleaner.state.floatbank4_b_air            14148 non-null  float64\n",
      " 80  secondary_cleaner.state.floatbank4_b_level          14148 non-null  float64\n",
      " 81  secondary_cleaner.state.floatbank5_a_air            14148 non-null  float64\n",
      " 82  secondary_cleaner.state.floatbank5_a_level          14148 non-null  float64\n",
      " 83  secondary_cleaner.state.floatbank5_b_air            14148 non-null  float64\n",
      " 84  secondary_cleaner.state.floatbank5_b_level          14148 non-null  float64\n",
      " 85  secondary_cleaner.state.floatbank6_a_air            14147 non-null  float64\n",
      " 86  secondary_cleaner.state.floatbank6_a_level          14148 non-null  float64\n",
      "dtypes: float64(86), object(1)\n",
      "memory usage: 9.4+ MB\n"
     ]
    }
   ],
   "source": [
    "df_gold_recovery_full = pd.read_csv('/datasets/gold_recovery_full_new.csv')\n",
    "df_gold_recovery_train = pd.read_csv('/datasets/gold_recovery_train_new.csv')\n",
    "df_gold_recovery_test = pd.read_csv('/datasets/gold_recovery_test_new.csv')\n",
    "\n",
    "display(df_gold_recovery_train)\n",
    "df_gold_recovery_train.info()"
   ]
  },
  {
   "cell_type": "code",
   "execution_count": 3,
   "metadata": {},
   "outputs": [
    {
     "data": {
      "text/html": [
       "<div>\n",
       "<style scoped>\n",
       "    .dataframe tbody tr th:only-of-type {\n",
       "        vertical-align: middle;\n",
       "    }\n",
       "\n",
       "    .dataframe tbody tr th {\n",
       "        vertical-align: top;\n",
       "    }\n",
       "\n",
       "    .dataframe thead th {\n",
       "        text-align: right;\n",
       "    }\n",
       "</style>\n",
       "<table border=\"1\" class=\"dataframe\">\n",
       "  <thead>\n",
       "    <tr style=\"text-align: right;\">\n",
       "      <th></th>\n",
       "      <th>date</th>\n",
       "      <th>primary_cleaner.input.sulfate</th>\n",
       "      <th>primary_cleaner.input.depressant</th>\n",
       "      <th>primary_cleaner.input.feed_size</th>\n",
       "      <th>primary_cleaner.input.xanthate</th>\n",
       "      <th>primary_cleaner.state.floatbank8_a_air</th>\n",
       "      <th>primary_cleaner.state.floatbank8_a_level</th>\n",
       "      <th>primary_cleaner.state.floatbank8_b_air</th>\n",
       "      <th>primary_cleaner.state.floatbank8_b_level</th>\n",
       "      <th>primary_cleaner.state.floatbank8_c_air</th>\n",
       "      <th>...</th>\n",
       "      <th>secondary_cleaner.state.floatbank4_a_air</th>\n",
       "      <th>secondary_cleaner.state.floatbank4_a_level</th>\n",
       "      <th>secondary_cleaner.state.floatbank4_b_air</th>\n",
       "      <th>secondary_cleaner.state.floatbank4_b_level</th>\n",
       "      <th>secondary_cleaner.state.floatbank5_a_air</th>\n",
       "      <th>secondary_cleaner.state.floatbank5_a_level</th>\n",
       "      <th>secondary_cleaner.state.floatbank5_b_air</th>\n",
       "      <th>secondary_cleaner.state.floatbank5_b_level</th>\n",
       "      <th>secondary_cleaner.state.floatbank6_a_air</th>\n",
       "      <th>secondary_cleaner.state.floatbank6_a_level</th>\n",
       "    </tr>\n",
       "  </thead>\n",
       "  <tbody>\n",
       "    <tr>\n",
       "      <th>0</th>\n",
       "      <td>2016-09-01 00:59:59</td>\n",
       "      <td>210.800909</td>\n",
       "      <td>14.993118</td>\n",
       "      <td>8.080000</td>\n",
       "      <td>1.005021</td>\n",
       "      <td>1398.981301</td>\n",
       "      <td>-500.225577</td>\n",
       "      <td>1399.144926</td>\n",
       "      <td>-499.919735</td>\n",
       "      <td>1400.102998</td>\n",
       "      <td>...</td>\n",
       "      <td>12.023554</td>\n",
       "      <td>-497.795834</td>\n",
       "      <td>8.016656</td>\n",
       "      <td>-501.289139</td>\n",
       "      <td>7.946562</td>\n",
       "      <td>-432.317850</td>\n",
       "      <td>4.872511</td>\n",
       "      <td>-500.037437</td>\n",
       "      <td>26.705889</td>\n",
       "      <td>-499.709414</td>\n",
       "    </tr>\n",
       "    <tr>\n",
       "      <th>1</th>\n",
       "      <td>2016-09-01 01:59:59</td>\n",
       "      <td>215.392455</td>\n",
       "      <td>14.987471</td>\n",
       "      <td>8.080000</td>\n",
       "      <td>0.990469</td>\n",
       "      <td>1398.777912</td>\n",
       "      <td>-500.057435</td>\n",
       "      <td>1398.055362</td>\n",
       "      <td>-499.778182</td>\n",
       "      <td>1396.151033</td>\n",
       "      <td>...</td>\n",
       "      <td>12.058140</td>\n",
       "      <td>-498.695773</td>\n",
       "      <td>8.130979</td>\n",
       "      <td>-499.634209</td>\n",
       "      <td>7.958270</td>\n",
       "      <td>-525.839648</td>\n",
       "      <td>4.878850</td>\n",
       "      <td>-500.162375</td>\n",
       "      <td>25.019940</td>\n",
       "      <td>-499.819438</td>\n",
       "    </tr>\n",
       "    <tr>\n",
       "      <th>2</th>\n",
       "      <td>2016-09-01 02:59:59</td>\n",
       "      <td>215.259946</td>\n",
       "      <td>12.884934</td>\n",
       "      <td>7.786667</td>\n",
       "      <td>0.996043</td>\n",
       "      <td>1398.493666</td>\n",
       "      <td>-500.868360</td>\n",
       "      <td>1398.860436</td>\n",
       "      <td>-499.764529</td>\n",
       "      <td>1398.075709</td>\n",
       "      <td>...</td>\n",
       "      <td>11.962366</td>\n",
       "      <td>-498.767484</td>\n",
       "      <td>8.096893</td>\n",
       "      <td>-500.827423</td>\n",
       "      <td>8.071056</td>\n",
       "      <td>-500.801673</td>\n",
       "      <td>4.905125</td>\n",
       "      <td>-499.828510</td>\n",
       "      <td>24.994862</td>\n",
       "      <td>-500.622559</td>\n",
       "    </tr>\n",
       "    <tr>\n",
       "      <th>3</th>\n",
       "      <td>2016-09-01 03:59:59</td>\n",
       "      <td>215.336236</td>\n",
       "      <td>12.006805</td>\n",
       "      <td>7.640000</td>\n",
       "      <td>0.863514</td>\n",
       "      <td>1399.618111</td>\n",
       "      <td>-498.863574</td>\n",
       "      <td>1397.440120</td>\n",
       "      <td>-499.211024</td>\n",
       "      <td>1400.129303</td>\n",
       "      <td>...</td>\n",
       "      <td>12.033091</td>\n",
       "      <td>-498.350935</td>\n",
       "      <td>8.074946</td>\n",
       "      <td>-499.474407</td>\n",
       "      <td>7.897085</td>\n",
       "      <td>-500.868509</td>\n",
       "      <td>4.931400</td>\n",
       "      <td>-499.963623</td>\n",
       "      <td>24.948919</td>\n",
       "      <td>-498.709987</td>\n",
       "    </tr>\n",
       "    <tr>\n",
       "      <th>4</th>\n",
       "      <td>2016-09-01 04:59:59</td>\n",
       "      <td>199.099327</td>\n",
       "      <td>10.682530</td>\n",
       "      <td>7.530000</td>\n",
       "      <td>0.805575</td>\n",
       "      <td>1401.268123</td>\n",
       "      <td>-500.808305</td>\n",
       "      <td>1398.128818</td>\n",
       "      <td>-499.504543</td>\n",
       "      <td>1402.172226</td>\n",
       "      <td>...</td>\n",
       "      <td>12.025367</td>\n",
       "      <td>-500.786497</td>\n",
       "      <td>8.054678</td>\n",
       "      <td>-500.397500</td>\n",
       "      <td>8.107890</td>\n",
       "      <td>-509.526725</td>\n",
       "      <td>4.957674</td>\n",
       "      <td>-500.360026</td>\n",
       "      <td>25.003331</td>\n",
       "      <td>-500.856333</td>\n",
       "    </tr>\n",
       "    <tr>\n",
       "      <th>...</th>\n",
       "      <td>...</td>\n",
       "      <td>...</td>\n",
       "      <td>...</td>\n",
       "      <td>...</td>\n",
       "      <td>...</td>\n",
       "      <td>...</td>\n",
       "      <td>...</td>\n",
       "      <td>...</td>\n",
       "      <td>...</td>\n",
       "      <td>...</td>\n",
       "      <td>...</td>\n",
       "      <td>...</td>\n",
       "      <td>...</td>\n",
       "      <td>...</td>\n",
       "      <td>...</td>\n",
       "      <td>...</td>\n",
       "      <td>...</td>\n",
       "      <td>...</td>\n",
       "      <td>...</td>\n",
       "      <td>...</td>\n",
       "      <td>...</td>\n",
       "    </tr>\n",
       "    <tr>\n",
       "      <th>5285</th>\n",
       "      <td>2017-12-31 19:59:59</td>\n",
       "      <td>173.957757</td>\n",
       "      <td>15.963399</td>\n",
       "      <td>8.070000</td>\n",
       "      <td>0.896701</td>\n",
       "      <td>1401.930554</td>\n",
       "      <td>-499.728848</td>\n",
       "      <td>1401.441445</td>\n",
       "      <td>-499.193423</td>\n",
       "      <td>1399.810313</td>\n",
       "      <td>...</td>\n",
       "      <td>13.995957</td>\n",
       "      <td>-500.157454</td>\n",
       "      <td>12.069155</td>\n",
       "      <td>-499.673279</td>\n",
       "      <td>7.977259</td>\n",
       "      <td>-499.516126</td>\n",
       "      <td>5.933319</td>\n",
       "      <td>-499.965973</td>\n",
       "      <td>8.987171</td>\n",
       "      <td>-499.755909</td>\n",
       "    </tr>\n",
       "    <tr>\n",
       "      <th>5286</th>\n",
       "      <td>2017-12-31 20:59:59</td>\n",
       "      <td>172.910270</td>\n",
       "      <td>16.002605</td>\n",
       "      <td>8.070000</td>\n",
       "      <td>0.896519</td>\n",
       "      <td>1447.075722</td>\n",
       "      <td>-494.716823</td>\n",
       "      <td>1448.851892</td>\n",
       "      <td>-465.963026</td>\n",
       "      <td>1443.890424</td>\n",
       "      <td>...</td>\n",
       "      <td>16.749781</td>\n",
       "      <td>-496.031539</td>\n",
       "      <td>13.365371</td>\n",
       "      <td>-499.122723</td>\n",
       "      <td>9.288553</td>\n",
       "      <td>-496.892967</td>\n",
       "      <td>7.372897</td>\n",
       "      <td>-499.942956</td>\n",
       "      <td>8.986832</td>\n",
       "      <td>-499.903761</td>\n",
       "    </tr>\n",
       "    <tr>\n",
       "      <th>5287</th>\n",
       "      <td>2017-12-31 21:59:59</td>\n",
       "      <td>171.135718</td>\n",
       "      <td>15.993669</td>\n",
       "      <td>8.070000</td>\n",
       "      <td>1.165996</td>\n",
       "      <td>1498.836182</td>\n",
       "      <td>-501.770403</td>\n",
       "      <td>1499.572353</td>\n",
       "      <td>-495.516347</td>\n",
       "      <td>1502.749213</td>\n",
       "      <td>...</td>\n",
       "      <td>19.994130</td>\n",
       "      <td>-499.791312</td>\n",
       "      <td>15.101425</td>\n",
       "      <td>-499.936252</td>\n",
       "      <td>10.989181</td>\n",
       "      <td>-498.347898</td>\n",
       "      <td>9.020944</td>\n",
       "      <td>-500.040448</td>\n",
       "      <td>8.982038</td>\n",
       "      <td>-497.789882</td>\n",
       "    </tr>\n",
       "    <tr>\n",
       "      <th>5288</th>\n",
       "      <td>2017-12-31 22:59:59</td>\n",
       "      <td>179.697158</td>\n",
       "      <td>15.438979</td>\n",
       "      <td>8.070000</td>\n",
       "      <td>1.501068</td>\n",
       "      <td>1498.466243</td>\n",
       "      <td>-500.483984</td>\n",
       "      <td>1497.986986</td>\n",
       "      <td>-519.200340</td>\n",
       "      <td>1496.569047</td>\n",
       "      <td>...</td>\n",
       "      <td>19.958760</td>\n",
       "      <td>-499.958750</td>\n",
       "      <td>15.026853</td>\n",
       "      <td>-499.723143</td>\n",
       "      <td>11.011607</td>\n",
       "      <td>-499.985046</td>\n",
       "      <td>9.009783</td>\n",
       "      <td>-499.937902</td>\n",
       "      <td>9.012660</td>\n",
       "      <td>-500.154284</td>\n",
       "    </tr>\n",
       "    <tr>\n",
       "      <th>5289</th>\n",
       "      <td>2017-12-31 23:59:59</td>\n",
       "      <td>181.556856</td>\n",
       "      <td>14.995850</td>\n",
       "      <td>8.070000</td>\n",
       "      <td>1.623454</td>\n",
       "      <td>1498.096303</td>\n",
       "      <td>-499.796922</td>\n",
       "      <td>1501.743791</td>\n",
       "      <td>-505.146931</td>\n",
       "      <td>1499.535978</td>\n",
       "      <td>...</td>\n",
       "      <td>20.034715</td>\n",
       "      <td>-500.728588</td>\n",
       "      <td>14.914199</td>\n",
       "      <td>-499.948518</td>\n",
       "      <td>10.986607</td>\n",
       "      <td>-500.658027</td>\n",
       "      <td>8.989497</td>\n",
       "      <td>-500.337588</td>\n",
       "      <td>8.988632</td>\n",
       "      <td>-500.764937</td>\n",
       "    </tr>\n",
       "  </tbody>\n",
       "</table>\n",
       "<p>5290 rows × 53 columns</p>\n",
       "</div>"
      ],
      "text/plain": [
       "                     date  primary_cleaner.input.sulfate  \\\n",
       "0     2016-09-01 00:59:59                     210.800909   \n",
       "1     2016-09-01 01:59:59                     215.392455   \n",
       "2     2016-09-01 02:59:59                     215.259946   \n",
       "3     2016-09-01 03:59:59                     215.336236   \n",
       "4     2016-09-01 04:59:59                     199.099327   \n",
       "...                   ...                            ...   \n",
       "5285  2017-12-31 19:59:59                     173.957757   \n",
       "5286  2017-12-31 20:59:59                     172.910270   \n",
       "5287  2017-12-31 21:59:59                     171.135718   \n",
       "5288  2017-12-31 22:59:59                     179.697158   \n",
       "5289  2017-12-31 23:59:59                     181.556856   \n",
       "\n",
       "      primary_cleaner.input.depressant  primary_cleaner.input.feed_size  \\\n",
       "0                            14.993118                         8.080000   \n",
       "1                            14.987471                         8.080000   \n",
       "2                            12.884934                         7.786667   \n",
       "3                            12.006805                         7.640000   \n",
       "4                            10.682530                         7.530000   \n",
       "...                                ...                              ...   \n",
       "5285                         15.963399                         8.070000   \n",
       "5286                         16.002605                         8.070000   \n",
       "5287                         15.993669                         8.070000   \n",
       "5288                         15.438979                         8.070000   \n",
       "5289                         14.995850                         8.070000   \n",
       "\n",
       "      primary_cleaner.input.xanthate  primary_cleaner.state.floatbank8_a_air  \\\n",
       "0                           1.005021                             1398.981301   \n",
       "1                           0.990469                             1398.777912   \n",
       "2                           0.996043                             1398.493666   \n",
       "3                           0.863514                             1399.618111   \n",
       "4                           0.805575                             1401.268123   \n",
       "...                              ...                                     ...   \n",
       "5285                        0.896701                             1401.930554   \n",
       "5286                        0.896519                             1447.075722   \n",
       "5287                        1.165996                             1498.836182   \n",
       "5288                        1.501068                             1498.466243   \n",
       "5289                        1.623454                             1498.096303   \n",
       "\n",
       "      primary_cleaner.state.floatbank8_a_level  \\\n",
       "0                                  -500.225577   \n",
       "1                                  -500.057435   \n",
       "2                                  -500.868360   \n",
       "3                                  -498.863574   \n",
       "4                                  -500.808305   \n",
       "...                                        ...   \n",
       "5285                               -499.728848   \n",
       "5286                               -494.716823   \n",
       "5287                               -501.770403   \n",
       "5288                               -500.483984   \n",
       "5289                               -499.796922   \n",
       "\n",
       "      primary_cleaner.state.floatbank8_b_air  \\\n",
       "0                                1399.144926   \n",
       "1                                1398.055362   \n",
       "2                                1398.860436   \n",
       "3                                1397.440120   \n",
       "4                                1398.128818   \n",
       "...                                      ...   \n",
       "5285                             1401.441445   \n",
       "5286                             1448.851892   \n",
       "5287                             1499.572353   \n",
       "5288                             1497.986986   \n",
       "5289                             1501.743791   \n",
       "\n",
       "      primary_cleaner.state.floatbank8_b_level  \\\n",
       "0                                  -499.919735   \n",
       "1                                  -499.778182   \n",
       "2                                  -499.764529   \n",
       "3                                  -499.211024   \n",
       "4                                  -499.504543   \n",
       "...                                        ...   \n",
       "5285                               -499.193423   \n",
       "5286                               -465.963026   \n",
       "5287                               -495.516347   \n",
       "5288                               -519.200340   \n",
       "5289                               -505.146931   \n",
       "\n",
       "      primary_cleaner.state.floatbank8_c_air  ...  \\\n",
       "0                                1400.102998  ...   \n",
       "1                                1396.151033  ...   \n",
       "2                                1398.075709  ...   \n",
       "3                                1400.129303  ...   \n",
       "4                                1402.172226  ...   \n",
       "...                                      ...  ...   \n",
       "5285                             1399.810313  ...   \n",
       "5286                             1443.890424  ...   \n",
       "5287                             1502.749213  ...   \n",
       "5288                             1496.569047  ...   \n",
       "5289                             1499.535978  ...   \n",
       "\n",
       "      secondary_cleaner.state.floatbank4_a_air  \\\n",
       "0                                    12.023554   \n",
       "1                                    12.058140   \n",
       "2                                    11.962366   \n",
       "3                                    12.033091   \n",
       "4                                    12.025367   \n",
       "...                                        ...   \n",
       "5285                                 13.995957   \n",
       "5286                                 16.749781   \n",
       "5287                                 19.994130   \n",
       "5288                                 19.958760   \n",
       "5289                                 20.034715   \n",
       "\n",
       "      secondary_cleaner.state.floatbank4_a_level  \\\n",
       "0                                    -497.795834   \n",
       "1                                    -498.695773   \n",
       "2                                    -498.767484   \n",
       "3                                    -498.350935   \n",
       "4                                    -500.786497   \n",
       "...                                          ...   \n",
       "5285                                 -500.157454   \n",
       "5286                                 -496.031539   \n",
       "5287                                 -499.791312   \n",
       "5288                                 -499.958750   \n",
       "5289                                 -500.728588   \n",
       "\n",
       "      secondary_cleaner.state.floatbank4_b_air  \\\n",
       "0                                     8.016656   \n",
       "1                                     8.130979   \n",
       "2                                     8.096893   \n",
       "3                                     8.074946   \n",
       "4                                     8.054678   \n",
       "...                                        ...   \n",
       "5285                                 12.069155   \n",
       "5286                                 13.365371   \n",
       "5287                                 15.101425   \n",
       "5288                                 15.026853   \n",
       "5289                                 14.914199   \n",
       "\n",
       "      secondary_cleaner.state.floatbank4_b_level  \\\n",
       "0                                    -501.289139   \n",
       "1                                    -499.634209   \n",
       "2                                    -500.827423   \n",
       "3                                    -499.474407   \n",
       "4                                    -500.397500   \n",
       "...                                          ...   \n",
       "5285                                 -499.673279   \n",
       "5286                                 -499.122723   \n",
       "5287                                 -499.936252   \n",
       "5288                                 -499.723143   \n",
       "5289                                 -499.948518   \n",
       "\n",
       "      secondary_cleaner.state.floatbank5_a_air  \\\n",
       "0                                     7.946562   \n",
       "1                                     7.958270   \n",
       "2                                     8.071056   \n",
       "3                                     7.897085   \n",
       "4                                     8.107890   \n",
       "...                                        ...   \n",
       "5285                                  7.977259   \n",
       "5286                                  9.288553   \n",
       "5287                                 10.989181   \n",
       "5288                                 11.011607   \n",
       "5289                                 10.986607   \n",
       "\n",
       "      secondary_cleaner.state.floatbank5_a_level  \\\n",
       "0                                    -432.317850   \n",
       "1                                    -525.839648   \n",
       "2                                    -500.801673   \n",
       "3                                    -500.868509   \n",
       "4                                    -509.526725   \n",
       "...                                          ...   \n",
       "5285                                 -499.516126   \n",
       "5286                                 -496.892967   \n",
       "5287                                 -498.347898   \n",
       "5288                                 -499.985046   \n",
       "5289                                 -500.658027   \n",
       "\n",
       "      secondary_cleaner.state.floatbank5_b_air  \\\n",
       "0                                     4.872511   \n",
       "1                                     4.878850   \n",
       "2                                     4.905125   \n",
       "3                                     4.931400   \n",
       "4                                     4.957674   \n",
       "...                                        ...   \n",
       "5285                                  5.933319   \n",
       "5286                                  7.372897   \n",
       "5287                                  9.020944   \n",
       "5288                                  9.009783   \n",
       "5289                                  8.989497   \n",
       "\n",
       "      secondary_cleaner.state.floatbank5_b_level  \\\n",
       "0                                    -500.037437   \n",
       "1                                    -500.162375   \n",
       "2                                    -499.828510   \n",
       "3                                    -499.963623   \n",
       "4                                    -500.360026   \n",
       "...                                          ...   \n",
       "5285                                 -499.965973   \n",
       "5286                                 -499.942956   \n",
       "5287                                 -500.040448   \n",
       "5288                                 -499.937902   \n",
       "5289                                 -500.337588   \n",
       "\n",
       "      secondary_cleaner.state.floatbank6_a_air  \\\n",
       "0                                    26.705889   \n",
       "1                                    25.019940   \n",
       "2                                    24.994862   \n",
       "3                                    24.948919   \n",
       "4                                    25.003331   \n",
       "...                                        ...   \n",
       "5285                                  8.987171   \n",
       "5286                                  8.986832   \n",
       "5287                                  8.982038   \n",
       "5288                                  9.012660   \n",
       "5289                                  8.988632   \n",
       "\n",
       "      secondary_cleaner.state.floatbank6_a_level  \n",
       "0                                    -499.709414  \n",
       "1                                    -499.819438  \n",
       "2                                    -500.622559  \n",
       "3                                    -498.709987  \n",
       "4                                    -500.856333  \n",
       "...                                          ...  \n",
       "5285                                 -499.755909  \n",
       "5286                                 -499.903761  \n",
       "5287                                 -497.789882  \n",
       "5288                                 -500.154284  \n",
       "5289                                 -500.764937  \n",
       "\n",
       "[5290 rows x 53 columns]"
      ]
     },
     "metadata": {},
     "output_type": "display_data"
    },
    {
     "name": "stdout",
     "output_type": "stream",
     "text": [
      "<class 'pandas.core.frame.DataFrame'>\n",
      "RangeIndex: 5290 entries, 0 to 5289\n",
      "Data columns (total 53 columns):\n",
      " #   Column                                      Non-Null Count  Dtype  \n",
      "---  ------                                      --------------  -----  \n",
      " 0   date                                        5290 non-null   object \n",
      " 1   primary_cleaner.input.sulfate               5286 non-null   float64\n",
      " 2   primary_cleaner.input.depressant            5285 non-null   float64\n",
      " 3   primary_cleaner.input.feed_size             5290 non-null   float64\n",
      " 4   primary_cleaner.input.xanthate              5286 non-null   float64\n",
      " 5   primary_cleaner.state.floatbank8_a_air      5290 non-null   float64\n",
      " 6   primary_cleaner.state.floatbank8_a_level    5290 non-null   float64\n",
      " 7   primary_cleaner.state.floatbank8_b_air      5290 non-null   float64\n",
      " 8   primary_cleaner.state.floatbank8_b_level    5290 non-null   float64\n",
      " 9   primary_cleaner.state.floatbank8_c_air      5290 non-null   float64\n",
      " 10  primary_cleaner.state.floatbank8_c_level    5290 non-null   float64\n",
      " 11  primary_cleaner.state.floatbank8_d_air      5290 non-null   float64\n",
      " 12  primary_cleaner.state.floatbank8_d_level    5290 non-null   float64\n",
      " 13  rougher.input.feed_ag                       5290 non-null   float64\n",
      " 14  rougher.input.feed_pb                       5290 non-null   float64\n",
      " 15  rougher.input.feed_rate                     5287 non-null   float64\n",
      " 16  rougher.input.feed_size                     5289 non-null   float64\n",
      " 17  rougher.input.feed_sol                      5269 non-null   float64\n",
      " 18  rougher.input.feed_au                       5290 non-null   float64\n",
      " 19  rougher.input.floatbank10_sulfate           5285 non-null   float64\n",
      " 20  rougher.input.floatbank10_xanthate          5290 non-null   float64\n",
      " 21  rougher.input.floatbank11_sulfate           5282 non-null   float64\n",
      " 22  rougher.input.floatbank11_xanthate          5265 non-null   float64\n",
      " 23  rougher.state.floatbank10_a_air             5290 non-null   float64\n",
      " 24  rougher.state.floatbank10_a_level           5290 non-null   float64\n",
      " 25  rougher.state.floatbank10_b_air             5290 non-null   float64\n",
      " 26  rougher.state.floatbank10_b_level           5290 non-null   float64\n",
      " 27  rougher.state.floatbank10_c_air             5290 non-null   float64\n",
      " 28  rougher.state.floatbank10_c_level           5290 non-null   float64\n",
      " 29  rougher.state.floatbank10_d_air             5290 non-null   float64\n",
      " 30  rougher.state.floatbank10_d_level           5290 non-null   float64\n",
      " 31  rougher.state.floatbank10_e_air             5290 non-null   float64\n",
      " 32  rougher.state.floatbank10_e_level           5290 non-null   float64\n",
      " 33  rougher.state.floatbank10_f_air             5290 non-null   float64\n",
      " 34  rougher.state.floatbank10_f_level           5290 non-null   float64\n",
      " 35  secondary_cleaner.state.floatbank2_a_air    5287 non-null   float64\n",
      " 36  secondary_cleaner.state.floatbank2_a_level  5290 non-null   float64\n",
      " 37  secondary_cleaner.state.floatbank2_b_air    5288 non-null   float64\n",
      " 38  secondary_cleaner.state.floatbank2_b_level  5290 non-null   float64\n",
      " 39  secondary_cleaner.state.floatbank3_a_air    5281 non-null   float64\n",
      " 40  secondary_cleaner.state.floatbank3_a_level  5290 non-null   float64\n",
      " 41  secondary_cleaner.state.floatbank3_b_air    5290 non-null   float64\n",
      " 42  secondary_cleaner.state.floatbank3_b_level  5290 non-null   float64\n",
      " 43  secondary_cleaner.state.floatbank4_a_air    5290 non-null   float64\n",
      " 44  secondary_cleaner.state.floatbank4_a_level  5290 non-null   float64\n",
      " 45  secondary_cleaner.state.floatbank4_b_air    5290 non-null   float64\n",
      " 46  secondary_cleaner.state.floatbank4_b_level  5290 non-null   float64\n",
      " 47  secondary_cleaner.state.floatbank5_a_air    5290 non-null   float64\n",
      " 48  secondary_cleaner.state.floatbank5_a_level  5290 non-null   float64\n",
      " 49  secondary_cleaner.state.floatbank5_b_air    5290 non-null   float64\n",
      " 50  secondary_cleaner.state.floatbank5_b_level  5290 non-null   float64\n",
      " 51  secondary_cleaner.state.floatbank6_a_air    5290 non-null   float64\n",
      " 52  secondary_cleaner.state.floatbank6_a_level  5290 non-null   float64\n",
      "dtypes: float64(52), object(1)\n",
      "memory usage: 2.1+ MB\n"
     ]
    }
   ],
   "source": [
    "display(df_gold_recovery_test)\n",
    "df_gold_recovery_test.info()"
   ]
  },
  {
   "cell_type": "markdown",
   "metadata": {},
   "source": [
    "**Вывод:**\n",
    "данные хорошо подходят для моделей регрессии, всего один нечисловой признак, заполним пропущенные значения и вперёд к созданию моделей.\n"
   ]
  },
  {
   "cell_type": "markdown",
   "metadata": {},
   "source": [
    "### Проверим, что эффективность обогащения рассчитана правильно"
   ]
  },
  {
   "cell_type": "code",
   "execution_count": 4,
   "metadata": {},
   "outputs": [
    {
     "data": {
      "text/html": [
       "<div>\n",
       "<style scoped>\n",
       "    .dataframe tbody tr th:only-of-type {\n",
       "        vertical-align: middle;\n",
       "    }\n",
       "\n",
       "    .dataframe tbody tr th {\n",
       "        vertical-align: top;\n",
       "    }\n",
       "\n",
       "    .dataframe thead th {\n",
       "        text-align: right;\n",
       "    }\n",
       "</style>\n",
       "<table border=\"1\" class=\"dataframe\">\n",
       "  <thead>\n",
       "    <tr style=\"text-align: right;\">\n",
       "      <th></th>\n",
       "      <th>rougher.input.feed_au</th>\n",
       "      <th>rougher.output.concentrate_au</th>\n",
       "      <th>rougher.output.tail_au</th>\n",
       "      <th>rougher.output.recovery</th>\n",
       "    </tr>\n",
       "  </thead>\n",
       "  <tbody>\n",
       "    <tr>\n",
       "      <th>0</th>\n",
       "      <td>6.486150</td>\n",
       "      <td>19.793808</td>\n",
       "      <td>1.170244</td>\n",
       "      <td>87.107763</td>\n",
       "    </tr>\n",
       "    <tr>\n",
       "      <th>1</th>\n",
       "      <td>6.478583</td>\n",
       "      <td>20.050975</td>\n",
       "      <td>1.184827</td>\n",
       "      <td>86.843261</td>\n",
       "    </tr>\n",
       "    <tr>\n",
       "      <th>2</th>\n",
       "      <td>6.362222</td>\n",
       "      <td>19.737170</td>\n",
       "      <td>1.162562</td>\n",
       "      <td>86.842308</td>\n",
       "    </tr>\n",
       "    <tr>\n",
       "      <th>3</th>\n",
       "      <td>6.118189</td>\n",
       "      <td>19.320810</td>\n",
       "      <td>1.079755</td>\n",
       "      <td>87.226430</td>\n",
       "    </tr>\n",
       "    <tr>\n",
       "      <th>4</th>\n",
       "      <td>5.663707</td>\n",
       "      <td>19.216101</td>\n",
       "      <td>1.012642</td>\n",
       "      <td>86.688794</td>\n",
       "    </tr>\n",
       "    <tr>\n",
       "      <th>...</th>\n",
       "      <td>...</td>\n",
       "      <td>...</td>\n",
       "      <td>...</td>\n",
       "      <td>...</td>\n",
       "    </tr>\n",
       "    <tr>\n",
       "      <th>14144</th>\n",
       "      <td>5.335862</td>\n",
       "      <td>18.603550</td>\n",
       "      <td>0.748633</td>\n",
       "      <td>89.574376</td>\n",
       "    </tr>\n",
       "    <tr>\n",
       "      <th>14145</th>\n",
       "      <td>4.838619</td>\n",
       "      <td>18.441436</td>\n",
       "      <td>0.771582</td>\n",
       "      <td>87.724007</td>\n",
       "    </tr>\n",
       "    <tr>\n",
       "      <th>14146</th>\n",
       "      <td>4.525061</td>\n",
       "      <td>15.111231</td>\n",
       "      <td>0.685059</td>\n",
       "      <td>88.890579</td>\n",
       "    </tr>\n",
       "    <tr>\n",
       "      <th>14147</th>\n",
       "      <td>4.362781</td>\n",
       "      <td>17.834772</td>\n",
       "      <td>0.567130</td>\n",
       "      <td>89.858126</td>\n",
       "    </tr>\n",
       "    <tr>\n",
       "      <th>14148</th>\n",
       "      <td>4.365491</td>\n",
       "      <td>17.804134</td>\n",
       "      <td>0.586439</td>\n",
       "      <td>89.514960</td>\n",
       "    </tr>\n",
       "  </tbody>\n",
       "</table>\n",
       "<p>14149 rows × 4 columns</p>\n",
       "</div>"
      ],
      "text/plain": [
       "       rougher.input.feed_au  rougher.output.concentrate_au  \\\n",
       "0                   6.486150                      19.793808   \n",
       "1                   6.478583                      20.050975   \n",
       "2                   6.362222                      19.737170   \n",
       "3                   6.118189                      19.320810   \n",
       "4                   5.663707                      19.216101   \n",
       "...                      ...                            ...   \n",
       "14144               5.335862                      18.603550   \n",
       "14145               4.838619                      18.441436   \n",
       "14146               4.525061                      15.111231   \n",
       "14147               4.362781                      17.834772   \n",
       "14148               4.365491                      17.804134   \n",
       "\n",
       "       rougher.output.tail_au  rougher.output.recovery  \n",
       "0                    1.170244                87.107763  \n",
       "1                    1.184827                86.843261  \n",
       "2                    1.162562                86.842308  \n",
       "3                    1.079755                87.226430  \n",
       "4                    1.012642                86.688794  \n",
       "...                       ...                      ...  \n",
       "14144                0.748633                89.574376  \n",
       "14145                0.771582                87.724007  \n",
       "14146                0.685059                88.890579  \n",
       "14147                0.567130                89.858126  \n",
       "14148                0.586439                89.514960  \n",
       "\n",
       "[14149 rows x 4 columns]"
      ]
     },
     "execution_count": 4,
     "metadata": {},
     "output_type": "execute_result"
    }
   ],
   "source": [
    "df_rougher_output_recovery = df_gold_recovery_train[['rougher.input.feed_au','rougher.output.concentrate_au',\n",
    "                                                    'rougher.output.tail_au','rougher.output.recovery']]\n",
    "df_rougher_output_recovery"
   ]
  },
  {
   "cell_type": "code",
   "execution_count": 5,
   "metadata": {},
   "outputs": [
    {
     "name": "stderr",
     "output_type": "stream",
     "text": [
      "/tmp/ipykernel_54/4023646077.py:1: SettingWithCopyWarning: \n",
      "A value is trying to be set on a copy of a slice from a DataFrame.\n",
      "Try using .loc[row_indexer,col_indexer] = value instead\n",
      "\n",
      "See the caveats in the documentation: https://pandas.pydata.org/pandas-docs/stable/user_guide/indexing.html#returning-a-view-versus-a-copy\n",
      "  df_rougher_output_recovery['rougher.output.recovery_pr'] = (\n"
     ]
    },
    {
     "data": {
      "text/html": [
       "<div>\n",
       "<style scoped>\n",
       "    .dataframe tbody tr th:only-of-type {\n",
       "        vertical-align: middle;\n",
       "    }\n",
       "\n",
       "    .dataframe tbody tr th {\n",
       "        vertical-align: top;\n",
       "    }\n",
       "\n",
       "    .dataframe thead th {\n",
       "        text-align: right;\n",
       "    }\n",
       "</style>\n",
       "<table border=\"1\" class=\"dataframe\">\n",
       "  <thead>\n",
       "    <tr style=\"text-align: right;\">\n",
       "      <th></th>\n",
       "      <th>rougher.input.feed_au</th>\n",
       "      <th>rougher.output.concentrate_au</th>\n",
       "      <th>rougher.output.tail_au</th>\n",
       "      <th>rougher.output.recovery</th>\n",
       "      <th>rougher.output.recovery_pr</th>\n",
       "    </tr>\n",
       "  </thead>\n",
       "  <tbody>\n",
       "    <tr>\n",
       "      <th>0</th>\n",
       "      <td>6.486150</td>\n",
       "      <td>19.793808</td>\n",
       "      <td>1.170244</td>\n",
       "      <td>87.107763</td>\n",
       "      <td>87.107763</td>\n",
       "    </tr>\n",
       "    <tr>\n",
       "      <th>1</th>\n",
       "      <td>6.478583</td>\n",
       "      <td>20.050975</td>\n",
       "      <td>1.184827</td>\n",
       "      <td>86.843261</td>\n",
       "      <td>86.843261</td>\n",
       "    </tr>\n",
       "    <tr>\n",
       "      <th>2</th>\n",
       "      <td>6.362222</td>\n",
       "      <td>19.737170</td>\n",
       "      <td>1.162562</td>\n",
       "      <td>86.842308</td>\n",
       "      <td>86.842308</td>\n",
       "    </tr>\n",
       "    <tr>\n",
       "      <th>3</th>\n",
       "      <td>6.118189</td>\n",
       "      <td>19.320810</td>\n",
       "      <td>1.079755</td>\n",
       "      <td>87.226430</td>\n",
       "      <td>87.226430</td>\n",
       "    </tr>\n",
       "    <tr>\n",
       "      <th>4</th>\n",
       "      <td>5.663707</td>\n",
       "      <td>19.216101</td>\n",
       "      <td>1.012642</td>\n",
       "      <td>86.688794</td>\n",
       "      <td>86.688794</td>\n",
       "    </tr>\n",
       "    <tr>\n",
       "      <th>...</th>\n",
       "      <td>...</td>\n",
       "      <td>...</td>\n",
       "      <td>...</td>\n",
       "      <td>...</td>\n",
       "      <td>...</td>\n",
       "    </tr>\n",
       "    <tr>\n",
       "      <th>14144</th>\n",
       "      <td>5.335862</td>\n",
       "      <td>18.603550</td>\n",
       "      <td>0.748633</td>\n",
       "      <td>89.574376</td>\n",
       "      <td>89.574376</td>\n",
       "    </tr>\n",
       "    <tr>\n",
       "      <th>14145</th>\n",
       "      <td>4.838619</td>\n",
       "      <td>18.441436</td>\n",
       "      <td>0.771582</td>\n",
       "      <td>87.724007</td>\n",
       "      <td>87.724007</td>\n",
       "    </tr>\n",
       "    <tr>\n",
       "      <th>14146</th>\n",
       "      <td>4.525061</td>\n",
       "      <td>15.111231</td>\n",
       "      <td>0.685059</td>\n",
       "      <td>88.890579</td>\n",
       "      <td>88.890579</td>\n",
       "    </tr>\n",
       "    <tr>\n",
       "      <th>14147</th>\n",
       "      <td>4.362781</td>\n",
       "      <td>17.834772</td>\n",
       "      <td>0.567130</td>\n",
       "      <td>89.858126</td>\n",
       "      <td>89.858126</td>\n",
       "    </tr>\n",
       "    <tr>\n",
       "      <th>14148</th>\n",
       "      <td>4.365491</td>\n",
       "      <td>17.804134</td>\n",
       "      <td>0.586439</td>\n",
       "      <td>89.514960</td>\n",
       "      <td>89.514960</td>\n",
       "    </tr>\n",
       "  </tbody>\n",
       "</table>\n",
       "<p>14149 rows × 5 columns</p>\n",
       "</div>"
      ],
      "text/plain": [
       "       rougher.input.feed_au  rougher.output.concentrate_au  \\\n",
       "0                   6.486150                      19.793808   \n",
       "1                   6.478583                      20.050975   \n",
       "2                   6.362222                      19.737170   \n",
       "3                   6.118189                      19.320810   \n",
       "4                   5.663707                      19.216101   \n",
       "...                      ...                            ...   \n",
       "14144               5.335862                      18.603550   \n",
       "14145               4.838619                      18.441436   \n",
       "14146               4.525061                      15.111231   \n",
       "14147               4.362781                      17.834772   \n",
       "14148               4.365491                      17.804134   \n",
       "\n",
       "       rougher.output.tail_au  rougher.output.recovery  \\\n",
       "0                    1.170244                87.107763   \n",
       "1                    1.184827                86.843261   \n",
       "2                    1.162562                86.842308   \n",
       "3                    1.079755                87.226430   \n",
       "4                    1.012642                86.688794   \n",
       "...                       ...                      ...   \n",
       "14144                0.748633                89.574376   \n",
       "14145                0.771582                87.724007   \n",
       "14146                0.685059                88.890579   \n",
       "14147                0.567130                89.858126   \n",
       "14148                0.586439                89.514960   \n",
       "\n",
       "       rougher.output.recovery_pr  \n",
       "0                       87.107763  \n",
       "1                       86.843261  \n",
       "2                       86.842308  \n",
       "3                       87.226430  \n",
       "4                       86.688794  \n",
       "...                           ...  \n",
       "14144                   89.574376  \n",
       "14145                   87.724007  \n",
       "14146                   88.890579  \n",
       "14147                   89.858126  \n",
       "14148                   89.514960  \n",
       "\n",
       "[14149 rows x 5 columns]"
      ]
     },
     "execution_count": 5,
     "metadata": {},
     "output_type": "execute_result"
    }
   ],
   "source": [
    "df_rougher_output_recovery['rougher.output.recovery_pr'] = (\n",
    "df_rougher_output_recovery['rougher.output.concentrate_au'] * \n",
    "(df_rougher_output_recovery['rougher.input.feed_au'] - df_rougher_output_recovery['rougher.output.tail_au']) /\n",
    "(df_rougher_output_recovery['rougher.input.feed_au'] * \n",
    "(df_rougher_output_recovery['rougher.output.concentrate_au'] - df_rougher_output_recovery['rougher.output.tail_au']))    \n",
    "*100) \n",
    "df_rougher_output_recovery"
   ]
  },
  {
   "cell_type": "code",
   "execution_count": 6,
   "metadata": {},
   "outputs": [
    {
     "data": {
      "text/plain": [
       "9.73512347450521e-15"
      ]
     },
     "execution_count": 6,
     "metadata": {},
     "output_type": "execute_result"
    }
   ],
   "source": [
    "mae = mean_absolute_error(df_rougher_output_recovery['rougher.output.recovery'], \n",
    "                          df_rougher_output_recovery['rougher.output.recovery_pr'])\n",
    "mae"
   ]
  },
  {
   "cell_type": "markdown",
   "metadata": {},
   "source": [
    "**Вывод:**\n",
    "эффективность обогащения рассчитана правильно, разница между данными параметрами и рассчитанными очень близка к нулю.\n"
   ]
  },
  {
   "cell_type": "markdown",
   "metadata": {},
   "source": [
    "### Анализ признаков, недоступных в тестовой выборке."
   ]
  },
  {
   "cell_type": "code",
   "execution_count": 7,
   "metadata": {
    "scrolled": false
   },
   "outputs": [
    {
     "name": "stdout",
     "output_type": "stream",
     "text": [
      "Количество признаков недоступных в тестовой выборке: 34\n",
      "\n",
      "Перечень признаков недоступных в тестовой выборке:\n"
     ]
    },
    {
     "data": {
      "text/plain": [
       "['final.output.concentrate_ag',\n",
       " 'final.output.concentrate_pb',\n",
       " 'final.output.concentrate_sol',\n",
       " 'final.output.concentrate_au',\n",
       " 'final.output.recovery',\n",
       " 'final.output.tail_ag',\n",
       " 'final.output.tail_pb',\n",
       " 'final.output.tail_sol',\n",
       " 'final.output.tail_au',\n",
       " 'primary_cleaner.output.concentrate_ag',\n",
       " 'primary_cleaner.output.concentrate_pb',\n",
       " 'primary_cleaner.output.concentrate_sol',\n",
       " 'primary_cleaner.output.concentrate_au',\n",
       " 'primary_cleaner.output.tail_ag',\n",
       " 'primary_cleaner.output.tail_pb',\n",
       " 'primary_cleaner.output.tail_sol',\n",
       " 'primary_cleaner.output.tail_au',\n",
       " 'rougher.calculation.sulfate_to_au_concentrate',\n",
       " 'rougher.calculation.floatbank10_sulfate_to_au_feed',\n",
       " 'rougher.calculation.floatbank11_sulfate_to_au_feed',\n",
       " 'rougher.calculation.au_pb_ratio',\n",
       " 'rougher.output.concentrate_ag',\n",
       " 'rougher.output.concentrate_pb',\n",
       " 'rougher.output.concentrate_sol',\n",
       " 'rougher.output.concentrate_au',\n",
       " 'rougher.output.recovery',\n",
       " 'rougher.output.tail_ag',\n",
       " 'rougher.output.tail_pb',\n",
       " 'rougher.output.tail_sol',\n",
       " 'rougher.output.tail_au',\n",
       " 'secondary_cleaner.output.tail_ag',\n",
       " 'secondary_cleaner.output.tail_pb',\n",
       " 'secondary_cleaner.output.tail_sol',\n",
       " 'secondary_cleaner.output.tail_au']"
      ]
     },
     "execution_count": 7,
     "metadata": {},
     "output_type": "execute_result"
    }
   ],
   "source": [
    "dif = []\n",
    "for a in df_gold_recovery_train.columns:\n",
    "    if a not in df_gold_recovery_test.columns:\n",
    "        dif.append(a)\n",
    "print(\"Количество признаков недоступных в тестовой выборке:\",len(dif))\n",
    "print()\n",
    "print(\"Перечень признаков недоступных в тестовой выборке:\")\n",
    "dif"
   ]
  },
  {
   "cell_type": "markdown",
   "metadata": {},
   "source": [
    "**Вывод:**\n",
    "в тестовой выборке отсутствуют данные, которые являются результатами этапов процесса обогащения, т.е. те которые лучше не использовать для обучения моделей, дабы не вносить искажения в процесс обучения.\n"
   ]
  },
  {
   "cell_type": "markdown",
   "metadata": {},
   "source": [
    "### Предобработка данных."
   ]
  },
  {
   "cell_type": "markdown",
   "metadata": {},
   "source": [
    "Из условия задачи имеем: \"Данные индексируются датой и временем получения информации (признак date). Соседние по времени параметры часто похожи.\"\n",
    "\n",
    "На основе данной информации заполним пропуски значениями из ближайшей ячейки с данными, используя метод `ffill` функции fillna."
   ]
  },
  {
   "cell_type": "code",
   "execution_count": 8,
   "metadata": {},
   "outputs": [],
   "source": [
    "def filnan (df):\n",
    "    series_nan = df.isna().sum().sort_values(ascending = False)\n",
    "    for i in range(len(series_nan)):\n",
    "        if series_nan[i] > 0:\n",
    "            df[series_nan.index[i]] = df[series_nan.index[i]].fillna(method=\"ffill\")"
   ]
  },
  {
   "cell_type": "code",
   "execution_count": 9,
   "metadata": {},
   "outputs": [
    {
     "data": {
      "text/plain": [
       "secondary_cleaner.output.tail_sol           1748\n",
       "rougher.input.floatbank11_xanthate           453\n",
       "rougher.state.floatbank10_e_air              436\n",
       "primary_cleaner.output.concentrate_sol       370\n",
       "secondary_cleaner.state.floatbank2_a_air     220\n",
       "final.output.concentrate_sol                 211\n",
       "rougher.input.feed_size                      145\n",
       "primary_cleaner.output.concentrate_pb        116\n",
       "primary_cleaner.input.xanthate               104\n",
       "final.output.tail_pb                         101\n",
       "dtype: int64"
      ]
     },
     "execution_count": 9,
     "metadata": {},
     "output_type": "execute_result"
    }
   ],
   "source": [
    "df_gold_recovery_full.isna().sum().sort_values(ascending = False).head(10)"
   ]
  },
  {
   "cell_type": "code",
   "execution_count": 10,
   "metadata": {},
   "outputs": [],
   "source": [
    "filnan(df_gold_recovery_full)"
   ]
  },
  {
   "cell_type": "code",
   "execution_count": 11,
   "metadata": {},
   "outputs": [
    {
     "data": {
      "text/plain": [
       "date                                 0\n",
       "rougher.state.floatbank10_b_air      0\n",
       "rougher.state.floatbank10_f_air      0\n",
       "rougher.state.floatbank10_e_level    0\n",
       "rougher.state.floatbank10_e_air      0\n",
       "rougher.state.floatbank10_d_level    0\n",
       "rougher.state.floatbank10_d_air      0\n",
       "rougher.state.floatbank10_c_level    0\n",
       "rougher.state.floatbank10_c_air      0\n",
       "rougher.state.floatbank10_b_level    0\n",
       "dtype: int64"
      ]
     },
     "execution_count": 11,
     "metadata": {},
     "output_type": "execute_result"
    }
   ],
   "source": [
    "df_gold_recovery_full.isna().sum().sort_values(ascending = False).head(10)"
   ]
  },
  {
   "cell_type": "code",
   "execution_count": 12,
   "metadata": {},
   "outputs": [
    {
     "data": {
      "text/plain": [
       "secondary_cleaner.output.tail_sol           1605\n",
       "rougher.state.floatbank10_e_air              436\n",
       "rougher.input.floatbank11_xanthate           428\n",
       "primary_cleaner.output.concentrate_sol       286\n",
       "secondary_cleaner.state.floatbank2_a_air     217\n",
       "final.output.concentrate_sol                 211\n",
       "rougher.input.feed_size                      144\n",
       "primary_cleaner.input.xanthate               100\n",
       "rougher.input.feed_pb                        100\n",
       "final.output.tail_pb                         100\n",
       "dtype: int64"
      ]
     },
     "execution_count": 12,
     "metadata": {},
     "output_type": "execute_result"
    }
   ],
   "source": [
    "df_gold_recovery_train.isna().sum().sort_values(ascending = False).head(10)"
   ]
  },
  {
   "cell_type": "code",
   "execution_count": 13,
   "metadata": {},
   "outputs": [],
   "source": [
    "filnan(df_gold_recovery_train)"
   ]
  },
  {
   "cell_type": "code",
   "execution_count": 14,
   "metadata": {},
   "outputs": [
    {
     "data": {
      "text/plain": [
       "date                                          0\n",
       "rougher.state.floatbank10_b_air               0\n",
       "rougher.state.floatbank10_f_air               0\n",
       "rougher.state.floatbank10_e_level             0\n",
       "rougher.state.floatbank10_e_air               0\n",
       "                                             ..\n",
       "primary_cleaner.state.floatbank8_c_level      0\n",
       "primary_cleaner.state.floatbank8_c_air        0\n",
       "primary_cleaner.state.floatbank8_b_level      0\n",
       "primary_cleaner.state.floatbank8_b_air        0\n",
       "secondary_cleaner.state.floatbank6_a_level    0\n",
       "Length: 87, dtype: int64"
      ]
     },
     "execution_count": 14,
     "metadata": {},
     "output_type": "execute_result"
    }
   ],
   "source": [
    "df_gold_recovery_train.isna().sum().sort_values(ascending = False)"
   ]
  },
  {
   "cell_type": "code",
   "execution_count": 15,
   "metadata": {},
   "outputs": [
    {
     "data": {
      "text/plain": [
       "rougher.input.floatbank11_xanthate          25\n",
       "rougher.input.feed_sol                      21\n",
       "secondary_cleaner.state.floatbank3_a_air     9\n",
       "rougher.input.floatbank11_sulfate            8\n",
       "primary_cleaner.input.depressant             5\n",
       "rougher.input.floatbank10_sulfate            5\n",
       "primary_cleaner.input.xanthate               4\n",
       "primary_cleaner.input.sulfate                4\n",
       "rougher.input.feed_rate                      3\n",
       "secondary_cleaner.state.floatbank2_a_air     3\n",
       "dtype: int64"
      ]
     },
     "execution_count": 15,
     "metadata": {},
     "output_type": "execute_result"
    }
   ],
   "source": [
    "df_gold_recovery_test.isna().sum().sort_values(ascending = False).head(10)"
   ]
  },
  {
   "cell_type": "code",
   "execution_count": 16,
   "metadata": {},
   "outputs": [],
   "source": [
    "filnan(df_gold_recovery_test)"
   ]
  },
  {
   "cell_type": "code",
   "execution_count": 17,
   "metadata": {},
   "outputs": [
    {
     "data": {
      "text/plain": [
       "date                                          0\n",
       "rougher.state.floatbank10_c_air               0\n",
       "rougher.state.floatbank10_d_air               0\n",
       "rougher.state.floatbank10_d_level             0\n",
       "rougher.state.floatbank10_e_air               0\n",
       "rougher.state.floatbank10_e_level             0\n",
       "rougher.state.floatbank10_f_air               0\n",
       "rougher.state.floatbank10_f_level             0\n",
       "secondary_cleaner.state.floatbank2_a_air      0\n",
       "secondary_cleaner.state.floatbank2_a_level    0\n",
       "dtype: int64"
      ]
     },
     "execution_count": 17,
     "metadata": {},
     "output_type": "execute_result"
    }
   ],
   "source": [
    "df_gold_recovery_test.isna().sum().sort_values(ascending = False).head(10)"
   ]
  },
  {
   "cell_type": "code",
   "execution_count": 18,
   "metadata": {},
   "outputs": [
    {
     "data": {
      "text/plain": [
       "0"
      ]
     },
     "execution_count": 18,
     "metadata": {},
     "output_type": "execute_result"
    }
   ],
   "source": [
    "df_gold_recovery_full.duplicated().sum()"
   ]
  },
  {
   "cell_type": "code",
   "execution_count": 19,
   "metadata": {},
   "outputs": [
    {
     "data": {
      "text/plain": [
       "0"
      ]
     },
     "execution_count": 19,
     "metadata": {},
     "output_type": "execute_result"
    }
   ],
   "source": [
    "df_gold_recovery_train.duplicated().sum()"
   ]
  },
  {
   "cell_type": "code",
   "execution_count": 20,
   "metadata": {},
   "outputs": [
    {
     "data": {
      "text/plain": [
       "0"
      ]
     },
     "execution_count": 20,
     "metadata": {},
     "output_type": "execute_result"
    }
   ],
   "source": [
    "df_gold_recovery_test.duplicated().sum()"
   ]
  },
  {
   "cell_type": "markdown",
   "metadata": {},
   "source": [
    "**Вывод:**\n",
    "пропуски заполнили ориентируясь на данные условия задачи, явные дубликаты не выявлены."
   ]
  },
  {
   "cell_type": "markdown",
   "metadata": {},
   "source": [
    "## Анализ данных"
   ]
  },
  {
   "cell_type": "markdown",
   "metadata": {},
   "source": [
    "### Концентрация металлов (Au, Ag, Pb) на различных этапах очистки"
   ]
  },
  {
   "cell_type": "markdown",
   "metadata": {},
   "source": [
    "#### Концентрация Au на различных этапах очистки"
   ]
  },
  {
   "cell_type": "code",
   "execution_count": 21,
   "metadata": {},
   "outputs": [],
   "source": [
    "concentrate_au = []\n",
    "for i in df_gold_recovery_full.columns:\n",
    "    if 'concentrate_au' in i:\n",
    "        concentrate_au.append(i)\n",
    "    if  'feed_au' in i:\n",
    "        concentrate_au.append(i)         "
   ]
  },
  {
   "cell_type": "code",
   "execution_count": 22,
   "metadata": {
    "scrolled": false
   },
   "outputs": [],
   "source": [
    "au_concentrate = df_gold_recovery_full[concentrate_au]\n",
    "#au_concentrate"
   ]
  },
  {
   "cell_type": "code",
   "execution_count": 23,
   "metadata": {},
   "outputs": [
    {
     "data": {
      "text/plain": [
       "<AxesSubplot:ylabel='Frequency'>"
      ]
     },
     "execution_count": 23,
     "metadata": {},
     "output_type": "execute_result"
    },
    {
     "data": {
      "image/png": "[encoded data removed]",
      "text/plain": [
       "<Figure size 1080x360 with 1 Axes>"
      ]
     },
     "metadata": {
      "needs_background": "light"
     },
     "output_type": "display_data"
    }
   ],
   "source": [
    "au_concentrate.plot(kind='hist', y=concentrate_au, figsize=(15, 5), bins=55, density=True, \n",
    "                        linewidth=5, alpha=0.5, grid=True, legend=True)"
   ]
  },
  {
   "cell_type": "markdown",
   "metadata": {},
   "source": [
    "#### Концентрация  Ag на различных этапах очистки"
   ]
  },
  {
   "cell_type": "code",
   "execution_count": 24,
   "metadata": {},
   "outputs": [],
   "source": [
    "concentrate_ag = []\n",
    "for i in df_gold_recovery_full.columns:\n",
    "    if 'concentrate_ag' in i:\n",
    "        concentrate_ag.append(i)\n",
    "    if  'feed_ag' in i:\n",
    "        concentrate_ag.append(i)         "
   ]
  },
  {
   "cell_type": "code",
   "execution_count": 25,
   "metadata": {
    "scrolled": false
   },
   "outputs": [
    {
     "data": {
      "text/html": [
       "<div>\n",
       "<style scoped>\n",
       "    .dataframe tbody tr th:only-of-type {\n",
       "        vertical-align: middle;\n",
       "    }\n",
       "\n",
       "    .dataframe tbody tr th {\n",
       "        vertical-align: top;\n",
       "    }\n",
       "\n",
       "    .dataframe thead th {\n",
       "        text-align: right;\n",
       "    }\n",
       "</style>\n",
       "<table border=\"1\" class=\"dataframe\">\n",
       "  <thead>\n",
       "    <tr style=\"text-align: right;\">\n",
       "      <th></th>\n",
       "      <th>final.output.concentrate_ag</th>\n",
       "      <th>primary_cleaner.output.concentrate_ag</th>\n",
       "      <th>rougher.input.feed_ag</th>\n",
       "      <th>rougher.output.concentrate_ag</th>\n",
       "    </tr>\n",
       "  </thead>\n",
       "  <tbody>\n",
       "    <tr>\n",
       "      <th>0</th>\n",
       "      <td>6.055403</td>\n",
       "      <td>8.547551</td>\n",
       "      <td>6.100378</td>\n",
       "      <td>11.500771</td>\n",
       "    </tr>\n",
       "    <tr>\n",
       "      <th>1</th>\n",
       "      <td>6.029369</td>\n",
       "      <td>8.558743</td>\n",
       "      <td>6.161113</td>\n",
       "      <td>11.615865</td>\n",
       "    </tr>\n",
       "    <tr>\n",
       "      <th>2</th>\n",
       "      <td>6.055926</td>\n",
       "      <td>8.603505</td>\n",
       "      <td>6.116455</td>\n",
       "      <td>11.695753</td>\n",
       "    </tr>\n",
       "    <tr>\n",
       "      <th>3</th>\n",
       "      <td>6.047977</td>\n",
       "      <td>7.221879</td>\n",
       "      <td>6.043309</td>\n",
       "      <td>11.915047</td>\n",
       "    </tr>\n",
       "    <tr>\n",
       "      <th>4</th>\n",
       "      <td>6.148599</td>\n",
       "      <td>9.089428</td>\n",
       "      <td>6.060915</td>\n",
       "      <td>12.411054</td>\n",
       "    </tr>\n",
       "    <tr>\n",
       "      <th>...</th>\n",
       "      <td>...</td>\n",
       "      <td>...</td>\n",
       "      <td>...</td>\n",
       "      <td>...</td>\n",
       "    </tr>\n",
       "    <tr>\n",
       "      <th>19434</th>\n",
       "      <td>3.224920</td>\n",
       "      <td>6.559174</td>\n",
       "      <td>6.091855</td>\n",
       "      <td>11.124896</td>\n",
       "    </tr>\n",
       "    <tr>\n",
       "      <th>19435</th>\n",
       "      <td>3.195978</td>\n",
       "      <td>6.612376</td>\n",
       "      <td>6.121323</td>\n",
       "      <td>11.425983</td>\n",
       "    </tr>\n",
       "    <tr>\n",
       "      <th>19436</th>\n",
       "      <td>3.109998</td>\n",
       "      <td>7.128896</td>\n",
       "      <td>5.970515</td>\n",
       "      <td>8.523497</td>\n",
       "    </tr>\n",
       "    <tr>\n",
       "      <th>19437</th>\n",
       "      <td>3.367241</td>\n",
       "      <td>7.490444</td>\n",
       "      <td>6.048130</td>\n",
       "      <td>11.658799</td>\n",
       "    </tr>\n",
       "    <tr>\n",
       "      <th>19438</th>\n",
       "      <td>3.598375</td>\n",
       "      <td>7.537584</td>\n",
       "      <td>6.158718</td>\n",
       "      <td>11.959486</td>\n",
       "    </tr>\n",
       "  </tbody>\n",
       "</table>\n",
       "<p>19439 rows × 4 columns</p>\n",
       "</div>"
      ],
      "text/plain": [
       "       final.output.concentrate_ag  primary_cleaner.output.concentrate_ag  \\\n",
       "0                         6.055403                               8.547551   \n",
       "1                         6.029369                               8.558743   \n",
       "2                         6.055926                               8.603505   \n",
       "3                         6.047977                               7.221879   \n",
       "4                         6.148599                               9.089428   \n",
       "...                            ...                                    ...   \n",
       "19434                     3.224920                               6.559174   \n",
       "19435                     3.195978                               6.612376   \n",
       "19436                     3.109998                               7.128896   \n",
       "19437                     3.367241                               7.490444   \n",
       "19438                     3.598375                               7.537584   \n",
       "\n",
       "       rougher.input.feed_ag  rougher.output.concentrate_ag  \n",
       "0                   6.100378                      11.500771  \n",
       "1                   6.161113                      11.615865  \n",
       "2                   6.116455                      11.695753  \n",
       "3                   6.043309                      11.915047  \n",
       "4                   6.060915                      12.411054  \n",
       "...                      ...                            ...  \n",
       "19434               6.091855                      11.124896  \n",
       "19435               6.121323                      11.425983  \n",
       "19436               5.970515                       8.523497  \n",
       "19437               6.048130                      11.658799  \n",
       "19438               6.158718                      11.959486  \n",
       "\n",
       "[19439 rows x 4 columns]"
      ]
     },
     "execution_count": 25,
     "metadata": {},
     "output_type": "execute_result"
    }
   ],
   "source": [
    "ag_concentrate = df_gold_recovery_full[concentrate_ag]\n",
    "ag_concentrate"
   ]
  },
  {
   "cell_type": "code",
   "execution_count": 26,
   "metadata": {},
   "outputs": [
    {
     "data": {
      "text/plain": [
       "<AxesSubplot:ylabel='Frequency'>"
      ]
     },
     "execution_count": 26,
     "metadata": {},
     "output_type": "execute_result"
    },
    {
     "data": {
      "image/png": "[encoded data removed]",
      "text/plain": [
       "<Figure size 1080x360 with 1 Axes>"
      ]
     },
     "metadata": {
      "needs_background": "light"
     },
     "output_type": "display_data"
    }
   ],
   "source": [
    "ag_concentrate.plot(kind='hist', y=concentrate_ag, figsize=(15, 5), bins=55, density=True, \n",
    "                        linewidth=5, alpha=0.5, grid=True, legend=True)"
   ]
  },
  {
   "cell_type": "markdown",
   "metadata": {},
   "source": [
    "#### Концентрация Pb на различных этапах очистки"
   ]
  },
  {
   "cell_type": "code",
   "execution_count": 27,
   "metadata": {},
   "outputs": [],
   "source": [
    "concentrate_pb = []\n",
    "for i in df_gold_recovery_full.columns:\n",
    "    if 'concentrate_pb' in i:\n",
    "        concentrate_pb.append(i)\n",
    "    if  'feed_pb' in i:\n",
    "        concentrate_pb.append(i)         "
   ]
  },
  {
   "cell_type": "code",
   "execution_count": 28,
   "metadata": {
    "scrolled": false
   },
   "outputs": [],
   "source": [
    "pb_concentrate = df_gold_recovery_full[concentrate_pb]\n",
    "#pb_concentrate"
   ]
  },
  {
   "cell_type": "code",
   "execution_count": 29,
   "metadata": {},
   "outputs": [
    {
     "data": {
      "text/plain": [
       "<AxesSubplot:ylabel='Frequency'>"
      ]
     },
     "execution_count": 29,
     "metadata": {},
     "output_type": "execute_result"
    },
    {
     "data": {
      "image/png": "[encoded data removed]",
      "text/plain": [
       "<Figure size 1080x360 with 1 Axes>"
      ]
     },
     "metadata": {
      "needs_background": "light"
     },
     "output_type": "display_data"
    }
   ],
   "source": [
    "pb_concentrate.plot(kind='hist', y=concentrate_pb, figsize=(15, 5), bins=55, density=True, \n",
    "                        linewidth=5, alpha=0.5, grid=True, legend=True)"
   ]
  },
  {
   "cell_type": "markdown",
   "metadata": {},
   "source": [
    "**Вывод:**\n",
    "система обогащения работает, концентрация золота в сырье растёт с каждым этапом очистки, т.е. убираем то что не золото мы хорошо. Остаётся вопрос: сколько золото уходит с мусорной породой?\n",
    "Вырастает концентрация свинца, т.к. его химичиские свойства близки к золоту и он захватывается реагентами которыми обрабатывается порода."
   ]
  },
  {
   "cell_type": "markdown",
   "metadata": {},
   "source": [
    "### Сравните распределения размеров гранул сырья на обучающей и тестовой выборках"
   ]
  },
  {
   "cell_type": "code",
   "execution_count": 30,
   "metadata": {},
   "outputs": [
    {
     "name": "stdout",
     "output_type": "stream",
     "text": [
      "Данные для тренировочной выборки: count    14149.000000\n",
      "mean        60.239856\n",
      "std         23.005310\n",
      "min          9.659576\n",
      "25%         48.966751\n",
      "50%         55.269784\n",
      "75%         66.007526\n",
      "max        484.967466\n",
      "Name: rougher.input.feed_size, dtype: float64\n",
      "\n",
      "Данные для тестовой выборки: count    5290.000000\n",
      "mean       55.952754\n",
      "std        19.080334\n",
      "min         0.046369\n",
      "25%        43.906504\n",
      "50%        50.846843\n",
      "75%        62.451165\n",
      "max       392.494040\n",
      "Name: rougher.input.feed_size, dtype: float64\n"
     ]
    }
   ],
   "source": [
    "print(\"Данные для тренировочной выборки:\", df_gold_recovery_train['rougher.input.feed_size'].describe())\n",
    "print()\n",
    "print(\"Данные для тестовой выборки:\", df_gold_recovery_test['rougher.input.feed_size'].describe())"
   ]
  },
  {
   "cell_type": "code",
   "execution_count": 31,
   "metadata": {},
   "outputs": [
    {
     "data": {
      "text/plain": [
       "<AxesSubplot:ylabel='Frequency'>"
      ]
     },
     "execution_count": 31,
     "metadata": {},
     "output_type": "execute_result"
    },
    {
     "data": {
      "image/png": "[encoded data removed]",
      "text/plain": [
       "<Figure size 1080x360 with 1 Axes>"
      ]
     },
     "metadata": {
      "needs_background": "light"
     },
     "output_type": "display_data"
    }
   ],
   "source": [
    "ax = df_gold_recovery_train.plot(kind='hist', y='rougher.input.feed_size', figsize=(15, 5), bins=30, density=True, \n",
    "                        label='Тренировачная выборка', linewidth=5, alpha=0.5, grid=True, legend=True, colormap='autumn')\n",
    "\n",
    "df_gold_recovery_test.plot(kind='hist', y='rougher.input.feed_size', figsize=(15, 5), bins=30, density=True, \n",
    "                        label='Тестовая выборка', linewidth=5, alpha=0.5, grid=True, legend=True, ax=ax)"
   ]
  },
  {
   "cell_type": "markdown",
   "metadata": {},
   "source": [
    "**Вывод:**\n",
    "\n",
    "Дисбаланса не наблюдается. Средний размер гранул сырья и их дисперсии очень близки, что хорошо.\n"
   ]
  },
  {
   "cell_type": "markdown",
   "metadata": {},
   "source": [
    "### Исследуйте суммарную концентрацию всех веществ на разных стадиях: в сырье, в черновом и финальном концентратах"
   ]
  },
  {
   "cell_type": "code",
   "execution_count": 32,
   "metadata": {},
   "outputs": [],
   "source": [
    "sum_concentrate = []\n",
    "for i in df_gold_recovery_full.columns:\n",
    "    if 'concentrate_' in i:\n",
    "        sum_concentrate.append(i)\n",
    "    if 'feed_' in i:\n",
    "        sum_concentrate.append(i)  \n",
    "sum_concentrate.insert(0, 'date')\n",
    "del sum_concentrate[5:10]\n",
    "del sum_concentrate[7:9]\n",
    "#sum_concentrate"
   ]
  },
  {
   "cell_type": "code",
   "execution_count": 33,
   "metadata": {},
   "outputs": [],
   "source": [
    "df_sum_concentrate = df_gold_recovery_full[sum_concentrate]\n",
    "#df_sum_concentrate"
   ]
  },
  {
   "cell_type": "code",
   "execution_count": 34,
   "metadata": {},
   "outputs": [
    {
     "name": "stderr",
     "output_type": "stream",
     "text": [
      "/tmp/ipykernel_54/3680749341.py:1: SettingWithCopyWarning: \n",
      "A value is trying to be set on a copy of a slice from a DataFrame.\n",
      "Try using .loc[row_indexer,col_indexer] = value instead\n",
      "\n",
      "See the caveats in the documentation: https://pandas.pydata.org/pandas-docs/stable/user_guide/indexing.html#returning-a-view-versus-a-copy\n",
      "  df_sum_concentrate['final_output_concentrate_sum'] = df_sum_concentrate[['final.output.concentrate_ag',\n",
      "/tmp/ipykernel_54/3680749341.py:6: SettingWithCopyWarning: \n",
      "A value is trying to be set on a copy of a slice from a DataFrame.\n",
      "Try using .loc[row_indexer,col_indexer] = value instead\n",
      "\n",
      "See the caveats in the documentation: https://pandas.pydata.org/pandas-docs/stable/user_guide/indexing.html#returning-a-view-versus-a-copy\n",
      "  df_sum_concentrate['rougher_output_concentrate_sum'] = df_sum_concentrate[['rougher.output.concentrate_ag',\n",
      "/tmp/ipykernel_54/3680749341.py:11: SettingWithCopyWarning: \n",
      "A value is trying to be set on a copy of a slice from a DataFrame.\n",
      "Try using .loc[row_indexer,col_indexer] = value instead\n",
      "\n",
      "See the caveats in the documentation: https://pandas.pydata.org/pandas-docs/stable/user_guide/indexing.html#returning-a-view-versus-a-copy\n",
      "  df_sum_concentrate['rougher_input_feed_sum'] = df_sum_concentrate[['rougher.input.feed_ag',\n"
     ]
    }
   ],
   "source": [
    "df_sum_concentrate['final_output_concentrate_sum'] = df_sum_concentrate[['final.output.concentrate_ag',\n",
    "                                                                         'final.output.concentrate_pb',\n",
    "                                                                         'final.output.concentrate_sol',\n",
    "                                                                         'final.output.concentrate_au']].sum(axis=1)\n",
    "\n",
    "df_sum_concentrate['rougher_output_concentrate_sum'] = df_sum_concentrate[['rougher.output.concentrate_ag',\n",
    "                                                                           'rougher.output.concentrate_pb',\n",
    "                                                                           'rougher.output.concentrate_sol',\n",
    "                                                                           'rougher.output.concentrate_au']].sum(axis=1)\n",
    "\n",
    "df_sum_concentrate['rougher_input_feed_sum'] = df_sum_concentrate[['rougher.input.feed_ag',\n",
    "                                                                    'rougher.input.feed_pb',\n",
    "                                                                    'rougher.input.feed_sol',\n",
    "                                                                    'rougher.input.feed_au']].sum(axis=1)\n",
    "\n",
    "#df_sum_concentrate"
   ]
  },
  {
   "cell_type": "code",
   "execution_count": 35,
   "metadata": {},
   "outputs": [
    {
     "data": {
      "text/plain": [
       "<AxesSubplot:ylabel='Frequency'>"
      ]
     },
     "execution_count": 35,
     "metadata": {},
     "output_type": "execute_result"
    },
    {
     "data": {
      "image/png": "[encoded data removed]",
      "text/plain": [
       "<Figure size 1080x360 with 1 Axes>"
      ]
     },
     "metadata": {
      "needs_background": "light"
     },
     "output_type": "display_data"
    }
   ],
   "source": [
    "df_sum_concentrate.plot(kind='hist', y=['final_output_concentrate_sum','rougher_output_concentrate_sum',\n",
    "                                        'rougher_input_feed_sum'], bins=55, figsize=(15, 5),\n",
    "                        linewidth=5, alpha=0.7, grid=True, legend=True)"
   ]
  },
  {
   "cell_type": "code",
   "execution_count": 36,
   "metadata": {},
   "outputs": [
    {
     "data": {
      "text/plain": [
       "45       2016-01-16 21:00:00\n",
       "46       2016-01-16 22:00:00\n",
       "47       2016-01-16 23:00:00\n",
       "48       2016-01-17 00:00:00\n",
       "49       2016-01-17 02:00:00\n",
       "                ...         \n",
       "15620    2018-02-11 23:59:59\n",
       "15621    2018-02-12 00:59:59\n",
       "15622    2018-02-12 01:59:59\n",
       "15623    2018-02-12 02:59:59\n",
       "15624    2018-02-12 03:59:59\n",
       "Name: date, Length: 490, dtype: object"
      ]
     },
     "execution_count": 36,
     "metadata": {},
     "output_type": "execute_result"
    }
   ],
   "source": [
    "df_date_drop = df_sum_concentrate.query('rougher_output_concentrate_sum == 0 or rougher_input_feed_sum == 0 or final_output_concentrate_sum == 0')['date']\n",
    "df_date_drop"
   ]
  },
  {
   "cell_type": "markdown",
   "metadata": {},
   "source": [
    "**Удалим строки из тренировочной и тестовой выборок для дат где есть проблемы с данными.**"
   ]
  },
  {
   "cell_type": "code",
   "execution_count": 37,
   "metadata": {},
   "outputs": [],
   "source": [
    "df_gold_recovery_test = df_gold_recovery_test.query('date not in @df_date_drop')\n",
    "#df_gold_recovery_test"
   ]
  },
  {
   "cell_type": "code",
   "execution_count": 38,
   "metadata": {},
   "outputs": [],
   "source": [
    "df_gold_recovery_train = df_gold_recovery_train.query('date not in @df_date_drop')\n",
    "#df_gold_recovery_train"
   ]
  },
  {
   "cell_type": "markdown",
   "metadata": {},
   "source": [
    "**Вывод:**\n",
    "имеем в наличии даты когда суммарная концентрация веществ в породе на каком-то из производственных циклов очистки равна нулю, что можно расценивать как сбой в подсистеме регистрации и обработки параметром технологического процесса. Использовать данные за эти даты при обучении модели нерекомендуется т.к. они могут внести существенные искажения в результат обучения. \n",
    "\n",
    "Удалим, поэтому, строки из тренировочной и тестовой выборок с датами где есть проблемы с данными.\n"
   ]
  },
  {
   "cell_type": "markdown",
   "metadata": {},
   "source": [
    "## Модель"
   ]
  },
  {
   "cell_type": "markdown",
   "metadata": {},
   "source": [
    "### Функция для вычисления итогового sMAPE"
   ]
  },
  {
   "cell_type": "code",
   "execution_count": 39,
   "metadata": {},
   "outputs": [],
   "source": [
    "def smape_total_1(target, predictions):\n",
    "    predictions = pd.DataFrame(predictions, columns=target.columns, index=target.index)\n",
    "    smape_final = (((target['final.output.recovery'] - predictions['final.output.recovery']).abs() / ((target['final.output.recovery'].abs() + predictions['final.output.recovery'].abs()) / 2)) / target.shape[0] * 100).sum()\n",
    "    smape_rougher = (((target['rougher.output.recovery'] - predictions['rougher.output.recovery']).abs() / ((target['rougher.output.recovery'].abs() + predictions['rougher.output.recovery'].abs()) / 2)) / target.shape[0] * 100).sum()\n",
    "    return 0.25 * smape_rougher + 0.75 * smape_final"
   ]
  },
  {
   "cell_type": "markdown",
   "metadata": {},
   "source": [
    "### Выделение Признаков и Целевого признак"
   ]
  },
  {
   "cell_type": "markdown",
   "metadata": {},
   "source": [
    "**Для тестовой выборки**"
   ]
  },
  {
   "cell_type": "code",
   "execution_count": 40,
   "metadata": {},
   "outputs": [
    {
     "data": {
      "text/html": [
       "<div>\n",
       "<style scoped>\n",
       "    .dataframe tbody tr th:only-of-type {\n",
       "        vertical-align: middle;\n",
       "    }\n",
       "\n",
       "    .dataframe tbody tr th {\n",
       "        vertical-align: top;\n",
       "    }\n",
       "\n",
       "    .dataframe thead th {\n",
       "        text-align: right;\n",
       "    }\n",
       "</style>\n",
       "<table border=\"1\" class=\"dataframe\">\n",
       "  <thead>\n",
       "    <tr style=\"text-align: right;\">\n",
       "      <th></th>\n",
       "      <th>final.output.recovery</th>\n",
       "      <th>rougher.output.recovery</th>\n",
       "    </tr>\n",
       "  </thead>\n",
       "  <tbody>\n",
       "    <tr>\n",
       "      <th>4682</th>\n",
       "      <td>70.273583</td>\n",
       "      <td>89.993421</td>\n",
       "    </tr>\n",
       "    <tr>\n",
       "      <th>4683</th>\n",
       "      <td>68.910432</td>\n",
       "      <td>88.089657</td>\n",
       "    </tr>\n",
       "    <tr>\n",
       "      <th>4684</th>\n",
       "      <td>68.143213</td>\n",
       "      <td>88.412756</td>\n",
       "    </tr>\n",
       "    <tr>\n",
       "      <th>4685</th>\n",
       "      <td>67.776393</td>\n",
       "      <td>87.360133</td>\n",
       "    </tr>\n",
       "    <tr>\n",
       "      <th>4686</th>\n",
       "      <td>61.467078</td>\n",
       "      <td>83.236367</td>\n",
       "    </tr>\n",
       "    <tr>\n",
       "      <th>...</th>\n",
       "      <td>...</td>\n",
       "      <td>...</td>\n",
       "    </tr>\n",
       "    <tr>\n",
       "      <th>15055</th>\n",
       "      <td>68.919891</td>\n",
       "      <td>95.172585</td>\n",
       "    </tr>\n",
       "    <tr>\n",
       "      <th>15056</th>\n",
       "      <td>68.440582</td>\n",
       "      <td>94.575036</td>\n",
       "    </tr>\n",
       "    <tr>\n",
       "      <th>15057</th>\n",
       "      <td>67.092759</td>\n",
       "      <td>93.018138</td>\n",
       "    </tr>\n",
       "    <tr>\n",
       "      <th>15058</th>\n",
       "      <td>68.061186</td>\n",
       "      <td>92.599042</td>\n",
       "    </tr>\n",
       "    <tr>\n",
       "      <th>15059</th>\n",
       "      <td>71.699976</td>\n",
       "      <td>91.177695</td>\n",
       "    </tr>\n",
       "  </tbody>\n",
       "</table>\n",
       "<p>5154 rows × 2 columns</p>\n",
       "</div>"
      ],
      "text/plain": [
       "       final.output.recovery  rougher.output.recovery\n",
       "4682               70.273583                89.993421\n",
       "4683               68.910432                88.089657\n",
       "4684               68.143213                88.412756\n",
       "4685               67.776393                87.360133\n",
       "4686               61.467078                83.236367\n",
       "...                      ...                      ...\n",
       "15055              68.919891                95.172585\n",
       "15056              68.440582                94.575036\n",
       "15057              67.092759                93.018138\n",
       "15058              68.061186                92.599042\n",
       "15059              71.699976                91.177695\n",
       "\n",
       "[5154 rows x 2 columns]"
      ]
     },
     "execution_count": 40,
     "metadata": {},
     "output_type": "execute_result"
    }
   ],
   "source": [
    "target_test = df_gold_recovery_full.query('date in @df_gold_recovery_test.date')[['final.output.recovery','rougher.output.recovery']]\n",
    "target_test"
   ]
  },
  {
   "cell_type": "code",
   "execution_count": 41,
   "metadata": {},
   "outputs": [
    {
     "data": {
      "text/html": [
       "<div>\n",
       "<style scoped>\n",
       "    .dataframe tbody tr th:only-of-type {\n",
       "        vertical-align: middle;\n",
       "    }\n",
       "\n",
       "    .dataframe tbody tr th {\n",
       "        vertical-align: top;\n",
       "    }\n",
       "\n",
       "    .dataframe thead th {\n",
       "        text-align: right;\n",
       "    }\n",
       "</style>\n",
       "<table border=\"1\" class=\"dataframe\">\n",
       "  <thead>\n",
       "    <tr style=\"text-align: right;\">\n",
       "      <th></th>\n",
       "      <th>primary_cleaner.input.sulfate</th>\n",
       "      <th>primary_cleaner.input.depressant</th>\n",
       "      <th>primary_cleaner.input.feed_size</th>\n",
       "      <th>primary_cleaner.input.xanthate</th>\n",
       "      <th>primary_cleaner.state.floatbank8_a_air</th>\n",
       "      <th>primary_cleaner.state.floatbank8_a_level</th>\n",
       "      <th>primary_cleaner.state.floatbank8_b_air</th>\n",
       "      <th>primary_cleaner.state.floatbank8_b_level</th>\n",
       "      <th>primary_cleaner.state.floatbank8_c_air</th>\n",
       "      <th>primary_cleaner.state.floatbank8_c_level</th>\n",
       "      <th>...</th>\n",
       "      <th>secondary_cleaner.state.floatbank4_a_air</th>\n",
       "      <th>secondary_cleaner.state.floatbank4_a_level</th>\n",
       "      <th>secondary_cleaner.state.floatbank4_b_air</th>\n",
       "      <th>secondary_cleaner.state.floatbank4_b_level</th>\n",
       "      <th>secondary_cleaner.state.floatbank5_a_air</th>\n",
       "      <th>secondary_cleaner.state.floatbank5_a_level</th>\n",
       "      <th>secondary_cleaner.state.floatbank5_b_air</th>\n",
       "      <th>secondary_cleaner.state.floatbank5_b_level</th>\n",
       "      <th>secondary_cleaner.state.floatbank6_a_air</th>\n",
       "      <th>secondary_cleaner.state.floatbank6_a_level</th>\n",
       "    </tr>\n",
       "  </thead>\n",
       "  <tbody>\n",
       "    <tr>\n",
       "      <th>0</th>\n",
       "      <td>210.800909</td>\n",
       "      <td>14.993118</td>\n",
       "      <td>8.080000</td>\n",
       "      <td>1.005021</td>\n",
       "      <td>1398.981301</td>\n",
       "      <td>-500.225577</td>\n",
       "      <td>1399.144926</td>\n",
       "      <td>-499.919735</td>\n",
       "      <td>1400.102998</td>\n",
       "      <td>-500.704369</td>\n",
       "      <td>...</td>\n",
       "      <td>12.023554</td>\n",
       "      <td>-497.795834</td>\n",
       "      <td>8.016656</td>\n",
       "      <td>-501.289139</td>\n",
       "      <td>7.946562</td>\n",
       "      <td>-432.317850</td>\n",
       "      <td>4.872511</td>\n",
       "      <td>-500.037437</td>\n",
       "      <td>26.705889</td>\n",
       "      <td>-499.709414</td>\n",
       "    </tr>\n",
       "    <tr>\n",
       "      <th>1</th>\n",
       "      <td>215.392455</td>\n",
       "      <td>14.987471</td>\n",
       "      <td>8.080000</td>\n",
       "      <td>0.990469</td>\n",
       "      <td>1398.777912</td>\n",
       "      <td>-500.057435</td>\n",
       "      <td>1398.055362</td>\n",
       "      <td>-499.778182</td>\n",
       "      <td>1396.151033</td>\n",
       "      <td>-499.240168</td>\n",
       "      <td>...</td>\n",
       "      <td>12.058140</td>\n",
       "      <td>-498.695773</td>\n",
       "      <td>8.130979</td>\n",
       "      <td>-499.634209</td>\n",
       "      <td>7.958270</td>\n",
       "      <td>-525.839648</td>\n",
       "      <td>4.878850</td>\n",
       "      <td>-500.162375</td>\n",
       "      <td>25.019940</td>\n",
       "      <td>-499.819438</td>\n",
       "    </tr>\n",
       "    <tr>\n",
       "      <th>2</th>\n",
       "      <td>215.259946</td>\n",
       "      <td>12.884934</td>\n",
       "      <td>7.786667</td>\n",
       "      <td>0.996043</td>\n",
       "      <td>1398.493666</td>\n",
       "      <td>-500.868360</td>\n",
       "      <td>1398.860436</td>\n",
       "      <td>-499.764529</td>\n",
       "      <td>1398.075709</td>\n",
       "      <td>-502.151509</td>\n",
       "      <td>...</td>\n",
       "      <td>11.962366</td>\n",
       "      <td>-498.767484</td>\n",
       "      <td>8.096893</td>\n",
       "      <td>-500.827423</td>\n",
       "      <td>8.071056</td>\n",
       "      <td>-500.801673</td>\n",
       "      <td>4.905125</td>\n",
       "      <td>-499.828510</td>\n",
       "      <td>24.994862</td>\n",
       "      <td>-500.622559</td>\n",
       "    </tr>\n",
       "    <tr>\n",
       "      <th>3</th>\n",
       "      <td>215.336236</td>\n",
       "      <td>12.006805</td>\n",
       "      <td>7.640000</td>\n",
       "      <td>0.863514</td>\n",
       "      <td>1399.618111</td>\n",
       "      <td>-498.863574</td>\n",
       "      <td>1397.440120</td>\n",
       "      <td>-499.211024</td>\n",
       "      <td>1400.129303</td>\n",
       "      <td>-498.355873</td>\n",
       "      <td>...</td>\n",
       "      <td>12.033091</td>\n",
       "      <td>-498.350935</td>\n",
       "      <td>8.074946</td>\n",
       "      <td>-499.474407</td>\n",
       "      <td>7.897085</td>\n",
       "      <td>-500.868509</td>\n",
       "      <td>4.931400</td>\n",
       "      <td>-499.963623</td>\n",
       "      <td>24.948919</td>\n",
       "      <td>-498.709987</td>\n",
       "    </tr>\n",
       "    <tr>\n",
       "      <th>4</th>\n",
       "      <td>199.099327</td>\n",
       "      <td>10.682530</td>\n",
       "      <td>7.530000</td>\n",
       "      <td>0.805575</td>\n",
       "      <td>1401.268123</td>\n",
       "      <td>-500.808305</td>\n",
       "      <td>1398.128818</td>\n",
       "      <td>-499.504543</td>\n",
       "      <td>1402.172226</td>\n",
       "      <td>-500.810606</td>\n",
       "      <td>...</td>\n",
       "      <td>12.025367</td>\n",
       "      <td>-500.786497</td>\n",
       "      <td>8.054678</td>\n",
       "      <td>-500.397500</td>\n",
       "      <td>8.107890</td>\n",
       "      <td>-509.526725</td>\n",
       "      <td>4.957674</td>\n",
       "      <td>-500.360026</td>\n",
       "      <td>25.003331</td>\n",
       "      <td>-500.856333</td>\n",
       "    </tr>\n",
       "    <tr>\n",
       "      <th>...</th>\n",
       "      <td>...</td>\n",
       "      <td>...</td>\n",
       "      <td>...</td>\n",
       "      <td>...</td>\n",
       "      <td>...</td>\n",
       "      <td>...</td>\n",
       "      <td>...</td>\n",
       "      <td>...</td>\n",
       "      <td>...</td>\n",
       "      <td>...</td>\n",
       "      <td>...</td>\n",
       "      <td>...</td>\n",
       "      <td>...</td>\n",
       "      <td>...</td>\n",
       "      <td>...</td>\n",
       "      <td>...</td>\n",
       "      <td>...</td>\n",
       "      <td>...</td>\n",
       "      <td>...</td>\n",
       "      <td>...</td>\n",
       "      <td>...</td>\n",
       "    </tr>\n",
       "    <tr>\n",
       "      <th>5285</th>\n",
       "      <td>173.957757</td>\n",
       "      <td>15.963399</td>\n",
       "      <td>8.070000</td>\n",
       "      <td>0.896701</td>\n",
       "      <td>1401.930554</td>\n",
       "      <td>-499.728848</td>\n",
       "      <td>1401.441445</td>\n",
       "      <td>-499.193423</td>\n",
       "      <td>1399.810313</td>\n",
       "      <td>-499.599127</td>\n",
       "      <td>...</td>\n",
       "      <td>13.995957</td>\n",
       "      <td>-500.157454</td>\n",
       "      <td>12.069155</td>\n",
       "      <td>-499.673279</td>\n",
       "      <td>7.977259</td>\n",
       "      <td>-499.516126</td>\n",
       "      <td>5.933319</td>\n",
       "      <td>-499.965973</td>\n",
       "      <td>8.987171</td>\n",
       "      <td>-499.755909</td>\n",
       "    </tr>\n",
       "    <tr>\n",
       "      <th>5286</th>\n",
       "      <td>172.910270</td>\n",
       "      <td>16.002605</td>\n",
       "      <td>8.070000</td>\n",
       "      <td>0.896519</td>\n",
       "      <td>1447.075722</td>\n",
       "      <td>-494.716823</td>\n",
       "      <td>1448.851892</td>\n",
       "      <td>-465.963026</td>\n",
       "      <td>1443.890424</td>\n",
       "      <td>-503.587739</td>\n",
       "      <td>...</td>\n",
       "      <td>16.749781</td>\n",
       "      <td>-496.031539</td>\n",
       "      <td>13.365371</td>\n",
       "      <td>-499.122723</td>\n",
       "      <td>9.288553</td>\n",
       "      <td>-496.892967</td>\n",
       "      <td>7.372897</td>\n",
       "      <td>-499.942956</td>\n",
       "      <td>8.986832</td>\n",
       "      <td>-499.903761</td>\n",
       "    </tr>\n",
       "    <tr>\n",
       "      <th>5287</th>\n",
       "      <td>171.135718</td>\n",
       "      <td>15.993669</td>\n",
       "      <td>8.070000</td>\n",
       "      <td>1.165996</td>\n",
       "      <td>1498.836182</td>\n",
       "      <td>-501.770403</td>\n",
       "      <td>1499.572353</td>\n",
       "      <td>-495.516347</td>\n",
       "      <td>1502.749213</td>\n",
       "      <td>-520.667442</td>\n",
       "      <td>...</td>\n",
       "      <td>19.994130</td>\n",
       "      <td>-499.791312</td>\n",
       "      <td>15.101425</td>\n",
       "      <td>-499.936252</td>\n",
       "      <td>10.989181</td>\n",
       "      <td>-498.347898</td>\n",
       "      <td>9.020944</td>\n",
       "      <td>-500.040448</td>\n",
       "      <td>8.982038</td>\n",
       "      <td>-497.789882</td>\n",
       "    </tr>\n",
       "    <tr>\n",
       "      <th>5288</th>\n",
       "      <td>179.697158</td>\n",
       "      <td>15.438979</td>\n",
       "      <td>8.070000</td>\n",
       "      <td>1.501068</td>\n",
       "      <td>1498.466243</td>\n",
       "      <td>-500.483984</td>\n",
       "      <td>1497.986986</td>\n",
       "      <td>-519.200340</td>\n",
       "      <td>1496.569047</td>\n",
       "      <td>-487.479567</td>\n",
       "      <td>...</td>\n",
       "      <td>19.958760</td>\n",
       "      <td>-499.958750</td>\n",
       "      <td>15.026853</td>\n",
       "      <td>-499.723143</td>\n",
       "      <td>11.011607</td>\n",
       "      <td>-499.985046</td>\n",
       "      <td>9.009783</td>\n",
       "      <td>-499.937902</td>\n",
       "      <td>9.012660</td>\n",
       "      <td>-500.154284</td>\n",
       "    </tr>\n",
       "    <tr>\n",
       "      <th>5289</th>\n",
       "      <td>181.556856</td>\n",
       "      <td>14.995850</td>\n",
       "      <td>8.070000</td>\n",
       "      <td>1.623454</td>\n",
       "      <td>1498.096303</td>\n",
       "      <td>-499.796922</td>\n",
       "      <td>1501.743791</td>\n",
       "      <td>-505.146931</td>\n",
       "      <td>1499.535978</td>\n",
       "      <td>-492.428226</td>\n",
       "      <td>...</td>\n",
       "      <td>20.034715</td>\n",
       "      <td>-500.728588</td>\n",
       "      <td>14.914199</td>\n",
       "      <td>-499.948518</td>\n",
       "      <td>10.986607</td>\n",
       "      <td>-500.658027</td>\n",
       "      <td>8.989497</td>\n",
       "      <td>-500.337588</td>\n",
       "      <td>8.988632</td>\n",
       "      <td>-500.764937</td>\n",
       "    </tr>\n",
       "  </tbody>\n",
       "</table>\n",
       "<p>5154 rows × 52 columns</p>\n",
       "</div>"
      ],
      "text/plain": [
       "      primary_cleaner.input.sulfate  primary_cleaner.input.depressant  \\\n",
       "0                        210.800909                         14.993118   \n",
       "1                        215.392455                         14.987471   \n",
       "2                        215.259946                         12.884934   \n",
       "3                        215.336236                         12.006805   \n",
       "4                        199.099327                         10.682530   \n",
       "...                             ...                               ...   \n",
       "5285                     173.957757                         15.963399   \n",
       "5286                     172.910270                         16.002605   \n",
       "5287                     171.135718                         15.993669   \n",
       "5288                     179.697158                         15.438979   \n",
       "5289                     181.556856                         14.995850   \n",
       "\n",
       "      primary_cleaner.input.feed_size  primary_cleaner.input.xanthate  \\\n",
       "0                            8.080000                        1.005021   \n",
       "1                            8.080000                        0.990469   \n",
       "2                            7.786667                        0.996043   \n",
       "3                            7.640000                        0.863514   \n",
       "4                            7.530000                        0.805575   \n",
       "...                               ...                             ...   \n",
       "5285                         8.070000                        0.896701   \n",
       "5286                         8.070000                        0.896519   \n",
       "5287                         8.070000                        1.165996   \n",
       "5288                         8.070000                        1.501068   \n",
       "5289                         8.070000                        1.623454   \n",
       "\n",
       "      primary_cleaner.state.floatbank8_a_air  \\\n",
       "0                                1398.981301   \n",
       "1                                1398.777912   \n",
       "2                                1398.493666   \n",
       "3                                1399.618111   \n",
       "4                                1401.268123   \n",
       "...                                      ...   \n",
       "5285                             1401.930554   \n",
       "5286                             1447.075722   \n",
       "5287                             1498.836182   \n",
       "5288                             1498.466243   \n",
       "5289                             1498.096303   \n",
       "\n",
       "      primary_cleaner.state.floatbank8_a_level  \\\n",
       "0                                  -500.225577   \n",
       "1                                  -500.057435   \n",
       "2                                  -500.868360   \n",
       "3                                  -498.863574   \n",
       "4                                  -500.808305   \n",
       "...                                        ...   \n",
       "5285                               -499.728848   \n",
       "5286                               -494.716823   \n",
       "5287                               -501.770403   \n",
       "5288                               -500.483984   \n",
       "5289                               -499.796922   \n",
       "\n",
       "      primary_cleaner.state.floatbank8_b_air  \\\n",
       "0                                1399.144926   \n",
       "1                                1398.055362   \n",
       "2                                1398.860436   \n",
       "3                                1397.440120   \n",
       "4                                1398.128818   \n",
       "...                                      ...   \n",
       "5285                             1401.441445   \n",
       "5286                             1448.851892   \n",
       "5287                             1499.572353   \n",
       "5288                             1497.986986   \n",
       "5289                             1501.743791   \n",
       "\n",
       "      primary_cleaner.state.floatbank8_b_level  \\\n",
       "0                                  -499.919735   \n",
       "1                                  -499.778182   \n",
       "2                                  -499.764529   \n",
       "3                                  -499.211024   \n",
       "4                                  -499.504543   \n",
       "...                                        ...   \n",
       "5285                               -499.193423   \n",
       "5286                               -465.963026   \n",
       "5287                               -495.516347   \n",
       "5288                               -519.200340   \n",
       "5289                               -505.146931   \n",
       "\n",
       "      primary_cleaner.state.floatbank8_c_air  \\\n",
       "0                                1400.102998   \n",
       "1                                1396.151033   \n",
       "2                                1398.075709   \n",
       "3                                1400.129303   \n",
       "4                                1402.172226   \n",
       "...                                      ...   \n",
       "5285                             1399.810313   \n",
       "5286                             1443.890424   \n",
       "5287                             1502.749213   \n",
       "5288                             1496.569047   \n",
       "5289                             1499.535978   \n",
       "\n",
       "      primary_cleaner.state.floatbank8_c_level  ...  \\\n",
       "0                                  -500.704369  ...   \n",
       "1                                  -499.240168  ...   \n",
       "2                                  -502.151509  ...   \n",
       "3                                  -498.355873  ...   \n",
       "4                                  -500.810606  ...   \n",
       "...                                        ...  ...   \n",
       "5285                               -499.599127  ...   \n",
       "5286                               -503.587739  ...   \n",
       "5287                               -520.667442  ...   \n",
       "5288                               -487.479567  ...   \n",
       "5289                               -492.428226  ...   \n",
       "\n",
       "      secondary_cleaner.state.floatbank4_a_air  \\\n",
       "0                                    12.023554   \n",
       "1                                    12.058140   \n",
       "2                                    11.962366   \n",
       "3                                    12.033091   \n",
       "4                                    12.025367   \n",
       "...                                        ...   \n",
       "5285                                 13.995957   \n",
       "5286                                 16.749781   \n",
       "5287                                 19.994130   \n",
       "5288                                 19.958760   \n",
       "5289                                 20.034715   \n",
       "\n",
       "      secondary_cleaner.state.floatbank4_a_level  \\\n",
       "0                                    -497.795834   \n",
       "1                                    -498.695773   \n",
       "2                                    -498.767484   \n",
       "3                                    -498.350935   \n",
       "4                                    -500.786497   \n",
       "...                                          ...   \n",
       "5285                                 -500.157454   \n",
       "5286                                 -496.031539   \n",
       "5287                                 -499.791312   \n",
       "5288                                 -499.958750   \n",
       "5289                                 -500.728588   \n",
       "\n",
       "      secondary_cleaner.state.floatbank4_b_air  \\\n",
       "0                                     8.016656   \n",
       "1                                     8.130979   \n",
       "2                                     8.096893   \n",
       "3                                     8.074946   \n",
       "4                                     8.054678   \n",
       "...                                        ...   \n",
       "5285                                 12.069155   \n",
       "5286                                 13.365371   \n",
       "5287                                 15.101425   \n",
       "5288                                 15.026853   \n",
       "5289                                 14.914199   \n",
       "\n",
       "      secondary_cleaner.state.floatbank4_b_level  \\\n",
       "0                                    -501.289139   \n",
       "1                                    -499.634209   \n",
       "2                                    -500.827423   \n",
       "3                                    -499.474407   \n",
       "4                                    -500.397500   \n",
       "...                                          ...   \n",
       "5285                                 -499.673279   \n",
       "5286                                 -499.122723   \n",
       "5287                                 -499.936252   \n",
       "5288                                 -499.723143   \n",
       "5289                                 -499.948518   \n",
       "\n",
       "      secondary_cleaner.state.floatbank5_a_air  \\\n",
       "0                                     7.946562   \n",
       "1                                     7.958270   \n",
       "2                                     8.071056   \n",
       "3                                     7.897085   \n",
       "4                                     8.107890   \n",
       "...                                        ...   \n",
       "5285                                  7.977259   \n",
       "5286                                  9.288553   \n",
       "5287                                 10.989181   \n",
       "5288                                 11.011607   \n",
       "5289                                 10.986607   \n",
       "\n",
       "      secondary_cleaner.state.floatbank5_a_level  \\\n",
       "0                                    -432.317850   \n",
       "1                                    -525.839648   \n",
       "2                                    -500.801673   \n",
       "3                                    -500.868509   \n",
       "4                                    -509.526725   \n",
       "...                                          ...   \n",
       "5285                                 -499.516126   \n",
       "5286                                 -496.892967   \n",
       "5287                                 -498.347898   \n",
       "5288                                 -499.985046   \n",
       "5289                                 -500.658027   \n",
       "\n",
       "      secondary_cleaner.state.floatbank5_b_air  \\\n",
       "0                                     4.872511   \n",
       "1                                     4.878850   \n",
       "2                                     4.905125   \n",
       "3                                     4.931400   \n",
       "4                                     4.957674   \n",
       "...                                        ...   \n",
       "5285                                  5.933319   \n",
       "5286                                  7.372897   \n",
       "5287                                  9.020944   \n",
       "5288                                  9.009783   \n",
       "5289                                  8.989497   \n",
       "\n",
       "      secondary_cleaner.state.floatbank5_b_level  \\\n",
       "0                                    -500.037437   \n",
       "1                                    -500.162375   \n",
       "2                                    -499.828510   \n",
       "3                                    -499.963623   \n",
       "4                                    -500.360026   \n",
       "...                                          ...   \n",
       "5285                                 -499.965973   \n",
       "5286                                 -499.942956   \n",
       "5287                                 -500.040448   \n",
       "5288                                 -499.937902   \n",
       "5289                                 -500.337588   \n",
       "\n",
       "      secondary_cleaner.state.floatbank6_a_air  \\\n",
       "0                                    26.705889   \n",
       "1                                    25.019940   \n",
       "2                                    24.994862   \n",
       "3                                    24.948919   \n",
       "4                                    25.003331   \n",
       "...                                        ...   \n",
       "5285                                  8.987171   \n",
       "5286                                  8.986832   \n",
       "5287                                  8.982038   \n",
       "5288                                  9.012660   \n",
       "5289                                  8.988632   \n",
       "\n",
       "      secondary_cleaner.state.floatbank6_a_level  \n",
       "0                                    -499.709414  \n",
       "1                                    -499.819438  \n",
       "2                                    -500.622559  \n",
       "3                                    -498.709987  \n",
       "4                                    -500.856333  \n",
       "...                                          ...  \n",
       "5285                                 -499.755909  \n",
       "5286                                 -499.903761  \n",
       "5287                                 -497.789882  \n",
       "5288                                 -500.154284  \n",
       "5289                                 -500.764937  \n",
       "\n",
       "[5154 rows x 52 columns]"
      ]
     },
     "execution_count": 41,
     "metadata": {},
     "output_type": "execute_result"
    }
   ],
   "source": [
    "features_test = df_gold_recovery_test.drop('date', axis=1) \n",
    "features_test"
   ]
  },
  {
   "cell_type": "markdown",
   "metadata": {},
   "source": [
    "**Для тренировочной выборки**"
   ]
  },
  {
   "cell_type": "code",
   "execution_count": 42,
   "metadata": {},
   "outputs": [
    {
     "data": {
      "text/html": [
       "<div>\n",
       "<style scoped>\n",
       "    .dataframe tbody tr th:only-of-type {\n",
       "        vertical-align: middle;\n",
       "    }\n",
       "\n",
       "    .dataframe tbody tr th {\n",
       "        vertical-align: top;\n",
       "    }\n",
       "\n",
       "    .dataframe thead th {\n",
       "        text-align: right;\n",
       "    }\n",
       "</style>\n",
       "<table border=\"1\" class=\"dataframe\">\n",
       "  <thead>\n",
       "    <tr style=\"text-align: right;\">\n",
       "      <th></th>\n",
       "      <th>final.output.recovery</th>\n",
       "      <th>rougher.output.recovery</th>\n",
       "    </tr>\n",
       "  </thead>\n",
       "  <tbody>\n",
       "    <tr>\n",
       "      <th>0</th>\n",
       "      <td>70.541216</td>\n",
       "      <td>87.107763</td>\n",
       "    </tr>\n",
       "    <tr>\n",
       "      <th>1</th>\n",
       "      <td>69.266198</td>\n",
       "      <td>86.843261</td>\n",
       "    </tr>\n",
       "    <tr>\n",
       "      <th>2</th>\n",
       "      <td>68.116445</td>\n",
       "      <td>86.842308</td>\n",
       "    </tr>\n",
       "    <tr>\n",
       "      <th>3</th>\n",
       "      <td>68.347543</td>\n",
       "      <td>87.226430</td>\n",
       "    </tr>\n",
       "    <tr>\n",
       "      <th>4</th>\n",
       "      <td>66.927016</td>\n",
       "      <td>86.688794</td>\n",
       "    </tr>\n",
       "    <tr>\n",
       "      <th>...</th>\n",
       "      <td>...</td>\n",
       "      <td>...</td>\n",
       "    </tr>\n",
       "    <tr>\n",
       "      <th>14144</th>\n",
       "      <td>73.755150</td>\n",
       "      <td>89.574376</td>\n",
       "    </tr>\n",
       "    <tr>\n",
       "      <th>14145</th>\n",
       "      <td>69.049291</td>\n",
       "      <td>87.724007</td>\n",
       "    </tr>\n",
       "    <tr>\n",
       "      <th>14146</th>\n",
       "      <td>67.002189</td>\n",
       "      <td>88.890579</td>\n",
       "    </tr>\n",
       "    <tr>\n",
       "      <th>14147</th>\n",
       "      <td>65.523246</td>\n",
       "      <td>89.858126</td>\n",
       "    </tr>\n",
       "    <tr>\n",
       "      <th>14148</th>\n",
       "      <td>70.281454</td>\n",
       "      <td>89.514960</td>\n",
       "    </tr>\n",
       "  </tbody>\n",
       "</table>\n",
       "<p>13795 rows × 2 columns</p>\n",
       "</div>"
      ],
      "text/plain": [
       "       final.output.recovery  rougher.output.recovery\n",
       "0                  70.541216                87.107763\n",
       "1                  69.266198                86.843261\n",
       "2                  68.116445                86.842308\n",
       "3                  68.347543                87.226430\n",
       "4                  66.927016                86.688794\n",
       "...                      ...                      ...\n",
       "14144              73.755150                89.574376\n",
       "14145              69.049291                87.724007\n",
       "14146              67.002189                88.890579\n",
       "14147              65.523246                89.858126\n",
       "14148              70.281454                89.514960\n",
       "\n",
       "[13795 rows x 2 columns]"
      ]
     },
     "execution_count": 42,
     "metadata": {},
     "output_type": "execute_result"
    }
   ],
   "source": [
    "target_train = df_gold_recovery_train[['final.output.recovery','rougher.output.recovery']] \n",
    "target_train"
   ]
  },
  {
   "cell_type": "code",
   "execution_count": 43,
   "metadata": {},
   "outputs": [
    {
     "data": {
      "text/html": [
       "<div>\n",
       "<style scoped>\n",
       "    .dataframe tbody tr th:only-of-type {\n",
       "        vertical-align: middle;\n",
       "    }\n",
       "\n",
       "    .dataframe tbody tr th {\n",
       "        vertical-align: top;\n",
       "    }\n",
       "\n",
       "    .dataframe thead th {\n",
       "        text-align: right;\n",
       "    }\n",
       "</style>\n",
       "<table border=\"1\" class=\"dataframe\">\n",
       "  <thead>\n",
       "    <tr style=\"text-align: right;\">\n",
       "      <th></th>\n",
       "      <th>primary_cleaner.input.sulfate</th>\n",
       "      <th>primary_cleaner.input.depressant</th>\n",
       "      <th>primary_cleaner.input.feed_size</th>\n",
       "      <th>primary_cleaner.input.xanthate</th>\n",
       "      <th>primary_cleaner.state.floatbank8_a_air</th>\n",
       "      <th>primary_cleaner.state.floatbank8_a_level</th>\n",
       "      <th>primary_cleaner.state.floatbank8_b_air</th>\n",
       "      <th>primary_cleaner.state.floatbank8_b_level</th>\n",
       "      <th>primary_cleaner.state.floatbank8_c_air</th>\n",
       "      <th>primary_cleaner.state.floatbank8_c_level</th>\n",
       "      <th>...</th>\n",
       "      <th>secondary_cleaner.state.floatbank4_a_air</th>\n",
       "      <th>secondary_cleaner.state.floatbank4_a_level</th>\n",
       "      <th>secondary_cleaner.state.floatbank4_b_air</th>\n",
       "      <th>secondary_cleaner.state.floatbank4_b_level</th>\n",
       "      <th>secondary_cleaner.state.floatbank5_a_air</th>\n",
       "      <th>secondary_cleaner.state.floatbank5_a_level</th>\n",
       "      <th>secondary_cleaner.state.floatbank5_b_air</th>\n",
       "      <th>secondary_cleaner.state.floatbank5_b_level</th>\n",
       "      <th>secondary_cleaner.state.floatbank6_a_air</th>\n",
       "      <th>secondary_cleaner.state.floatbank6_a_level</th>\n",
       "    </tr>\n",
       "  </thead>\n",
       "  <tbody>\n",
       "    <tr>\n",
       "      <th>0</th>\n",
       "      <td>127.092003</td>\n",
       "      <td>10.128295</td>\n",
       "      <td>7.25</td>\n",
       "      <td>0.988759</td>\n",
       "      <td>1549.775757</td>\n",
       "      <td>-498.912140</td>\n",
       "      <td>1551.434204</td>\n",
       "      <td>-516.403442</td>\n",
       "      <td>1549.873901</td>\n",
       "      <td>-498.666595</td>\n",
       "      <td>...</td>\n",
       "      <td>14.016835</td>\n",
       "      <td>-502.488007</td>\n",
       "      <td>12.099931</td>\n",
       "      <td>-504.715942</td>\n",
       "      <td>9.925633</td>\n",
       "      <td>-498.310211</td>\n",
       "      <td>8.079666</td>\n",
       "      <td>-500.470978</td>\n",
       "      <td>14.151341</td>\n",
       "      <td>-605.841980</td>\n",
       "    </tr>\n",
       "    <tr>\n",
       "      <th>1</th>\n",
       "      <td>125.629232</td>\n",
       "      <td>10.296251</td>\n",
       "      <td>7.25</td>\n",
       "      <td>1.002663</td>\n",
       "      <td>1576.166671</td>\n",
       "      <td>-500.904965</td>\n",
       "      <td>1575.950626</td>\n",
       "      <td>-499.865889</td>\n",
       "      <td>1575.994189</td>\n",
       "      <td>-499.315107</td>\n",
       "      <td>...</td>\n",
       "      <td>13.992281</td>\n",
       "      <td>-505.503262</td>\n",
       "      <td>11.950531</td>\n",
       "      <td>-501.331529</td>\n",
       "      <td>10.039245</td>\n",
       "      <td>-500.169983</td>\n",
       "      <td>7.984757</td>\n",
       "      <td>-500.582168</td>\n",
       "      <td>13.998353</td>\n",
       "      <td>-599.787184</td>\n",
       "    </tr>\n",
       "    <tr>\n",
       "      <th>2</th>\n",
       "      <td>123.819808</td>\n",
       "      <td>11.316280</td>\n",
       "      <td>7.25</td>\n",
       "      <td>0.991265</td>\n",
       "      <td>1601.556163</td>\n",
       "      <td>-499.997791</td>\n",
       "      <td>1600.386685</td>\n",
       "      <td>-500.607762</td>\n",
       "      <td>1602.003542</td>\n",
       "      <td>-500.870069</td>\n",
       "      <td>...</td>\n",
       "      <td>14.015015</td>\n",
       "      <td>-502.520901</td>\n",
       "      <td>11.912783</td>\n",
       "      <td>-501.133383</td>\n",
       "      <td>10.070913</td>\n",
       "      <td>-500.129135</td>\n",
       "      <td>8.013877</td>\n",
       "      <td>-500.517572</td>\n",
       "      <td>14.028663</td>\n",
       "      <td>-601.427363</td>\n",
       "    </tr>\n",
       "    <tr>\n",
       "      <th>3</th>\n",
       "      <td>122.270188</td>\n",
       "      <td>11.322140</td>\n",
       "      <td>7.25</td>\n",
       "      <td>0.996739</td>\n",
       "      <td>1599.968720</td>\n",
       "      <td>-500.951778</td>\n",
       "      <td>1600.659236</td>\n",
       "      <td>-499.677094</td>\n",
       "      <td>1600.304144</td>\n",
       "      <td>-500.727997</td>\n",
       "      <td>...</td>\n",
       "      <td>14.036510</td>\n",
       "      <td>-500.857308</td>\n",
       "      <td>11.999550</td>\n",
       "      <td>-501.193686</td>\n",
       "      <td>9.970366</td>\n",
       "      <td>-499.201640</td>\n",
       "      <td>7.977324</td>\n",
       "      <td>-500.255908</td>\n",
       "      <td>14.005551</td>\n",
       "      <td>-599.996129</td>\n",
       "    </tr>\n",
       "    <tr>\n",
       "      <th>4</th>\n",
       "      <td>117.988169</td>\n",
       "      <td>11.913613</td>\n",
       "      <td>7.25</td>\n",
       "      <td>1.009869</td>\n",
       "      <td>1601.339707</td>\n",
       "      <td>-498.975456</td>\n",
       "      <td>1601.437854</td>\n",
       "      <td>-500.323246</td>\n",
       "      <td>1599.581894</td>\n",
       "      <td>-500.888152</td>\n",
       "      <td>...</td>\n",
       "      <td>14.027298</td>\n",
       "      <td>-499.838632</td>\n",
       "      <td>11.953070</td>\n",
       "      <td>-501.053894</td>\n",
       "      <td>9.925709</td>\n",
       "      <td>-501.686727</td>\n",
       "      <td>7.894242</td>\n",
       "      <td>-500.356035</td>\n",
       "      <td>13.996647</td>\n",
       "      <td>-601.496691</td>\n",
       "    </tr>\n",
       "    <tr>\n",
       "      <th>...</th>\n",
       "      <td>...</td>\n",
       "      <td>...</td>\n",
       "      <td>...</td>\n",
       "      <td>...</td>\n",
       "      <td>...</td>\n",
       "      <td>...</td>\n",
       "      <td>...</td>\n",
       "      <td>...</td>\n",
       "      <td>...</td>\n",
       "      <td>...</td>\n",
       "      <td>...</td>\n",
       "      <td>...</td>\n",
       "      <td>...</td>\n",
       "      <td>...</td>\n",
       "      <td>...</td>\n",
       "      <td>...</td>\n",
       "      <td>...</td>\n",
       "      <td>...</td>\n",
       "      <td>...</td>\n",
       "      <td>...</td>\n",
       "      <td>...</td>\n",
       "    </tr>\n",
       "    <tr>\n",
       "      <th>14144</th>\n",
       "      <td>123.381787</td>\n",
       "      <td>8.028927</td>\n",
       "      <td>6.50</td>\n",
       "      <td>1.304232</td>\n",
       "      <td>1648.421193</td>\n",
       "      <td>-400.382169</td>\n",
       "      <td>1648.742005</td>\n",
       "      <td>-400.359661</td>\n",
       "      <td>1648.578230</td>\n",
       "      <td>-399.363624</td>\n",
       "      <td>...</td>\n",
       "      <td>23.031497</td>\n",
       "      <td>-501.167942</td>\n",
       "      <td>20.007571</td>\n",
       "      <td>-499.740028</td>\n",
       "      <td>18.006038</td>\n",
       "      <td>-499.834374</td>\n",
       "      <td>13.001114</td>\n",
       "      <td>-500.155694</td>\n",
       "      <td>20.007840</td>\n",
       "      <td>-501.296428</td>\n",
       "    </tr>\n",
       "    <tr>\n",
       "      <th>14145</th>\n",
       "      <td>120.878188</td>\n",
       "      <td>7.962636</td>\n",
       "      <td>6.50</td>\n",
       "      <td>1.302419</td>\n",
       "      <td>1649.820162</td>\n",
       "      <td>-399.930973</td>\n",
       "      <td>1649.357538</td>\n",
       "      <td>-399.721222</td>\n",
       "      <td>1648.656192</td>\n",
       "      <td>-401.195834</td>\n",
       "      <td>...</td>\n",
       "      <td>22.960095</td>\n",
       "      <td>-501.612783</td>\n",
       "      <td>20.035660</td>\n",
       "      <td>-500.251357</td>\n",
       "      <td>17.998535</td>\n",
       "      <td>-500.395178</td>\n",
       "      <td>12.954048</td>\n",
       "      <td>-499.895163</td>\n",
       "      <td>19.968498</td>\n",
       "      <td>-501.041608</td>\n",
       "    </tr>\n",
       "    <tr>\n",
       "      <th>14146</th>\n",
       "      <td>105.666118</td>\n",
       "      <td>7.955111</td>\n",
       "      <td>6.50</td>\n",
       "      <td>1.315926</td>\n",
       "      <td>1649.166761</td>\n",
       "      <td>-399.888631</td>\n",
       "      <td>1649.196904</td>\n",
       "      <td>-399.677571</td>\n",
       "      <td>1647.896999</td>\n",
       "      <td>-399.988275</td>\n",
       "      <td>...</td>\n",
       "      <td>23.015718</td>\n",
       "      <td>-501.711599</td>\n",
       "      <td>19.951231</td>\n",
       "      <td>-499.857027</td>\n",
       "      <td>18.019543</td>\n",
       "      <td>-500.451156</td>\n",
       "      <td>13.023431</td>\n",
       "      <td>-499.914391</td>\n",
       "      <td>19.990885</td>\n",
       "      <td>-501.518452</td>\n",
       "    </tr>\n",
       "    <tr>\n",
       "      <th>14147</th>\n",
       "      <td>98.880538</td>\n",
       "      <td>7.984164</td>\n",
       "      <td>6.50</td>\n",
       "      <td>1.241969</td>\n",
       "      <td>1646.547763</td>\n",
       "      <td>-398.977083</td>\n",
       "      <td>1648.212240</td>\n",
       "      <td>-400.383265</td>\n",
       "      <td>1648.917387</td>\n",
       "      <td>-399.521344</td>\n",
       "      <td>...</td>\n",
       "      <td>23.024963</td>\n",
       "      <td>-501.153409</td>\n",
       "      <td>20.054122</td>\n",
       "      <td>-500.314711</td>\n",
       "      <td>17.979515</td>\n",
       "      <td>-499.272871</td>\n",
       "      <td>12.992404</td>\n",
       "      <td>-499.976268</td>\n",
       "      <td>20.013986</td>\n",
       "      <td>-500.625471</td>\n",
       "    </tr>\n",
       "    <tr>\n",
       "      <th>14148</th>\n",
       "      <td>95.248427</td>\n",
       "      <td>8.078957</td>\n",
       "      <td>6.50</td>\n",
       "      <td>1.283045</td>\n",
       "      <td>1648.759906</td>\n",
       "      <td>-399.862053</td>\n",
       "      <td>1650.135395</td>\n",
       "      <td>-399.957321</td>\n",
       "      <td>1648.831890</td>\n",
       "      <td>-400.586116</td>\n",
       "      <td>...</td>\n",
       "      <td>23.018622</td>\n",
       "      <td>-500.492702</td>\n",
       "      <td>20.020205</td>\n",
       "      <td>-500.220296</td>\n",
       "      <td>17.963512</td>\n",
       "      <td>-499.939490</td>\n",
       "      <td>12.990306</td>\n",
       "      <td>-500.080993</td>\n",
       "      <td>19.990336</td>\n",
       "      <td>-499.191575</td>\n",
       "    </tr>\n",
       "  </tbody>\n",
       "</table>\n",
       "<p>13795 rows × 52 columns</p>\n",
       "</div>"
      ],
      "text/plain": [
       "       primary_cleaner.input.sulfate  primary_cleaner.input.depressant  \\\n",
       "0                         127.092003                         10.128295   \n",
       "1                         125.629232                         10.296251   \n",
       "2                         123.819808                         11.316280   \n",
       "3                         122.270188                         11.322140   \n",
       "4                         117.988169                         11.913613   \n",
       "...                              ...                               ...   \n",
       "14144                     123.381787                          8.028927   \n",
       "14145                     120.878188                          7.962636   \n",
       "14146                     105.666118                          7.955111   \n",
       "14147                      98.880538                          7.984164   \n",
       "14148                      95.248427                          8.078957   \n",
       "\n",
       "       primary_cleaner.input.feed_size  primary_cleaner.input.xanthate  \\\n",
       "0                                 7.25                        0.988759   \n",
       "1                                 7.25                        1.002663   \n",
       "2                                 7.25                        0.991265   \n",
       "3                                 7.25                        0.996739   \n",
       "4                                 7.25                        1.009869   \n",
       "...                                ...                             ...   \n",
       "14144                             6.50                        1.304232   \n",
       "14145                             6.50                        1.302419   \n",
       "14146                             6.50                        1.315926   \n",
       "14147                             6.50                        1.241969   \n",
       "14148                             6.50                        1.283045   \n",
       "\n",
       "       primary_cleaner.state.floatbank8_a_air  \\\n",
       "0                                 1549.775757   \n",
       "1                                 1576.166671   \n",
       "2                                 1601.556163   \n",
       "3                                 1599.968720   \n",
       "4                                 1601.339707   \n",
       "...                                       ...   \n",
       "14144                             1648.421193   \n",
       "14145                             1649.820162   \n",
       "14146                             1649.166761   \n",
       "14147                             1646.547763   \n",
       "14148                             1648.759906   \n",
       "\n",
       "       primary_cleaner.state.floatbank8_a_level  \\\n",
       "0                                   -498.912140   \n",
       "1                                   -500.904965   \n",
       "2                                   -499.997791   \n",
       "3                                   -500.951778   \n",
       "4                                   -498.975456   \n",
       "...                                         ...   \n",
       "14144                               -400.382169   \n",
       "14145                               -399.930973   \n",
       "14146                               -399.888631   \n",
       "14147                               -398.977083   \n",
       "14148                               -399.862053   \n",
       "\n",
       "       primary_cleaner.state.floatbank8_b_air  \\\n",
       "0                                 1551.434204   \n",
       "1                                 1575.950626   \n",
       "2                                 1600.386685   \n",
       "3                                 1600.659236   \n",
       "4                                 1601.437854   \n",
       "...                                       ...   \n",
       "14144                             1648.742005   \n",
       "14145                             1649.357538   \n",
       "14146                             1649.196904   \n",
       "14147                             1648.212240   \n",
       "14148                             1650.135395   \n",
       "\n",
       "       primary_cleaner.state.floatbank8_b_level  \\\n",
       "0                                   -516.403442   \n",
       "1                                   -499.865889   \n",
       "2                                   -500.607762   \n",
       "3                                   -499.677094   \n",
       "4                                   -500.323246   \n",
       "...                                         ...   \n",
       "14144                               -400.359661   \n",
       "14145                               -399.721222   \n",
       "14146                               -399.677571   \n",
       "14147                               -400.383265   \n",
       "14148                               -399.957321   \n",
       "\n",
       "       primary_cleaner.state.floatbank8_c_air  \\\n",
       "0                                 1549.873901   \n",
       "1                                 1575.994189   \n",
       "2                                 1602.003542   \n",
       "3                                 1600.304144   \n",
       "4                                 1599.581894   \n",
       "...                                       ...   \n",
       "14144                             1648.578230   \n",
       "14145                             1648.656192   \n",
       "14146                             1647.896999   \n",
       "14147                             1648.917387   \n",
       "14148                             1648.831890   \n",
       "\n",
       "       primary_cleaner.state.floatbank8_c_level  ...  \\\n",
       "0                                   -498.666595  ...   \n",
       "1                                   -499.315107  ...   \n",
       "2                                   -500.870069  ...   \n",
       "3                                   -500.727997  ...   \n",
       "4                                   -500.888152  ...   \n",
       "...                                         ...  ...   \n",
       "14144                               -399.363624  ...   \n",
       "14145                               -401.195834  ...   \n",
       "14146                               -399.988275  ...   \n",
       "14147                               -399.521344  ...   \n",
       "14148                               -400.586116  ...   \n",
       "\n",
       "       secondary_cleaner.state.floatbank4_a_air  \\\n",
       "0                                     14.016835   \n",
       "1                                     13.992281   \n",
       "2                                     14.015015   \n",
       "3                                     14.036510   \n",
       "4                                     14.027298   \n",
       "...                                         ...   \n",
       "14144                                 23.031497   \n",
       "14145                                 22.960095   \n",
       "14146                                 23.015718   \n",
       "14147                                 23.024963   \n",
       "14148                                 23.018622   \n",
       "\n",
       "       secondary_cleaner.state.floatbank4_a_level  \\\n",
       "0                                     -502.488007   \n",
       "1                                     -505.503262   \n",
       "2                                     -502.520901   \n",
       "3                                     -500.857308   \n",
       "4                                     -499.838632   \n",
       "...                                           ...   \n",
       "14144                                 -501.167942   \n",
       "14145                                 -501.612783   \n",
       "14146                                 -501.711599   \n",
       "14147                                 -501.153409   \n",
       "14148                                 -500.492702   \n",
       "\n",
       "       secondary_cleaner.state.floatbank4_b_air  \\\n",
       "0                                     12.099931   \n",
       "1                                     11.950531   \n",
       "2                                     11.912783   \n",
       "3                                     11.999550   \n",
       "4                                     11.953070   \n",
       "...                                         ...   \n",
       "14144                                 20.007571   \n",
       "14145                                 20.035660   \n",
       "14146                                 19.951231   \n",
       "14147                                 20.054122   \n",
       "14148                                 20.020205   \n",
       "\n",
       "       secondary_cleaner.state.floatbank4_b_level  \\\n",
       "0                                     -504.715942   \n",
       "1                                     -501.331529   \n",
       "2                                     -501.133383   \n",
       "3                                     -501.193686   \n",
       "4                                     -501.053894   \n",
       "...                                           ...   \n",
       "14144                                 -499.740028   \n",
       "14145                                 -500.251357   \n",
       "14146                                 -499.857027   \n",
       "14147                                 -500.314711   \n",
       "14148                                 -500.220296   \n",
       "\n",
       "       secondary_cleaner.state.floatbank5_a_air  \\\n",
       "0                                      9.925633   \n",
       "1                                     10.039245   \n",
       "2                                     10.070913   \n",
       "3                                      9.970366   \n",
       "4                                      9.925709   \n",
       "...                                         ...   \n",
       "14144                                 18.006038   \n",
       "14145                                 17.998535   \n",
       "14146                                 18.019543   \n",
       "14147                                 17.979515   \n",
       "14148                                 17.963512   \n",
       "\n",
       "       secondary_cleaner.state.floatbank5_a_level  \\\n",
       "0                                     -498.310211   \n",
       "1                                     -500.169983   \n",
       "2                                     -500.129135   \n",
       "3                                     -499.201640   \n",
       "4                                     -501.686727   \n",
       "...                                           ...   \n",
       "14144                                 -499.834374   \n",
       "14145                                 -500.395178   \n",
       "14146                                 -500.451156   \n",
       "14147                                 -499.272871   \n",
       "14148                                 -499.939490   \n",
       "\n",
       "       secondary_cleaner.state.floatbank5_b_air  \\\n",
       "0                                      8.079666   \n",
       "1                                      7.984757   \n",
       "2                                      8.013877   \n",
       "3                                      7.977324   \n",
       "4                                      7.894242   \n",
       "...                                         ...   \n",
       "14144                                 13.001114   \n",
       "14145                                 12.954048   \n",
       "14146                                 13.023431   \n",
       "14147                                 12.992404   \n",
       "14148                                 12.990306   \n",
       "\n",
       "       secondary_cleaner.state.floatbank5_b_level  \\\n",
       "0                                     -500.470978   \n",
       "1                                     -500.582168   \n",
       "2                                     -500.517572   \n",
       "3                                     -500.255908   \n",
       "4                                     -500.356035   \n",
       "...                                           ...   \n",
       "14144                                 -500.155694   \n",
       "14145                                 -499.895163   \n",
       "14146                                 -499.914391   \n",
       "14147                                 -499.976268   \n",
       "14148                                 -500.080993   \n",
       "\n",
       "       secondary_cleaner.state.floatbank6_a_air  \\\n",
       "0                                     14.151341   \n",
       "1                                     13.998353   \n",
       "2                                     14.028663   \n",
       "3                                     14.005551   \n",
       "4                                     13.996647   \n",
       "...                                         ...   \n",
       "14144                                 20.007840   \n",
       "14145                                 19.968498   \n",
       "14146                                 19.990885   \n",
       "14147                                 20.013986   \n",
       "14148                                 19.990336   \n",
       "\n",
       "       secondary_cleaner.state.floatbank6_a_level  \n",
       "0                                     -605.841980  \n",
       "1                                     -599.787184  \n",
       "2                                     -601.427363  \n",
       "3                                     -599.996129  \n",
       "4                                     -601.496691  \n",
       "...                                           ...  \n",
       "14144                                 -501.296428  \n",
       "14145                                 -501.041608  \n",
       "14146                                 -501.518452  \n",
       "14147                                 -500.625471  \n",
       "14148                                 -499.191575  \n",
       "\n",
       "[13795 rows x 52 columns]"
      ]
     },
     "execution_count": 43,
     "metadata": {},
     "output_type": "execute_result"
    }
   ],
   "source": [
    "features_train = df_gold_recovery_train[features_test.columns] \n",
    "features_train"
   ]
  },
  {
   "cell_type": "markdown",
   "metadata": {},
   "source": [
    "### Масштабирование признаков"
   ]
  },
  {
   "cell_type": "code",
   "execution_count": 44,
   "metadata": {},
   "outputs": [],
   "source": [
    "pd.options.mode.chained_assignment = None\n",
    "scaler = StandardScaler()\n",
    "scaler.fit(features_train)\n",
    "features_train = scaler.transform(features_train)\n",
    "features_test = scaler.transform(features_test)"
   ]
  },
  {
   "cell_type": "markdown",
   "metadata": {},
   "source": [
    "### Построение моделей"
   ]
  },
  {
   "cell_type": "markdown",
   "metadata": {},
   "source": [
    "Создадим параметр Оценки модели, который будет использовать функция `cross_val_score`, вместо оценки по умолчанию."
   ]
  },
  {
   "cell_type": "code",
   "execution_count": 45,
   "metadata": {},
   "outputs": [],
   "source": [
    "smape_scorer = make_scorer(smape_total_1, greater_is_better=False)"
   ]
  },
  {
   "cell_type": "markdown",
   "metadata": {},
   "source": [
    "#### Константная модель - для сравнения"
   ]
  },
  {
   "cell_type": "code",
   "execution_count": 46,
   "metadata": {},
   "outputs": [
    {
     "name": "stdout",
     "output_type": "stream",
     "text": [
      "sMAPE модели: -9.786895735237461\n",
      "CPU times: user 41.3 ms, sys: 3.69 ms, total: 45 ms\n",
      "Wall time: 45.5 ms\n"
     ]
    }
   ],
   "source": [
    "%%time\n",
    "model = DummyRegressor(strategy=\"mean\") \n",
    "scores = cross_val_score(model, features_train, target_train, cv=5, scoring=smape_scorer).mean()\n",
    "print(\"sMAPE модели:\",scores)"
   ]
  },
  {
   "cell_type": "markdown",
   "metadata": {},
   "source": [
    "#### Модель - линейная регрессия"
   ]
  },
  {
   "cell_type": "code",
   "execution_count": 47,
   "metadata": {},
   "outputs": [
    {
     "name": "stdout",
     "output_type": "stream",
     "text": [
      "sMAPE модели: -10.059602069093597\n",
      "CPU times: user 799 ms, sys: 1.26 s, total: 2.06 s\n",
      "Wall time: 2.07 s\n"
     ]
    }
   ],
   "source": [
    "%%time\n",
    "model = LinearRegression() \n",
    "scores = cross_val_score(model, features_train, target_train, cv=5, scoring=smape_scorer).mean()\n",
    "print(\"sMAPE модели:\",scores)"
   ]
  },
  {
   "cell_type": "markdown",
   "metadata": {},
   "source": [
    "#### Модель -  дерево решений"
   ]
  },
  {
   "cell_type": "code",
   "execution_count": 53,
   "metadata": {},
   "outputs": [
    {
     "name": "stdout",
     "output_type": "stream",
     "text": [
      "sMAPE наилучшей модели: -8.987481089659102 Глубина дерева: 1\n",
      "CPU times: user 6.65 s, sys: 4.01 ms, total: 6.65 s\n",
      "Wall time: 6.66 s\n"
     ]
    }
   ],
   "source": [
    "%%time\n",
    "best_scores = -9.79\n",
    "depth = 0\n",
    "for depth in range(1, 7):\n",
    "    model = DecisionTreeRegressor(random_state=12091977, max_depth=depth)\n",
    "    scores = cross_val_score(model, features_train, target_train, cv=5, scoring=smape_scorer).mean()\n",
    "    if scores > best_scores:\n",
    "        best_scores = scores\n",
    "        best_depth = depth\n",
    "\n",
    "print(\"sMAPE наилучшей модели:\", best_scores, \"Глубина дерева:\", best_depth)"
   ]
  },
  {
   "cell_type": "markdown",
   "metadata": {},
   "source": [
    "#### Модель - случайный лес"
   ]
  },
  {
   "cell_type": "code",
   "execution_count": 54,
   "metadata": {},
   "outputs": [
    {
     "name": "stdout",
     "output_type": "stream",
     "text": [
      "sMAPE наилучшей модели: -8.755535583906212 Глубина дерева: 4 Количество деревьев: 30\n",
      "CPU times: user 1min 57s, sys: 91.9 ms, total: 1min 57s\n",
      "Wall time: 1min 58s\n"
     ]
    }
   ],
   "source": [
    "%%time\n",
    "best_est = 0\n",
    "best_depth = 0\n",
    "best_scores = -9.79\n",
    "for est in range(10, 31, 10):\n",
    "    for depth in range (1, 5):\n",
    "        model = RandomForestRegressor(random_state=12345, n_estimators=est, max_depth=depth)\n",
    "        scores = cross_val_score(model, features_train, target_train, cv=5, scoring=smape_scorer).mean()\n",
    "        if scores > best_scores:\n",
    "            best_scores = scores\n",
    "            best_depth = depth\n",
    "            best_est = est\n",
    "\n",
    "print(\"sMAPE наилучшей модели:\", best_scores, \"Глубина дерева:\", best_depth,\n",
    "      \"Количество деревьев:\", best_est)\n"
   ]
  },
  {
   "cell_type": "markdown",
   "metadata": {},
   "source": [
    "### Выбор лучшей модель, проверка её качества на тестовой выборке"
   ]
  },
  {
   "cell_type": "markdown",
   "metadata": {},
   "source": [
    "Наилучшей моделью по параметру итоговая sMAPE является модель - случайного леса - с параметрами: Глубина дерева: 4 Количество деревьев: 30 "
   ]
  },
  {
   "cell_type": "code",
   "execution_count": 50,
   "metadata": {},
   "outputs": [
    {
     "name": "stdout",
     "output_type": "stream",
     "text": [
      "sMAPE модели: 7.2061966137721125\n",
      "CPU times: user 5.88 s, sys: 0 ns, total: 5.88 s\n",
      "Wall time: 5.89 s\n"
     ]
    }
   ],
   "source": [
    "%%time\n",
    "model = RandomForestRegressor(random_state=12345, n_estimators=30, max_depth=4)\n",
    "model.fit(features_train, target_train)                            \n",
    "predictions = model.predict(features_test)\n",
    "smape_1 = smape_total_1(target_test, predictions)\n",
    "print(\"sMAPE модели:\",smape_1)"
   ]
  },
  {
   "cell_type": "markdown",
   "metadata": {},
   "source": [
    "**Константная модель - для сравнения**"
   ]
  },
  {
   "cell_type": "code",
   "execution_count": 51,
   "metadata": {},
   "outputs": [
    {
     "name": "stdout",
     "output_type": "stream",
     "text": [
      "sMAPE модели: 7.766604067388526\n"
     ]
    }
   ],
   "source": [
    "model = DummyRegressor(strategy=\"mean\") \n",
    "model.fit(features_train, target_train)                            \n",
    "predictions = model.predict(features_test)\n",
    "smape_1 = smape_total_1(target_test, predictions)\n",
    "print(\"sMAPE модели:\",smape_1)"
   ]
  },
  {
   "cell_type": "markdown",
   "metadata": {},
   "source": [
    "**Модель решающее дерево - для вывода**"
   ]
  },
  {
   "cell_type": "code",
   "execution_count": 52,
   "metadata": {},
   "outputs": [
    {
     "name": "stdout",
     "output_type": "stream",
     "text": [
      "sMAPE модели: 7.21755946010647\n",
      "CPU times: user 91 ms, sys: 3.88 ms, total: 94.9 ms\n",
      "Wall time: 107 ms\n"
     ]
    }
   ],
   "source": [
    "%%time\n",
    "model = DecisionTreeRegressor(random_state=12091977, max_depth=1)\n",
    "model.fit(features_train, target_train)                            \n",
    "predictions = model.predict(features_test)\n",
    "smape_1 = smape_total_1(target_test, predictions)\n",
    "print(\"sMAPE модели:\",smape_1)"
   ]
  },
  {
   "cell_type": "markdown",
   "metadata": {},
   "source": [
    "**Вывод:**\n",
    "модель случайного леса конечно лучшая по параметру итоговая sMAPE, но и работает она в разы медленнее того же решающего дерева у которого параметр итоговая sMAPE близок к параметру модели случайного леса.\n",
    "\n",
    "И тут надо думать и принимать в рассчёт условия работы моделей, если важна скорость работы, то целесообразней взять и использовать модель решающего дерева.\n"
   ]
  },
  {
   "cell_type": "markdown",
   "metadata": {},
   "source": [
    "## Чек-лист готовности проекта"
   ]
  },
  {
   "cell_type": "markdown",
   "metadata": {},
   "source": [
    "- [x]  Jupyter Notebook открыт\n",
    "- [x]  Весь код выполняется без ошибок\n",
    "- [x]  Ячейки с кодом расположены в порядке выполнения\n",
    "- [x]  Выполнен шаг 1: данные подготовлены\n",
    "    - [x]  Проверена формула вычисления эффективности обогащения\n",
    "    - [x]  Проанализированы признаки, недоступные в тестовой выборке\n",
    "    - [x]  Проведена предобработка данных\n",
    "- [x]  Выполнен шаг 2: данные проанализированы\n",
    "    - [x]  Исследовано изменение концентрации элементов на каждом этапе\n",
    "    - [x]  Проанализированы распределения размеров гранул на обучающей и тестовой выборках\n",
    "    - [x]  Исследованы суммарные концентрации\n",
    "- [x]  Выполнен шаг 3: построена модель прогнозирования\n",
    "    - [x]  Написана функция для вычисления итогового *sMAPE*\n",
    "    - [x]  Обучено и проверено несколько моделей\n",
    "    - [x]  Выбрана лучшая модель, её качество проверено на тестовой выборке"
   ]
  }
 ],
 "metadata": {
  "ExecuteTimeLog": [
   {
    "duration": 1135,
    "start_time": "2022-03-08T04:54:53.078Z"
   },
   {
    "duration": 2152,
    "start_time": "2022-03-08T04:54:54.215Z"
   },
   {
    "duration": 392,
    "start_time": "2022-03-08T04:55:08.223Z"
   },
   {
    "duration": 10,
    "start_time": "2022-03-08T05:10:05.994Z"
   },
   {
    "duration": 675,
    "start_time": "2022-03-08T06:19:52.646Z"
   },
   {
    "duration": 3,
    "start_time": "2022-03-08T06:21:10.137Z"
   },
   {
    "duration": 374,
    "start_time": "2022-03-08T08:29:43.995Z"
   },
   {
    "duration": 1145,
    "start_time": "2022-03-08T08:29:47.974Z"
   },
   {
    "duration": 772,
    "start_time": "2022-03-08T08:29:49.121Z"
   },
   {
    "duration": -14999,
    "start_time": "2022-03-08T08:36:50.822Z"
   },
   {
    "duration": 8317,
    "start_time": "2022-03-08T08:36:56.135Z"
   },
   {
    "duration": 10,
    "start_time": "2022-03-08T08:39:09.973Z"
   },
   {
    "duration": 10,
    "start_time": "2022-03-08T08:41:42.349Z"
   },
   {
    "duration": 95,
    "start_time": "2022-03-08T08:47:07.250Z"
   },
   {
    "duration": 4,
    "start_time": "2022-03-08T08:47:36.996Z"
   },
   {
    "duration": 7,
    "start_time": "2022-03-08T08:51:12.779Z"
   },
   {
    "duration": 10,
    "start_time": "2022-03-08T08:51:23.839Z"
   },
   {
    "duration": 5,
    "start_time": "2022-03-08T08:51:55.884Z"
   },
   {
    "duration": 10,
    "start_time": "2022-03-08T08:51:56.707Z"
   },
   {
    "duration": 13,
    "start_time": "2022-03-08T08:52:20.374Z"
   },
   {
    "duration": 5,
    "start_time": "2022-03-08T08:54:38.560Z"
   },
   {
    "duration": 13,
    "start_time": "2022-03-08T09:00:08.481Z"
   },
   {
    "duration": 10,
    "start_time": "2022-03-08T09:00:28.915Z"
   },
   {
    "duration": 10,
    "start_time": "2022-03-08T09:03:18.499Z"
   },
   {
    "duration": 4,
    "start_time": "2022-03-08T09:14:42.764Z"
   },
   {
    "duration": 4,
    "start_time": "2022-03-08T09:15:31.617Z"
   },
   {
    "duration": 289,
    "start_time": "2022-03-08T09:15:58.619Z"
   },
   {
    "duration": 3,
    "start_time": "2022-03-08T09:21:46.485Z"
   },
   {
    "duration": 5,
    "start_time": "2022-03-08T09:33:10.663Z"
   },
   {
    "duration": 298,
    "start_time": "2022-03-08T09:33:42.634Z"
   },
   {
    "duration": 3,
    "start_time": "2022-03-08T09:34:31.871Z"
   },
   {
    "duration": 4,
    "start_time": "2022-03-08T09:34:43.618Z"
   },
   {
    "duration": 5,
    "start_time": "2022-03-08T09:37:13.935Z"
   },
   {
    "duration": 302,
    "start_time": "2022-03-08T09:37:19.742Z"
   },
   {
    "duration": 5,
    "start_time": "2022-03-08T09:37:34.878Z"
   },
   {
    "duration": 4,
    "start_time": "2022-03-08T09:40:21.233Z"
   },
   {
    "duration": 5,
    "start_time": "2022-03-08T09:40:31.005Z"
   },
   {
    "duration": 97,
    "start_time": "2022-03-08T09:41:15.321Z"
   },
   {
    "duration": 5,
    "start_time": "2022-03-08T09:41:23.099Z"
   },
   {
    "duration": 2,
    "start_time": "2022-03-08T09:42:02.333Z"
   },
   {
    "duration": 4,
    "start_time": "2022-03-08T09:43:34.651Z"
   },
   {
    "duration": 321,
    "start_time": "2022-03-08T09:44:03.499Z"
   },
   {
    "duration": 5,
    "start_time": "2022-03-08T09:44:13.330Z"
   },
   {
    "duration": 5,
    "start_time": "2022-03-08T09:44:24.638Z"
   },
   {
    "duration": 306,
    "start_time": "2022-03-08T10:11:58.847Z"
   },
   {
    "duration": 306,
    "start_time": "2022-03-08T10:12:15.100Z"
   },
   {
    "duration": 10,
    "start_time": "2022-03-08T10:15:36.538Z"
   },
   {
    "duration": 10,
    "start_time": "2022-03-08T10:17:59.600Z"
   },
   {
    "duration": 83,
    "start_time": "2022-03-08T10:19:29.110Z"
   },
   {
    "duration": 9,
    "start_time": "2022-03-08T10:59:00.305Z"
   },
   {
    "duration": 1122,
    "start_time": "2022-03-12T09:28:11.939Z"
   },
   {
    "duration": 704,
    "start_time": "2022-03-12T09:28:13.063Z"
   },
   {
    "duration": 2,
    "start_time": "2022-03-12T09:28:13.769Z"
   },
   {
    "duration": 19,
    "start_time": "2022-03-12T09:28:13.773Z"
   },
   {
    "duration": 18,
    "start_time": "2022-03-12T09:28:13.793Z"
   },
   {
    "duration": 19,
    "start_time": "2022-03-12T09:28:13.813Z"
   },
   {
    "duration": 12,
    "start_time": "2022-03-12T09:28:13.834Z"
   },
   {
    "duration": 14,
    "start_time": "2022-03-12T09:28:13.848Z"
   },
   {
    "duration": 21,
    "start_time": "2022-03-12T09:28:13.863Z"
   },
   {
    "duration": 31,
    "start_time": "2022-03-12T09:28:13.886Z"
   },
   {
    "duration": 108,
    "start_time": "2022-03-12T09:28:13.918Z"
   },
   {
    "duration": 3,
    "start_time": "2022-03-12T09:28:24.101Z"
   },
   {
    "duration": 709,
    "start_time": "2022-03-12T09:28:24.114Z"
   },
   {
    "duration": 8,
    "start_time": "2022-03-12T09:28:24.825Z"
   },
   {
    "duration": 12,
    "start_time": "2022-03-12T09:28:24.835Z"
   },
   {
    "duration": 13,
    "start_time": "2022-03-12T09:28:24.848Z"
   },
   {
    "duration": 5,
    "start_time": "2022-03-12T09:28:24.862Z"
   },
   {
    "duration": 12,
    "start_time": "2022-03-12T09:28:24.868Z"
   },
   {
    "duration": 2,
    "start_time": "2022-03-12T09:28:24.881Z"
   },
   {
    "duration": 9,
    "start_time": "2022-03-12T09:28:24.885Z"
   },
   {
    "duration": 47,
    "start_time": "2022-03-12T09:28:24.896Z"
   },
   {
    "duration": 77,
    "start_time": "2022-03-12T09:28:24.945Z"
   },
   {
    "duration": 11,
    "start_time": "2022-03-12T09:29:04.947Z"
   },
   {
    "duration": 10,
    "start_time": "2022-03-12T09:32:22.137Z"
   },
   {
    "duration": 9,
    "start_time": "2022-03-12T09:33:25.005Z"
   },
   {
    "duration": 9,
    "start_time": "2022-03-12T09:46:51.343Z"
   },
   {
    "duration": 7,
    "start_time": "2022-03-12T09:47:13.537Z"
   },
   {
    "duration": 9,
    "start_time": "2022-03-12T09:47:20.440Z"
   },
   {
    "duration": 3,
    "start_time": "2022-03-12T09:47:31.900Z"
   },
   {
    "duration": 313,
    "start_time": "2022-03-12T09:47:52.818Z"
   },
   {
    "duration": 4,
    "start_time": "2022-03-12T09:48:03.371Z"
   },
   {
    "duration": 9,
    "start_time": "2022-03-12T09:51:32.758Z"
   },
   {
    "duration": 209,
    "start_time": "2022-03-12T10:08:54.141Z"
   },
   {
    "duration": 184,
    "start_time": "2022-03-12T10:09:03.011Z"
   },
   {
    "duration": 7,
    "start_time": "2022-03-12T10:34:30.571Z"
   },
   {
    "duration": 5,
    "start_time": "2022-03-12T10:34:41.580Z"
   },
   {
    "duration": 8,
    "start_time": "2022-03-12T10:35:14.652Z"
   },
   {
    "duration": 4,
    "start_time": "2022-03-12T10:35:15.562Z"
   },
   {
    "duration": 5,
    "start_time": "2022-03-12T10:35:23.757Z"
   },
   {
    "duration": 6,
    "start_time": "2022-03-12T10:36:17.337Z"
   },
   {
    "duration": 4,
    "start_time": "2022-03-12T10:36:23.627Z"
   },
   {
    "duration": 4,
    "start_time": "2022-03-12T10:36:45.234Z"
   },
   {
    "duration": 5,
    "start_time": "2022-03-12T10:36:56.666Z"
   },
   {
    "duration": 6,
    "start_time": "2022-03-12T10:44:10.693Z"
   },
   {
    "duration": 217,
    "start_time": "2022-03-12T11:00:53.831Z"
   },
   {
    "duration": 176,
    "start_time": "2022-03-12T11:01:59.479Z"
   },
   {
    "duration": 177,
    "start_time": "2022-03-12T11:02:21.927Z"
   },
   {
    "duration": 183,
    "start_time": "2022-03-12T11:06:29.061Z"
   },
   {
    "duration": 176,
    "start_time": "2022-03-12T11:11:51.710Z"
   },
   {
    "duration": 387,
    "start_time": "2022-03-12T11:12:00.868Z"
   },
   {
    "duration": 171,
    "start_time": "2022-03-12T11:12:58.249Z"
   },
   {
    "duration": 219,
    "start_time": "2022-03-12T11:14:02.884Z"
   },
   {
    "duration": 187,
    "start_time": "2022-03-12T11:27:18.006Z"
   },
   {
    "duration": 7,
    "start_time": "2022-03-12T11:27:49.506Z"
   },
   {
    "duration": 4,
    "start_time": "2022-03-12T11:27:50.428Z"
   },
   {
    "duration": 4,
    "start_time": "2022-03-12T11:27:59.232Z"
   },
   {
    "duration": 337,
    "start_time": "2022-03-12T11:28:37.956Z"
   },
   {
    "duration": 834,
    "start_time": "2022-03-12T11:30:55.291Z"
   },
   {
    "duration": 8,
    "start_time": "2022-03-12T11:32:13.659Z"
   },
   {
    "duration": 4,
    "start_time": "2022-03-12T11:32:14.281Z"
   },
   {
    "duration": 4,
    "start_time": "2022-03-12T11:32:17.423Z"
   },
   {
    "duration": 4,
    "start_time": "2022-03-12T11:32:17.984Z"
   },
   {
    "duration": 1845,
    "start_time": "2022-03-12T11:32:18.775Z"
   },
   {
    "duration": 1471,
    "start_time": "2022-03-13T04:55:00.217Z"
   },
   {
    "duration": 965,
    "start_time": "2022-03-13T04:55:01.690Z"
   },
   {
    "duration": 4,
    "start_time": "2022-03-13T04:55:02.659Z"
   },
   {
    "duration": 26,
    "start_time": "2022-03-13T04:55:02.667Z"
   },
   {
    "duration": 48,
    "start_time": "2022-03-13T04:55:02.696Z"
   },
   {
    "duration": 8,
    "start_time": "2022-03-13T04:55:02.748Z"
   },
   {
    "duration": 18,
    "start_time": "2022-03-13T04:55:02.760Z"
   },
   {
    "duration": 11,
    "start_time": "2022-03-13T04:55:02.781Z"
   },
   {
    "duration": 19,
    "start_time": "2022-03-13T04:55:02.837Z"
   },
   {
    "duration": 216,
    "start_time": "2022-03-13T04:55:02.859Z"
   },
   {
    "duration": 12,
    "start_time": "2022-03-13T04:55:03.078Z"
   },
   {
    "duration": 7,
    "start_time": "2022-03-13T04:55:03.093Z"
   },
   {
    "duration": 35,
    "start_time": "2022-03-13T04:55:03.102Z"
   },
   {
    "duration": 7,
    "start_time": "2022-03-13T04:55:03.139Z"
   },
   {
    "duration": 7703,
    "start_time": "2022-03-13T04:55:03.149Z"
   },
   {
    "duration": 8,
    "start_time": "2022-03-13T04:55:10.854Z"
   },
   {
    "duration": 13,
    "start_time": "2022-03-13T04:55:10.865Z"
   },
   {
    "duration": 354,
    "start_time": "2022-03-13T11:05:14.366Z"
   },
   {
    "duration": 1740,
    "start_time": "2022-03-13T11:05:17.257Z"
   },
   {
    "duration": 1382,
    "start_time": "2022-03-13T11:05:19.000Z"
   },
   {
    "duration": 4,
    "start_time": "2022-03-13T11:05:20.386Z"
   },
   {
    "duration": 28,
    "start_time": "2022-03-13T11:05:20.394Z"
   },
   {
    "duration": 74,
    "start_time": "2022-03-13T11:05:20.426Z"
   },
   {
    "duration": 9,
    "start_time": "2022-03-13T11:05:20.503Z"
   },
   {
    "duration": 23,
    "start_time": "2022-03-13T11:05:20.514Z"
   },
   {
    "duration": 43,
    "start_time": "2022-03-13T11:05:20.542Z"
   },
   {
    "duration": 23,
    "start_time": "2022-03-13T11:05:20.589Z"
   },
   {
    "duration": 258,
    "start_time": "2022-03-13T11:05:20.616Z"
   },
   {
    "duration": 12,
    "start_time": "2022-03-13T11:05:20.882Z"
   },
   {
    "duration": 7,
    "start_time": "2022-03-13T11:05:20.897Z"
   },
   {
    "duration": 15,
    "start_time": "2022-03-13T11:05:20.906Z"
   },
   {
    "duration": 13,
    "start_time": "2022-03-13T11:05:20.924Z"
   },
   {
    "duration": 8646,
    "start_time": "2022-03-13T11:05:20.940Z"
   },
   {
    "duration": 12,
    "start_time": "2022-03-13T11:05:29.588Z"
   },
   {
    "duration": 6,
    "start_time": "2022-03-13T11:05:56.688Z"
   },
   {
    "duration": 12,
    "start_time": "2022-03-13T11:11:17.190Z"
   },
   {
    "duration": 13,
    "start_time": "2022-03-13T11:11:25.678Z"
   },
   {
    "duration": 6,
    "start_time": "2022-03-13T11:11:29.937Z"
   },
   {
    "duration": 82,
    "start_time": "2022-03-13T11:12:39.975Z"
   },
   {
    "duration": 13,
    "start_time": "2022-03-13T11:12:41.391Z"
   },
   {
    "duration": 17,
    "start_time": "2022-03-13T11:13:04.270Z"
   },
   {
    "duration": 16,
    "start_time": "2022-03-13T11:13:41.924Z"
   },
   {
    "duration": 16,
    "start_time": "2022-03-13T11:14:03.342Z"
   },
   {
    "duration": 12,
    "start_time": "2022-03-13T11:14:27.788Z"
   },
   {
    "duration": 12,
    "start_time": "2022-03-13T11:14:48.990Z"
   },
   {
    "duration": 19,
    "start_time": "2022-03-13T11:14:51.481Z"
   },
   {
    "duration": 10,
    "start_time": "2022-03-13T11:14:52.267Z"
   },
   {
    "duration": 166,
    "start_time": "2022-03-13T11:15:56.098Z"
   },
   {
    "duration": 179,
    "start_time": "2022-03-13T11:16:16.410Z"
   },
   {
    "duration": 42,
    "start_time": "2022-03-13T11:16:32.754Z"
   },
   {
    "duration": 6,
    "start_time": "2022-03-13T11:21:43.728Z"
   },
   {
    "duration": 877,
    "start_time": "2022-03-13T11:21:43.738Z"
   },
   {
    "duration": 4,
    "start_time": "2022-03-13T11:21:44.618Z"
   },
   {
    "duration": 27,
    "start_time": "2022-03-13T11:21:44.624Z"
   },
   {
    "duration": 37,
    "start_time": "2022-03-13T11:21:44.653Z"
   },
   {
    "duration": 9,
    "start_time": "2022-03-13T11:21:44.693Z"
   },
   {
    "duration": 24,
    "start_time": "2022-03-13T11:21:44.705Z"
   },
   {
    "duration": 9,
    "start_time": "2022-03-13T11:21:44.732Z"
   },
   {
    "duration": 12,
    "start_time": "2022-03-13T11:21:44.743Z"
   },
   {
    "duration": 34,
    "start_time": "2022-03-13T11:21:44.757Z"
   },
   {
    "duration": 9,
    "start_time": "2022-03-13T11:21:44.794Z"
   },
   {
    "duration": 18,
    "start_time": "2022-03-13T11:21:44.806Z"
   },
   {
    "duration": 7337,
    "start_time": "2022-03-13T11:21:44.827Z"
   },
   {
    "duration": 24,
    "start_time": "2022-03-13T11:21:52.166Z"
   },
   {
    "duration": 5,
    "start_time": "2022-03-13T11:21:52.192Z"
   },
   {
    "duration": 89,
    "start_time": "2022-03-13T11:21:52.199Z"
   },
   {
    "duration": 13,
    "start_time": "2022-03-13T11:21:52.291Z"
   },
   {
    "duration": 10,
    "start_time": "2022-03-13T11:21:52.307Z"
   },
   {
    "duration": 19,
    "start_time": "2022-03-13T11:21:52.320Z"
   },
   {
    "duration": 47,
    "start_time": "2022-03-13T11:21:52.341Z"
   },
   {
    "duration": 176,
    "start_time": "2022-03-13T11:21:52.390Z"
   },
   {
    "duration": 186,
    "start_time": "2022-03-13T11:21:52.568Z"
   },
   {
    "duration": 53,
    "start_time": "2022-03-13T11:21:52.757Z"
   },
   {
    "duration": 7,
    "start_time": "2022-03-13T11:27:59.260Z"
   },
   {
    "duration": 8,
    "start_time": "2022-03-13T11:39:37.563Z"
   },
   {
    "duration": 28,
    "start_time": "2022-03-13T11:40:35.293Z"
   },
   {
    "duration": 6,
    "start_time": "2022-03-13T12:07:07.666Z"
   },
   {
    "duration": 29,
    "start_time": "2022-03-13T12:07:18.271Z"
   },
   {
    "duration": 16,
    "start_time": "2022-03-13T12:07:29.677Z"
   },
   {
    "duration": 10,
    "start_time": "2022-03-13T12:08:50.334Z"
   },
   {
    "duration": 8,
    "start_time": "2022-03-13T12:15:21.781Z"
   },
   {
    "duration": 9,
    "start_time": "2022-03-13T12:15:40.024Z"
   },
   {
    "duration": 17,
    "start_time": "2022-03-13T12:15:46.693Z"
   },
   {
    "duration": 353,
    "start_time": "2022-03-13T13:11:55.424Z"
   },
   {
    "duration": 264,
    "start_time": "2022-03-13T13:13:02.018Z"
   },
   {
    "duration": 8116,
    "start_time": "2022-03-13T13:14:54.868Z"
   },
   {
    "duration": 70,
    "start_time": "2022-03-13T13:15:24.429Z"
   },
   {
    "duration": 81,
    "start_time": "2022-03-13T13:15:46.646Z"
   },
   {
    "duration": 17,
    "start_time": "2022-03-13T13:16:37.565Z"
   },
   {
    "duration": 78,
    "start_time": "2022-03-13T13:17:40.679Z"
   },
   {
    "duration": 109,
    "start_time": "2022-03-13T13:17:50.482Z"
   },
   {
    "duration": 83,
    "start_time": "2022-03-13T13:18:07.897Z"
   },
   {
    "duration": 6,
    "start_time": "2022-03-13T13:18:50.874Z"
   },
   {
    "duration": 15,
    "start_time": "2022-03-13T13:18:56.211Z"
   },
   {
    "duration": 85,
    "start_time": "2022-03-13T13:19:07.739Z"
   },
   {
    "duration": 266,
    "start_time": "2022-03-13T13:20:28.649Z"
   },
   {
    "duration": 557,
    "start_time": "2022-03-13T13:21:40.982Z"
   },
   {
    "duration": 18,
    "start_time": "2022-03-13T13:22:52.533Z"
   },
   {
    "duration": 21,
    "start_time": "2022-03-13T13:23:27.132Z"
   },
   {
    "duration": 314,
    "start_time": "2022-03-13T13:24:04.162Z"
   },
   {
    "duration": 18,
    "start_time": "2022-03-13T13:24:38.677Z"
   },
   {
    "duration": 13,
    "start_time": "2022-03-13T13:29:55.258Z"
   },
   {
    "duration": 13,
    "start_time": "2022-03-13T13:29:56.448Z"
   },
   {
    "duration": 7,
    "start_time": "2022-03-13T13:33:56.404Z"
   },
   {
    "duration": 10,
    "start_time": "2022-03-13T13:33:57.389Z"
   },
   {
    "duration": 8,
    "start_time": "2022-03-13T13:34:05.406Z"
   },
   {
    "duration": 12,
    "start_time": "2022-03-13T13:34:06.600Z"
   },
   {
    "duration": 8,
    "start_time": "2022-03-13T13:39:00.704Z"
   },
   {
    "duration": 8,
    "start_time": "2022-03-13T13:40:12.360Z"
   },
   {
    "duration": 11,
    "start_time": "2022-03-13T13:40:23.030Z"
   },
   {
    "duration": 7,
    "start_time": "2022-03-13T13:40:37.124Z"
   },
   {
    "duration": 6,
    "start_time": "2022-03-13T13:41:03.882Z"
   },
   {
    "duration": 8,
    "start_time": "2022-03-13T13:41:17.453Z"
   },
   {
    "duration": 8,
    "start_time": "2022-03-13T13:41:39.935Z"
   },
   {
    "duration": 9,
    "start_time": "2022-03-13T13:42:12.120Z"
   },
   {
    "duration": 6,
    "start_time": "2022-03-13T13:42:14.994Z"
   },
   {
    "duration": 9,
    "start_time": "2022-03-13T13:42:17.817Z"
   },
   {
    "duration": 7,
    "start_time": "2022-03-13T13:42:48.229Z"
   },
   {
    "duration": 6,
    "start_time": "2022-03-13T13:42:57.226Z"
   },
   {
    "duration": 6,
    "start_time": "2022-03-13T13:45:05.857Z"
   },
   {
    "duration": 7,
    "start_time": "2022-03-13T13:46:37.847Z"
   },
   {
    "duration": 13,
    "start_time": "2022-03-13T13:46:44.717Z"
   },
   {
    "duration": 5,
    "start_time": "2022-03-13T14:46:01.473Z"
   },
   {
    "duration": 954,
    "start_time": "2022-03-13T14:46:01.486Z"
   },
   {
    "duration": 3,
    "start_time": "2022-03-13T14:46:02.443Z"
   },
   {
    "duration": 43,
    "start_time": "2022-03-13T14:46:02.449Z"
   },
   {
    "duration": 40,
    "start_time": "2022-03-13T14:46:02.496Z"
   },
   {
    "duration": 8,
    "start_time": "2022-03-13T14:46:02.539Z"
   },
   {
    "duration": 8,
    "start_time": "2022-03-13T14:46:02.549Z"
   },
   {
    "duration": 30,
    "start_time": "2022-03-13T14:46:02.560Z"
   },
   {
    "duration": 12,
    "start_time": "2022-03-13T14:46:02.592Z"
   },
   {
    "duration": 17,
    "start_time": "2022-03-13T14:46:02.608Z"
   },
   {
    "duration": 6,
    "start_time": "2022-03-13T14:46:02.629Z"
   },
   {
    "duration": 47,
    "start_time": "2022-03-13T14:46:02.638Z"
   },
   {
    "duration": 17,
    "start_time": "2022-03-13T14:46:02.688Z"
   },
   {
    "duration": 7,
    "start_time": "2022-03-13T14:46:02.708Z"
   },
   {
    "duration": 117,
    "start_time": "2022-03-13T14:46:02.718Z"
   },
   {
    "duration": 13,
    "start_time": "2022-03-13T14:46:02.838Z"
   },
   {
    "duration": 31,
    "start_time": "2022-03-13T14:46:02.854Z"
   },
   {
    "duration": 19,
    "start_time": "2022-03-13T14:46:02.888Z"
   },
   {
    "duration": 12,
    "start_time": "2022-03-13T14:46:02.909Z"
   },
   {
    "duration": 199,
    "start_time": "2022-03-13T14:46:02.924Z"
   },
   {
    "duration": 192,
    "start_time": "2022-03-13T14:46:03.125Z"
   },
   {
    "duration": 45,
    "start_time": "2022-03-13T14:46:03.320Z"
   },
   {
    "duration": 19,
    "start_time": "2022-03-13T14:46:03.367Z"
   },
   {
    "duration": 24,
    "start_time": "2022-03-13T14:46:03.388Z"
   },
   {
    "duration": 14,
    "start_time": "2022-03-13T14:46:03.415Z"
   },
   {
    "duration": 10,
    "start_time": "2022-03-13T14:46:03.431Z"
   },
   {
    "duration": 6,
    "start_time": "2022-03-13T15:17:07.660Z"
   },
   {
    "duration": 852,
    "start_time": "2022-03-13T15:17:07.668Z"
   },
   {
    "duration": 3,
    "start_time": "2022-03-13T15:17:08.524Z"
   },
   {
    "duration": 18,
    "start_time": "2022-03-13T15:17:08.530Z"
   },
   {
    "duration": 48,
    "start_time": "2022-03-13T15:17:08.551Z"
   },
   {
    "duration": 8,
    "start_time": "2022-03-13T15:17:08.602Z"
   },
   {
    "duration": 3,
    "start_time": "2022-03-13T15:17:08.616Z"
   },
   {
    "duration": 11,
    "start_time": "2022-03-13T15:17:08.623Z"
   },
   {
    "duration": 4,
    "start_time": "2022-03-13T15:17:08.683Z"
   },
   {
    "duration": 13,
    "start_time": "2022-03-13T15:17:08.690Z"
   },
   {
    "duration": 6,
    "start_time": "2022-03-13T15:17:08.706Z"
   },
   {
    "duration": 10,
    "start_time": "2022-03-13T15:17:08.715Z"
   },
   {
    "duration": 59,
    "start_time": "2022-03-13T15:17:08.728Z"
   },
   {
    "duration": 7,
    "start_time": "2022-03-13T15:17:08.790Z"
   },
   {
    "duration": 46,
    "start_time": "2022-03-13T15:17:08.800Z"
   },
   {
    "duration": 38,
    "start_time": "2022-03-13T15:17:08.849Z"
   },
   {
    "duration": 12,
    "start_time": "2022-03-13T15:17:08.889Z"
   },
   {
    "duration": 15,
    "start_time": "2022-03-13T15:17:08.904Z"
   },
   {
    "duration": 9,
    "start_time": "2022-03-13T15:17:08.924Z"
   },
   {
    "duration": 204,
    "start_time": "2022-03-13T15:17:08.936Z"
   },
   {
    "duration": 183,
    "start_time": "2022-03-13T15:17:09.143Z"
   },
   {
    "duration": 38,
    "start_time": "2022-03-13T15:17:09.329Z"
   },
   {
    "duration": 6,
    "start_time": "2022-03-13T15:17:09.383Z"
   },
   {
    "duration": 11,
    "start_time": "2022-03-13T15:17:09.391Z"
   },
   {
    "duration": 11,
    "start_time": "2022-03-13T15:17:09.405Z"
   },
   {
    "duration": 11,
    "start_time": "2022-03-13T15:17:09.418Z"
   },
   {
    "duration": 15,
    "start_time": "2022-03-13T15:21:41.846Z"
   },
   {
    "duration": 15,
    "start_time": "2022-03-13T15:21:51.985Z"
   },
   {
    "duration": 6,
    "start_time": "2022-03-13T15:22:16.356Z"
   },
   {
    "duration": 17,
    "start_time": "2022-03-13T15:22:17.388Z"
   },
   {
    "duration": 48,
    "start_time": "2022-03-13T15:22:18.363Z"
   },
   {
    "duration": 14,
    "start_time": "2022-03-13T15:22:26.452Z"
   },
   {
    "duration": 13,
    "start_time": "2022-03-13T15:22:29.348Z"
   },
   {
    "duration": 6,
    "start_time": "2022-03-13T15:22:36.328Z"
   },
   {
    "duration": 882,
    "start_time": "2022-03-13T15:22:36.339Z"
   },
   {
    "duration": 2,
    "start_time": "2022-03-13T15:22:37.224Z"
   },
   {
    "duration": 18,
    "start_time": "2022-03-13T15:22:37.230Z"
   },
   {
    "duration": 49,
    "start_time": "2022-03-13T15:22:37.250Z"
   },
   {
    "duration": 6,
    "start_time": "2022-03-13T15:22:37.301Z"
   },
   {
    "duration": 9,
    "start_time": "2022-03-13T15:22:37.310Z"
   },
   {
    "duration": 17,
    "start_time": "2022-03-13T15:22:37.321Z"
   },
   {
    "duration": 5,
    "start_time": "2022-03-13T15:22:37.343Z"
   },
   {
    "duration": 17,
    "start_time": "2022-03-13T15:22:37.382Z"
   },
   {
    "duration": 48,
    "start_time": "2022-03-13T15:22:37.401Z"
   },
   {
    "duration": 40,
    "start_time": "2022-03-13T15:22:37.452Z"
   },
   {
    "duration": 12,
    "start_time": "2022-03-13T15:22:37.495Z"
   },
   {
    "duration": 75,
    "start_time": "2022-03-13T15:22:37.510Z"
   },
   {
    "duration": 13,
    "start_time": "2022-03-13T15:22:37.587Z"
   },
   {
    "duration": 8,
    "start_time": "2022-03-13T15:22:37.603Z"
   },
   {
    "duration": 16,
    "start_time": "2022-03-13T15:22:37.613Z"
   },
   {
    "duration": 9,
    "start_time": "2022-03-13T15:22:37.631Z"
   },
   {
    "duration": 191,
    "start_time": "2022-03-13T15:22:37.643Z"
   },
   {
    "duration": 186,
    "start_time": "2022-03-13T15:22:37.837Z"
   },
   {
    "duration": 39,
    "start_time": "2022-03-13T15:22:38.026Z"
   },
   {
    "duration": 7,
    "start_time": "2022-03-13T15:22:38.083Z"
   },
   {
    "duration": 18,
    "start_time": "2022-03-13T15:22:38.092Z"
   },
   {
    "duration": 12,
    "start_time": "2022-03-13T15:22:38.116Z"
   },
   {
    "duration": 9,
    "start_time": "2022-03-13T15:22:38.131Z"
   },
   {
    "duration": 4,
    "start_time": "2022-03-13T15:46:39.313Z"
   },
   {
    "duration": 10,
    "start_time": "2022-03-13T15:46:40.994Z"
   },
   {
    "duration": 391,
    "start_time": "2022-03-13T15:55:54.434Z"
   },
   {
    "duration": 266,
    "start_time": "2022-03-13T15:58:50.814Z"
   },
   {
    "duration": 390,
    "start_time": "2022-03-13T16:02:57.503Z"
   },
   {
    "duration": 19,
    "start_time": "2022-03-13T16:07:09.302Z"
   },
   {
    "duration": 15,
    "start_time": "2022-03-13T16:08:15.685Z"
   },
   {
    "duration": 402,
    "start_time": "2022-03-13T16:09:14.318Z"
   },
   {
    "duration": 11,
    "start_time": "2022-03-13T16:09:53.268Z"
   },
   {
    "duration": 389,
    "start_time": "2022-03-13T16:10:15.622Z"
   },
   {
    "duration": 280,
    "start_time": "2022-03-14T04:03:17.851Z"
   },
   {
    "duration": 1133,
    "start_time": "2022-03-14T04:03:24.640Z"
   },
   {
    "duration": 819,
    "start_time": "2022-03-14T04:03:25.775Z"
   },
   {
    "duration": 14,
    "start_time": "2022-03-14T04:03:26.601Z"
   },
   {
    "duration": 22,
    "start_time": "2022-03-14T04:03:26.617Z"
   },
   {
    "duration": 5,
    "start_time": "2022-03-14T04:03:26.641Z"
   },
   {
    "duration": 43,
    "start_time": "2022-03-14T04:03:26.648Z"
   },
   {
    "duration": 28,
    "start_time": "2022-03-14T04:03:26.693Z"
   },
   {
    "duration": 36,
    "start_time": "2022-03-14T04:03:26.724Z"
   },
   {
    "duration": 38,
    "start_time": "2022-03-14T04:03:26.762Z"
   },
   {
    "duration": 15,
    "start_time": "2022-03-14T04:03:26.802Z"
   },
   {
    "duration": 19,
    "start_time": "2022-03-14T04:03:26.819Z"
   },
   {
    "duration": 58,
    "start_time": "2022-03-14T04:03:26.840Z"
   },
   {
    "duration": 12,
    "start_time": "2022-03-14T04:03:26.900Z"
   },
   {
    "duration": 9,
    "start_time": "2022-03-14T04:03:26.914Z"
   },
   {
    "duration": 18,
    "start_time": "2022-03-14T04:03:26.926Z"
   },
   {
    "duration": 12,
    "start_time": "2022-03-14T04:03:26.946Z"
   },
   {
    "duration": 120,
    "start_time": "2022-03-14T04:03:26.960Z"
   },
   {
    "duration": 128,
    "start_time": "2022-03-14T04:03:27.082Z"
   },
   {
    "duration": 26,
    "start_time": "2022-03-14T04:03:27.212Z"
   },
   {
    "duration": 3,
    "start_time": "2022-03-14T04:03:27.240Z"
   },
   {
    "duration": 22,
    "start_time": "2022-03-14T04:03:27.245Z"
   },
   {
    "duration": 322,
    "start_time": "2022-03-14T04:03:27.270Z"
   },
   {
    "duration": 14,
    "start_time": "2022-03-14T04:03:27.595Z"
   },
   {
    "duration": 9,
    "start_time": "2022-03-14T04:03:27.611Z"
   },
   {
    "duration": 3,
    "start_time": "2022-03-14T04:03:27.622Z"
   },
   {
    "duration": 16,
    "start_time": "2022-03-14T04:03:27.627Z"
   },
   {
    "duration": 11,
    "start_time": "2022-03-14T04:30:53.540Z"
   },
   {
    "duration": 435,
    "start_time": "2022-03-14T04:38:35.361Z"
   },
   {
    "duration": 229,
    "start_time": "2022-03-14T04:42:30.579Z"
   },
   {
    "duration": 242,
    "start_time": "2022-03-14T04:46:25.711Z"
   },
   {
    "duration": 4,
    "start_time": "2022-03-14T04:48:58.780Z"
   },
   {
    "duration": 11,
    "start_time": "2022-03-14T04:49:00.000Z"
   },
   {
    "duration": 4,
    "start_time": "2022-03-14T04:49:33.117Z"
   },
   {
    "duration": 11,
    "start_time": "2022-03-14T04:49:33.798Z"
   },
   {
    "duration": 4,
    "start_time": "2022-03-14T04:49:42.520Z"
   },
   {
    "duration": 10,
    "start_time": "2022-03-14T04:49:43.435Z"
   },
   {
    "duration": 6,
    "start_time": "2022-03-14T04:50:12.887Z"
   },
   {
    "duration": 6,
    "start_time": "2022-03-14T04:50:37.580Z"
   },
   {
    "duration": 7,
    "start_time": "2022-03-14T04:50:48.643Z"
   },
   {
    "duration": 5,
    "start_time": "2022-03-14T04:51:16.326Z"
   },
   {
    "duration": 4,
    "start_time": "2022-03-14T04:51:17.974Z"
   },
   {
    "duration": 5,
    "start_time": "2022-03-14T04:51:59.674Z"
   },
   {
    "duration": 5,
    "start_time": "2022-03-14T04:52:46.676Z"
   },
   {
    "duration": 9,
    "start_time": "2022-03-14T04:52:57.970Z"
   },
   {
    "duration": 5,
    "start_time": "2022-03-14T05:04:54.918Z"
   },
   {
    "duration": 812,
    "start_time": "2022-03-14T05:04:54.927Z"
   },
   {
    "duration": 13,
    "start_time": "2022-03-14T05:04:55.742Z"
   },
   {
    "duration": 21,
    "start_time": "2022-03-14T05:04:55.757Z"
   },
   {
    "duration": 22,
    "start_time": "2022-03-14T05:04:55.780Z"
   },
   {
    "duration": 9,
    "start_time": "2022-03-14T05:04:55.804Z"
   },
   {
    "duration": 18,
    "start_time": "2022-03-14T05:04:55.814Z"
   },
   {
    "duration": 19,
    "start_time": "2022-03-14T05:04:55.833Z"
   },
   {
    "duration": 49,
    "start_time": "2022-03-14T05:04:55.855Z"
   },
   {
    "duration": 12,
    "start_time": "2022-03-14T05:04:55.906Z"
   },
   {
    "duration": 11,
    "start_time": "2022-03-14T05:04:55.920Z"
   },
   {
    "duration": 50,
    "start_time": "2022-03-14T05:04:55.933Z"
   },
   {
    "duration": 23,
    "start_time": "2022-03-14T05:04:55.985Z"
   },
   {
    "duration": 8,
    "start_time": "2022-03-14T05:04:56.010Z"
   },
   {
    "duration": 15,
    "start_time": "2022-03-14T05:04:56.020Z"
   },
   {
    "duration": 9,
    "start_time": "2022-03-14T05:04:56.037Z"
   },
   {
    "duration": 123,
    "start_time": "2022-03-14T05:04:56.047Z"
   },
   {
    "duration": 121,
    "start_time": "2022-03-14T05:04:56.172Z"
   },
   {
    "duration": 31,
    "start_time": "2022-03-14T05:04:56.295Z"
   },
   {
    "duration": 3,
    "start_time": "2022-03-14T05:04:56.328Z"
   },
   {
    "duration": 16,
    "start_time": "2022-03-14T05:04:56.333Z"
   },
   {
    "duration": 293,
    "start_time": "2022-03-14T05:04:56.351Z"
   },
   {
    "duration": 8,
    "start_time": "2022-03-14T05:04:56.646Z"
   },
   {
    "duration": 8,
    "start_time": "2022-03-14T05:04:56.658Z"
   },
   {
    "duration": 5,
    "start_time": "2022-03-14T05:04:56.668Z"
   },
   {
    "duration": 306,
    "start_time": "2022-03-14T05:04:56.675Z"
   },
   {
    "duration": -17002,
    "start_time": "2022-03-14T05:05:13.985Z"
   },
   {
    "duration": 6,
    "start_time": "2022-03-14T05:05:33.009Z"
   },
   {
    "duration": 242,
    "start_time": "2022-03-14T05:06:01.302Z"
   },
   {
    "duration": 5,
    "start_time": "2022-03-14T05:06:11.802Z"
   },
   {
    "duration": 797,
    "start_time": "2022-03-14T05:06:11.809Z"
   },
   {
    "duration": 13,
    "start_time": "2022-03-14T05:06:12.608Z"
   },
   {
    "duration": 20,
    "start_time": "2022-03-14T05:06:12.623Z"
   },
   {
    "duration": 6,
    "start_time": "2022-03-14T05:06:12.645Z"
   },
   {
    "duration": 8,
    "start_time": "2022-03-14T05:06:12.653Z"
   },
   {
    "duration": 38,
    "start_time": "2022-03-14T05:06:12.664Z"
   },
   {
    "duration": 15,
    "start_time": "2022-03-14T05:06:12.705Z"
   },
   {
    "duration": 33,
    "start_time": "2022-03-14T05:06:12.722Z"
   },
   {
    "duration": 11,
    "start_time": "2022-03-14T05:06:12.757Z"
   },
   {
    "duration": 35,
    "start_time": "2022-03-14T05:06:12.770Z"
   },
   {
    "duration": 30,
    "start_time": "2022-03-14T05:06:12.807Z"
   },
   {
    "duration": 11,
    "start_time": "2022-03-14T05:06:12.839Z"
   },
   {
    "duration": 9,
    "start_time": "2022-03-14T05:06:12.852Z"
   },
   {
    "duration": 43,
    "start_time": "2022-03-14T05:06:12.863Z"
   },
   {
    "duration": 8,
    "start_time": "2022-03-14T05:06:12.908Z"
   },
   {
    "duration": 104,
    "start_time": "2022-03-14T05:06:12.918Z"
   },
   {
    "duration": 123,
    "start_time": "2022-03-14T05:06:13.023Z"
   },
   {
    "duration": 24,
    "start_time": "2022-03-14T05:06:13.149Z"
   },
   {
    "duration": 4,
    "start_time": "2022-03-14T05:06:13.175Z"
   },
   {
    "duration": 24,
    "start_time": "2022-03-14T05:06:13.180Z"
   },
   {
    "duration": 291,
    "start_time": "2022-03-14T05:06:13.206Z"
   },
   {
    "duration": 9,
    "start_time": "2022-03-14T05:06:13.501Z"
   },
   {
    "duration": 11,
    "start_time": "2022-03-14T05:06:13.512Z"
   },
   {
    "duration": 5,
    "start_time": "2022-03-14T05:06:13.525Z"
   },
   {
    "duration": 231,
    "start_time": "2022-03-14T05:06:13.532Z"
   },
   {
    "duration": -17015,
    "start_time": "2022-03-14T05:06:30.780Z"
   },
   {
    "duration": 5,
    "start_time": "2022-03-14T05:06:47.287Z"
   },
   {
    "duration": 5,
    "start_time": "2022-03-14T05:06:57.422Z"
   },
   {
    "duration": 4,
    "start_time": "2022-03-14T05:07:03.324Z"
   },
   {
    "duration": 788,
    "start_time": "2022-03-14T05:07:03.331Z"
   },
   {
    "duration": 13,
    "start_time": "2022-03-14T05:07:04.122Z"
   },
   {
    "duration": 28,
    "start_time": "2022-03-14T05:07:04.137Z"
   },
   {
    "duration": 11,
    "start_time": "2022-03-14T05:07:04.167Z"
   },
   {
    "duration": 25,
    "start_time": "2022-03-14T05:07:04.180Z"
   },
   {
    "duration": 13,
    "start_time": "2022-03-14T05:07:04.207Z"
   },
   {
    "duration": 30,
    "start_time": "2022-03-14T05:07:04.222Z"
   },
   {
    "duration": 34,
    "start_time": "2022-03-14T05:07:04.254Z"
   },
   {
    "duration": 16,
    "start_time": "2022-03-14T05:07:04.290Z"
   },
   {
    "duration": 22,
    "start_time": "2022-03-14T05:07:04.308Z"
   },
   {
    "duration": 53,
    "start_time": "2022-03-14T05:07:04.332Z"
   },
   {
    "duration": 11,
    "start_time": "2022-03-14T05:07:04.387Z"
   },
   {
    "duration": 16,
    "start_time": "2022-03-14T05:07:04.400Z"
   },
   {
    "duration": 18,
    "start_time": "2022-03-14T05:07:04.418Z"
   },
   {
    "duration": 61,
    "start_time": "2022-03-14T05:07:04.438Z"
   },
   {
    "duration": 113,
    "start_time": "2022-03-14T05:07:04.501Z"
   },
   {
    "duration": 127,
    "start_time": "2022-03-14T05:07:04.616Z"
   },
   {
    "duration": 27,
    "start_time": "2022-03-14T05:07:04.747Z"
   },
   {
    "duration": 3,
    "start_time": "2022-03-14T05:07:04.777Z"
   },
   {
    "duration": 26,
    "start_time": "2022-03-14T05:07:04.782Z"
   },
   {
    "duration": 283,
    "start_time": "2022-03-14T05:07:04.810Z"
   },
   {
    "duration": 14,
    "start_time": "2022-03-14T05:07:05.095Z"
   },
   {
    "duration": 16,
    "start_time": "2022-03-14T05:07:05.111Z"
   },
   {
    "duration": 31,
    "start_time": "2022-03-14T05:07:05.129Z"
   },
   {
    "duration": 246,
    "start_time": "2022-03-14T05:07:05.162Z"
   },
   {
    "duration": -17010,
    "start_time": "2022-03-14T05:07:22.420Z"
   },
   {
    "duration": 4,
    "start_time": "2022-03-14T05:07:19.735Z"
   },
   {
    "duration": 811,
    "start_time": "2022-03-14T05:07:19.742Z"
   },
   {
    "duration": 14,
    "start_time": "2022-03-14T05:07:20.556Z"
   },
   {
    "duration": 41,
    "start_time": "2022-03-14T05:07:20.573Z"
   },
   {
    "duration": 7,
    "start_time": "2022-03-14T05:07:20.616Z"
   },
   {
    "duration": 8,
    "start_time": "2022-03-14T05:07:20.624Z"
   },
   {
    "duration": 3,
    "start_time": "2022-03-14T05:07:20.634Z"
   },
   {
    "duration": 14,
    "start_time": "2022-03-14T05:07:20.639Z"
   },
   {
    "duration": 67,
    "start_time": "2022-03-14T05:07:20.656Z"
   },
   {
    "duration": 11,
    "start_time": "2022-03-14T05:07:20.725Z"
   },
   {
    "duration": 10,
    "start_time": "2022-03-14T05:07:20.738Z"
   },
   {
    "duration": 53,
    "start_time": "2022-03-14T05:07:20.749Z"
   },
   {
    "duration": 10,
    "start_time": "2022-03-14T05:07:20.804Z"
   },
   {
    "duration": 9,
    "start_time": "2022-03-14T05:07:20.815Z"
   },
   {
    "duration": 12,
    "start_time": "2022-03-14T05:07:20.826Z"
   },
   {
    "duration": 8,
    "start_time": "2022-03-14T05:07:20.839Z"
   },
   {
    "duration": 123,
    "start_time": "2022-03-14T05:07:20.849Z"
   },
   {
    "duration": 131,
    "start_time": "2022-03-14T05:07:20.974Z"
   },
   {
    "duration": 28,
    "start_time": "2022-03-14T05:07:21.106Z"
   },
   {
    "duration": 3,
    "start_time": "2022-03-14T05:07:21.136Z"
   },
   {
    "duration": 22,
    "start_time": "2022-03-14T05:07:21.141Z"
   },
   {
    "duration": 289,
    "start_time": "2022-03-14T05:07:21.165Z"
   },
   {
    "duration": 11,
    "start_time": "2022-03-14T05:07:21.455Z"
   },
   {
    "duration": 14,
    "start_time": "2022-03-14T05:07:21.468Z"
   },
   {
    "duration": 5,
    "start_time": "2022-03-14T05:07:21.500Z"
   },
   {
    "duration": 247,
    "start_time": "2022-03-14T05:07:21.507Z"
   },
   {
    "duration": -17008,
    "start_time": "2022-03-14T05:07:38.764Z"
   },
   {
    "duration": 5,
    "start_time": "2022-03-14T05:07:42.322Z"
   },
   {
    "duration": 6,
    "start_time": "2022-03-14T05:07:57.438Z"
   },
   {
    "duration": 4,
    "start_time": "2022-03-14T05:08:34.553Z"
   },
   {
    "duration": 876,
    "start_time": "2022-03-14T05:08:34.559Z"
   },
   {
    "duration": 14,
    "start_time": "2022-03-14T05:08:35.437Z"
   },
   {
    "duration": 26,
    "start_time": "2022-03-14T05:08:35.454Z"
   },
   {
    "duration": 21,
    "start_time": "2022-03-14T05:08:35.483Z"
   },
   {
    "duration": 36,
    "start_time": "2022-03-14T05:08:35.507Z"
   },
   {
    "duration": 24,
    "start_time": "2022-03-14T05:08:35.546Z"
   },
   {
    "duration": 26,
    "start_time": "2022-03-14T05:08:35.573Z"
   },
   {
    "duration": 45,
    "start_time": "2022-03-14T05:08:35.602Z"
   },
   {
    "duration": 13,
    "start_time": "2022-03-14T05:08:35.649Z"
   },
   {
    "duration": 33,
    "start_time": "2022-03-14T05:08:35.665Z"
   },
   {
    "duration": 41,
    "start_time": "2022-03-14T05:08:35.701Z"
   },
   {
    "duration": 12,
    "start_time": "2022-03-14T05:08:35.744Z"
   },
   {
    "duration": 10,
    "start_time": "2022-03-14T05:08:35.758Z"
   },
   {
    "duration": 22,
    "start_time": "2022-03-14T05:08:35.770Z"
   },
   {
    "duration": 23,
    "start_time": "2022-03-14T05:08:35.800Z"
   },
   {
    "duration": 100,
    "start_time": "2022-03-14T05:08:35.826Z"
   },
   {
    "duration": 122,
    "start_time": "2022-03-14T05:08:35.929Z"
   },
   {
    "duration": 28,
    "start_time": "2022-03-14T05:08:36.055Z"
   },
   {
    "duration": 16,
    "start_time": "2022-03-14T05:08:36.085Z"
   },
   {
    "duration": 11,
    "start_time": "2022-03-14T05:08:36.104Z"
   },
   {
    "duration": 294,
    "start_time": "2022-03-14T05:08:36.117Z"
   },
   {
    "duration": 10,
    "start_time": "2022-03-14T05:08:36.413Z"
   },
   {
    "duration": 20,
    "start_time": "2022-03-14T05:08:36.424Z"
   },
   {
    "duration": 16,
    "start_time": "2022-03-14T05:08:36.445Z"
   },
   {
    "duration": 28,
    "start_time": "2022-03-14T05:08:36.463Z"
   },
   {
    "duration": 26,
    "start_time": "2022-03-14T05:08:36.492Z"
   },
   {
    "duration": 5,
    "start_time": "2022-03-14T05:09:51.806Z"
   },
   {
    "duration": 5,
    "start_time": "2022-03-14T05:09:55.247Z"
   },
   {
    "duration": 8,
    "start_time": "2022-03-14T05:10:50.353Z"
   },
   {
    "duration": 4,
    "start_time": "2022-03-14T05:11:04.901Z"
   },
   {
    "duration": 773,
    "start_time": "2022-03-14T05:11:04.919Z"
   },
   {
    "duration": 14,
    "start_time": "2022-03-14T05:11:05.700Z"
   },
   {
    "duration": 20,
    "start_time": "2022-03-14T05:11:05.717Z"
   },
   {
    "duration": 8,
    "start_time": "2022-03-14T05:11:05.740Z"
   },
   {
    "duration": 15,
    "start_time": "2022-03-14T05:11:05.750Z"
   },
   {
    "duration": 35,
    "start_time": "2022-03-14T05:11:05.767Z"
   },
   {
    "duration": 17,
    "start_time": "2022-03-14T05:11:05.804Z"
   },
   {
    "duration": 34,
    "start_time": "2022-03-14T05:11:05.822Z"
   },
   {
    "duration": 11,
    "start_time": "2022-03-14T05:11:05.859Z"
   },
   {
    "duration": 10,
    "start_time": "2022-03-14T05:11:05.901Z"
   },
   {
    "duration": 30,
    "start_time": "2022-03-14T05:11:05.913Z"
   },
   {
    "duration": 11,
    "start_time": "2022-03-14T05:11:05.945Z"
   },
   {
    "duration": 15,
    "start_time": "2022-03-14T05:11:05.958Z"
   },
   {
    "duration": 35,
    "start_time": "2022-03-14T05:11:05.975Z"
   },
   {
    "duration": 10,
    "start_time": "2022-03-14T05:11:06.012Z"
   },
   {
    "duration": 115,
    "start_time": "2022-03-14T05:11:06.024Z"
   },
   {
    "duration": 127,
    "start_time": "2022-03-14T05:11:06.142Z"
   },
   {
    "duration": 40,
    "start_time": "2022-03-14T05:11:06.271Z"
   },
   {
    "duration": 3,
    "start_time": "2022-03-14T05:11:06.313Z"
   },
   {
    "duration": 21,
    "start_time": "2022-03-14T05:11:06.318Z"
   },
   {
    "duration": 271,
    "start_time": "2022-03-14T05:11:06.340Z"
   },
   {
    "duration": 9,
    "start_time": "2022-03-14T05:11:06.613Z"
   },
   {
    "duration": 9,
    "start_time": "2022-03-14T05:11:06.623Z"
   },
   {
    "duration": 8,
    "start_time": "2022-03-14T05:11:06.633Z"
   },
   {
    "duration": 10,
    "start_time": "2022-03-14T05:11:06.642Z"
   },
   {
    "duration": 12,
    "start_time": "2022-03-14T05:11:06.654Z"
   },
   {
    "duration": 5,
    "start_time": "2022-03-14T05:12:28.025Z"
   },
   {
    "duration": 778,
    "start_time": "2022-03-14T05:12:28.032Z"
   },
   {
    "duration": 13,
    "start_time": "2022-03-14T05:12:28.813Z"
   },
   {
    "duration": 16,
    "start_time": "2022-03-14T05:12:28.828Z"
   },
   {
    "duration": 6,
    "start_time": "2022-03-14T05:12:28.846Z"
   },
   {
    "duration": 47,
    "start_time": "2022-03-14T05:12:28.854Z"
   },
   {
    "duration": 4,
    "start_time": "2022-03-14T05:12:28.904Z"
   },
   {
    "duration": 18,
    "start_time": "2022-03-14T05:12:28.910Z"
   },
   {
    "duration": 34,
    "start_time": "2022-03-14T05:12:28.930Z"
   },
   {
    "duration": 37,
    "start_time": "2022-03-14T05:12:28.966Z"
   },
   {
    "duration": 10,
    "start_time": "2022-03-14T05:12:29.005Z"
   },
   {
    "duration": 30,
    "start_time": "2022-03-14T05:12:29.017Z"
   },
   {
    "duration": 11,
    "start_time": "2022-03-14T05:12:29.049Z"
   },
   {
    "duration": 44,
    "start_time": "2022-03-14T05:12:29.062Z"
   },
   {
    "duration": 18,
    "start_time": "2022-03-14T05:12:29.107Z"
   },
   {
    "duration": 8,
    "start_time": "2022-03-14T05:12:29.127Z"
   },
   {
    "duration": 114,
    "start_time": "2022-03-14T05:12:29.137Z"
   },
   {
    "duration": 132,
    "start_time": "2022-03-14T05:12:29.253Z"
   },
   {
    "duration": 36,
    "start_time": "2022-03-14T05:12:29.388Z"
   },
   {
    "duration": 4,
    "start_time": "2022-03-14T05:12:29.426Z"
   },
   {
    "duration": 22,
    "start_time": "2022-03-14T05:12:29.431Z"
   },
   {
    "duration": 303,
    "start_time": "2022-03-14T05:12:29.455Z"
   },
   {
    "duration": 9,
    "start_time": "2022-03-14T05:12:29.760Z"
   },
   {
    "duration": 31,
    "start_time": "2022-03-14T05:12:29.771Z"
   },
   {
    "duration": 5,
    "start_time": "2022-03-14T05:12:29.804Z"
   },
   {
    "duration": 10,
    "start_time": "2022-03-14T05:12:29.810Z"
   },
   {
    "duration": 12,
    "start_time": "2022-03-14T05:12:29.822Z"
   },
   {
    "duration": 8,
    "start_time": "2022-03-14T05:29:56.497Z"
   },
   {
    "duration": 10,
    "start_time": "2022-03-14T05:29:59.929Z"
   },
   {
    "duration": 8,
    "start_time": "2022-03-14T05:30:02.829Z"
   },
   {
    "duration": 13,
    "start_time": "2022-03-14T05:30:10.061Z"
   },
   {
    "duration": 33,
    "start_time": "2022-03-14T05:30:30.013Z"
   },
   {
    "duration": 5,
    "start_time": "2022-03-14T05:40:04.154Z"
   },
   {
    "duration": 4,
    "start_time": "2022-03-14T05:40:20.343Z"
   },
   {
    "duration": 751,
    "start_time": "2022-03-14T05:40:20.351Z"
   },
   {
    "duration": 13,
    "start_time": "2022-03-14T05:40:21.105Z"
   },
   {
    "duration": 18,
    "start_time": "2022-03-14T05:40:21.121Z"
   },
   {
    "duration": 5,
    "start_time": "2022-03-14T05:40:21.141Z"
   },
   {
    "duration": 15,
    "start_time": "2022-03-14T05:40:21.148Z"
   },
   {
    "duration": 36,
    "start_time": "2022-03-14T05:40:21.165Z"
   },
   {
    "duration": 11,
    "start_time": "2022-03-14T05:40:21.203Z"
   },
   {
    "duration": 33,
    "start_time": "2022-03-14T05:40:21.217Z"
   },
   {
    "duration": 12,
    "start_time": "2022-03-14T05:40:21.252Z"
   },
   {
    "duration": 39,
    "start_time": "2022-03-14T05:40:21.266Z"
   },
   {
    "duration": 34,
    "start_time": "2022-03-14T05:40:21.307Z"
   },
   {
    "duration": 12,
    "start_time": "2022-03-14T05:40:21.343Z"
   },
   {
    "duration": 9,
    "start_time": "2022-03-14T05:40:21.357Z"
   },
   {
    "duration": 11,
    "start_time": "2022-03-14T05:40:21.401Z"
   },
   {
    "duration": 11,
    "start_time": "2022-03-14T05:40:21.414Z"
   },
   {
    "duration": 103,
    "start_time": "2022-03-14T05:40:21.426Z"
   },
   {
    "duration": 123,
    "start_time": "2022-03-14T05:40:21.531Z"
   },
   {
    "duration": 26,
    "start_time": "2022-03-14T05:40:21.656Z"
   },
   {
    "duration": 3,
    "start_time": "2022-03-14T05:40:21.684Z"
   },
   {
    "duration": 12,
    "start_time": "2022-03-14T05:40:21.702Z"
   },
   {
    "duration": 277,
    "start_time": "2022-03-14T05:40:21.716Z"
   },
   {
    "duration": 14,
    "start_time": "2022-03-14T05:40:21.995Z"
   },
   {
    "duration": 16,
    "start_time": "2022-03-14T05:40:22.011Z"
   },
   {
    "duration": 7,
    "start_time": "2022-03-14T05:40:22.029Z"
   },
   {
    "duration": 14,
    "start_time": "2022-03-14T05:40:22.038Z"
   },
   {
    "duration": 236,
    "start_time": "2022-03-14T05:40:22.055Z"
   },
   {
    "duration": 5,
    "start_time": "2022-03-14T05:40:44.932Z"
   },
   {
    "duration": 763,
    "start_time": "2022-03-14T05:40:44.939Z"
   },
   {
    "duration": 13,
    "start_time": "2022-03-14T05:40:45.704Z"
   },
   {
    "duration": 19,
    "start_time": "2022-03-14T05:40:45.719Z"
   },
   {
    "duration": 5,
    "start_time": "2022-03-14T05:40:45.740Z"
   },
   {
    "duration": 6,
    "start_time": "2022-03-14T05:40:45.747Z"
   },
   {
    "duration": 9,
    "start_time": "2022-03-14T05:40:45.756Z"
   },
   {
    "duration": 12,
    "start_time": "2022-03-14T05:40:45.801Z"
   },
   {
    "duration": 33,
    "start_time": "2022-03-14T05:40:45.815Z"
   },
   {
    "duration": 10,
    "start_time": "2022-03-14T05:40:45.850Z"
   },
   {
    "duration": 10,
    "start_time": "2022-03-14T05:40:45.862Z"
   },
   {
    "duration": 33,
    "start_time": "2022-03-14T05:40:45.902Z"
   },
   {
    "duration": 11,
    "start_time": "2022-03-14T05:40:45.937Z"
   },
   {
    "duration": 10,
    "start_time": "2022-03-14T05:40:45.950Z"
   },
   {
    "duration": 45,
    "start_time": "2022-03-14T05:40:45.962Z"
   },
   {
    "duration": 9,
    "start_time": "2022-03-14T05:40:46.010Z"
   },
   {
    "duration": 106,
    "start_time": "2022-03-14T05:40:46.021Z"
   },
   {
    "duration": 125,
    "start_time": "2022-03-14T05:40:46.129Z"
   },
   {
    "duration": 27,
    "start_time": "2022-03-14T05:40:46.258Z"
   },
   {
    "duration": 5,
    "start_time": "2022-03-14T05:40:46.302Z"
   },
   {
    "duration": 12,
    "start_time": "2022-03-14T05:40:46.309Z"
   },
   {
    "duration": 285,
    "start_time": "2022-03-14T05:40:46.324Z"
   },
   {
    "duration": 9,
    "start_time": "2022-03-14T05:40:46.611Z"
   },
   {
    "duration": 9,
    "start_time": "2022-03-14T05:40:46.622Z"
   },
   {
    "duration": 7,
    "start_time": "2022-03-14T05:40:46.633Z"
   },
   {
    "duration": 22,
    "start_time": "2022-03-14T05:40:46.642Z"
   },
   {
    "duration": 36,
    "start_time": "2022-03-14T05:40:46.666Z"
   },
   {
    "duration": 7,
    "start_time": "2022-03-14T05:41:16.293Z"
   },
   {
    "duration": 357,
    "start_time": "2022-03-14T05:43:39.804Z"
   },
   {
    "duration": 17,
    "start_time": "2022-03-14T05:44:15.181Z"
   },
   {
    "duration": 4,
    "start_time": "2022-03-14T05:45:07.360Z"
   },
   {
    "duration": 815,
    "start_time": "2022-03-14T05:45:07.367Z"
   },
   {
    "duration": 21,
    "start_time": "2022-03-14T05:45:08.184Z"
   },
   {
    "duration": 22,
    "start_time": "2022-03-14T05:45:08.207Z"
   },
   {
    "duration": 7,
    "start_time": "2022-03-14T05:45:08.231Z"
   },
   {
    "duration": 13,
    "start_time": "2022-03-14T05:45:08.240Z"
   },
   {
    "duration": 19,
    "start_time": "2022-03-14T05:45:08.255Z"
   },
   {
    "duration": 25,
    "start_time": "2022-03-14T05:45:08.276Z"
   },
   {
    "duration": 34,
    "start_time": "2022-03-14T05:45:08.304Z"
   },
   {
    "duration": 11,
    "start_time": "2022-03-14T05:45:08.340Z"
   },
   {
    "duration": 10,
    "start_time": "2022-03-14T05:45:08.353Z"
   },
   {
    "duration": 60,
    "start_time": "2022-03-14T05:45:08.366Z"
   },
   {
    "duration": 11,
    "start_time": "2022-03-14T05:45:08.428Z"
   },
   {
    "duration": 27,
    "start_time": "2022-03-14T05:45:08.441Z"
   },
   {
    "duration": 12,
    "start_time": "2022-03-14T05:45:08.471Z"
   },
   {
    "duration": 17,
    "start_time": "2022-03-14T05:45:08.485Z"
   },
   {
    "duration": 96,
    "start_time": "2022-03-14T05:45:08.504Z"
   },
   {
    "duration": 128,
    "start_time": "2022-03-14T05:45:08.603Z"
   },
   {
    "duration": 27,
    "start_time": "2022-03-14T05:45:08.734Z"
   },
   {
    "duration": 3,
    "start_time": "2022-03-14T05:45:08.763Z"
   },
   {
    "duration": 18,
    "start_time": "2022-03-14T05:45:08.768Z"
   },
   {
    "duration": 272,
    "start_time": "2022-03-14T05:45:08.801Z"
   },
   {
    "duration": 8,
    "start_time": "2022-03-14T05:45:09.076Z"
   },
   {
    "duration": 22,
    "start_time": "2022-03-14T05:45:09.087Z"
   },
   {
    "duration": 7,
    "start_time": "2022-03-14T05:45:09.111Z"
   },
   {
    "duration": 13,
    "start_time": "2022-03-14T05:45:09.119Z"
   },
   {
    "duration": 23,
    "start_time": "2022-03-14T05:45:09.133Z"
   },
   {
    "duration": 79,
    "start_time": "2022-03-14T05:50:37.651Z"
   },
   {
    "duration": 1617,
    "start_time": "2022-03-14T05:50:57.158Z"
   },
   {
    "duration": 1687,
    "start_time": "2022-03-14T05:51:16.404Z"
   },
   {
    "duration": 25,
    "start_time": "2022-03-14T05:51:33.243Z"
   },
   {
    "duration": 10,
    "start_time": "2022-03-14T05:52:21.924Z"
   },
   {
    "duration": 4,
    "start_time": "2022-03-14T05:52:40.555Z"
   },
   {
    "duration": 809,
    "start_time": "2022-03-14T05:52:40.562Z"
   },
   {
    "duration": 28,
    "start_time": "2022-03-14T05:52:41.374Z"
   },
   {
    "duration": 18,
    "start_time": "2022-03-14T05:52:41.405Z"
   },
   {
    "duration": 7,
    "start_time": "2022-03-14T05:52:41.426Z"
   },
   {
    "duration": 20,
    "start_time": "2022-03-14T05:52:41.435Z"
   },
   {
    "duration": 21,
    "start_time": "2022-03-14T05:52:41.459Z"
   },
   {
    "duration": 33,
    "start_time": "2022-03-14T05:52:41.483Z"
   },
   {
    "duration": 52,
    "start_time": "2022-03-14T05:52:41.518Z"
   },
   {
    "duration": 12,
    "start_time": "2022-03-14T05:52:41.572Z"
   },
   {
    "duration": 20,
    "start_time": "2022-03-14T05:52:41.586Z"
   },
   {
    "duration": 39,
    "start_time": "2022-03-14T05:52:41.608Z"
   },
   {
    "duration": 11,
    "start_time": "2022-03-14T05:52:41.649Z"
   },
   {
    "duration": 18,
    "start_time": "2022-03-14T05:52:41.662Z"
   },
   {
    "duration": 27,
    "start_time": "2022-03-14T05:52:41.682Z"
   },
   {
    "duration": 49,
    "start_time": "2022-03-14T05:52:41.711Z"
   },
   {
    "duration": 108,
    "start_time": "2022-03-14T05:52:41.762Z"
   },
   {
    "duration": 128,
    "start_time": "2022-03-14T05:52:41.872Z"
   },
   {
    "duration": 27,
    "start_time": "2022-03-14T05:52:42.004Z"
   },
   {
    "duration": 3,
    "start_time": "2022-03-14T05:52:42.033Z"
   },
   {
    "duration": 31,
    "start_time": "2022-03-14T05:52:42.038Z"
   },
   {
    "duration": 283,
    "start_time": "2022-03-14T05:52:42.071Z"
   },
   {
    "duration": 9,
    "start_time": "2022-03-14T05:52:42.356Z"
   },
   {
    "duration": 19,
    "start_time": "2022-03-14T05:52:42.367Z"
   },
   {
    "duration": 21,
    "start_time": "2022-03-14T05:52:42.388Z"
   },
   {
    "duration": 31,
    "start_time": "2022-03-14T05:52:42.411Z"
   },
   {
    "duration": 8,
    "start_time": "2022-03-14T05:52:42.444Z"
   },
   {
    "duration": 5,
    "start_time": "2022-03-14T05:56:31.765Z"
   },
   {
    "duration": 26,
    "start_time": "2022-03-14T05:56:34.474Z"
   },
   {
    "duration": 5,
    "start_time": "2022-03-14T05:56:52.129Z"
   },
   {
    "duration": 5,
    "start_time": "2022-03-14T05:58:32.395Z"
   },
   {
    "duration": 38,
    "start_time": "2022-03-14T05:58:36.528Z"
   },
   {
    "duration": 5,
    "start_time": "2022-03-14T06:06:46.228Z"
   },
   {
    "duration": 797,
    "start_time": "2022-03-14T06:06:46.235Z"
   },
   {
    "duration": 12,
    "start_time": "2022-03-14T06:06:47.034Z"
   },
   {
    "duration": 16,
    "start_time": "2022-03-14T06:06:47.048Z"
   },
   {
    "duration": 5,
    "start_time": "2022-03-14T06:06:47.066Z"
   },
   {
    "duration": 7,
    "start_time": "2022-03-14T06:06:47.102Z"
   },
   {
    "duration": 11,
    "start_time": "2022-03-14T06:06:47.111Z"
   },
   {
    "duration": 18,
    "start_time": "2022-03-14T06:06:47.124Z"
   },
   {
    "duration": 34,
    "start_time": "2022-03-14T06:06:47.144Z"
   },
   {
    "duration": 27,
    "start_time": "2022-03-14T06:06:47.180Z"
   },
   {
    "duration": 10,
    "start_time": "2022-03-14T06:06:47.209Z"
   },
   {
    "duration": 32,
    "start_time": "2022-03-14T06:06:47.221Z"
   },
   {
    "duration": 11,
    "start_time": "2022-03-14T06:06:47.255Z"
   },
   {
    "duration": 38,
    "start_time": "2022-03-14T06:06:47.267Z"
   },
   {
    "duration": 19,
    "start_time": "2022-03-14T06:06:47.306Z"
   },
   {
    "duration": 14,
    "start_time": "2022-03-14T06:06:47.327Z"
   },
   {
    "duration": 100,
    "start_time": "2022-03-14T06:06:47.343Z"
   },
   {
    "duration": 128,
    "start_time": "2022-03-14T06:06:47.445Z"
   },
   {
    "duration": 36,
    "start_time": "2022-03-14T06:06:47.576Z"
   },
   {
    "duration": 3,
    "start_time": "2022-03-14T06:06:47.614Z"
   },
   {
    "duration": 15,
    "start_time": "2022-03-14T06:06:47.619Z"
   },
   {
    "duration": 283,
    "start_time": "2022-03-14T06:06:47.636Z"
   },
   {
    "duration": 8,
    "start_time": "2022-03-14T06:06:47.921Z"
   },
   {
    "duration": 7,
    "start_time": "2022-03-14T06:06:47.931Z"
   },
   {
    "duration": 5,
    "start_time": "2022-03-14T06:06:47.940Z"
   },
   {
    "duration": 23,
    "start_time": "2022-03-14T06:06:47.947Z"
   },
   {
    "duration": 32,
    "start_time": "2022-03-14T06:06:47.971Z"
   },
   {
    "duration": 492,
    "start_time": "2022-03-14T06:07:47.474Z"
   },
   {
    "duration": 90,
    "start_time": "2022-03-14T06:08:44.251Z"
   },
   {
    "duration": 6,
    "start_time": "2022-03-14T06:09:05.700Z"
   },
   {
    "duration": 7,
    "start_time": "2022-03-14T06:11:50.972Z"
   },
   {
    "duration": 4,
    "start_time": "2022-03-14T06:12:03.522Z"
   },
   {
    "duration": 751,
    "start_time": "2022-03-14T06:12:03.529Z"
   },
   {
    "duration": 24,
    "start_time": "2022-03-14T06:12:04.283Z"
   },
   {
    "duration": 20,
    "start_time": "2022-03-14T06:12:04.310Z"
   },
   {
    "duration": 9,
    "start_time": "2022-03-14T06:12:04.332Z"
   },
   {
    "duration": 11,
    "start_time": "2022-03-14T06:12:04.343Z"
   },
   {
    "duration": 6,
    "start_time": "2022-03-14T06:12:04.357Z"
   },
   {
    "duration": 65,
    "start_time": "2022-03-14T06:12:04.365Z"
   },
   {
    "duration": 62,
    "start_time": "2022-03-14T06:12:04.432Z"
   },
   {
    "duration": 11,
    "start_time": "2022-03-14T06:12:04.496Z"
   },
   {
    "duration": 11,
    "start_time": "2022-03-14T06:12:04.510Z"
   },
   {
    "duration": 30,
    "start_time": "2022-03-14T06:12:04.523Z"
   },
   {
    "duration": 11,
    "start_time": "2022-03-14T06:12:04.555Z"
   },
   {
    "duration": 35,
    "start_time": "2022-03-14T06:12:04.568Z"
   },
   {
    "duration": 10,
    "start_time": "2022-03-14T06:12:04.605Z"
   },
   {
    "duration": 8,
    "start_time": "2022-03-14T06:12:04.617Z"
   },
   {
    "duration": 115,
    "start_time": "2022-03-14T06:12:04.627Z"
   },
   {
    "duration": 123,
    "start_time": "2022-03-14T06:12:04.744Z"
   },
   {
    "duration": 41,
    "start_time": "2022-03-14T06:12:04.870Z"
   },
   {
    "duration": 4,
    "start_time": "2022-03-14T06:12:04.913Z"
   },
   {
    "duration": 15,
    "start_time": "2022-03-14T06:12:04.919Z"
   },
   {
    "duration": 278,
    "start_time": "2022-03-14T06:12:04.937Z"
   },
   {
    "duration": 9,
    "start_time": "2022-03-14T06:12:05.217Z"
   },
   {
    "duration": 30,
    "start_time": "2022-03-14T06:12:05.228Z"
   },
   {
    "duration": 31,
    "start_time": "2022-03-14T06:12:05.260Z"
   },
   {
    "duration": 44,
    "start_time": "2022-03-14T06:12:05.293Z"
   },
   {
    "duration": 24,
    "start_time": "2022-03-14T06:13:19.187Z"
   },
   {
    "duration": 5,
    "start_time": "2022-03-14T06:25:03.847Z"
   },
   {
    "duration": 793,
    "start_time": "2022-03-14T06:25:03.854Z"
   },
   {
    "duration": 13,
    "start_time": "2022-03-14T06:25:04.650Z"
   },
   {
    "duration": 42,
    "start_time": "2022-03-14T06:25:04.666Z"
   },
   {
    "duration": 5,
    "start_time": "2022-03-14T06:25:04.711Z"
   },
   {
    "duration": 57,
    "start_time": "2022-03-14T06:25:04.718Z"
   },
   {
    "duration": 26,
    "start_time": "2022-03-14T06:25:04.777Z"
   },
   {
    "duration": 39,
    "start_time": "2022-03-14T06:25:04.805Z"
   },
   {
    "duration": 63,
    "start_time": "2022-03-14T06:25:04.847Z"
   },
   {
    "duration": 11,
    "start_time": "2022-03-14T06:25:04.913Z"
   },
   {
    "duration": 25,
    "start_time": "2022-03-14T06:25:04.926Z"
   },
   {
    "duration": 64,
    "start_time": "2022-03-14T06:25:04.953Z"
   },
   {
    "duration": 11,
    "start_time": "2022-03-14T06:25:05.019Z"
   },
   {
    "duration": 29,
    "start_time": "2022-03-14T06:25:05.032Z"
   },
   {
    "duration": 24,
    "start_time": "2022-03-14T06:25:05.063Z"
   },
   {
    "duration": 28,
    "start_time": "2022-03-14T06:25:05.089Z"
   },
   {
    "duration": 104,
    "start_time": "2022-03-14T06:25:05.118Z"
   },
   {
    "duration": 137,
    "start_time": "2022-03-14T06:25:05.224Z"
   },
   {
    "duration": 38,
    "start_time": "2022-03-14T06:25:05.363Z"
   },
   {
    "duration": 16,
    "start_time": "2022-03-14T06:25:05.403Z"
   },
   {
    "duration": 42,
    "start_time": "2022-03-14T06:25:05.421Z"
   },
   {
    "duration": 312,
    "start_time": "2022-03-14T06:25:05.465Z"
   },
   {
    "duration": 22,
    "start_time": "2022-03-14T06:25:05.779Z"
   },
   {
    "duration": 29,
    "start_time": "2022-03-14T06:25:05.803Z"
   },
   {
    "duration": 20,
    "start_time": "2022-03-14T06:25:05.834Z"
   },
   {
    "duration": 46,
    "start_time": "2022-03-14T06:25:05.857Z"
   },
   {
    "duration": 53,
    "start_time": "2022-03-14T06:25:05.907Z"
   },
   {
    "duration": 1458,
    "start_time": "2022-03-14T09:16:48.399Z"
   },
   {
    "duration": 914,
    "start_time": "2022-03-14T09:16:49.859Z"
   },
   {
    "duration": 15,
    "start_time": "2022-03-14T09:16:50.776Z"
   },
   {
    "duration": 44,
    "start_time": "2022-03-14T09:16:50.794Z"
   },
   {
    "duration": 6,
    "start_time": "2022-03-14T09:16:50.841Z"
   },
   {
    "duration": 10,
    "start_time": "2022-03-14T09:16:50.849Z"
   },
   {
    "duration": 7,
    "start_time": "2022-03-14T09:16:50.861Z"
   },
   {
    "duration": 17,
    "start_time": "2022-03-14T09:16:50.870Z"
   },
   {
    "duration": 86,
    "start_time": "2022-03-14T09:16:50.891Z"
   },
   {
    "duration": 14,
    "start_time": "2022-03-14T09:16:50.980Z"
   },
   {
    "duration": 37,
    "start_time": "2022-03-14T09:16:50.996Z"
   },
   {
    "duration": 41,
    "start_time": "2022-03-14T09:16:51.036Z"
   },
   {
    "duration": 12,
    "start_time": "2022-03-14T09:16:51.079Z"
   },
   {
    "duration": 8,
    "start_time": "2022-03-14T09:16:51.093Z"
   },
   {
    "duration": 38,
    "start_time": "2022-03-14T09:16:51.104Z"
   },
   {
    "duration": 9,
    "start_time": "2022-03-14T09:16:51.145Z"
   },
   {
    "duration": 188,
    "start_time": "2022-03-14T09:16:51.156Z"
   },
   {
    "duration": 193,
    "start_time": "2022-03-14T09:16:51.346Z"
   },
   {
    "duration": 39,
    "start_time": "2022-03-14T09:16:51.541Z"
   },
   {
    "duration": 5,
    "start_time": "2022-03-14T09:16:51.582Z"
   },
   {
    "duration": 13,
    "start_time": "2022-03-14T09:16:51.589Z"
   },
   {
    "duration": 431,
    "start_time": "2022-03-14T09:16:51.633Z"
   },
   {
    "duration": 11,
    "start_time": "2022-03-14T09:16:52.066Z"
   },
   {
    "duration": 9,
    "start_time": "2022-03-14T09:16:52.080Z"
   },
   {
    "duration": 7,
    "start_time": "2022-03-14T09:16:52.092Z"
   },
   {
    "duration": 29,
    "start_time": "2022-03-14T09:16:52.133Z"
   },
   {
    "duration": 32,
    "start_time": "2022-03-14T09:16:52.167Z"
   },
   {
    "duration": 52,
    "start_time": "2022-03-14T09:49:56.915Z"
   },
   {
    "duration": 485,
    "start_time": "2022-03-14T10:06:07.613Z"
   },
   {
    "duration": 306,
    "start_time": "2022-03-14T10:07:49.456Z"
   },
   {
    "duration": 551,
    "start_time": "2022-03-14T10:08:45.207Z"
   },
   {
    "duration": 727,
    "start_time": "2022-03-14T10:10:05.997Z"
   },
   {
    "duration": 808,
    "start_time": "2022-03-14T10:11:55.448Z"
   },
   {
    "duration": 955,
    "start_time": "2022-03-14T10:22:10.577Z"
   },
   {
    "duration": 6,
    "start_time": "2022-03-14T10:25:04.761Z"
   },
   {
    "duration": 971,
    "start_time": "2022-03-14T10:25:04.770Z"
   },
   {
    "duration": 17,
    "start_time": "2022-03-14T10:25:05.744Z"
   },
   {
    "duration": 33,
    "start_time": "2022-03-14T10:25:05.764Z"
   },
   {
    "duration": 13,
    "start_time": "2022-03-14T10:25:05.799Z"
   },
   {
    "duration": 25,
    "start_time": "2022-03-14T10:25:05.814Z"
   },
   {
    "duration": 9,
    "start_time": "2022-03-14T10:25:05.842Z"
   },
   {
    "duration": 22,
    "start_time": "2022-03-14T10:25:05.854Z"
   },
   {
    "duration": 73,
    "start_time": "2022-03-14T10:25:05.878Z"
   },
   {
    "duration": 13,
    "start_time": "2022-03-14T10:25:05.954Z"
   },
   {
    "duration": 13,
    "start_time": "2022-03-14T10:25:05.970Z"
   },
   {
    "duration": 67,
    "start_time": "2022-03-14T10:25:05.985Z"
   },
   {
    "duration": 13,
    "start_time": "2022-03-14T10:25:06.054Z"
   },
   {
    "duration": 9,
    "start_time": "2022-03-14T10:25:06.070Z"
   },
   {
    "duration": 20,
    "start_time": "2022-03-14T10:25:06.081Z"
   },
   {
    "duration": 33,
    "start_time": "2022-03-14T10:25:06.103Z"
   },
   {
    "duration": 173,
    "start_time": "2022-03-14T10:25:06.138Z"
   },
   {
    "duration": 193,
    "start_time": "2022-03-14T10:25:06.313Z"
   },
   {
    "duration": 48,
    "start_time": "2022-03-14T10:25:06.510Z"
   },
   {
    "duration": 4,
    "start_time": "2022-03-14T10:25:06.560Z"
   },
   {
    "duration": 16,
    "start_time": "2022-03-14T10:25:06.567Z"
   },
   {
    "duration": 447,
    "start_time": "2022-03-14T10:25:06.585Z"
   },
   {
    "duration": 11,
    "start_time": "2022-03-14T10:25:07.035Z"
   },
   {
    "duration": 10,
    "start_time": "2022-03-14T10:25:07.048Z"
   },
   {
    "duration": 8,
    "start_time": "2022-03-14T10:25:07.060Z"
   },
   {
    "duration": 72,
    "start_time": "2022-03-14T10:25:07.071Z"
   },
   {
    "duration": 42,
    "start_time": "2022-03-14T10:25:07.146Z"
   },
   {
    "duration": 960,
    "start_time": "2022-03-14T10:25:07.191Z"
   },
   {
    "duration": 6,
    "start_time": "2022-03-14T10:47:57.315Z"
   },
   {
    "duration": 307,
    "start_time": "2022-03-14T10:48:37.610Z"
   },
   {
    "duration": 6,
    "start_time": "2022-03-14T10:48:46.404Z"
   },
   {
    "duration": 32,
    "start_time": "2022-03-14T10:50:09.439Z"
   },
   {
    "duration": 6,
    "start_time": "2022-03-14T10:50:14.416Z"
   },
   {
    "duration": 7,
    "start_time": "2022-03-14T10:50:18.409Z"
   },
   {
    "duration": 6,
    "start_time": "2022-03-14T10:50:32.950Z"
   },
   {
    "duration": 934,
    "start_time": "2022-03-14T10:50:32.959Z"
   },
   {
    "duration": 17,
    "start_time": "2022-03-14T10:50:33.895Z"
   },
   {
    "duration": 21,
    "start_time": "2022-03-14T10:50:33.932Z"
   },
   {
    "duration": 6,
    "start_time": "2022-03-14T10:50:33.956Z"
   },
   {
    "duration": 8,
    "start_time": "2022-03-14T10:50:33.964Z"
   },
   {
    "duration": 7,
    "start_time": "2022-03-14T10:50:33.975Z"
   },
   {
    "duration": 56,
    "start_time": "2022-03-14T10:50:33.984Z"
   },
   {
    "duration": 47,
    "start_time": "2022-03-14T10:50:34.043Z"
   },
   {
    "duration": 14,
    "start_time": "2022-03-14T10:50:34.092Z"
   },
   {
    "duration": 13,
    "start_time": "2022-03-14T10:50:34.133Z"
   },
   {
    "duration": 43,
    "start_time": "2022-03-14T10:50:34.149Z"
   },
   {
    "duration": 46,
    "start_time": "2022-03-14T10:50:34.195Z"
   },
   {
    "duration": 10,
    "start_time": "2022-03-14T10:50:34.244Z"
   },
   {
    "duration": 13,
    "start_time": "2022-03-14T10:50:34.256Z"
   },
   {
    "duration": 9,
    "start_time": "2022-03-14T10:50:34.271Z"
   },
   {
    "duration": 189,
    "start_time": "2022-03-14T10:50:34.283Z"
   },
   {
    "duration": 196,
    "start_time": "2022-03-14T10:50:34.475Z"
   },
   {
    "duration": 41,
    "start_time": "2022-03-14T10:50:34.675Z"
   },
   {
    "duration": 17,
    "start_time": "2022-03-14T10:50:34.719Z"
   },
   {
    "duration": 14,
    "start_time": "2022-03-14T10:50:34.738Z"
   },
   {
    "duration": 441,
    "start_time": "2022-03-14T10:50:34.755Z"
   },
   {
    "duration": 13,
    "start_time": "2022-03-14T10:50:35.199Z"
   },
   {
    "duration": 26,
    "start_time": "2022-03-14T10:50:35.215Z"
   },
   {
    "duration": 7,
    "start_time": "2022-03-14T10:50:35.243Z"
   },
   {
    "duration": 30,
    "start_time": "2022-03-14T10:50:35.252Z"
   },
   {
    "duration": 81,
    "start_time": "2022-03-14T10:50:35.284Z"
   },
   {
    "duration": 1126,
    "start_time": "2022-03-14T10:50:35.367Z"
   },
   {
    "duration": 38,
    "start_time": "2022-03-14T10:50:36.495Z"
   },
   {
    "duration": 5,
    "start_time": "2022-03-14T10:50:36.536Z"
   },
   {
    "duration": 381,
    "start_time": "2022-03-14T10:56:13.314Z"
   },
   {
    "duration": 6,
    "start_time": "2022-03-14T10:59:00.828Z"
   },
   {
    "duration": 1087,
    "start_time": "2022-03-14T10:59:00.837Z"
   },
   {
    "duration": 17,
    "start_time": "2022-03-14T10:59:01.926Z"
   },
   {
    "duration": 24,
    "start_time": "2022-03-14T10:59:01.945Z"
   },
   {
    "duration": 6,
    "start_time": "2022-03-14T10:59:01.971Z"
   },
   {
    "duration": 52,
    "start_time": "2022-03-14T10:59:01.980Z"
   },
   {
    "duration": 5,
    "start_time": "2022-03-14T10:59:02.036Z"
   },
   {
    "duration": 21,
    "start_time": "2022-03-14T10:59:02.043Z"
   },
   {
    "duration": 79,
    "start_time": "2022-03-14T10:59:02.067Z"
   },
   {
    "duration": 15,
    "start_time": "2022-03-14T10:59:02.148Z"
   },
   {
    "duration": 12,
    "start_time": "2022-03-14T10:59:02.165Z"
   },
   {
    "duration": 76,
    "start_time": "2022-03-14T10:59:02.180Z"
   },
   {
    "duration": 13,
    "start_time": "2022-03-14T10:59:02.259Z"
   },
   {
    "duration": 9,
    "start_time": "2022-03-14T10:59:02.274Z"
   },
   {
    "duration": 46,
    "start_time": "2022-03-14T10:59:02.286Z"
   },
   {
    "duration": 10,
    "start_time": "2022-03-14T10:59:02.335Z"
   },
   {
    "duration": 177,
    "start_time": "2022-03-14T10:59:02.348Z"
   },
   {
    "duration": 194,
    "start_time": "2022-03-14T10:59:02.528Z"
   },
   {
    "duration": 40,
    "start_time": "2022-03-14T10:59:02.734Z"
   },
   {
    "duration": 5,
    "start_time": "2022-03-14T10:59:02.776Z"
   },
   {
    "duration": 13,
    "start_time": "2022-03-14T10:59:02.784Z"
   },
   {
    "duration": 464,
    "start_time": "2022-03-14T10:59:02.799Z"
   },
   {
    "duration": 12,
    "start_time": "2022-03-14T10:59:03.265Z"
   },
   {
    "duration": 10,
    "start_time": "2022-03-14T10:59:03.279Z"
   },
   {
    "duration": 7,
    "start_time": "2022-03-14T10:59:03.292Z"
   },
   {
    "duration": 58,
    "start_time": "2022-03-14T10:59:03.301Z"
   },
   {
    "duration": 74,
    "start_time": "2022-03-14T10:59:03.362Z"
   },
   {
    "duration": 1124,
    "start_time": "2022-03-14T10:59:03.439Z"
   },
   {
    "duration": 46,
    "start_time": "2022-03-14T10:59:04.566Z"
   },
   {
    "duration": 438,
    "start_time": "2022-03-14T10:59:04.633Z"
   },
   {
    "duration": 412,
    "start_time": "2022-03-14T11:00:22.075Z"
   },
   {
    "duration": 349,
    "start_time": "2022-03-14T11:02:24.732Z"
   },
   {
    "duration": 6,
    "start_time": "2022-03-14T11:05:54.394Z"
   },
   {
    "duration": 1005,
    "start_time": "2022-03-14T11:05:54.406Z"
   },
   {
    "duration": 40,
    "start_time": "2022-03-14T11:05:55.413Z"
   },
   {
    "duration": 21,
    "start_time": "2022-03-14T11:05:55.457Z"
   },
   {
    "duration": 7,
    "start_time": "2022-03-14T11:05:55.481Z"
   },
   {
    "duration": 49,
    "start_time": "2022-03-14T11:05:55.491Z"
   },
   {
    "duration": 12,
    "start_time": "2022-03-14T11:05:55.543Z"
   },
   {
    "duration": 15,
    "start_time": "2022-03-14T11:05:55.558Z"
   },
   {
    "duration": 82,
    "start_time": "2022-03-14T11:05:55.577Z"
   },
   {
    "duration": 13,
    "start_time": "2022-03-14T11:05:55.662Z"
   },
   {
    "duration": 12,
    "start_time": "2022-03-14T11:05:55.678Z"
   },
   {
    "duration": 79,
    "start_time": "2022-03-14T11:05:55.693Z"
   },
   {
    "duration": 14,
    "start_time": "2022-03-14T11:05:55.774Z"
   },
   {
    "duration": 10,
    "start_time": "2022-03-14T11:05:55.790Z"
   },
   {
    "duration": 43,
    "start_time": "2022-03-14T11:05:55.802Z"
   },
   {
    "duration": 9,
    "start_time": "2022-03-14T11:05:55.847Z"
   },
   {
    "duration": 184,
    "start_time": "2022-03-14T11:05:55.858Z"
   },
   {
    "duration": 195,
    "start_time": "2022-03-14T11:05:56.044Z"
   },
   {
    "duration": 42,
    "start_time": "2022-03-14T11:05:56.241Z"
   },
   {
    "duration": 3,
    "start_time": "2022-03-14T11:05:56.286Z"
   },
   {
    "duration": 13,
    "start_time": "2022-03-14T11:05:56.291Z"
   },
   {
    "duration": 420,
    "start_time": "2022-03-14T11:05:56.333Z"
   },
   {
    "duration": 11,
    "start_time": "2022-03-14T11:05:56.755Z"
   },
   {
    "duration": 11,
    "start_time": "2022-03-14T11:05:56.770Z"
   },
   {
    "duration": 14,
    "start_time": "2022-03-14T11:05:56.784Z"
   },
   {
    "duration": 54,
    "start_time": "2022-03-14T11:05:56.800Z"
   },
   {
    "duration": 46,
    "start_time": "2022-03-14T11:05:56.856Z"
   },
   {
    "duration": 1158,
    "start_time": "2022-03-14T11:05:56.905Z"
   },
   {
    "duration": 31,
    "start_time": "2022-03-14T11:05:58.066Z"
   },
   {
    "duration": 62,
    "start_time": "2022-03-14T11:05:58.100Z"
   },
   {
    "duration": 5,
    "start_time": "2022-03-14T11:10:12.966Z"
   },
   {
    "duration": 893,
    "start_time": "2022-03-14T11:10:12.974Z"
   },
   {
    "duration": 17,
    "start_time": "2022-03-14T11:10:13.871Z"
   },
   {
    "duration": 51,
    "start_time": "2022-03-14T11:10:13.892Z"
   },
   {
    "duration": 9,
    "start_time": "2022-03-14T11:10:13.946Z"
   },
   {
    "duration": 11,
    "start_time": "2022-03-14T11:10:13.958Z"
   },
   {
    "duration": 5,
    "start_time": "2022-03-14T11:10:13.974Z"
   },
   {
    "duration": 64,
    "start_time": "2022-03-14T11:10:13.982Z"
   },
   {
    "duration": 47,
    "start_time": "2022-03-14T11:10:14.048Z"
   },
   {
    "duration": 40,
    "start_time": "2022-03-14T11:10:14.097Z"
   },
   {
    "duration": 12,
    "start_time": "2022-03-14T11:10:14.140Z"
   },
   {
    "duration": 41,
    "start_time": "2022-03-14T11:10:14.155Z"
   },
   {
    "duration": 38,
    "start_time": "2022-03-14T11:10:14.199Z"
   },
   {
    "duration": 10,
    "start_time": "2022-03-14T11:10:14.239Z"
   },
   {
    "duration": 14,
    "start_time": "2022-03-14T11:10:14.252Z"
   },
   {
    "duration": 9,
    "start_time": "2022-03-14T11:10:14.268Z"
   },
   {
    "duration": 196,
    "start_time": "2022-03-14T11:10:14.279Z"
   },
   {
    "duration": 194,
    "start_time": "2022-03-14T11:10:14.477Z"
   },
   {
    "duration": 41,
    "start_time": "2022-03-14T11:10:14.675Z"
   },
   {
    "duration": 16,
    "start_time": "2022-03-14T11:10:14.718Z"
   },
   {
    "duration": 13,
    "start_time": "2022-03-14T11:10:14.737Z"
   },
   {
    "duration": 444,
    "start_time": "2022-03-14T11:10:14.752Z"
   },
   {
    "duration": 10,
    "start_time": "2022-03-14T11:10:15.198Z"
   },
   {
    "duration": 29,
    "start_time": "2022-03-14T11:10:15.210Z"
   },
   {
    "duration": 8,
    "start_time": "2022-03-14T11:10:15.241Z"
   },
   {
    "duration": 34,
    "start_time": "2022-03-14T11:10:15.251Z"
   },
   {
    "duration": 74,
    "start_time": "2022-03-14T11:10:15.288Z"
   },
   {
    "duration": 996,
    "start_time": "2022-03-14T11:10:15.364Z"
   },
   {
    "duration": 30,
    "start_time": "2022-03-14T11:10:16.362Z"
   },
   {
    "duration": 55,
    "start_time": "2022-03-14T11:10:16.394Z"
   },
   {
    "duration": 35,
    "start_time": "2022-03-14T11:10:16.452Z"
   },
   {
    "duration": 121,
    "start_time": "2022-03-14T11:10:57.180Z"
   },
   {
    "duration": 37,
    "start_time": "2022-03-14T11:11:43.032Z"
   },
   {
    "duration": 53,
    "start_time": "2022-03-14T11:23:42.302Z"
   },
   {
    "duration": 18,
    "start_time": "2022-03-14T11:25:20.347Z"
   },
   {
    "duration": 39,
    "start_time": "2022-03-14T11:25:46.956Z"
   },
   {
    "duration": 6,
    "start_time": "2022-03-14T11:26:18.566Z"
   },
   {
    "duration": 1140,
    "start_time": "2022-03-14T11:26:18.575Z"
   },
   {
    "duration": 25,
    "start_time": "2022-03-14T11:26:19.718Z"
   },
   {
    "duration": 25,
    "start_time": "2022-03-14T11:26:19.746Z"
   },
   {
    "duration": 8,
    "start_time": "2022-03-14T11:26:19.774Z"
   },
   {
    "duration": 48,
    "start_time": "2022-03-14T11:26:19.784Z"
   },
   {
    "duration": 5,
    "start_time": "2022-03-14T11:26:19.835Z"
   },
   {
    "duration": 18,
    "start_time": "2022-03-14T11:26:19.843Z"
   },
   {
    "duration": 81,
    "start_time": "2022-03-14T11:26:19.864Z"
   },
   {
    "duration": 15,
    "start_time": "2022-03-14T11:26:19.948Z"
   },
   {
    "duration": 12,
    "start_time": "2022-03-14T11:26:19.965Z"
   },
   {
    "duration": 80,
    "start_time": "2022-03-14T11:26:19.980Z"
   },
   {
    "duration": 18,
    "start_time": "2022-03-14T11:26:20.063Z"
   },
   {
    "duration": 13,
    "start_time": "2022-03-14T11:26:20.084Z"
   },
   {
    "duration": 48,
    "start_time": "2022-03-14T11:26:20.100Z"
   },
   {
    "duration": 13,
    "start_time": "2022-03-14T11:26:20.151Z"
   },
   {
    "duration": 191,
    "start_time": "2022-03-14T11:26:20.167Z"
   },
   {
    "duration": 185,
    "start_time": "2022-03-14T11:26:20.361Z"
   },
   {
    "duration": 40,
    "start_time": "2022-03-14T11:26:20.548Z"
   },
   {
    "duration": 4,
    "start_time": "2022-03-14T11:26:20.590Z"
   },
   {
    "duration": 43,
    "start_time": "2022-03-14T11:26:20.597Z"
   },
   {
    "duration": 447,
    "start_time": "2022-03-14T11:26:20.642Z"
   },
   {
    "duration": 11,
    "start_time": "2022-03-14T11:26:21.094Z"
   },
   {
    "duration": 30,
    "start_time": "2022-03-14T11:26:21.108Z"
   },
   {
    "duration": 7,
    "start_time": "2022-03-14T11:26:21.140Z"
   },
   {
    "duration": 30,
    "start_time": "2022-03-14T11:26:21.149Z"
   },
   {
    "duration": 73,
    "start_time": "2022-03-14T11:26:21.181Z"
   },
   {
    "duration": 978,
    "start_time": "2022-03-14T11:26:21.257Z"
   },
   {
    "duration": 30,
    "start_time": "2022-03-14T11:26:22.237Z"
   },
   {
    "duration": 66,
    "start_time": "2022-03-14T11:26:22.269Z"
   },
   {
    "duration": 46,
    "start_time": "2022-03-14T11:26:22.338Z"
   },
   {
    "duration": 71,
    "start_time": "2022-03-14T11:26:22.387Z"
   },
   {
    "duration": 26,
    "start_time": "2022-03-14T11:27:55.816Z"
   },
   {
    "duration": 1127,
    "start_time": "2022-03-14T13:59:24.155Z"
   },
   {
    "duration": 714,
    "start_time": "2022-03-14T13:59:25.284Z"
   },
   {
    "duration": 12,
    "start_time": "2022-03-14T13:59:26.000Z"
   },
   {
    "duration": 25,
    "start_time": "2022-03-14T13:59:26.014Z"
   },
   {
    "duration": 4,
    "start_time": "2022-03-14T13:59:26.041Z"
   },
   {
    "duration": 14,
    "start_time": "2022-03-14T13:59:26.047Z"
   },
   {
    "duration": 14,
    "start_time": "2022-03-14T13:59:26.063Z"
   },
   {
    "duration": 23,
    "start_time": "2022-03-14T13:59:26.080Z"
   },
   {
    "duration": 37,
    "start_time": "2022-03-14T13:59:26.104Z"
   },
   {
    "duration": 11,
    "start_time": "2022-03-14T13:59:26.143Z"
   },
   {
    "duration": 15,
    "start_time": "2022-03-14T13:59:26.155Z"
   },
   {
    "duration": 28,
    "start_time": "2022-03-14T13:59:26.172Z"
   },
   {
    "duration": 9,
    "start_time": "2022-03-14T13:59:26.202Z"
   },
   {
    "duration": 33,
    "start_time": "2022-03-14T13:59:26.212Z"
   },
   {
    "duration": 21,
    "start_time": "2022-03-14T13:59:26.246Z"
   },
   {
    "duration": 7,
    "start_time": "2022-03-14T13:59:26.269Z"
   },
   {
    "duration": 90,
    "start_time": "2022-03-14T13:59:26.277Z"
   },
   {
    "duration": 118,
    "start_time": "2022-03-14T13:59:26.369Z"
   },
   {
    "duration": 23,
    "start_time": "2022-03-14T13:59:26.489Z"
   },
   {
    "duration": 3,
    "start_time": "2022-03-14T13:59:26.513Z"
   },
   {
    "duration": 23,
    "start_time": "2022-03-14T13:59:26.518Z"
   },
   {
    "duration": 279,
    "start_time": "2022-03-14T13:59:26.543Z"
   },
   {
    "duration": 17,
    "start_time": "2022-03-14T13:59:26.824Z"
   },
   {
    "duration": 7,
    "start_time": "2022-03-14T13:59:26.843Z"
   },
   {
    "duration": 5,
    "start_time": "2022-03-14T13:59:26.852Z"
   },
   {
    "duration": 29,
    "start_time": "2022-03-14T13:59:26.858Z"
   },
   {
    "duration": 53,
    "start_time": "2022-03-14T13:59:26.888Z"
   },
   {
    "duration": 615,
    "start_time": "2022-03-14T13:59:26.942Z"
   },
   {
    "duration": 18,
    "start_time": "2022-03-14T13:59:27.559Z"
   },
   {
    "duration": 22,
    "start_time": "2022-03-14T13:59:27.579Z"
   },
   {
    "duration": 42,
    "start_time": "2022-03-14T13:59:27.602Z"
   },
   {
    "duration": 20,
    "start_time": "2022-03-14T13:59:27.645Z"
   },
   {
    "duration": 20,
    "start_time": "2022-03-14T13:59:27.667Z"
   },
   {
    "duration": 7,
    "start_time": "2022-03-14T14:01:45.701Z"
   },
   {
    "duration": 9,
    "start_time": "2022-03-14T14:01:58.958Z"
   },
   {
    "duration": 25,
    "start_time": "2022-03-14T14:02:33.682Z"
   },
   {
    "duration": 27,
    "start_time": "2022-03-14T14:04:40.768Z"
   },
   {
    "duration": 6,
    "start_time": "2022-03-14T14:05:16.327Z"
   },
   {
    "duration": 286,
    "start_time": "2022-03-14T14:05:22.252Z"
   },
   {
    "duration": 7,
    "start_time": "2022-03-14T14:05:43.542Z"
   },
   {
    "duration": 773,
    "start_time": "2022-03-14T14:05:43.550Z"
   },
   {
    "duration": 17,
    "start_time": "2022-03-14T14:05:44.326Z"
   },
   {
    "duration": 22,
    "start_time": "2022-03-14T14:05:44.346Z"
   },
   {
    "duration": 6,
    "start_time": "2022-03-14T14:05:44.370Z"
   },
   {
    "duration": 7,
    "start_time": "2022-03-14T14:05:44.378Z"
   },
   {
    "duration": 9,
    "start_time": "2022-03-14T14:05:44.387Z"
   },
   {
    "duration": 14,
    "start_time": "2022-03-14T14:05:44.398Z"
   },
   {
    "duration": 31,
    "start_time": "2022-03-14T14:05:44.438Z"
   },
   {
    "duration": 10,
    "start_time": "2022-03-14T14:05:44.471Z"
   },
   {
    "duration": 9,
    "start_time": "2022-03-14T14:05:44.483Z"
   },
   {
    "duration": 52,
    "start_time": "2022-03-14T14:05:44.493Z"
   },
   {
    "duration": 9,
    "start_time": "2022-03-14T14:05:44.547Z"
   },
   {
    "duration": 6,
    "start_time": "2022-03-14T14:05:44.558Z"
   },
   {
    "duration": 9,
    "start_time": "2022-03-14T14:05:44.566Z"
   },
   {
    "duration": 6,
    "start_time": "2022-03-14T14:05:44.577Z"
   },
   {
    "duration": 106,
    "start_time": "2022-03-14T14:05:44.585Z"
   },
   {
    "duration": 121,
    "start_time": "2022-03-14T14:05:44.693Z"
   },
   {
    "duration": 34,
    "start_time": "2022-03-14T14:05:44.817Z"
   },
   {
    "duration": 4,
    "start_time": "2022-03-14T14:05:44.853Z"
   },
   {
    "duration": 18,
    "start_time": "2022-03-14T14:05:44.858Z"
   },
   {
    "duration": 292,
    "start_time": "2022-03-14T14:05:44.877Z"
   },
   {
    "duration": 8,
    "start_time": "2022-03-14T14:05:45.171Z"
   },
   {
    "duration": 7,
    "start_time": "2022-03-14T14:05:45.180Z"
   },
   {
    "duration": 5,
    "start_time": "2022-03-14T14:05:45.188Z"
   },
   {
    "duration": 51,
    "start_time": "2022-03-14T14:05:45.195Z"
   },
   {
    "duration": 30,
    "start_time": "2022-03-14T14:05:45.248Z"
   },
   {
    "duration": 687,
    "start_time": "2022-03-14T14:05:45.280Z"
   },
   {
    "duration": 23,
    "start_time": "2022-03-14T14:05:45.968Z"
   },
   {
    "duration": 8,
    "start_time": "2022-03-14T14:05:45.993Z"
   },
   {
    "duration": 49,
    "start_time": "2022-03-14T14:05:46.003Z"
   },
   {
    "duration": 39,
    "start_time": "2022-03-14T14:05:46.054Z"
   },
   {
    "duration": 329,
    "start_time": "2022-03-14T14:06:39.585Z"
   },
   {
    "duration": 4,
    "start_time": "2022-03-14T14:11:08.755Z"
   },
   {
    "duration": 806,
    "start_time": "2022-03-14T14:11:08.797Z"
   },
   {
    "duration": 13,
    "start_time": "2022-03-14T14:11:09.605Z"
   },
   {
    "duration": 33,
    "start_time": "2022-03-14T14:11:09.620Z"
   },
   {
    "duration": 5,
    "start_time": "2022-03-14T14:11:09.656Z"
   },
   {
    "duration": 9,
    "start_time": "2022-03-14T14:11:09.663Z"
   },
   {
    "duration": 7,
    "start_time": "2022-03-14T14:11:09.674Z"
   },
   {
    "duration": 14,
    "start_time": "2022-03-14T14:11:09.683Z"
   },
   {
    "duration": 62,
    "start_time": "2022-03-14T14:11:09.699Z"
   },
   {
    "duration": 11,
    "start_time": "2022-03-14T14:11:09.763Z"
   },
   {
    "duration": 19,
    "start_time": "2022-03-14T14:11:09.776Z"
   },
   {
    "duration": 42,
    "start_time": "2022-03-14T14:11:09.797Z"
   },
   {
    "duration": 11,
    "start_time": "2022-03-14T14:11:09.841Z"
   },
   {
    "duration": 7,
    "start_time": "2022-03-14T14:11:09.853Z"
   },
   {
    "duration": 9,
    "start_time": "2022-03-14T14:11:09.862Z"
   },
   {
    "duration": 6,
    "start_time": "2022-03-14T14:11:09.873Z"
   },
   {
    "duration": 112,
    "start_time": "2022-03-14T14:11:09.881Z"
   },
   {
    "duration": 123,
    "start_time": "2022-03-14T14:11:09.995Z"
   },
   {
    "duration": 34,
    "start_time": "2022-03-14T14:11:10.119Z"
   },
   {
    "duration": 3,
    "start_time": "2022-03-14T14:11:10.155Z"
   },
   {
    "duration": 15,
    "start_time": "2022-03-14T14:11:10.160Z"
   },
   {
    "duration": 290,
    "start_time": "2022-03-14T14:11:10.177Z"
   },
   {
    "duration": 8,
    "start_time": "2022-03-14T14:11:10.469Z"
   },
   {
    "duration": 12,
    "start_time": "2022-03-14T14:11:10.479Z"
   },
   {
    "duration": 4,
    "start_time": "2022-03-14T14:11:10.493Z"
   },
   {
    "duration": 41,
    "start_time": "2022-03-14T14:11:10.499Z"
   },
   {
    "duration": 33,
    "start_time": "2022-03-14T14:11:10.542Z"
   },
   {
    "duration": 639,
    "start_time": "2022-03-14T14:11:10.578Z"
   },
   {
    "duration": 33,
    "start_time": "2022-03-14T14:11:11.218Z"
   },
   {
    "duration": 9,
    "start_time": "2022-03-14T14:11:11.253Z"
   },
   {
    "duration": 62,
    "start_time": "2022-03-14T14:11:11.263Z"
   },
   {
    "duration": 31,
    "start_time": "2022-03-14T14:11:11.326Z"
   },
   {
    "duration": 1080,
    "start_time": "2022-03-14T14:23:38.307Z"
   },
   {
    "duration": 675,
    "start_time": "2022-03-14T14:23:39.389Z"
   },
   {
    "duration": 10,
    "start_time": "2022-03-14T14:23:40.065Z"
   },
   {
    "duration": 13,
    "start_time": "2022-03-14T14:23:40.081Z"
   },
   {
    "duration": 4,
    "start_time": "2022-03-14T14:23:40.096Z"
   },
   {
    "duration": 7,
    "start_time": "2022-03-14T14:23:40.102Z"
   },
   {
    "duration": 7,
    "start_time": "2022-03-14T14:23:40.110Z"
   },
   {
    "duration": 11,
    "start_time": "2022-03-14T14:23:40.119Z"
   },
   {
    "duration": 56,
    "start_time": "2022-03-14T14:23:40.132Z"
   },
   {
    "duration": 10,
    "start_time": "2022-03-14T14:23:40.189Z"
   },
   {
    "duration": 8,
    "start_time": "2022-03-14T14:23:40.200Z"
   },
   {
    "duration": 24,
    "start_time": "2022-03-14T14:23:40.209Z"
   },
   {
    "duration": 8,
    "start_time": "2022-03-14T14:23:40.235Z"
   },
   {
    "duration": 5,
    "start_time": "2022-03-14T14:23:40.244Z"
   },
   {
    "duration": 34,
    "start_time": "2022-03-14T14:23:40.251Z"
   },
   {
    "duration": 5,
    "start_time": "2022-03-14T14:23:40.286Z"
   },
   {
    "duration": 94,
    "start_time": "2022-03-14T14:23:40.293Z"
   },
   {
    "duration": 107,
    "start_time": "2022-03-14T14:23:40.389Z"
   },
   {
    "duration": 23,
    "start_time": "2022-03-14T14:23:40.497Z"
   },
   {
    "duration": 2,
    "start_time": "2022-03-14T14:23:40.521Z"
   },
   {
    "duration": 11,
    "start_time": "2022-03-14T14:23:40.525Z"
   },
   {
    "duration": 245,
    "start_time": "2022-03-14T14:23:40.537Z"
   },
   {
    "duration": 8,
    "start_time": "2022-03-14T14:23:40.786Z"
   },
   {
    "duration": 7,
    "start_time": "2022-03-14T14:23:40.796Z"
   },
   {
    "duration": 7,
    "start_time": "2022-03-14T14:23:40.805Z"
   },
   {
    "duration": 23,
    "start_time": "2022-03-14T14:23:40.813Z"
   },
   {
    "duration": 58,
    "start_time": "2022-03-14T14:23:40.838Z"
   },
   {
    "duration": 513,
    "start_time": "2022-03-14T14:23:40.898Z"
   },
   {
    "duration": 20,
    "start_time": "2022-03-14T14:23:41.413Z"
   },
   {
    "duration": 8,
    "start_time": "2022-03-14T14:23:41.434Z"
   },
   {
    "duration": 38,
    "start_time": "2022-03-14T14:23:41.443Z"
   },
   {
    "duration": 23,
    "start_time": "2022-03-14T14:23:41.483Z"
   },
   {
    "duration": 4,
    "start_time": "2022-03-14T14:27:03.880Z"
   },
   {
    "duration": 791,
    "start_time": "2022-03-14T14:27:03.888Z"
   },
   {
    "duration": 10,
    "start_time": "2022-03-14T14:27:04.681Z"
   },
   {
    "duration": 17,
    "start_time": "2022-03-14T14:27:04.693Z"
   },
   {
    "duration": 6,
    "start_time": "2022-03-14T14:27:04.712Z"
   },
   {
    "duration": 9,
    "start_time": "2022-03-14T14:27:04.720Z"
   },
   {
    "duration": 4,
    "start_time": "2022-03-14T14:27:04.730Z"
   },
   {
    "duration": 12,
    "start_time": "2022-03-14T14:27:04.736Z"
   },
   {
    "duration": 56,
    "start_time": "2022-03-14T14:27:04.750Z"
   },
   {
    "duration": 9,
    "start_time": "2022-03-14T14:27:04.808Z"
   },
   {
    "duration": 8,
    "start_time": "2022-03-14T14:27:04.819Z"
   },
   {
    "duration": 25,
    "start_time": "2022-03-14T14:27:04.828Z"
   },
   {
    "duration": 32,
    "start_time": "2022-03-14T14:27:04.854Z"
   },
   {
    "duration": 6,
    "start_time": "2022-03-14T14:27:04.888Z"
   },
   {
    "duration": 10,
    "start_time": "2022-03-14T14:27:04.895Z"
   },
   {
    "duration": 5,
    "start_time": "2022-03-14T14:27:04.907Z"
   },
   {
    "duration": 92,
    "start_time": "2022-03-14T14:27:04.914Z"
   },
   {
    "duration": 122,
    "start_time": "2022-03-14T14:27:05.008Z"
   },
   {
    "duration": 26,
    "start_time": "2022-03-14T14:27:05.132Z"
   },
   {
    "duration": 4,
    "start_time": "2022-03-14T14:27:05.159Z"
   },
   {
    "duration": 22,
    "start_time": "2022-03-14T14:27:05.164Z"
   },
   {
    "duration": 261,
    "start_time": "2022-03-14T14:27:05.188Z"
   },
   {
    "duration": 8,
    "start_time": "2022-03-14T14:27:05.450Z"
   },
   {
    "duration": 20,
    "start_time": "2022-03-14T14:27:05.461Z"
   },
   {
    "duration": 5,
    "start_time": "2022-03-14T14:27:05.483Z"
   },
   {
    "duration": 26,
    "start_time": "2022-03-14T14:27:05.489Z"
   },
   {
    "duration": 28,
    "start_time": "2022-03-14T14:27:05.517Z"
   },
   {
    "duration": 569,
    "start_time": "2022-03-14T14:27:05.546Z"
   },
   {
    "duration": 9,
    "start_time": "2022-03-14T14:27:06.116Z"
   },
   {
    "duration": 25,
    "start_time": "2022-03-14T14:27:06.127Z"
   },
   {
    "duration": 44,
    "start_time": "2022-03-14T14:27:06.153Z"
   },
   {
    "duration": 24,
    "start_time": "2022-03-14T14:28:07.987Z"
   },
   {
    "duration": 30,
    "start_time": "2022-03-14T14:28:11.903Z"
   },
   {
    "duration": 4,
    "start_time": "2022-03-14T14:29:27.189Z"
   },
   {
    "duration": 754,
    "start_time": "2022-03-14T14:29:27.196Z"
   },
   {
    "duration": 11,
    "start_time": "2022-03-14T14:29:27.952Z"
   },
   {
    "duration": 44,
    "start_time": "2022-03-14T14:29:27.965Z"
   },
   {
    "duration": 20,
    "start_time": "2022-03-14T14:29:28.010Z"
   },
   {
    "duration": 55,
    "start_time": "2022-03-14T14:29:28.032Z"
   },
   {
    "duration": 33,
    "start_time": "2022-03-14T14:29:28.089Z"
   },
   {
    "duration": 64,
    "start_time": "2022-03-14T14:29:28.123Z"
   },
   {
    "duration": 58,
    "start_time": "2022-03-14T14:29:28.190Z"
   },
   {
    "duration": 105,
    "start_time": "2022-03-14T14:29:28.250Z"
   },
   {
    "duration": 102,
    "start_time": "2022-03-14T14:29:28.357Z"
   },
   {
    "duration": 116,
    "start_time": "2022-03-14T14:29:28.461Z"
   },
   {
    "duration": 65,
    "start_time": "2022-03-14T14:29:28.578Z"
   },
   {
    "duration": 52,
    "start_time": "2022-03-14T14:29:28.645Z"
   },
   {
    "duration": 78,
    "start_time": "2022-03-14T14:29:28.698Z"
   },
   {
    "duration": 47,
    "start_time": "2022-03-14T14:29:28.777Z"
   },
   {
    "duration": 141,
    "start_time": "2022-03-14T14:29:28.826Z"
   },
   {
    "duration": 105,
    "start_time": "2022-03-14T14:29:28.968Z"
   },
   {
    "duration": 26,
    "start_time": "2022-03-14T14:29:29.075Z"
   },
   {
    "duration": 81,
    "start_time": "2022-03-14T14:29:29.102Z"
   },
   {
    "duration": 92,
    "start_time": "2022-03-14T14:29:29.184Z"
   },
   {
    "duration": 277,
    "start_time": "2022-03-14T14:29:29.278Z"
   },
   {
    "duration": 7,
    "start_time": "2022-03-14T14:29:29.556Z"
   },
   {
    "duration": 62,
    "start_time": "2022-03-14T14:29:29.566Z"
   },
   {
    "duration": 53,
    "start_time": "2022-03-14T14:29:29.630Z"
   },
   {
    "duration": 91,
    "start_time": "2022-03-14T14:29:29.684Z"
   },
   {
    "duration": 60,
    "start_time": "2022-03-14T14:29:29.777Z"
   },
   {
    "duration": 538,
    "start_time": "2022-03-14T14:29:29.838Z"
   },
   {
    "duration": 10,
    "start_time": "2022-03-14T14:29:30.377Z"
   },
   {
    "duration": 58,
    "start_time": "2022-03-14T14:29:30.388Z"
   },
   {
    "duration": 41,
    "start_time": "2022-03-14T14:29:30.448Z"
   },
   {
    "duration": 4,
    "start_time": "2022-03-14T14:30:10.968Z"
   },
   {
    "duration": 1006,
    "start_time": "2022-03-14T14:30:10.977Z"
   },
   {
    "duration": 10,
    "start_time": "2022-03-14T14:30:11.984Z"
   },
   {
    "duration": 430,
    "start_time": "2022-03-14T14:30:11.996Z"
   },
   {
    "duration": 221,
    "start_time": "2022-03-14T14:30:12.427Z"
   },
   {
    "duration": 270,
    "start_time": "2022-03-14T14:30:12.650Z"
   },
   {
    "duration": 134,
    "start_time": "2022-03-14T14:30:12.921Z"
   },
   {
    "duration": 97,
    "start_time": "2022-03-14T14:30:13.057Z"
   },
   {
    "duration": 87,
    "start_time": "2022-03-14T14:30:13.156Z"
   },
   {
    "duration": 59,
    "start_time": "2022-03-14T14:30:13.247Z"
   },
   {
    "duration": 131,
    "start_time": "2022-03-14T14:30:13.308Z"
   },
   {
    "duration": 142,
    "start_time": "2022-03-14T14:30:13.440Z"
   },
   {
    "duration": 276,
    "start_time": "2022-03-14T14:30:13.583Z"
   },
   {
    "duration": 306,
    "start_time": "2022-03-14T14:30:13.861Z"
   },
   {
    "duration": 811,
    "start_time": "2022-03-14T14:30:14.168Z"
   },
   {
    "duration": 614,
    "start_time": "2022-03-14T14:30:14.981Z"
   },
   {
    "duration": 664,
    "start_time": "2022-03-14T14:30:15.597Z"
   },
   {
    "duration": 607,
    "start_time": "2022-03-14T14:30:16.263Z"
   },
   {
    "duration": 129,
    "start_time": "2022-03-14T14:30:16.872Z"
   },
   {
    "duration": 522,
    "start_time": "2022-03-14T14:30:17.003Z"
   },
   {
    "duration": 1427,
    "start_time": "2022-03-14T14:30:17.527Z"
   },
   {
    "duration": 1112,
    "start_time": "2022-03-14T14:30:18.955Z"
   },
   {
    "duration": 812,
    "start_time": "2022-03-14T14:30:20.068Z"
   },
   {
    "duration": 1216,
    "start_time": "2022-03-14T14:30:20.881Z"
   },
   {
    "duration": 418,
    "start_time": "2022-03-14T14:30:22.099Z"
   },
   {
    "duration": 515,
    "start_time": "2022-03-14T14:30:22.519Z"
   },
   {
    "duration": 1140,
    "start_time": "2022-03-14T14:30:23.036Z"
   },
   {
    "duration": 1176,
    "start_time": "2022-03-14T14:30:24.179Z"
   },
   {
    "duration": 236,
    "start_time": "2022-03-14T14:30:25.356Z"
   },
   {
    "duration": 663,
    "start_time": "2022-03-14T14:30:25.594Z"
   },
   {
    "duration": 534,
    "start_time": "2022-03-14T14:30:26.259Z"
   },
   {
    "duration": 1400,
    "start_time": "2022-03-15T05:02:37.108Z"
   },
   {
    "duration": 875,
    "start_time": "2022-03-15T05:02:38.511Z"
   },
   {
    "duration": 48,
    "start_time": "2022-03-15T05:02:39.389Z"
   },
   {
    "duration": 16,
    "start_time": "2022-03-15T05:02:39.440Z"
   },
   {
    "duration": 29,
    "start_time": "2022-03-15T05:02:39.483Z"
   },
   {
    "duration": 6,
    "start_time": "2022-03-15T05:02:39.515Z"
   },
   {
    "duration": 9,
    "start_time": "2022-03-15T05:02:39.524Z"
   },
   {
    "duration": 13,
    "start_time": "2022-03-15T05:02:39.535Z"
   },
   {
    "duration": 17,
    "start_time": "2022-03-15T05:02:39.584Z"
   },
   {
    "duration": 48,
    "start_time": "2022-03-15T05:02:39.604Z"
   },
   {
    "duration": 41,
    "start_time": "2022-03-15T05:02:39.654Z"
   },
   {
    "duration": 13,
    "start_time": "2022-03-15T05:02:39.698Z"
   },
   {
    "duration": 40,
    "start_time": "2022-03-15T05:02:39.713Z"
   },
   {
    "duration": 38,
    "start_time": "2022-03-15T05:02:39.755Z"
   },
   {
    "duration": 9,
    "start_time": "2022-03-15T05:02:39.796Z"
   },
   {
    "duration": 13,
    "start_time": "2022-03-15T05:02:39.807Z"
   },
   {
    "duration": 9,
    "start_time": "2022-03-15T05:02:39.822Z"
   },
   {
    "duration": 205,
    "start_time": "2022-03-15T05:02:39.834Z"
   },
   {
    "duration": 186,
    "start_time": "2022-03-15T05:02:40.041Z"
   },
   {
    "duration": 52,
    "start_time": "2022-03-15T05:02:40.230Z"
   },
   {
    "duration": 4,
    "start_time": "2022-03-15T05:02:40.284Z"
   },
   {
    "duration": 14,
    "start_time": "2022-03-15T05:02:40.290Z"
   },
   {
    "duration": 423,
    "start_time": "2022-03-15T05:02:40.306Z"
   },
   {
    "duration": 11,
    "start_time": "2022-03-15T05:02:40.731Z"
   },
   {
    "duration": 9,
    "start_time": "2022-03-15T05:02:40.745Z"
   },
   {
    "duration": 32,
    "start_time": "2022-03-15T05:02:40.756Z"
   },
   {
    "duration": 8,
    "start_time": "2022-03-15T05:02:40.793Z"
   },
   {
    "duration": 23,
    "start_time": "2022-03-15T05:02:40.803Z"
   },
   {
    "duration": 934,
    "start_time": "2022-03-15T05:02:40.828Z"
   },
   {
    "duration": 24,
    "start_time": "2022-03-15T05:02:41.765Z"
   },
   {
    "duration": 13,
    "start_time": "2022-03-15T05:02:41.791Z"
   },
   {
    "duration": 21,
    "start_time": "2022-03-15T05:02:41.807Z"
   },
   {
    "duration": 24,
    "start_time": "2022-03-15T06:26:47.929Z"
   },
   {
    "duration": 5,
    "start_time": "2022-03-15T06:27:24.222Z"
   },
   {
    "duration": 952,
    "start_time": "2022-03-15T06:27:24.230Z"
   },
   {
    "duration": 53,
    "start_time": "2022-03-15T06:27:25.186Z"
   },
   {
    "duration": 44,
    "start_time": "2022-03-15T06:27:25.242Z"
   },
   {
    "duration": 35,
    "start_time": "2022-03-15T06:27:25.289Z"
   },
   {
    "duration": 16,
    "start_time": "2022-03-15T06:27:25.326Z"
   },
   {
    "duration": 21,
    "start_time": "2022-03-15T06:27:25.344Z"
   },
   {
    "duration": 18,
    "start_time": "2022-03-15T06:27:25.368Z"
   },
   {
    "duration": 30,
    "start_time": "2022-03-15T06:27:25.389Z"
   },
   {
    "duration": 67,
    "start_time": "2022-03-15T06:27:25.422Z"
   },
   {
    "duration": 15,
    "start_time": "2022-03-15T06:27:25.492Z"
   },
   {
    "duration": 25,
    "start_time": "2022-03-15T06:27:25.509Z"
   },
   {
    "duration": 69,
    "start_time": "2022-03-15T06:27:25.537Z"
   },
   {
    "duration": 13,
    "start_time": "2022-03-15T06:27:25.608Z"
   },
   {
    "duration": 19,
    "start_time": "2022-03-15T06:27:25.623Z"
   },
   {
    "duration": 33,
    "start_time": "2022-03-15T06:27:25.645Z"
   },
   {
    "duration": 20,
    "start_time": "2022-03-15T06:27:25.682Z"
   },
   {
    "duration": 178,
    "start_time": "2022-03-15T06:27:25.704Z"
   },
   {
    "duration": 186,
    "start_time": "2022-03-15T06:27:25.884Z"
   },
   {
    "duration": 45,
    "start_time": "2022-03-15T06:27:26.072Z"
   },
   {
    "duration": 4,
    "start_time": "2022-03-15T06:27:26.120Z"
   },
   {
    "duration": 43,
    "start_time": "2022-03-15T06:27:26.126Z"
   },
   {
    "duration": 410,
    "start_time": "2022-03-15T06:27:26.173Z"
   },
   {
    "duration": 15,
    "start_time": "2022-03-15T06:27:26.587Z"
   },
   {
    "duration": 18,
    "start_time": "2022-03-15T06:27:26.605Z"
   },
   {
    "duration": 24,
    "start_time": "2022-03-15T06:27:26.626Z"
   },
   {
    "duration": 29,
    "start_time": "2022-03-15T06:27:26.653Z"
   },
   {
    "duration": 43,
    "start_time": "2022-03-15T06:27:26.685Z"
   },
   {
    "duration": 1154,
    "start_time": "2022-03-15T06:27:26.732Z"
   },
   {
    "duration": 18,
    "start_time": "2022-03-15T06:27:27.888Z"
   },
   {
    "duration": 49,
    "start_time": "2022-03-15T06:27:27.908Z"
   },
   {
    "duration": 15,
    "start_time": "2022-03-15T06:27:27.982Z"
   },
   {
    "duration": 5,
    "start_time": "2022-03-15T06:27:27.999Z"
   },
   {
    "duration": 165,
    "start_time": "2022-03-15T06:27:28.007Z"
   },
   {
    "duration": -16333,
    "start_time": "2022-03-15T06:27:44.508Z"
   },
   {
    "duration": 7,
    "start_time": "2022-03-15T06:28:06.842Z"
   },
   {
    "duration": 967,
    "start_time": "2022-03-15T06:28:06.852Z"
   },
   {
    "duration": 76,
    "start_time": "2022-03-15T06:28:07.822Z"
   },
   {
    "duration": 18,
    "start_time": "2022-03-15T06:28:07.901Z"
   },
   {
    "duration": 23,
    "start_time": "2022-03-15T06:28:07.922Z"
   },
   {
    "duration": 8,
    "start_time": "2022-03-15T06:28:07.984Z"
   },
   {
    "duration": 16,
    "start_time": "2022-03-15T06:28:07.995Z"
   },
   {
    "duration": 6,
    "start_time": "2022-03-15T06:28:08.014Z"
   },
   {
    "duration": 21,
    "start_time": "2022-03-15T06:28:08.023Z"
   },
   {
    "duration": 49,
    "start_time": "2022-03-15T06:28:08.083Z"
   },
   {
    "duration": 15,
    "start_time": "2022-03-15T06:28:08.134Z"
   },
   {
    "duration": 43,
    "start_time": "2022-03-15T06:28:08.152Z"
   },
   {
    "duration": 45,
    "start_time": "2022-03-15T06:28:08.198Z"
   },
   {
    "duration": 38,
    "start_time": "2022-03-15T06:28:08.246Z"
   },
   {
    "duration": 12,
    "start_time": "2022-03-15T06:28:08.287Z"
   },
   {
    "duration": 20,
    "start_time": "2022-03-15T06:28:08.302Z"
   },
   {
    "duration": 12,
    "start_time": "2022-03-15T06:28:08.325Z"
   },
   {
    "duration": 177,
    "start_time": "2022-03-15T06:28:08.386Z"
   },
   {
    "duration": 207,
    "start_time": "2022-03-15T06:28:08.568Z"
   },
   {
    "duration": 44,
    "start_time": "2022-03-15T06:28:08.781Z"
   },
   {
    "duration": 4,
    "start_time": "2022-03-15T06:28:08.827Z"
   },
   {
    "duration": 18,
    "start_time": "2022-03-15T06:28:08.834Z"
   },
   {
    "duration": 464,
    "start_time": "2022-03-15T06:28:08.882Z"
   },
   {
    "duration": 12,
    "start_time": "2022-03-15T06:28:09.349Z"
   },
   {
    "duration": 31,
    "start_time": "2022-03-15T06:28:09.363Z"
   },
   {
    "duration": 10,
    "start_time": "2022-03-15T06:28:09.398Z"
   },
   {
    "duration": 10,
    "start_time": "2022-03-15T06:28:09.411Z"
   },
   {
    "duration": 66,
    "start_time": "2022-03-15T06:28:09.424Z"
   },
   {
    "duration": 1095,
    "start_time": "2022-03-15T06:28:09.493Z"
   },
   {
    "duration": 15,
    "start_time": "2022-03-15T06:28:10.590Z"
   },
   {
    "duration": 58,
    "start_time": "2022-03-15T06:28:10.607Z"
   },
   {
    "duration": 17,
    "start_time": "2022-03-15T06:28:10.682Z"
   },
   {
    "duration": 7,
    "start_time": "2022-03-15T06:28:10.702Z"
   },
   {
    "duration": 19,
    "start_time": "2022-03-15T06:28:10.712Z"
   },
   {
    "duration": 50,
    "start_time": "2022-03-15T06:28:10.733Z"
   },
   {
    "duration": 19,
    "start_time": "2022-03-15T06:29:33.322Z"
   },
   {
    "duration": 26,
    "start_time": "2022-03-15T06:29:55.660Z"
   },
   {
    "duration": 21,
    "start_time": "2022-03-15T06:31:15.677Z"
   },
   {
    "duration": 40,
    "start_time": "2022-03-15T06:33:23.372Z"
   },
   {
    "duration": 21,
    "start_time": "2022-03-15T06:38:15.303Z"
   },
   {
    "duration": 22,
    "start_time": "2022-03-15T06:38:25.618Z"
   },
   {
    "duration": 464,
    "start_time": "2022-03-15T06:39:09.480Z"
   },
   {
    "duration": 6,
    "start_time": "2022-03-15T06:39:15.292Z"
   },
   {
    "duration": 936,
    "start_time": "2022-03-15T06:39:15.301Z"
   },
   {
    "duration": 65,
    "start_time": "2022-03-15T06:39:16.240Z"
   },
   {
    "duration": 17,
    "start_time": "2022-03-15T06:39:16.308Z"
   },
   {
    "duration": 22,
    "start_time": "2022-03-15T06:39:16.327Z"
   },
   {
    "duration": 33,
    "start_time": "2022-03-15T06:39:16.351Z"
   },
   {
    "duration": 15,
    "start_time": "2022-03-15T06:39:16.387Z"
   },
   {
    "duration": 5,
    "start_time": "2022-03-15T06:39:16.405Z"
   },
   {
    "duration": 18,
    "start_time": "2022-03-15T06:39:16.413Z"
   },
   {
    "duration": 82,
    "start_time": "2022-03-15T06:39:16.434Z"
   },
   {
    "duration": 14,
    "start_time": "2022-03-15T06:39:16.518Z"
   },
   {
    "duration": 12,
    "start_time": "2022-03-15T06:39:16.535Z"
   },
   {
    "duration": 66,
    "start_time": "2022-03-15T06:39:16.550Z"
   },
   {
    "duration": 12,
    "start_time": "2022-03-15T06:39:16.618Z"
   },
   {
    "duration": 9,
    "start_time": "2022-03-15T06:39:16.633Z"
   },
   {
    "duration": 45,
    "start_time": "2022-03-15T06:39:16.645Z"
   },
   {
    "duration": 12,
    "start_time": "2022-03-15T06:39:16.692Z"
   },
   {
    "duration": 183,
    "start_time": "2022-03-15T06:39:16.707Z"
   },
   {
    "duration": 187,
    "start_time": "2022-03-15T06:39:16.897Z"
   },
   {
    "duration": 41,
    "start_time": "2022-03-15T06:39:17.088Z"
   },
   {
    "duration": 5,
    "start_time": "2022-03-15T06:39:17.132Z"
   },
   {
    "duration": 46,
    "start_time": "2022-03-15T06:39:17.139Z"
   },
   {
    "duration": 443,
    "start_time": "2022-03-15T06:39:17.187Z"
   },
   {
    "duration": 11,
    "start_time": "2022-03-15T06:39:17.633Z"
   },
   {
    "duration": 11,
    "start_time": "2022-03-15T06:39:17.647Z"
   },
   {
    "duration": 8,
    "start_time": "2022-03-15T06:39:17.683Z"
   },
   {
    "duration": 16,
    "start_time": "2022-03-15T06:39:17.693Z"
   },
   {
    "duration": 25,
    "start_time": "2022-03-15T06:39:17.711Z"
   },
   {
    "duration": 969,
    "start_time": "2022-03-15T06:39:17.739Z"
   },
   {
    "duration": 15,
    "start_time": "2022-03-15T06:39:18.711Z"
   },
   {
    "duration": 12,
    "start_time": "2022-03-15T06:39:18.729Z"
   },
   {
    "duration": 47,
    "start_time": "2022-03-15T06:39:18.743Z"
   },
   {
    "duration": 7,
    "start_time": "2022-03-15T06:39:18.792Z"
   },
   {
    "duration": 7,
    "start_time": "2022-03-15T06:39:18.802Z"
   },
   {
    "duration": 26,
    "start_time": "2022-03-15T06:39:18.811Z"
   },
   {
    "duration": 77,
    "start_time": "2022-03-15T06:39:18.840Z"
   },
   {
    "duration": 264,
    "start_time": "2022-03-15T06:39:18.920Z"
   },
   {
    "duration": 4,
    "start_time": "2022-03-15T06:44:01.266Z"
   },
   {
    "duration": 14,
    "start_time": "2022-03-15T06:44:08.641Z"
   },
   {
    "duration": 6,
    "start_time": "2022-03-15T07:57:00.529Z"
   },
   {
    "duration": 915,
    "start_time": "2022-03-15T07:57:00.538Z"
   },
   {
    "duration": 67,
    "start_time": "2022-03-15T07:57:01.456Z"
   },
   {
    "duration": 16,
    "start_time": "2022-03-15T07:57:01.526Z"
   },
   {
    "duration": 45,
    "start_time": "2022-03-15T07:57:01.545Z"
   },
   {
    "duration": 6,
    "start_time": "2022-03-15T07:57:01.593Z"
   },
   {
    "duration": 18,
    "start_time": "2022-03-15T07:57:01.601Z"
   },
   {
    "duration": 22,
    "start_time": "2022-03-15T07:57:01.622Z"
   },
   {
    "duration": 33,
    "start_time": "2022-03-15T07:57:01.647Z"
   },
   {
    "duration": 55,
    "start_time": "2022-03-15T07:57:01.684Z"
   },
   {
    "duration": 14,
    "start_time": "2022-03-15T07:57:01.742Z"
   },
   {
    "duration": 32,
    "start_time": "2022-03-15T07:57:01.759Z"
   },
   {
    "duration": 43,
    "start_time": "2022-03-15T07:57:01.793Z"
   },
   {
    "duration": 12,
    "start_time": "2022-03-15T07:57:01.839Z"
   },
   {
    "duration": 36,
    "start_time": "2022-03-15T07:57:01.853Z"
   },
   {
    "duration": 28,
    "start_time": "2022-03-15T07:57:01.891Z"
   },
   {
    "duration": 11,
    "start_time": "2022-03-15T07:57:01.921Z"
   },
   {
    "duration": 175,
    "start_time": "2022-03-15T07:57:01.934Z"
   },
   {
    "duration": 189,
    "start_time": "2022-03-15T07:57:02.111Z"
   },
   {
    "duration": 41,
    "start_time": "2022-03-15T07:57:02.302Z"
   },
   {
    "duration": 4,
    "start_time": "2022-03-15T07:57:02.346Z"
   },
   {
    "duration": 38,
    "start_time": "2022-03-15T07:57:02.353Z"
   },
   {
    "duration": 437,
    "start_time": "2022-03-15T07:57:02.395Z"
   },
   {
    "duration": 11,
    "start_time": "2022-03-15T07:57:02.835Z"
   },
   {
    "duration": 10,
    "start_time": "2022-03-15T07:57:02.848Z"
   },
   {
    "duration": 8,
    "start_time": "2022-03-15T07:57:02.882Z"
   },
   {
    "duration": 7,
    "start_time": "2022-03-15T07:57:02.897Z"
   },
   {
    "duration": 23,
    "start_time": "2022-03-15T07:57:02.908Z"
   },
   {
    "duration": 1053,
    "start_time": "2022-03-15T07:57:02.933Z"
   },
   {
    "duration": 15,
    "start_time": "2022-03-15T07:57:03.990Z"
   },
   {
    "duration": 15,
    "start_time": "2022-03-15T07:57:04.007Z"
   },
   {
    "duration": 11,
    "start_time": "2022-03-15T07:57:04.025Z"
   },
   {
    "duration": 49,
    "start_time": "2022-03-15T07:57:04.039Z"
   },
   {
    "duration": 26,
    "start_time": "2022-03-15T07:57:04.091Z"
   },
   {
    "duration": 43,
    "start_time": "2022-03-15T07:57:04.120Z"
   },
   {
    "duration": 106,
    "start_time": "2022-03-15T07:57:04.183Z"
   },
   {
    "duration": 101,
    "start_time": "2022-03-15T07:57:04.292Z"
   },
   {
    "duration": 500,
    "start_time": "2022-03-15T07:58:05.687Z"
   },
   {
    "duration": 7,
    "start_time": "2022-03-15T08:36:01.946Z"
   },
   {
    "duration": 951,
    "start_time": "2022-03-15T08:36:01.956Z"
   },
   {
    "duration": 50,
    "start_time": "2022-03-15T08:36:02.911Z"
   },
   {
    "duration": 16,
    "start_time": "2022-03-15T08:36:02.983Z"
   },
   {
    "duration": 23,
    "start_time": "2022-03-15T08:36:03.002Z"
   },
   {
    "duration": 7,
    "start_time": "2022-03-15T08:36:03.027Z"
   },
   {
    "duration": 45,
    "start_time": "2022-03-15T08:36:03.037Z"
   },
   {
    "duration": 6,
    "start_time": "2022-03-15T08:36:03.085Z"
   },
   {
    "duration": 21,
    "start_time": "2022-03-15T08:36:03.093Z"
   },
   {
    "duration": 75,
    "start_time": "2022-03-15T08:36:03.116Z"
   },
   {
    "duration": 15,
    "start_time": "2022-03-15T08:36:03.194Z"
   },
   {
    "duration": 13,
    "start_time": "2022-03-15T08:36:03.211Z"
   },
   {
    "duration": 70,
    "start_time": "2022-03-15T08:36:03.227Z"
   },
   {
    "duration": 13,
    "start_time": "2022-03-15T08:36:03.300Z"
   },
   {
    "duration": 9,
    "start_time": "2022-03-15T08:36:03.315Z"
   },
   {
    "duration": 14,
    "start_time": "2022-03-15T08:36:03.326Z"
   },
   {
    "duration": 44,
    "start_time": "2022-03-15T08:36:03.343Z"
   },
   {
    "duration": 164,
    "start_time": "2022-03-15T08:36:03.390Z"
   },
   {
    "duration": 186,
    "start_time": "2022-03-15T08:36:03.558Z"
   },
   {
    "duration": 55,
    "start_time": "2022-03-15T08:36:03.747Z"
   },
   {
    "duration": 5,
    "start_time": "2022-03-15T08:36:03.805Z"
   },
   {
    "duration": 21,
    "start_time": "2022-03-15T08:36:03.813Z"
   },
   {
    "duration": 447,
    "start_time": "2022-03-15T08:36:03.837Z"
   },
   {
    "duration": 11,
    "start_time": "2022-03-15T08:36:04.287Z"
   },
   {
    "duration": 10,
    "start_time": "2022-03-15T08:36:04.300Z"
   },
   {
    "duration": 7,
    "start_time": "2022-03-15T08:36:04.313Z"
   },
   {
    "duration": 10,
    "start_time": "2022-03-15T08:36:04.322Z"
   },
   {
    "duration": 60,
    "start_time": "2022-03-15T08:36:04.335Z"
   },
   {
    "duration": 948,
    "start_time": "2022-03-15T08:36:04.398Z"
   },
   {
    "duration": 15,
    "start_time": "2022-03-15T08:36:05.349Z"
   },
   {
    "duration": 13,
    "start_time": "2022-03-15T08:36:05.382Z"
   },
   {
    "duration": 17,
    "start_time": "2022-03-15T08:36:05.398Z"
   },
   {
    "duration": 9,
    "start_time": "2022-03-15T08:36:05.417Z"
   },
   {
    "duration": 27,
    "start_time": "2022-03-15T08:36:05.428Z"
   },
   {
    "duration": 60,
    "start_time": "2022-03-15T08:36:05.457Z"
   },
   {
    "duration": 166,
    "start_time": "2022-03-15T08:36:05.520Z"
   },
   {
    "duration": 560,
    "start_time": "2022-03-15T08:36:05.689Z"
   },
   {
    "duration": 15,
    "start_time": "2022-03-15T08:44:13.355Z"
   },
   {
    "duration": 52,
    "start_time": "2022-03-15T08:44:25.104Z"
   },
   {
    "duration": 45,
    "start_time": "2022-03-15T08:46:46.712Z"
   },
   {
    "duration": 45,
    "start_time": "2022-03-15T08:49:40.352Z"
   },
   {
    "duration": 13,
    "start_time": "2022-03-15T08:51:19.712Z"
   },
   {
    "duration": 6,
    "start_time": "2022-03-15T08:53:55.458Z"
   },
   {
    "duration": 902,
    "start_time": "2022-03-15T08:53:55.485Z"
   },
   {
    "duration": 50,
    "start_time": "2022-03-15T08:53:56.389Z"
   },
   {
    "duration": 16,
    "start_time": "2022-03-15T08:53:56.442Z"
   },
   {
    "duration": 21,
    "start_time": "2022-03-15T08:53:56.483Z"
   },
   {
    "duration": 8,
    "start_time": "2022-03-15T08:53:56.507Z"
   },
   {
    "duration": 12,
    "start_time": "2022-03-15T08:53:56.517Z"
   },
   {
    "duration": 7,
    "start_time": "2022-03-15T08:53:56.531Z"
   },
   {
    "duration": 56,
    "start_time": "2022-03-15T08:53:56.540Z"
   },
   {
    "duration": 46,
    "start_time": "2022-03-15T08:53:56.600Z"
   },
   {
    "duration": 38,
    "start_time": "2022-03-15T08:53:56.649Z"
   },
   {
    "duration": 14,
    "start_time": "2022-03-15T08:53:56.690Z"
   },
   {
    "duration": 77,
    "start_time": "2022-03-15T08:53:56.707Z"
   },
   {
    "duration": 15,
    "start_time": "2022-03-15T08:53:56.787Z"
   },
   {
    "duration": 12,
    "start_time": "2022-03-15T08:53:56.805Z"
   },
   {
    "duration": 15,
    "start_time": "2022-03-15T08:53:56.819Z"
   },
   {
    "duration": 47,
    "start_time": "2022-03-15T08:53:56.837Z"
   },
   {
    "duration": 186,
    "start_time": "2022-03-15T08:53:56.888Z"
   },
   {
    "duration": 185,
    "start_time": "2022-03-15T08:53:57.081Z"
   },
   {
    "duration": 44,
    "start_time": "2022-03-15T08:53:57.269Z"
   },
   {
    "duration": 5,
    "start_time": "2022-03-15T08:53:57.316Z"
   },
   {
    "duration": 13,
    "start_time": "2022-03-15T08:53:57.324Z"
   },
   {
    "duration": 443,
    "start_time": "2022-03-15T08:53:57.339Z"
   },
   {
    "duration": 11,
    "start_time": "2022-03-15T08:53:57.784Z"
   },
   {
    "duration": 18,
    "start_time": "2022-03-15T08:53:57.798Z"
   },
   {
    "duration": 7,
    "start_time": "2022-03-15T08:53:57.818Z"
   },
   {
    "duration": 14,
    "start_time": "2022-03-15T08:53:57.827Z"
   },
   {
    "duration": 44,
    "start_time": "2022-03-15T08:53:57.847Z"
   },
   {
    "duration": 964,
    "start_time": "2022-03-15T08:53:57.895Z"
   },
   {
    "duration": 26,
    "start_time": "2022-03-15T08:53:58.862Z"
   },
   {
    "duration": 26,
    "start_time": "2022-03-15T08:53:58.890Z"
   },
   {
    "duration": 53,
    "start_time": "2022-03-15T08:53:58.919Z"
   },
   {
    "duration": 11,
    "start_time": "2022-03-15T08:53:58.974Z"
   },
   {
    "duration": 26,
    "start_time": "2022-03-15T08:53:58.987Z"
   },
   {
    "duration": 37,
    "start_time": "2022-03-15T08:53:59.016Z"
   },
   {
    "duration": 37,
    "start_time": "2022-03-15T08:53:59.056Z"
   },
   {
    "duration": 178,
    "start_time": "2022-03-15T08:53:59.096Z"
   },
   {
    "duration": 111,
    "start_time": "2022-03-15T08:53:59.276Z"
   },
   {
    "duration": 563,
    "start_time": "2022-03-15T08:53:59.390Z"
   },
   {
    "duration": 52,
    "start_time": "2022-03-15T08:53:59.956Z"
   },
   {
    "duration": 3,
    "start_time": "2022-03-15T08:54:00.012Z"
   },
   {
    "duration": 379,
    "start_time": "2022-03-15T08:54:00.018Z"
   },
   {
    "duration": 8497,
    "start_time": "2022-03-15T08:54:00.401Z"
   },
   {
    "duration": 14,
    "start_time": "2022-03-15T08:59:25.198Z"
   },
   {
    "duration": 5,
    "start_time": "2022-03-15T08:59:40.519Z"
   },
   {
    "duration": 8951,
    "start_time": "2022-03-15T08:59:50.842Z"
   },
   {
    "duration": 6,
    "start_time": "2022-03-15T09:05:31.238Z"
   },
   {
    "duration": 918,
    "start_time": "2022-03-15T09:05:31.248Z"
   },
   {
    "duration": 52,
    "start_time": "2022-03-15T09:05:32.181Z"
   },
   {
    "duration": 15,
    "start_time": "2022-03-15T09:05:32.237Z"
   },
   {
    "duration": 47,
    "start_time": "2022-03-15T09:05:32.254Z"
   },
   {
    "duration": 7,
    "start_time": "2022-03-15T09:05:32.303Z"
   },
   {
    "duration": 11,
    "start_time": "2022-03-15T09:05:32.313Z"
   },
   {
    "duration": 8,
    "start_time": "2022-03-15T09:05:32.326Z"
   },
   {
    "duration": 57,
    "start_time": "2022-03-15T09:05:32.336Z"
   },
   {
    "duration": 56,
    "start_time": "2022-03-15T09:05:32.396Z"
   },
   {
    "duration": 35,
    "start_time": "2022-03-15T09:05:32.455Z"
   },
   {
    "duration": 14,
    "start_time": "2022-03-15T09:05:32.493Z"
   },
   {
    "duration": 90,
    "start_time": "2022-03-15T09:05:32.510Z"
   },
   {
    "duration": 16,
    "start_time": "2022-03-15T09:05:32.604Z"
   },
   {
    "duration": 12,
    "start_time": "2022-03-15T09:05:32.623Z"
   },
   {
    "duration": 47,
    "start_time": "2022-03-15T09:05:32.638Z"
   },
   {
    "duration": 11,
    "start_time": "2022-03-15T09:05:32.688Z"
   },
   {
    "duration": 176,
    "start_time": "2022-03-15T09:05:32.702Z"
   },
   {
    "duration": 174,
    "start_time": "2022-03-15T09:05:32.884Z"
   },
   {
    "duration": 47,
    "start_time": "2022-03-15T09:05:33.061Z"
   },
   {
    "duration": 4,
    "start_time": "2022-03-15T09:05:33.110Z"
   },
   {
    "duration": 20,
    "start_time": "2022-03-15T09:05:33.116Z"
   },
   {
    "duration": 425,
    "start_time": "2022-03-15T09:05:33.139Z"
   },
   {
    "duration": 26,
    "start_time": "2022-03-15T09:05:33.567Z"
   },
   {
    "duration": 11,
    "start_time": "2022-03-15T09:05:33.596Z"
   },
   {
    "duration": 8,
    "start_time": "2022-03-15T09:05:33.609Z"
   },
   {
    "duration": 10,
    "start_time": "2022-03-15T09:05:33.619Z"
   },
   {
    "duration": 62,
    "start_time": "2022-03-15T09:05:33.631Z"
   },
   {
    "duration": 936,
    "start_time": "2022-03-15T09:05:33.695Z"
   },
   {
    "duration": 15,
    "start_time": "2022-03-15T09:05:34.634Z"
   },
   {
    "duration": 33,
    "start_time": "2022-03-15T09:05:34.652Z"
   },
   {
    "duration": 50,
    "start_time": "2022-03-15T09:05:34.687Z"
   },
   {
    "duration": 7,
    "start_time": "2022-03-15T09:05:34.739Z"
   },
   {
    "duration": 45,
    "start_time": "2022-03-15T09:05:34.748Z"
   },
   {
    "duration": 41,
    "start_time": "2022-03-15T09:05:34.796Z"
   },
   {
    "duration": 42,
    "start_time": "2022-03-15T09:05:34.840Z"
   },
   {
    "duration": 50,
    "start_time": "2022-03-15T09:05:34.884Z"
   },
   {
    "duration": 250,
    "start_time": "2022-03-15T09:05:34.937Z"
   },
   {
    "duration": 616,
    "start_time": "2022-03-15T09:05:35.189Z"
   },
   {
    "duration": 43,
    "start_time": "2022-03-15T09:05:35.808Z"
   },
   {
    "duration": 30,
    "start_time": "2022-03-15T09:05:35.853Z"
   },
   {
    "duration": 302,
    "start_time": "2022-03-15T09:05:35.885Z"
   },
   {
    "duration": 6,
    "start_time": "2022-03-15T09:05:36.189Z"
   },
   {
    "duration": 7586,
    "start_time": "2022-03-15T09:05:36.198Z"
   },
   {
    "duration": 645,
    "start_time": "2022-03-15T09:07:37.121Z"
   },
   {
    "duration": 14,
    "start_time": "2022-03-15T09:08:00.915Z"
   },
   {
    "duration": 6,
    "start_time": "2022-03-15T09:10:55.616Z"
   },
   {
    "duration": 6,
    "start_time": "2022-03-15T09:12:08.276Z"
   },
   {
    "duration": 914,
    "start_time": "2022-03-15T09:12:08.284Z"
   },
   {
    "duration": 51,
    "start_time": "2022-03-15T09:12:09.201Z"
   },
   {
    "duration": 40,
    "start_time": "2022-03-15T09:12:09.255Z"
   },
   {
    "duration": 24,
    "start_time": "2022-03-15T09:12:09.298Z"
   },
   {
    "duration": 9,
    "start_time": "2022-03-15T09:12:09.326Z"
   },
   {
    "duration": 47,
    "start_time": "2022-03-15T09:12:09.340Z"
   },
   {
    "duration": 7,
    "start_time": "2022-03-15T09:12:09.391Z"
   },
   {
    "duration": 18,
    "start_time": "2022-03-15T09:12:09.401Z"
   },
   {
    "duration": 83,
    "start_time": "2022-03-15T09:12:09.421Z"
   },
   {
    "duration": 15,
    "start_time": "2022-03-15T09:12:09.506Z"
   },
   {
    "duration": 12,
    "start_time": "2022-03-15T09:12:09.524Z"
   },
   {
    "duration": 74,
    "start_time": "2022-03-15T09:12:09.539Z"
   },
   {
    "duration": 13,
    "start_time": "2022-03-15T09:12:09.615Z"
   },
   {
    "duration": 13,
    "start_time": "2022-03-15T09:12:09.630Z"
   },
   {
    "duration": 39,
    "start_time": "2022-03-15T09:12:09.645Z"
   },
   {
    "duration": 10,
    "start_time": "2022-03-15T09:12:09.687Z"
   },
   {
    "duration": 168,
    "start_time": "2022-03-15T09:12:09.699Z"
   },
   {
    "duration": 185,
    "start_time": "2022-03-15T09:12:09.873Z"
   },
   {
    "duration": 50,
    "start_time": "2022-03-15T09:12:10.061Z"
   },
   {
    "duration": 5,
    "start_time": "2022-03-15T09:12:10.113Z"
   },
   {
    "duration": 17,
    "start_time": "2022-03-15T09:12:10.120Z"
   },
   {
    "duration": 443,
    "start_time": "2022-03-15T09:12:10.139Z"
   },
   {
    "duration": 13,
    "start_time": "2022-03-15T09:12:10.585Z"
   },
   {
    "duration": 12,
    "start_time": "2022-03-15T09:12:10.601Z"
   },
   {
    "duration": 8,
    "start_time": "2022-03-15T09:12:10.616Z"
   },
   {
    "duration": 55,
    "start_time": "2022-03-15T09:12:10.627Z"
   },
   {
    "duration": 23,
    "start_time": "2022-03-15T09:12:10.685Z"
   },
   {
    "duration": 944,
    "start_time": "2022-03-15T09:12:10.710Z"
   },
   {
    "duration": 26,
    "start_time": "2022-03-15T09:12:11.657Z"
   },
   {
    "duration": 11,
    "start_time": "2022-03-15T09:12:11.686Z"
   },
   {
    "duration": 48,
    "start_time": "2022-03-15T09:12:11.699Z"
   },
   {
    "duration": 38,
    "start_time": "2022-03-15T09:12:11.750Z"
   },
   {
    "duration": 26,
    "start_time": "2022-03-15T09:12:11.791Z"
   },
   {
    "duration": 62,
    "start_time": "2022-03-15T09:12:11.820Z"
   },
   {
    "duration": 14,
    "start_time": "2022-03-15T09:12:11.884Z"
   },
   {
    "duration": 51,
    "start_time": "2022-03-15T09:12:11.901Z"
   },
   {
    "duration": 129,
    "start_time": "2022-03-15T09:12:11.956Z"
   },
   {
    "duration": 551,
    "start_time": "2022-03-15T09:12:12.088Z"
   },
   {
    "duration": 56,
    "start_time": "2022-03-15T09:12:12.642Z"
   },
   {
    "duration": 12,
    "start_time": "2022-03-15T09:12:12.701Z"
   },
   {
    "duration": 11,
    "start_time": "2022-03-15T09:12:12.715Z"
   },
   {
    "duration": 163,
    "start_time": "2022-03-15T09:12:12.728Z"
   },
   {
    "duration": 7,
    "start_time": "2022-03-15T09:12:12.985Z"
   },
   {
    "duration": 95,
    "start_time": "2022-03-15T09:12:12.996Z"
   },
   {
    "duration": 327,
    "start_time": "2022-03-15T09:12:13.094Z"
   },
   {
    "duration": 7,
    "start_time": "2022-03-15T09:16:15.244Z"
   },
   {
    "duration": 882,
    "start_time": "2022-03-15T09:16:15.253Z"
   },
   {
    "duration": 63,
    "start_time": "2022-03-15T09:16:16.138Z"
   },
   {
    "duration": 16,
    "start_time": "2022-03-15T09:16:16.204Z"
   },
   {
    "duration": 46,
    "start_time": "2022-03-15T09:16:16.222Z"
   },
   {
    "duration": 30,
    "start_time": "2022-03-15T09:16:16.270Z"
   },
   {
    "duration": 29,
    "start_time": "2022-03-15T09:16:16.303Z"
   },
   {
    "duration": 21,
    "start_time": "2022-03-15T09:16:16.336Z"
   },
   {
    "duration": 38,
    "start_time": "2022-03-15T09:16:16.359Z"
   },
   {
    "duration": 59,
    "start_time": "2022-03-15T09:16:16.401Z"
   },
   {
    "duration": 24,
    "start_time": "2022-03-15T09:16:16.463Z"
   },
   {
    "duration": 19,
    "start_time": "2022-03-15T09:16:16.490Z"
   },
   {
    "duration": 58,
    "start_time": "2022-03-15T09:16:16.512Z"
   },
   {
    "duration": 14,
    "start_time": "2022-03-15T09:16:16.581Z"
   },
   {
    "duration": 19,
    "start_time": "2022-03-15T09:16:16.597Z"
   },
   {
    "duration": 27,
    "start_time": "2022-03-15T09:16:16.619Z"
   },
   {
    "duration": 20,
    "start_time": "2022-03-15T09:16:16.649Z"
   },
   {
    "duration": 186,
    "start_time": "2022-03-15T09:16:16.673Z"
   },
   {
    "duration": 184,
    "start_time": "2022-03-15T09:16:16.864Z"
   },
   {
    "duration": 49,
    "start_time": "2022-03-15T09:16:17.051Z"
   },
   {
    "duration": 4,
    "start_time": "2022-03-15T09:16:17.103Z"
   },
   {
    "duration": 39,
    "start_time": "2022-03-15T09:16:17.109Z"
   },
   {
    "duration": 441,
    "start_time": "2022-03-15T09:16:17.151Z"
   },
   {
    "duration": 11,
    "start_time": "2022-03-15T09:16:17.594Z"
   },
   {
    "duration": 34,
    "start_time": "2022-03-15T09:16:17.607Z"
   },
   {
    "duration": 25,
    "start_time": "2022-03-15T09:16:17.644Z"
   },
   {
    "duration": 22,
    "start_time": "2022-03-15T09:16:17.671Z"
   },
   {
    "duration": 48,
    "start_time": "2022-03-15T09:16:17.696Z"
   },
   {
    "duration": 1113,
    "start_time": "2022-03-15T09:16:17.747Z"
   },
   {
    "duration": 27,
    "start_time": "2022-03-15T09:16:18.863Z"
   },
   {
    "duration": 41,
    "start_time": "2022-03-15T09:16:18.893Z"
   },
   {
    "duration": 58,
    "start_time": "2022-03-15T09:16:18.936Z"
   },
   {
    "duration": 8,
    "start_time": "2022-03-15T09:16:18.996Z"
   },
   {
    "duration": 31,
    "start_time": "2022-03-15T09:16:19.006Z"
   },
   {
    "duration": 58,
    "start_time": "2022-03-15T09:16:19.039Z"
   },
   {
    "duration": 14,
    "start_time": "2022-03-15T09:16:19.099Z"
   },
   {
    "duration": 42,
    "start_time": "2022-03-15T09:16:19.115Z"
   },
   {
    "duration": 104,
    "start_time": "2022-03-15T09:16:19.183Z"
   },
   {
    "duration": 569,
    "start_time": "2022-03-15T09:16:19.289Z"
   },
   {
    "duration": 55,
    "start_time": "2022-03-15T09:16:19.861Z"
   },
   {
    "duration": 12,
    "start_time": "2022-03-15T09:16:19.918Z"
   },
   {
    "duration": 15,
    "start_time": "2022-03-15T09:16:19.933Z"
   },
   {
    "duration": 138,
    "start_time": "2022-03-15T09:16:19.950Z"
   },
   {
    "duration": 96,
    "start_time": "2022-03-15T09:16:20.091Z"
   },
   {
    "duration": 103,
    "start_time": "2022-03-15T09:16:20.191Z"
   },
   {
    "duration": 345,
    "start_time": "2022-03-15T09:16:20.297Z"
   },
   {
    "duration": 47,
    "start_time": "2022-03-15T09:17:56.462Z"
   },
   {
    "duration": 6,
    "start_time": "2022-03-15T09:18:53.417Z"
   },
   {
    "duration": 888,
    "start_time": "2022-03-15T09:18:53.430Z"
   },
   {
    "duration": 74,
    "start_time": "2022-03-15T09:18:54.322Z"
   },
   {
    "duration": 17,
    "start_time": "2022-03-15T09:18:54.400Z"
   },
   {
    "duration": 20,
    "start_time": "2022-03-15T09:18:54.420Z"
   },
   {
    "duration": 41,
    "start_time": "2022-03-15T09:18:54.442Z"
   },
   {
    "duration": 9,
    "start_time": "2022-03-15T09:18:54.485Z"
   },
   {
    "duration": 14,
    "start_time": "2022-03-15T09:18:54.496Z"
   },
   {
    "duration": 23,
    "start_time": "2022-03-15T09:18:54.513Z"
   },
   {
    "duration": 71,
    "start_time": "2022-03-15T09:18:54.539Z"
   },
   {
    "duration": 14,
    "start_time": "2022-03-15T09:18:54.613Z"
   },
   {
    "duration": 13,
    "start_time": "2022-03-15T09:18:54.630Z"
   },
   {
    "duration": 73,
    "start_time": "2022-03-15T09:18:54.645Z"
   },
   {
    "duration": 14,
    "start_time": "2022-03-15T09:18:54.720Z"
   },
   {
    "duration": 9,
    "start_time": "2022-03-15T09:18:54.737Z"
   },
   {
    "duration": 45,
    "start_time": "2022-03-15T09:18:54.749Z"
   },
   {
    "duration": 9,
    "start_time": "2022-03-15T09:18:54.797Z"
   },
   {
    "duration": 175,
    "start_time": "2022-03-15T09:18:54.809Z"
   },
   {
    "duration": 201,
    "start_time": "2022-03-15T09:18:54.988Z"
   },
   {
    "duration": 43,
    "start_time": "2022-03-15T09:18:55.192Z"
   },
   {
    "duration": 5,
    "start_time": "2022-03-15T09:18:55.238Z"
   },
   {
    "duration": 41,
    "start_time": "2022-03-15T09:18:55.245Z"
   },
   {
    "duration": 435,
    "start_time": "2022-03-15T09:18:55.289Z"
   },
   {
    "duration": 11,
    "start_time": "2022-03-15T09:18:55.729Z"
   },
   {
    "duration": 10,
    "start_time": "2022-03-15T09:18:55.743Z"
   },
   {
    "duration": 9,
    "start_time": "2022-03-15T09:18:55.782Z"
   },
   {
    "duration": 8,
    "start_time": "2022-03-15T09:18:55.793Z"
   },
   {
    "duration": 22,
    "start_time": "2022-03-15T09:18:55.804Z"
   },
   {
    "duration": 953,
    "start_time": "2022-03-15T09:18:55.829Z"
   },
   {
    "duration": 15,
    "start_time": "2022-03-15T09:18:56.784Z"
   },
   {
    "duration": 44,
    "start_time": "2022-03-15T09:18:56.801Z"
   },
   {
    "duration": 75,
    "start_time": "2022-03-15T09:18:56.847Z"
   },
   {
    "duration": 7,
    "start_time": "2022-03-15T09:18:56.924Z"
   },
   {
    "duration": 48,
    "start_time": "2022-03-15T09:18:56.934Z"
   },
   {
    "duration": 39,
    "start_time": "2022-03-15T09:18:56.984Z"
   },
   {
    "duration": 15,
    "start_time": "2022-03-15T09:18:57.025Z"
   },
   {
    "duration": 69,
    "start_time": "2022-03-15T09:18:57.042Z"
   },
   {
    "duration": 172,
    "start_time": "2022-03-15T09:18:57.114Z"
   },
   {
    "duration": 548,
    "start_time": "2022-03-15T09:18:57.291Z"
   },
   {
    "duration": 54,
    "start_time": "2022-03-15T09:18:57.842Z"
   },
   {
    "duration": 4,
    "start_time": "2022-03-15T09:18:57.898Z"
   },
   {
    "duration": 287,
    "start_time": "2022-03-15T09:18:57.904Z"
   },
   {
    "duration": 457,
    "start_time": "2022-03-15T09:18:58.194Z"
   },
   {
    "duration": 7,
    "start_time": "2022-03-15T09:24:51.440Z"
   },
   {
    "duration": 933,
    "start_time": "2022-03-15T09:24:51.449Z"
   },
   {
    "duration": 53,
    "start_time": "2022-03-15T09:24:52.386Z"
   },
   {
    "duration": 46,
    "start_time": "2022-03-15T09:24:52.441Z"
   },
   {
    "duration": 24,
    "start_time": "2022-03-15T09:24:52.490Z"
   },
   {
    "duration": 7,
    "start_time": "2022-03-15T09:24:52.516Z"
   },
   {
    "duration": 8,
    "start_time": "2022-03-15T09:24:52.527Z"
   },
   {
    "duration": 46,
    "start_time": "2022-03-15T09:24:52.538Z"
   },
   {
    "duration": 19,
    "start_time": "2022-03-15T09:24:52.587Z"
   },
   {
    "duration": 48,
    "start_time": "2022-03-15T09:24:52.608Z"
   },
   {
    "duration": 16,
    "start_time": "2022-03-15T09:24:52.682Z"
   },
   {
    "duration": 13,
    "start_time": "2022-03-15T09:24:52.701Z"
   },
   {
    "duration": 78,
    "start_time": "2022-03-15T09:24:52.716Z"
   },
   {
    "duration": 13,
    "start_time": "2022-03-15T09:24:52.797Z"
   },
   {
    "duration": 12,
    "start_time": "2022-03-15T09:24:52.814Z"
   },
   {
    "duration": 15,
    "start_time": "2022-03-15T09:24:52.829Z"
   },
   {
    "duration": 44,
    "start_time": "2022-03-15T09:24:52.847Z"
   },
   {
    "duration": 182,
    "start_time": "2022-03-15T09:24:52.894Z"
   },
   {
    "duration": 210,
    "start_time": "2022-03-15T09:24:53.084Z"
   },
   {
    "duration": 58,
    "start_time": "2022-03-15T09:24:53.298Z"
   },
   {
    "duration": 26,
    "start_time": "2022-03-15T09:24:53.359Z"
   },
   {
    "duration": 14,
    "start_time": "2022-03-15T09:24:53.388Z"
   },
   {
    "duration": 417,
    "start_time": "2022-03-15T09:24:53.405Z"
   },
   {
    "duration": 11,
    "start_time": "2022-03-15T09:24:53.825Z"
   },
   {
    "duration": 11,
    "start_time": "2022-03-15T09:24:53.839Z"
   },
   {
    "duration": 30,
    "start_time": "2022-03-15T09:24:53.853Z"
   },
   {
    "duration": 21,
    "start_time": "2022-03-15T09:24:53.886Z"
   },
   {
    "duration": 22,
    "start_time": "2022-03-15T09:24:53.910Z"
   },
   {
    "duration": 938,
    "start_time": "2022-03-15T09:24:53.935Z"
   },
   {
    "duration": 19,
    "start_time": "2022-03-15T09:24:54.876Z"
   },
   {
    "duration": 42,
    "start_time": "2022-03-15T09:24:54.897Z"
   },
   {
    "duration": 82,
    "start_time": "2022-03-15T09:24:54.941Z"
   },
   {
    "duration": 7,
    "start_time": "2022-03-15T09:24:55.026Z"
   },
   {
    "duration": 46,
    "start_time": "2022-03-15T09:24:55.036Z"
   },
   {
    "duration": 40,
    "start_time": "2022-03-15T09:24:55.084Z"
   },
   {
    "duration": 14,
    "start_time": "2022-03-15T09:24:55.127Z"
   },
   {
    "duration": 73,
    "start_time": "2022-03-15T09:24:55.144Z"
   },
   {
    "duration": 265,
    "start_time": "2022-03-15T09:24:55.219Z"
   },
   {
    "duration": 629,
    "start_time": "2022-03-15T09:24:55.486Z"
   },
   {
    "duration": 43,
    "start_time": "2022-03-15T09:24:56.117Z"
   },
   {
    "duration": 3,
    "start_time": "2022-03-15T09:24:56.162Z"
   },
   {
    "duration": 300,
    "start_time": "2022-03-15T09:24:56.182Z"
   },
   {
    "duration": 410,
    "start_time": "2022-03-15T09:24:56.487Z"
   },
   {
    "duration": 331,
    "start_time": "2022-03-15T09:24:56.900Z"
   },
   {
    "duration": -16937,
    "start_time": "2022-03-15T09:25:14.170Z"
   },
   {
    "duration": -16954,
    "start_time": "2022-03-15T09:25:14.189Z"
   },
   {
    "duration": 6,
    "start_time": "2022-03-15T09:25:28.726Z"
   },
   {
    "duration": 882,
    "start_time": "2022-03-15T09:25:28.734Z"
   },
   {
    "duration": 74,
    "start_time": "2022-03-15T09:25:29.619Z"
   },
   {
    "duration": 18,
    "start_time": "2022-03-15T09:25:29.696Z"
   },
   {
    "duration": 25,
    "start_time": "2022-03-15T09:25:29.717Z"
   },
   {
    "duration": 38,
    "start_time": "2022-03-15T09:25:29.745Z"
   },
   {
    "duration": 10,
    "start_time": "2022-03-15T09:25:29.787Z"
   },
   {
    "duration": 8,
    "start_time": "2022-03-15T09:25:29.800Z"
   },
   {
    "duration": 18,
    "start_time": "2022-03-15T09:25:29.810Z"
   },
   {
    "duration": 79,
    "start_time": "2022-03-15T09:25:29.830Z"
   },
   {
    "duration": 14,
    "start_time": "2022-03-15T09:25:29.912Z"
   },
   {
    "duration": 12,
    "start_time": "2022-03-15T09:25:29.929Z"
   },
   {
    "duration": 68,
    "start_time": "2022-03-15T09:25:29.944Z"
   },
   {
    "duration": 13,
    "start_time": "2022-03-15T09:25:30.015Z"
   },
   {
    "duration": 13,
    "start_time": "2022-03-15T09:25:30.030Z"
   },
   {
    "duration": 48,
    "start_time": "2022-03-15T09:25:30.045Z"
   },
   {
    "duration": 9,
    "start_time": "2022-03-15T09:25:30.096Z"
   },
   {
    "duration": 175,
    "start_time": "2022-03-15T09:25:30.107Z"
   },
   {
    "duration": 186,
    "start_time": "2022-03-15T09:25:30.287Z"
   },
   {
    "duration": 44,
    "start_time": "2022-03-15T09:25:30.476Z"
   },
   {
    "duration": 4,
    "start_time": "2022-03-15T09:25:30.523Z"
   },
   {
    "duration": 34,
    "start_time": "2022-03-15T09:25:30.530Z"
   },
   {
    "duration": 420,
    "start_time": "2022-03-15T09:25:30.566Z"
   },
   {
    "duration": 12,
    "start_time": "2022-03-15T09:25:30.988Z"
   },
   {
    "duration": 13,
    "start_time": "2022-03-15T09:25:31.002Z"
   },
   {
    "duration": 8,
    "start_time": "2022-03-15T09:25:31.017Z"
   },
   {
    "duration": 15,
    "start_time": "2022-03-15T09:25:31.028Z"
   },
   {
    "duration": 52,
    "start_time": "2022-03-15T09:25:31.045Z"
   },
   {
    "duration": 948,
    "start_time": "2022-03-15T09:25:31.099Z"
   },
   {
    "duration": 13,
    "start_time": "2022-03-15T09:25:32.050Z"
   },
   {
    "duration": 58,
    "start_time": "2022-03-15T09:25:32.065Z"
   },
   {
    "duration": 78,
    "start_time": "2022-03-15T09:25:32.125Z"
   },
   {
    "duration": 7,
    "start_time": "2022-03-15T09:25:32.205Z"
   },
   {
    "duration": 28,
    "start_time": "2022-03-15T09:25:32.214Z"
   },
   {
    "duration": 54,
    "start_time": "2022-03-15T09:25:32.244Z"
   },
   {
    "duration": 13,
    "start_time": "2022-03-15T09:25:32.300Z"
   },
   {
    "duration": 67,
    "start_time": "2022-03-15T09:25:32.315Z"
   },
   {
    "duration": 203,
    "start_time": "2022-03-15T09:25:32.385Z"
   },
   {
    "duration": 795,
    "start_time": "2022-03-15T09:25:32.593Z"
   },
   {
    "duration": 43,
    "start_time": "2022-03-15T09:25:33.390Z"
   },
   {
    "duration": 4,
    "start_time": "2022-03-15T09:25:33.436Z"
   },
   {
    "duration": 141,
    "start_time": "2022-03-15T09:25:33.443Z"
   },
   {
    "duration": 489,
    "start_time": "2022-03-15T09:25:33.587Z"
   },
   {
    "duration": 22,
    "start_time": "2022-03-15T09:25:34.083Z"
   },
   {
    "duration": 6,
    "start_time": "2022-03-15T09:25:34.107Z"
   },
   {
    "duration": 8,
    "start_time": "2022-03-15T09:25:34.115Z"
   },
   {
    "duration": 6,
    "start_time": "2022-03-15T09:34:08.474Z"
   },
   {
    "duration": 6,
    "start_time": "2022-03-15T09:34:29.710Z"
   },
   {
    "duration": 911,
    "start_time": "2022-03-15T09:34:29.719Z"
   },
   {
    "duration": 73,
    "start_time": "2022-03-15T09:34:30.634Z"
   },
   {
    "duration": 17,
    "start_time": "2022-03-15T09:34:30.710Z"
   },
   {
    "duration": 48,
    "start_time": "2022-03-15T09:34:30.730Z"
   },
   {
    "duration": 6,
    "start_time": "2022-03-15T09:34:30.781Z"
   },
   {
    "duration": 70,
    "start_time": "2022-03-15T09:34:30.791Z"
   },
   {
    "duration": 31,
    "start_time": "2022-03-15T09:34:30.864Z"
   },
   {
    "duration": 44,
    "start_time": "2022-03-15T09:34:30.897Z"
   },
   {
    "duration": 49,
    "start_time": "2022-03-15T09:34:30.944Z"
   },
   {
    "duration": 15,
    "start_time": "2022-03-15T09:34:30.995Z"
   },
   {
    "duration": 16,
    "start_time": "2022-03-15T09:34:31.013Z"
   },
   {
    "duration": 68,
    "start_time": "2022-03-15T09:34:31.031Z"
   },
   {
    "duration": 14,
    "start_time": "2022-03-15T09:34:31.101Z"
   },
   {
    "duration": 17,
    "start_time": "2022-03-15T09:34:31.117Z"
   },
   {
    "duration": 19,
    "start_time": "2022-03-15T09:34:31.137Z"
   },
   {
    "duration": 29,
    "start_time": "2022-03-15T09:34:31.159Z"
   },
   {
    "duration": 174,
    "start_time": "2022-03-15T09:34:31.190Z"
   },
   {
    "duration": 192,
    "start_time": "2022-03-15T09:34:31.369Z"
   },
   {
    "duration": 51,
    "start_time": "2022-03-15T09:34:31.564Z"
   },
   {
    "duration": 4,
    "start_time": "2022-03-15T09:34:31.617Z"
   },
   {
    "duration": 42,
    "start_time": "2022-03-15T09:34:31.624Z"
   },
   {
    "duration": 425,
    "start_time": "2022-03-15T09:34:31.669Z"
   },
   {
    "duration": 11,
    "start_time": "2022-03-15T09:34:32.096Z"
   },
   {
    "duration": 13,
    "start_time": "2022-03-15T09:34:32.110Z"
   },
   {
    "duration": 11,
    "start_time": "2022-03-15T09:34:32.126Z"
   },
   {
    "duration": 20,
    "start_time": "2022-03-15T09:34:32.140Z"
   },
   {
    "duration": 35,
    "start_time": "2022-03-15T09:34:32.162Z"
   },
   {
    "duration": 962,
    "start_time": "2022-03-15T09:34:32.199Z"
   },
   {
    "duration": 22,
    "start_time": "2022-03-15T09:34:33.164Z"
   },
   {
    "duration": 53,
    "start_time": "2022-03-15T09:34:33.189Z"
   },
   {
    "duration": 65,
    "start_time": "2022-03-15T09:34:33.245Z"
   },
   {
    "duration": 7,
    "start_time": "2022-03-15T09:34:33.313Z"
   },
   {
    "duration": 24,
    "start_time": "2022-03-15T09:34:33.324Z"
   },
   {
    "duration": 62,
    "start_time": "2022-03-15T09:34:33.351Z"
   },
   {
    "duration": 14,
    "start_time": "2022-03-15T09:34:33.416Z"
   },
   {
    "duration": 59,
    "start_time": "2022-03-15T09:34:33.433Z"
   },
   {
    "duration": 93,
    "start_time": "2022-03-15T09:34:33.495Z"
   },
   {
    "duration": 647,
    "start_time": "2022-03-15T09:34:33.592Z"
   },
   {
    "duration": 57,
    "start_time": "2022-03-15T09:34:34.241Z"
   },
   {
    "duration": 3,
    "start_time": "2022-03-15T09:34:34.300Z"
   },
   {
    "duration": 46,
    "start_time": "2022-03-15T09:34:34.306Z"
   },
   {
    "duration": 139,
    "start_time": "2022-03-15T09:34:34.354Z"
   },
   {
    "duration": 497,
    "start_time": "2022-03-15T09:34:34.496Z"
   },
   {
    "duration": 21,
    "start_time": "2022-03-15T09:34:34.996Z"
   },
   {
    "duration": 6,
    "start_time": "2022-03-15T09:34:35.019Z"
   },
   {
    "duration": 17,
    "start_time": "2022-03-15T09:34:35.027Z"
   },
   {
    "duration": 109,
    "start_time": "2022-03-15T10:06:08.141Z"
   },
   {
    "duration": 6,
    "start_time": "2022-03-15T10:19:45.925Z"
   },
   {
    "duration": 961,
    "start_time": "2022-03-15T10:19:45.934Z"
   },
   {
    "duration": 49,
    "start_time": "2022-03-15T10:19:46.898Z"
   },
   {
    "duration": 38,
    "start_time": "2022-03-15T10:19:46.951Z"
   },
   {
    "duration": 36,
    "start_time": "2022-03-15T10:19:46.992Z"
   },
   {
    "duration": 7,
    "start_time": "2022-03-15T10:19:47.031Z"
   },
   {
    "duration": 13,
    "start_time": "2022-03-15T10:19:47.040Z"
   },
   {
    "duration": 5,
    "start_time": "2022-03-15T10:19:47.082Z"
   },
   {
    "duration": 16,
    "start_time": "2022-03-15T10:19:47.093Z"
   },
   {
    "duration": 79,
    "start_time": "2022-03-15T10:19:47.113Z"
   },
   {
    "duration": 14,
    "start_time": "2022-03-15T10:19:47.195Z"
   },
   {
    "duration": 27,
    "start_time": "2022-03-15T10:19:47.212Z"
   },
   {
    "duration": 63,
    "start_time": "2022-03-15T10:19:47.241Z"
   },
   {
    "duration": 13,
    "start_time": "2022-03-15T10:19:47.307Z"
   },
   {
    "duration": 12,
    "start_time": "2022-03-15T10:19:47.322Z"
   },
   {
    "duration": 53,
    "start_time": "2022-03-15T10:19:47.337Z"
   },
   {
    "duration": 11,
    "start_time": "2022-03-15T10:19:47.393Z"
   },
   {
    "duration": 191,
    "start_time": "2022-03-15T10:19:47.407Z"
   },
   {
    "duration": 196,
    "start_time": "2022-03-15T10:19:47.600Z"
   },
   {
    "duration": 60,
    "start_time": "2022-03-15T10:19:47.799Z"
   },
   {
    "duration": 24,
    "start_time": "2022-03-15T10:19:47.862Z"
   },
   {
    "duration": 23,
    "start_time": "2022-03-15T10:19:47.888Z"
   },
   {
    "duration": 432,
    "start_time": "2022-03-15T10:19:47.914Z"
   },
   {
    "duration": 10,
    "start_time": "2022-03-15T10:19:48.352Z"
   },
   {
    "duration": 11,
    "start_time": "2022-03-15T10:19:48.381Z"
   },
   {
    "duration": 7,
    "start_time": "2022-03-15T10:19:48.395Z"
   },
   {
    "duration": 9,
    "start_time": "2022-03-15T10:19:48.404Z"
   },
   {
    "duration": 24,
    "start_time": "2022-03-15T10:19:48.415Z"
   },
   {
    "duration": 997,
    "start_time": "2022-03-15T10:19:48.441Z"
   },
   {
    "duration": 13,
    "start_time": "2022-03-15T10:19:49.441Z"
   },
   {
    "duration": 61,
    "start_time": "2022-03-15T10:19:49.456Z"
   },
   {
    "duration": 63,
    "start_time": "2022-03-15T10:19:49.520Z"
   },
   {
    "duration": 8,
    "start_time": "2022-03-15T10:19:49.585Z"
   },
   {
    "duration": 31,
    "start_time": "2022-03-15T10:19:49.596Z"
   },
   {
    "duration": 66,
    "start_time": "2022-03-15T10:19:49.630Z"
   },
   {
    "duration": 14,
    "start_time": "2022-03-15T10:19:49.699Z"
   },
   {
    "duration": 75,
    "start_time": "2022-03-15T10:19:49.716Z"
   },
   {
    "duration": 93,
    "start_time": "2022-03-15T10:19:49.794Z"
   },
   {
    "duration": 652,
    "start_time": "2022-03-15T10:19:49.891Z"
   },
   {
    "duration": 63,
    "start_time": "2022-03-15T10:19:50.546Z"
   },
   {
    "duration": 4,
    "start_time": "2022-03-15T10:19:50.612Z"
   },
   {
    "duration": 60,
    "start_time": "2022-03-15T10:19:50.619Z"
   },
   {
    "duration": 201,
    "start_time": "2022-03-15T10:19:50.683Z"
   },
   {
    "duration": 436,
    "start_time": "2022-03-15T10:19:50.886Z"
   },
   {
    "duration": 22,
    "start_time": "2022-03-15T10:19:51.325Z"
   },
   {
    "duration": 6,
    "start_time": "2022-03-15T10:19:51.349Z"
   },
   {
    "duration": 29,
    "start_time": "2022-03-15T10:19:51.357Z"
   },
   {
    "duration": 21,
    "start_time": "2022-03-15T10:26:24.334Z"
   },
   {
    "duration": 6,
    "start_time": "2022-03-15T10:26:26.928Z"
   },
   {
    "duration": 6,
    "start_time": "2022-03-15T10:26:32.681Z"
   },
   {
    "duration": 908,
    "start_time": "2022-03-15T10:26:32.692Z"
   },
   {
    "duration": 49,
    "start_time": "2022-03-15T10:26:33.602Z"
   },
   {
    "duration": 39,
    "start_time": "2022-03-15T10:26:33.654Z"
   },
   {
    "duration": 23,
    "start_time": "2022-03-15T10:26:33.695Z"
   },
   {
    "duration": 7,
    "start_time": "2022-03-15T10:26:33.720Z"
   },
   {
    "duration": 9,
    "start_time": "2022-03-15T10:26:33.730Z"
   },
   {
    "duration": 42,
    "start_time": "2022-03-15T10:26:33.742Z"
   },
   {
    "duration": 16,
    "start_time": "2022-03-15T10:26:33.788Z"
   },
   {
    "duration": 47,
    "start_time": "2022-03-15T10:26:33.807Z"
   },
   {
    "duration": 38,
    "start_time": "2022-03-15T10:26:33.856Z"
   },
   {
    "duration": 15,
    "start_time": "2022-03-15T10:26:33.896Z"
   },
   {
    "duration": 43,
    "start_time": "2022-03-15T10:26:33.913Z"
   },
   {
    "duration": 13,
    "start_time": "2022-03-15T10:26:33.983Z"
   },
   {
    "duration": 9,
    "start_time": "2022-03-15T10:26:33.999Z"
   },
   {
    "duration": 12,
    "start_time": "2022-03-15T10:26:34.010Z"
   },
   {
    "duration": 8,
    "start_time": "2022-03-15T10:26:34.025Z"
   },
   {
    "duration": 203,
    "start_time": "2022-03-15T10:26:34.035Z"
   },
   {
    "duration": 185,
    "start_time": "2022-03-15T10:26:34.240Z"
   },
   {
    "duration": 57,
    "start_time": "2022-03-15T10:26:34.428Z"
   },
   {
    "duration": 5,
    "start_time": "2022-03-15T10:26:34.487Z"
   },
   {
    "duration": 20,
    "start_time": "2022-03-15T10:26:34.494Z"
   },
   {
    "duration": 417,
    "start_time": "2022-03-15T10:26:34.516Z"
   },
   {
    "duration": 12,
    "start_time": "2022-03-15T10:26:34.938Z"
   },
   {
    "duration": 36,
    "start_time": "2022-03-15T10:26:34.953Z"
   },
   {
    "duration": 7,
    "start_time": "2022-03-15T10:26:34.991Z"
   },
   {
    "duration": 19,
    "start_time": "2022-03-15T10:26:35.000Z"
   },
   {
    "duration": 25,
    "start_time": "2022-03-15T10:26:35.022Z"
   },
   {
    "duration": 933,
    "start_time": "2022-03-15T10:26:35.049Z"
   },
   {
    "duration": 14,
    "start_time": "2022-03-15T10:26:35.985Z"
   },
   {
    "duration": 49,
    "start_time": "2022-03-15T10:26:36.001Z"
   },
   {
    "duration": 73,
    "start_time": "2022-03-15T10:26:36.052Z"
   },
   {
    "duration": 7,
    "start_time": "2022-03-15T10:26:36.128Z"
   },
   {
    "duration": 28,
    "start_time": "2022-03-15T10:26:36.137Z"
   },
   {
    "duration": 38,
    "start_time": "2022-03-15T10:26:36.183Z"
   },
   {
    "duration": 13,
    "start_time": "2022-03-15T10:26:36.224Z"
   },
   {
    "duration": 69,
    "start_time": "2022-03-15T10:26:36.240Z"
   },
   {
    "duration": 271,
    "start_time": "2022-03-15T10:26:36.312Z"
   },
   {
    "duration": 479,
    "start_time": "2022-03-15T10:26:36.585Z"
   },
   {
    "duration": 55,
    "start_time": "2022-03-15T10:26:37.066Z"
   },
   {
    "duration": 3,
    "start_time": "2022-03-15T10:26:37.124Z"
   },
   {
    "duration": 64,
    "start_time": "2022-03-15T10:26:37.130Z"
   },
   {
    "duration": 285,
    "start_time": "2022-03-15T10:26:37.198Z"
   },
   {
    "duration": 456,
    "start_time": "2022-03-15T10:26:37.486Z"
   },
   {
    "duration": 21,
    "start_time": "2022-03-15T10:26:37.944Z"
   },
   {
    "duration": 6,
    "start_time": "2022-03-15T10:26:37.982Z"
   },
   {
    "duration": 12,
    "start_time": "2022-03-15T10:26:37.991Z"
   },
   {
    "duration": 6,
    "start_time": "2022-03-15T10:29:46.328Z"
   },
   {
    "duration": 867,
    "start_time": "2022-03-15T10:29:46.337Z"
   },
   {
    "duration": 75,
    "start_time": "2022-03-15T10:29:47.207Z"
   },
   {
    "duration": 18,
    "start_time": "2022-03-15T10:29:47.285Z"
   },
   {
    "duration": 24,
    "start_time": "2022-03-15T10:29:47.305Z"
   },
   {
    "duration": 8,
    "start_time": "2022-03-15T10:29:47.332Z"
   },
   {
    "duration": 45,
    "start_time": "2022-03-15T10:29:47.345Z"
   },
   {
    "duration": 7,
    "start_time": "2022-03-15T10:29:47.394Z"
   },
   {
    "duration": 19,
    "start_time": "2022-03-15T10:29:47.405Z"
   },
   {
    "duration": 87,
    "start_time": "2022-03-15T10:29:47.428Z"
   },
   {
    "duration": 16,
    "start_time": "2022-03-15T10:29:47.518Z"
   },
   {
    "duration": 14,
    "start_time": "2022-03-15T10:29:47.537Z"
   },
   {
    "duration": 46,
    "start_time": "2022-03-15T10:29:47.583Z"
   },
   {
    "duration": 14,
    "start_time": "2022-03-15T10:29:47.632Z"
   },
   {
    "duration": 40,
    "start_time": "2022-03-15T10:29:47.649Z"
   },
   {
    "duration": 15,
    "start_time": "2022-03-15T10:29:47.692Z"
   },
   {
    "duration": 11,
    "start_time": "2022-03-15T10:29:47.710Z"
   },
   {
    "duration": 203,
    "start_time": "2022-03-15T10:29:47.723Z"
   },
   {
    "duration": 186,
    "start_time": "2022-03-15T10:29:47.931Z"
   },
   {
    "duration": 38,
    "start_time": "2022-03-15T10:29:48.120Z"
   },
   {
    "duration": 4,
    "start_time": "2022-03-15T10:29:48.160Z"
   },
   {
    "duration": 11,
    "start_time": "2022-03-15T10:29:48.183Z"
   },
   {
    "duration": 428,
    "start_time": "2022-03-15T10:29:48.197Z"
   },
   {
    "duration": 11,
    "start_time": "2022-03-15T10:29:48.627Z"
   },
   {
    "duration": 11,
    "start_time": "2022-03-15T10:29:48.640Z"
   },
   {
    "duration": 33,
    "start_time": "2022-03-15T10:29:48.653Z"
   },
   {
    "duration": 11,
    "start_time": "2022-03-15T10:29:48.689Z"
   },
   {
    "duration": 17,
    "start_time": "2022-03-15T10:29:48.702Z"
   },
   {
    "duration": 1150,
    "start_time": "2022-03-15T10:29:48.721Z"
   },
   {
    "duration": 20,
    "start_time": "2022-03-15T10:29:49.873Z"
   },
   {
    "duration": 41,
    "start_time": "2022-03-15T10:29:49.896Z"
   },
   {
    "duration": 74,
    "start_time": "2022-03-15T10:29:49.939Z"
   },
   {
    "duration": 7,
    "start_time": "2022-03-15T10:29:50.015Z"
   },
   {
    "duration": 25,
    "start_time": "2022-03-15T10:29:50.024Z"
   },
   {
    "duration": 62,
    "start_time": "2022-03-15T10:29:50.052Z"
   },
   {
    "duration": 14,
    "start_time": "2022-03-15T10:29:50.117Z"
   },
   {
    "duration": 69,
    "start_time": "2022-03-15T10:29:50.133Z"
   },
   {
    "duration": 41,
    "start_time": "2022-03-15T10:29:50.204Z"
   },
   {
    "duration": 3,
    "start_time": "2022-03-15T10:29:50.248Z"
   },
   {
    "duration": 62,
    "start_time": "2022-03-15T10:29:50.254Z"
   },
   {
    "duration": 22,
    "start_time": "2022-03-15T10:29:50.319Z"
   },
   {
    "duration": 41,
    "start_time": "2022-03-15T10:29:50.343Z"
   },
   {
    "duration": 7,
    "start_time": "2022-03-15T10:29:50.386Z"
   },
   {
    "duration": 6,
    "start_time": "2022-03-15T10:30:34.508Z"
   },
   {
    "duration": 921,
    "start_time": "2022-03-15T10:30:34.517Z"
   },
   {
    "duration": 68,
    "start_time": "2022-03-15T10:30:35.441Z"
   },
   {
    "duration": 17,
    "start_time": "2022-03-15T10:30:35.513Z"
   },
   {
    "duration": 55,
    "start_time": "2022-03-15T10:30:35.532Z"
   },
   {
    "duration": 28,
    "start_time": "2022-03-15T10:30:35.590Z"
   },
   {
    "duration": 35,
    "start_time": "2022-03-15T10:30:35.622Z"
   },
   {
    "duration": 44,
    "start_time": "2022-03-15T10:30:35.660Z"
   },
   {
    "duration": 45,
    "start_time": "2022-03-15T10:30:35.707Z"
   },
   {
    "duration": 56,
    "start_time": "2022-03-15T10:30:35.754Z"
   },
   {
    "duration": 14,
    "start_time": "2022-03-15T10:30:35.813Z"
   },
   {
    "duration": 24,
    "start_time": "2022-03-15T10:30:35.829Z"
   },
   {
    "duration": 60,
    "start_time": "2022-03-15T10:30:35.856Z"
   },
   {
    "duration": 13,
    "start_time": "2022-03-15T10:30:35.918Z"
   },
   {
    "duration": 17,
    "start_time": "2022-03-15T10:30:35.934Z"
   },
   {
    "duration": 42,
    "start_time": "2022-03-15T10:30:35.954Z"
   },
   {
    "duration": 36,
    "start_time": "2022-03-15T10:30:35.999Z"
   },
   {
    "duration": 183,
    "start_time": "2022-03-15T10:30:36.038Z"
   },
   {
    "duration": 189,
    "start_time": "2022-03-15T10:30:36.226Z"
   },
   {
    "duration": 42,
    "start_time": "2022-03-15T10:30:36.418Z"
   },
   {
    "duration": 21,
    "start_time": "2022-03-15T10:30:36.463Z"
   },
   {
    "duration": 41,
    "start_time": "2022-03-15T10:30:36.487Z"
   },
   {
    "duration": 437,
    "start_time": "2022-03-15T10:30:36.531Z"
   },
   {
    "duration": 18,
    "start_time": "2022-03-15T10:30:36.971Z"
   },
   {
    "duration": 31,
    "start_time": "2022-03-15T10:30:36.992Z"
   },
   {
    "duration": 34,
    "start_time": "2022-03-15T10:30:37.026Z"
   },
   {
    "duration": 42,
    "start_time": "2022-03-15T10:30:37.063Z"
   },
   {
    "duration": 40,
    "start_time": "2022-03-15T10:30:37.108Z"
   },
   {
    "duration": 959,
    "start_time": "2022-03-15T10:30:37.151Z"
   },
   {
    "duration": 14,
    "start_time": "2022-03-15T10:30:38.112Z"
   },
   {
    "duration": 80,
    "start_time": "2022-03-15T10:30:38.128Z"
   },
   {
    "duration": 48,
    "start_time": "2022-03-15T10:30:38.211Z"
   },
   {
    "duration": 23,
    "start_time": "2022-03-15T10:30:38.262Z"
   },
   {
    "duration": 48,
    "start_time": "2022-03-15T10:30:38.288Z"
   },
   {
    "duration": 50,
    "start_time": "2022-03-15T10:30:38.339Z"
   },
   {
    "duration": 15,
    "start_time": "2022-03-15T10:30:38.392Z"
   },
   {
    "duration": 56,
    "start_time": "2022-03-15T10:30:38.411Z"
   },
   {
    "duration": 52,
    "start_time": "2022-03-15T10:30:38.470Z"
   },
   {
    "duration": 4,
    "start_time": "2022-03-15T10:30:38.525Z"
   },
   {
    "duration": 65,
    "start_time": "2022-03-15T10:30:38.532Z"
   },
   {
    "duration": 20,
    "start_time": "2022-03-15T10:30:38.599Z"
   },
   {
    "duration": 6,
    "start_time": "2022-03-15T10:30:38.622Z"
   },
   {
    "duration": 43,
    "start_time": "2022-03-15T10:30:38.630Z"
   },
   {
    "duration": 1449,
    "start_time": "2022-03-15T15:15:41.583Z"
   },
   {
    "duration": 947,
    "start_time": "2022-03-15T15:15:43.035Z"
   },
   {
    "duration": 68,
    "start_time": "2022-03-15T15:15:43.985Z"
   },
   {
    "duration": 17,
    "start_time": "2022-03-15T15:15:44.056Z"
   },
   {
    "duration": 28,
    "start_time": "2022-03-15T15:15:44.076Z"
   },
   {
    "duration": 6,
    "start_time": "2022-03-15T15:15:44.107Z"
   },
   {
    "duration": 8,
    "start_time": "2022-03-15T15:15:44.145Z"
   },
   {
    "duration": 5,
    "start_time": "2022-03-15T15:15:44.157Z"
   },
   {
    "duration": 23,
    "start_time": "2022-03-15T15:15:44.165Z"
   },
   {
    "duration": 88,
    "start_time": "2022-03-15T15:15:44.190Z"
   },
   {
    "duration": 18,
    "start_time": "2022-03-15T15:15:44.280Z"
   },
   {
    "duration": 15,
    "start_time": "2022-03-15T15:15:44.300Z"
   },
   {
    "duration": 65,
    "start_time": "2022-03-15T15:15:44.318Z"
   },
   {
    "duration": 15,
    "start_time": "2022-03-15T15:15:44.385Z"
   },
   {
    "duration": 9,
    "start_time": "2022-03-15T15:15:44.403Z"
   },
   {
    "duration": 41,
    "start_time": "2022-03-15T15:15:44.414Z"
   },
   {
    "duration": 10,
    "start_time": "2022-03-15T15:15:44.457Z"
   },
   {
    "duration": 186,
    "start_time": "2022-03-15T15:15:44.469Z"
   },
   {
    "duration": 193,
    "start_time": "2022-03-15T15:15:44.657Z"
   },
   {
    "duration": 38,
    "start_time": "2022-03-15T15:15:44.852Z"
   },
   {
    "duration": 4,
    "start_time": "2022-03-15T15:15:44.892Z"
   },
   {
    "duration": 12,
    "start_time": "2022-03-15T15:15:44.899Z"
   },
   {
    "duration": 421,
    "start_time": "2022-03-15T15:15:44.944Z"
   },
   {
    "duration": 11,
    "start_time": "2022-03-15T15:15:45.368Z"
   },
   {
    "duration": 10,
    "start_time": "2022-03-15T15:15:45.382Z"
   },
   {
    "duration": 10,
    "start_time": "2022-03-15T15:15:45.395Z"
   },
   {
    "duration": 39,
    "start_time": "2022-03-15T15:15:45.408Z"
   },
   {
    "duration": 36,
    "start_time": "2022-03-15T15:15:45.450Z"
   },
   {
    "duration": 1020,
    "start_time": "2022-03-15T15:15:45.489Z"
   },
   {
    "duration": 16,
    "start_time": "2022-03-15T15:15:46.511Z"
   },
   {
    "duration": 44,
    "start_time": "2022-03-15T15:15:46.542Z"
   },
   {
    "duration": 78,
    "start_time": "2022-03-15T15:15:46.588Z"
   },
   {
    "duration": 7,
    "start_time": "2022-03-15T15:15:46.668Z"
   },
   {
    "duration": 24,
    "start_time": "2022-03-15T15:15:46.678Z"
   },
   {
    "duration": 64,
    "start_time": "2022-03-15T15:15:46.705Z"
   },
   {
    "duration": 15,
    "start_time": "2022-03-15T15:15:46.772Z"
   },
   {
    "duration": 77,
    "start_time": "2022-03-15T15:15:46.789Z"
   },
   {
    "duration": 45,
    "start_time": "2022-03-15T15:15:46.869Z"
   },
   {
    "duration": 3,
    "start_time": "2022-03-15T15:15:46.917Z"
   },
   {
    "duration": 58,
    "start_time": "2022-03-15T15:15:46.922Z"
   },
   {
    "duration": 24,
    "start_time": "2022-03-15T15:15:46.983Z"
   },
   {
    "duration": 6,
    "start_time": "2022-03-15T15:15:47.009Z"
   },
   {
    "duration": 5,
    "start_time": "2022-03-15T15:15:47.043Z"
   },
   {
    "duration": 6,
    "start_time": "2022-03-15T15:16:16.900Z"
   },
   {
    "duration": 1027,
    "start_time": "2022-03-15T15:16:16.908Z"
   },
   {
    "duration": 58,
    "start_time": "2022-03-15T15:16:17.937Z"
   },
   {
    "duration": 17,
    "start_time": "2022-03-15T15:16:17.998Z"
   },
   {
    "duration": 23,
    "start_time": "2022-03-15T15:16:18.044Z"
   },
   {
    "duration": 7,
    "start_time": "2022-03-15T15:16:18.070Z"
   },
   {
    "duration": 10,
    "start_time": "2022-03-15T15:16:18.081Z"
   },
   {
    "duration": 6,
    "start_time": "2022-03-15T15:16:18.093Z"
   },
   {
    "duration": 16,
    "start_time": "2022-03-15T15:16:18.142Z"
   },
   {
    "duration": 54,
    "start_time": "2022-03-15T15:16:18.161Z"
   },
   {
    "duration": 37,
    "start_time": "2022-03-15T15:16:18.218Z"
   },
   {
    "duration": 16,
    "start_time": "2022-03-15T15:16:18.258Z"
   },
   {
    "duration": 87,
    "start_time": "2022-03-15T15:16:18.276Z"
   },
   {
    "duration": 16,
    "start_time": "2022-03-15T15:16:18.365Z"
   },
   {
    "duration": 12,
    "start_time": "2022-03-15T15:16:18.384Z"
   },
   {
    "duration": 52,
    "start_time": "2022-03-15T15:16:18.399Z"
   },
   {
    "duration": 13,
    "start_time": "2022-03-15T15:16:18.454Z"
   },
   {
    "duration": 187,
    "start_time": "2022-03-15T15:16:18.470Z"
   },
   {
    "duration": 198,
    "start_time": "2022-03-15T15:16:18.664Z"
   },
   {
    "duration": 47,
    "start_time": "2022-03-15T15:16:18.865Z"
   },
   {
    "duration": 4,
    "start_time": "2022-03-15T15:16:18.915Z"
   },
   {
    "duration": 27,
    "start_time": "2022-03-15T15:16:18.921Z"
   },
   {
    "duration": 445,
    "start_time": "2022-03-15T15:16:18.951Z"
   },
   {
    "duration": 11,
    "start_time": "2022-03-15T15:16:19.398Z"
   },
   {
    "duration": 32,
    "start_time": "2022-03-15T15:16:19.411Z"
   },
   {
    "duration": 7,
    "start_time": "2022-03-15T15:16:19.445Z"
   },
   {
    "duration": 12,
    "start_time": "2022-03-15T15:16:19.454Z"
   },
   {
    "duration": 24,
    "start_time": "2022-03-15T15:16:19.468Z"
   },
   {
    "duration": 1075,
    "start_time": "2022-03-15T15:16:19.494Z"
   },
   {
    "duration": 14,
    "start_time": "2022-03-15T15:16:20.572Z"
   },
   {
    "duration": 71,
    "start_time": "2022-03-15T15:16:20.588Z"
   },
   {
    "duration": 59,
    "start_time": "2022-03-15T15:16:20.661Z"
   },
   {
    "duration": 24,
    "start_time": "2022-03-15T15:16:20.723Z"
   },
   {
    "duration": 45,
    "start_time": "2022-03-15T15:16:20.749Z"
   },
   {
    "duration": 40,
    "start_time": "2022-03-15T15:16:20.797Z"
   },
   {
    "duration": 15,
    "start_time": "2022-03-15T15:16:20.843Z"
   },
   {
    "duration": 62,
    "start_time": "2022-03-15T15:16:20.860Z"
   },
   {
    "duration": 57,
    "start_time": "2022-03-15T15:16:20.925Z"
   },
   {
    "duration": 4,
    "start_time": "2022-03-15T15:16:20.984Z"
   },
   {
    "duration": 27,
    "start_time": "2022-03-15T15:16:20.990Z"
   },
   {
    "duration": 37,
    "start_time": "2022-03-15T15:16:21.019Z"
   },
   {
    "duration": 3,
    "start_time": "2022-03-15T15:16:21.059Z"
   },
   {
    "duration": 16,
    "start_time": "2022-03-15T15:16:21.064Z"
   },
   {
    "duration": 6,
    "start_time": "2022-03-15T15:29:55.328Z"
   },
   {
    "duration": 1030,
    "start_time": "2022-03-15T15:29:55.337Z"
   },
   {
    "duration": 76,
    "start_time": "2022-03-15T15:29:56.370Z"
   },
   {
    "duration": 18,
    "start_time": "2022-03-15T15:29:56.449Z"
   },
   {
    "duration": 33,
    "start_time": "2022-03-15T15:29:56.470Z"
   },
   {
    "duration": 43,
    "start_time": "2022-03-15T15:29:56.506Z"
   },
   {
    "duration": 11,
    "start_time": "2022-03-15T15:29:56.554Z"
   },
   {
    "duration": 7,
    "start_time": "2022-03-15T15:29:56.568Z"
   },
   {
    "duration": 19,
    "start_time": "2022-03-15T15:29:56.577Z"
   },
   {
    "duration": 99,
    "start_time": "2022-03-15T15:29:56.599Z"
   },
   {
    "duration": 17,
    "start_time": "2022-03-15T15:29:56.701Z"
   },
   {
    "duration": 15,
    "start_time": "2022-03-15T15:29:56.744Z"
   },
   {
    "duration": 50,
    "start_time": "2022-03-15T15:29:56.762Z"
   },
   {
    "duration": 39,
    "start_time": "2022-03-15T15:29:56.815Z"
   },
   {
    "duration": 11,
    "start_time": "2022-03-15T15:29:56.857Z"
   },
   {
    "duration": 15,
    "start_time": "2022-03-15T15:29:56.870Z"
   },
   {
    "duration": 10,
    "start_time": "2022-03-15T15:29:56.887Z"
   },
   {
    "duration": 172,
    "start_time": "2022-03-15T15:29:56.944Z"
   },
   {
    "duration": 224,
    "start_time": "2022-03-15T15:29:57.120Z"
   },
   {
    "duration": 60,
    "start_time": "2022-03-15T15:29:57.348Z"
   },
   {
    "duration": 5,
    "start_time": "2022-03-15T15:29:57.411Z"
   },
   {
    "duration": 38,
    "start_time": "2022-03-15T15:29:57.419Z"
   },
   {
    "duration": 510,
    "start_time": "2022-03-15T15:29:57.460Z"
   },
   {
    "duration": 16,
    "start_time": "2022-03-15T15:29:57.974Z"
   },
   {
    "duration": 14,
    "start_time": "2022-03-15T15:29:57.994Z"
   },
   {
    "duration": 39,
    "start_time": "2022-03-15T15:29:58.011Z"
   },
   {
    "duration": 17,
    "start_time": "2022-03-15T15:29:58.053Z"
   },
   {
    "duration": 21,
    "start_time": "2022-03-15T15:29:58.073Z"
   },
   {
    "duration": 1232,
    "start_time": "2022-03-15T15:29:58.096Z"
   },
   {
    "duration": 24,
    "start_time": "2022-03-15T15:29:59.332Z"
   },
   {
    "duration": 52,
    "start_time": "2022-03-15T15:29:59.358Z"
   },
   {
    "duration": 77,
    "start_time": "2022-03-15T15:29:59.413Z"
   },
   {
    "duration": 7,
    "start_time": "2022-03-15T15:29:59.492Z"
   },
   {
    "duration": 49,
    "start_time": "2022-03-15T15:29:59.502Z"
   },
   {
    "duration": 40,
    "start_time": "2022-03-15T15:29:59.553Z"
   },
   {
    "duration": 47,
    "start_time": "2022-03-15T15:29:59.596Z"
   },
   {
    "duration": 48,
    "start_time": "2022-03-15T15:29:59.646Z"
   },
   {
    "duration": 3,
    "start_time": "2022-03-15T15:29:59.696Z"
   },
   {
    "duration": 11,
    "start_time": "2022-03-15T15:29:59.702Z"
   },
   {
    "duration": 46,
    "start_time": "2022-03-15T15:29:59.715Z"
   },
   {
    "duration": 7,
    "start_time": "2022-03-15T15:29:59.764Z"
   },
   {
    "duration": 8,
    "start_time": "2022-03-15T15:29:59.774Z"
   },
   {
    "duration": 470,
    "start_time": "2022-03-15T15:29:59.785Z"
   },
   {
    "duration": 303,
    "start_time": "2022-03-15T15:30:49.081Z"
   },
   {
    "duration": 7,
    "start_time": "2022-03-15T15:31:48.289Z"
   },
   {
    "duration": 972,
    "start_time": "2022-03-15T15:31:48.299Z"
   },
   {
    "duration": 69,
    "start_time": "2022-03-15T15:31:49.274Z"
   },
   {
    "duration": 17,
    "start_time": "2022-03-15T15:31:49.345Z"
   },
   {
    "duration": 25,
    "start_time": "2022-03-15T15:31:49.364Z"
   },
   {
    "duration": 7,
    "start_time": "2022-03-15T15:31:49.391Z"
   },
   {
    "duration": 45,
    "start_time": "2022-03-15T15:31:49.402Z"
   },
   {
    "duration": 5,
    "start_time": "2022-03-15T15:31:49.450Z"
   },
   {
    "duration": 19,
    "start_time": "2022-03-15T15:31:49.457Z"
   },
   {
    "duration": 77,
    "start_time": "2022-03-15T15:31:49.478Z"
   },
   {
    "duration": 15,
    "start_time": "2022-03-15T15:31:49.557Z"
   },
   {
    "duration": 13,
    "start_time": "2022-03-15T15:31:49.574Z"
   },
   {
    "duration": 72,
    "start_time": "2022-03-15T15:31:49.589Z"
   },
   {
    "duration": 13,
    "start_time": "2022-03-15T15:31:49.663Z"
   },
   {
    "duration": 9,
    "start_time": "2022-03-15T15:31:49.679Z"
   },
   {
    "duration": 15,
    "start_time": "2022-03-15T15:31:49.691Z"
   },
   {
    "duration": 42,
    "start_time": "2022-03-15T15:31:49.709Z"
   },
   {
    "duration": 179,
    "start_time": "2022-03-15T15:31:49.753Z"
   },
   {
    "duration": 194,
    "start_time": "2022-03-15T15:31:49.937Z"
   },
   {
    "duration": 48,
    "start_time": "2022-03-15T15:31:50.134Z"
   },
   {
    "duration": 4,
    "start_time": "2022-03-15T15:31:50.184Z"
   },
   {
    "duration": 15,
    "start_time": "2022-03-15T15:31:50.191Z"
   },
   {
    "duration": 441,
    "start_time": "2022-03-15T15:31:50.208Z"
   },
   {
    "duration": 11,
    "start_time": "2022-03-15T15:31:50.651Z"
   },
   {
    "duration": 10,
    "start_time": "2022-03-15T15:31:50.664Z"
   },
   {
    "duration": 8,
    "start_time": "2022-03-15T15:31:50.677Z"
   },
   {
    "duration": 7,
    "start_time": "2022-03-15T15:31:50.687Z"
   },
   {
    "duration": 62,
    "start_time": "2022-03-15T15:31:50.697Z"
   },
   {
    "duration": 985,
    "start_time": "2022-03-15T15:31:50.761Z"
   },
   {
    "duration": 15,
    "start_time": "2022-03-15T15:31:51.748Z"
   },
   {
    "duration": 47,
    "start_time": "2022-03-15T15:31:51.767Z"
   },
   {
    "duration": 77,
    "start_time": "2022-03-15T15:31:51.816Z"
   },
   {
    "duration": 7,
    "start_time": "2022-03-15T15:31:51.896Z"
   },
   {
    "duration": 51,
    "start_time": "2022-03-15T15:31:51.905Z"
   },
   {
    "duration": 40,
    "start_time": "2022-03-15T15:31:51.959Z"
   },
   {
    "duration": 13,
    "start_time": "2022-03-15T15:31:52.002Z"
   },
   {
    "duration": 68,
    "start_time": "2022-03-15T15:31:52.017Z"
   },
   {
    "duration": 3,
    "start_time": "2022-03-15T15:31:52.088Z"
   },
   {
    "duration": 7,
    "start_time": "2022-03-15T15:31:52.094Z"
   },
   {
    "duration": 54,
    "start_time": "2022-03-15T15:31:52.103Z"
   },
   {
    "duration": 3,
    "start_time": "2022-03-15T15:31:52.160Z"
   },
   {
    "duration": 12,
    "start_time": "2022-03-15T15:31:52.165Z"
   },
   {
    "duration": 441,
    "start_time": "2022-03-15T15:31:52.180Z"
   },
   {
    "duration": 324,
    "start_time": "2022-03-15T15:41:31.067Z"
   },
   {
    "duration": 5,
    "start_time": "2022-03-15T15:44:04.506Z"
   },
   {
    "duration": 1052,
    "start_time": "2022-03-15T15:44:04.514Z"
   },
   {
    "duration": 87,
    "start_time": "2022-03-15T15:44:05.570Z"
   },
   {
    "duration": 22,
    "start_time": "2022-03-15T15:44:05.660Z"
   },
   {
    "duration": 27,
    "start_time": "2022-03-15T15:44:05.685Z"
   },
   {
    "duration": 9,
    "start_time": "2022-03-15T15:44:05.744Z"
   },
   {
    "duration": 9,
    "start_time": "2022-03-15T15:44:05.758Z"
   },
   {
    "duration": 10,
    "start_time": "2022-03-15T15:44:05.770Z"
   },
   {
    "duration": 24,
    "start_time": "2022-03-15T15:44:05.783Z"
   },
   {
    "duration": 65,
    "start_time": "2022-03-15T15:44:05.848Z"
   },
   {
    "duration": 35,
    "start_time": "2022-03-15T15:44:05.916Z"
   },
   {
    "duration": 14,
    "start_time": "2022-03-15T15:44:05.953Z"
   },
   {
    "duration": 72,
    "start_time": "2022-03-15T15:44:05.970Z"
   },
   {
    "duration": 14,
    "start_time": "2022-03-15T15:44:06.045Z"
   },
   {
    "duration": 11,
    "start_time": "2022-03-15T15:44:06.062Z"
   },
   {
    "duration": 13,
    "start_time": "2022-03-15T15:44:06.076Z"
   },
   {
    "duration": 9,
    "start_time": "2022-03-15T15:44:06.092Z"
   },
   {
    "duration": 171,
    "start_time": "2022-03-15T15:44:06.145Z"
   },
   {
    "duration": 203,
    "start_time": "2022-03-15T15:44:06.323Z"
   },
   {
    "duration": 56,
    "start_time": "2022-03-15T15:44:06.529Z"
   },
   {
    "duration": 4,
    "start_time": "2022-03-15T15:44:06.588Z"
   },
   {
    "duration": 15,
    "start_time": "2022-03-15T15:44:06.595Z"
   },
   {
    "duration": 600,
    "start_time": "2022-03-15T15:44:06.612Z"
   },
   {
    "duration": 12,
    "start_time": "2022-03-15T15:44:07.214Z"
   },
   {
    "duration": 24,
    "start_time": "2022-03-15T15:44:07.243Z"
   },
   {
    "duration": 8,
    "start_time": "2022-03-15T15:44:07.270Z"
   },
   {
    "duration": 8,
    "start_time": "2022-03-15T15:44:07.280Z"
   },
   {
    "duration": 19,
    "start_time": "2022-03-15T15:44:07.290Z"
   },
   {
    "duration": 1191,
    "start_time": "2022-03-15T15:44:07.311Z"
   },
   {
    "duration": 16,
    "start_time": "2022-03-15T15:44:08.505Z"
   },
   {
    "duration": 49,
    "start_time": "2022-03-15T15:44:08.544Z"
   },
   {
    "duration": 81,
    "start_time": "2022-03-15T15:44:08.596Z"
   },
   {
    "duration": 8,
    "start_time": "2022-03-15T15:44:08.680Z"
   },
   {
    "duration": 27,
    "start_time": "2022-03-15T15:44:08.691Z"
   },
   {
    "duration": 42,
    "start_time": "2022-03-15T15:44:08.743Z"
   },
   {
    "duration": 14,
    "start_time": "2022-03-15T15:44:08.787Z"
   },
   {
    "duration": 71,
    "start_time": "2022-03-15T15:44:08.803Z"
   },
   {
    "duration": 3,
    "start_time": "2022-03-15T15:44:08.876Z"
   },
   {
    "duration": 6,
    "start_time": "2022-03-15T15:44:08.881Z"
   },
   {
    "duration": 43,
    "start_time": "2022-03-15T15:44:08.889Z"
   },
   {
    "duration": 2,
    "start_time": "2022-03-15T15:44:08.935Z"
   },
   {
    "duration": 20,
    "start_time": "2022-03-15T15:44:08.944Z"
   },
   {
    "duration": 4650,
    "start_time": "2022-03-15T15:44:08.967Z"
   },
   {
    "duration": 6,
    "start_time": "2022-03-15T15:57:48.929Z"
   },
   {
    "duration": 1242,
    "start_time": "2022-03-15T15:57:48.938Z"
   },
   {
    "duration": 98,
    "start_time": "2022-03-15T15:57:50.184Z"
   },
   {
    "duration": 17,
    "start_time": "2022-03-15T15:57:50.287Z"
   },
   {
    "duration": 46,
    "start_time": "2022-03-15T15:57:50.307Z"
   },
   {
    "duration": 8,
    "start_time": "2022-03-15T15:57:50.356Z"
   },
   {
    "duration": 8,
    "start_time": "2022-03-15T15:57:50.367Z"
   },
   {
    "duration": 5,
    "start_time": "2022-03-15T15:57:50.379Z"
   },
   {
    "duration": 58,
    "start_time": "2022-03-15T15:57:50.386Z"
   },
   {
    "duration": 65,
    "start_time": "2022-03-15T15:57:50.447Z"
   },
   {
    "duration": 35,
    "start_time": "2022-03-15T15:57:50.515Z"
   },
   {
    "duration": 13,
    "start_time": "2022-03-15T15:57:50.553Z"
   },
   {
    "duration": 76,
    "start_time": "2022-03-15T15:57:50.569Z"
   },
   {
    "duration": 13,
    "start_time": "2022-03-15T15:57:50.648Z"
   },
   {
    "duration": 11,
    "start_time": "2022-03-15T15:57:50.664Z"
   },
   {
    "duration": 17,
    "start_time": "2022-03-15T15:57:50.678Z"
   },
   {
    "duration": 49,
    "start_time": "2022-03-15T15:57:50.698Z"
   },
   {
    "duration": 226,
    "start_time": "2022-03-15T15:57:50.750Z"
   },
   {
    "duration": 195,
    "start_time": "2022-03-15T15:57:50.983Z"
   },
   {
    "duration": 43,
    "start_time": "2022-03-15T15:57:51.182Z"
   },
   {
    "duration": 4,
    "start_time": "2022-03-15T15:57:51.244Z"
   },
   {
    "duration": 20,
    "start_time": "2022-03-15T15:57:51.251Z"
   },
   {
    "duration": 485,
    "start_time": "2022-03-15T15:57:51.274Z"
   },
   {
    "duration": 13,
    "start_time": "2022-03-15T15:57:51.762Z"
   },
   {
    "duration": 14,
    "start_time": "2022-03-15T15:57:51.777Z"
   },
   {
    "duration": 9,
    "start_time": "2022-03-15T15:57:51.795Z"
   },
   {
    "duration": 48,
    "start_time": "2022-03-15T15:57:51.807Z"
   },
   {
    "duration": 20,
    "start_time": "2022-03-15T15:57:51.858Z"
   },
   {
    "duration": 1615,
    "start_time": "2022-03-15T15:57:51.881Z"
   },
   {
    "duration": 18,
    "start_time": "2022-03-15T15:57:53.499Z"
   },
   {
    "duration": 67,
    "start_time": "2022-03-15T15:57:53.520Z"
   },
   {
    "duration": 77,
    "start_time": "2022-03-15T15:57:53.590Z"
   },
   {
    "duration": 7,
    "start_time": "2022-03-15T15:57:53.669Z"
   },
   {
    "duration": 25,
    "start_time": "2022-03-15T15:57:53.679Z"
   },
   {
    "duration": 71,
    "start_time": "2022-03-15T15:57:53.706Z"
   },
   {
    "duration": 15,
    "start_time": "2022-03-15T15:57:53.779Z"
   },
   {
    "duration": 67,
    "start_time": "2022-03-15T15:57:53.797Z"
   },
   {
    "duration": 3,
    "start_time": "2022-03-15T15:57:53.866Z"
   },
   {
    "duration": 9,
    "start_time": "2022-03-15T15:57:53.871Z"
   },
   {
    "duration": 27,
    "start_time": "2022-03-15T15:57:53.882Z"
   },
   {
    "duration": 3,
    "start_time": "2022-03-15T15:57:53.912Z"
   },
   {
    "duration": 31,
    "start_time": "2022-03-15T15:57:53.917Z"
   },
   {
    "duration": 4,
    "start_time": "2022-03-15T15:57:53.951Z"
   },
   {
    "duration": 2467,
    "start_time": "2022-03-15T15:57:53.957Z"
   },
   {
    "duration": 3765,
    "start_time": "2022-03-15T15:57:56.427Z"
   },
   {
    "duration": 1309,
    "start_time": "2022-03-15T15:58:51.269Z"
   },
   {
    "duration": 3069,
    "start_time": "2022-03-15T15:58:53.627Z"
   },
   {
    "duration": 294,
    "start_time": "2022-03-15T16:06:44.497Z"
   },
   {
    "duration": 6,
    "start_time": "2022-03-15T16:07:20.857Z"
   },
   {
    "duration": 1028,
    "start_time": "2022-03-15T16:07:20.866Z"
   },
   {
    "duration": 51,
    "start_time": "2022-03-15T16:07:21.897Z"
   },
   {
    "duration": 16,
    "start_time": "2022-03-15T16:07:21.950Z"
   },
   {
    "duration": 31,
    "start_time": "2022-03-15T16:07:21.969Z"
   },
   {
    "duration": 6,
    "start_time": "2022-03-15T16:07:22.002Z"
   },
   {
    "duration": 9,
    "start_time": "2022-03-15T16:07:22.011Z"
   },
   {
    "duration": 5,
    "start_time": "2022-03-15T16:07:22.023Z"
   },
   {
    "duration": 17,
    "start_time": "2022-03-15T16:07:22.030Z"
   },
   {
    "duration": 49,
    "start_time": "2022-03-15T16:07:22.049Z"
   },
   {
    "duration": 15,
    "start_time": "2022-03-15T16:07:22.100Z"
   },
   {
    "duration": 13,
    "start_time": "2022-03-15T16:07:22.117Z"
   },
   {
    "duration": 44,
    "start_time": "2022-03-15T16:07:22.143Z"
   },
   {
    "duration": 14,
    "start_time": "2022-03-15T16:07:22.189Z"
   },
   {
    "duration": 10,
    "start_time": "2022-03-15T16:07:22.205Z"
   },
   {
    "duration": 28,
    "start_time": "2022-03-15T16:07:22.217Z"
   },
   {
    "duration": 10,
    "start_time": "2022-03-15T16:07:22.247Z"
   },
   {
    "duration": 169,
    "start_time": "2022-03-15T16:07:22.259Z"
   },
   {
    "duration": 196,
    "start_time": "2022-03-15T16:07:22.433Z"
   },
   {
    "duration": 45,
    "start_time": "2022-03-15T16:07:22.632Z"
   },
   {
    "duration": 4,
    "start_time": "2022-03-15T16:07:22.679Z"
   },
   {
    "duration": 18,
    "start_time": "2022-03-15T16:07:22.685Z"
   },
   {
    "duration": 865,
    "start_time": "2022-03-15T16:07:22.706Z"
   },
   {
    "duration": 13,
    "start_time": "2022-03-15T16:07:23.574Z"
   },
   {
    "duration": 12,
    "start_time": "2022-03-15T16:07:23.590Z"
   },
   {
    "duration": 39,
    "start_time": "2022-03-15T16:07:23.605Z"
   },
   {
    "duration": 6,
    "start_time": "2022-03-15T16:07:23.647Z"
   },
   {
    "duration": 26,
    "start_time": "2022-03-15T16:07:23.655Z"
   },
   {
    "duration": 1160,
    "start_time": "2022-03-15T16:07:23.683Z"
   },
   {
    "duration": 17,
    "start_time": "2022-03-15T16:07:24.845Z"
   },
   {
    "duration": 47,
    "start_time": "2022-03-15T16:07:24.865Z"
   },
   {
    "duration": 55,
    "start_time": "2022-03-15T16:07:24.944Z"
   },
   {
    "duration": 7,
    "start_time": "2022-03-15T16:07:25.002Z"
   },
   {
    "duration": 50,
    "start_time": "2022-03-15T16:07:25.014Z"
   },
   {
    "duration": 45,
    "start_time": "2022-03-15T16:07:25.067Z"
   },
   {
    "duration": 39,
    "start_time": "2022-03-15T16:07:25.116Z"
   },
   {
    "duration": 42,
    "start_time": "2022-03-15T16:07:25.158Z"
   },
   {
    "duration": 3,
    "start_time": "2022-03-15T16:07:25.203Z"
   },
   {
    "duration": 35,
    "start_time": "2022-03-15T16:07:25.208Z"
   },
   {
    "duration": 151,
    "start_time": "2022-03-15T16:07:25.245Z"
   },
   {
    "duration": 3,
    "start_time": "2022-03-15T16:07:25.399Z"
   },
   {
    "duration": 10,
    "start_time": "2022-03-15T16:07:25.405Z"
   },
   {
    "duration": 28,
    "start_time": "2022-03-15T16:07:25.417Z"
   },
   {
    "duration": 1439,
    "start_time": "2022-03-15T16:07:25.448Z"
   },
   {
    "duration": 3829,
    "start_time": "2022-03-15T16:07:26.889Z"
   },
   {
    "duration": 12865,
    "start_time": "2022-03-15T16:07:30.721Z"
   },
   {
    "duration": 341,
    "start_time": "2022-03-15T16:12:03.881Z"
   },
   {
    "duration": 6,
    "start_time": "2022-03-15T16:12:43.256Z"
   },
   {
    "duration": 1079,
    "start_time": "2022-03-15T16:12:43.265Z"
   },
   {
    "duration": 55,
    "start_time": "2022-03-15T16:12:44.347Z"
   },
   {
    "duration": 45,
    "start_time": "2022-03-15T16:12:44.406Z"
   },
   {
    "duration": 25,
    "start_time": "2022-03-15T16:12:44.453Z"
   },
   {
    "duration": 8,
    "start_time": "2022-03-15T16:12:44.480Z"
   },
   {
    "duration": 8,
    "start_time": "2022-03-15T16:12:44.493Z"
   },
   {
    "duration": 5,
    "start_time": "2022-03-15T16:12:44.544Z"
   },
   {
    "duration": 21,
    "start_time": "2022-03-15T16:12:44.552Z"
   },
   {
    "duration": 75,
    "start_time": "2022-03-15T16:12:44.575Z"
   },
   {
    "duration": 16,
    "start_time": "2022-03-15T16:12:44.653Z"
   },
   {
    "duration": 16,
    "start_time": "2022-03-15T16:12:44.671Z"
   },
   {
    "duration": 75,
    "start_time": "2022-03-15T16:12:44.689Z"
   },
   {
    "duration": 14,
    "start_time": "2022-03-15T16:12:44.766Z"
   },
   {
    "duration": 10,
    "start_time": "2022-03-15T16:12:44.783Z"
   },
   {
    "duration": 50,
    "start_time": "2022-03-15T16:12:44.796Z"
   },
   {
    "duration": 10,
    "start_time": "2022-03-15T16:12:44.848Z"
   },
   {
    "duration": 183,
    "start_time": "2022-03-15T16:12:44.861Z"
   },
   {
    "duration": 193,
    "start_time": "2022-03-15T16:12:45.051Z"
   },
   {
    "duration": 41,
    "start_time": "2022-03-15T16:12:45.247Z"
   },
   {
    "duration": 4,
    "start_time": "2022-03-15T16:12:45.291Z"
   },
   {
    "duration": 19,
    "start_time": "2022-03-15T16:12:45.298Z"
   },
   {
    "duration": 594,
    "start_time": "2022-03-15T16:12:45.344Z"
   },
   {
    "duration": 14,
    "start_time": "2022-03-15T16:12:45.944Z"
   },
   {
    "duration": 13,
    "start_time": "2022-03-15T16:12:45.961Z"
   },
   {
    "duration": 11,
    "start_time": "2022-03-15T16:12:45.976Z"
   },
   {
    "duration": 12,
    "start_time": "2022-03-15T16:12:45.989Z"
   },
   {
    "duration": 62,
    "start_time": "2022-03-15T16:12:46.004Z"
   },
   {
    "duration": 1086,
    "start_time": "2022-03-15T16:12:46.069Z"
   },
   {
    "duration": 14,
    "start_time": "2022-03-15T16:12:47.157Z"
   },
   {
    "duration": 45,
    "start_time": "2022-03-15T16:12:47.173Z"
   },
   {
    "duration": 56,
    "start_time": "2022-03-15T16:12:47.244Z"
   },
   {
    "duration": 8,
    "start_time": "2022-03-15T16:12:47.302Z"
   },
   {
    "duration": 56,
    "start_time": "2022-03-15T16:12:47.313Z"
   },
   {
    "duration": 44,
    "start_time": "2022-03-15T16:12:47.371Z"
   },
   {
    "duration": 36,
    "start_time": "2022-03-15T16:12:47.418Z"
   },
   {
    "duration": 49,
    "start_time": "2022-03-15T16:12:47.457Z"
   },
   {
    "duration": 4,
    "start_time": "2022-03-15T16:12:47.508Z"
   },
   {
    "duration": 30,
    "start_time": "2022-03-15T16:12:47.514Z"
   },
   {
    "duration": 30,
    "start_time": "2022-03-15T16:12:47.548Z"
   },
   {
    "duration": 4,
    "start_time": "2022-03-15T16:12:47.580Z"
   },
   {
    "duration": 6,
    "start_time": "2022-03-15T16:12:47.587Z"
   },
   {
    "duration": 7,
    "start_time": "2022-03-15T16:12:47.596Z"
   },
   {
    "duration": 1353,
    "start_time": "2022-03-15T16:12:47.605Z"
   },
   {
    "duration": 3035,
    "start_time": "2022-03-15T16:12:48.961Z"
   },
   {
    "duration": 12428,
    "start_time": "2022-03-15T16:12:52.000Z"
   },
   {
    "duration": 1967224,
    "start_time": "2022-03-15T16:13:04.431Z"
   },
   {
    "duration": 15947,
    "start_time": "2022-03-15T16:59:00.000Z"
   },
   {
    "duration": 7,
    "start_time": "2022-03-15T17:07:28.054Z"
   },
   {
    "duration": 9173,
    "start_time": "2022-03-15T17:07:28.064Z"
   },
   {
    "duration": 57,
    "start_time": "2022-03-15T17:07:37.240Z"
   },
   {
    "duration": 48,
    "start_time": "2022-03-15T17:07:37.300Z"
   },
   {
    "duration": 29,
    "start_time": "2022-03-15T17:07:37.351Z"
   },
   {
    "duration": 8,
    "start_time": "2022-03-15T17:07:37.383Z"
   },
   {
    "duration": 49,
    "start_time": "2022-03-15T17:07:37.398Z"
   },
   {
    "duration": 6,
    "start_time": "2022-03-15T17:07:37.451Z"
   },
   {
    "duration": 18,
    "start_time": "2022-03-15T17:07:37.460Z"
   },
   {
    "duration": 99,
    "start_time": "2022-03-15T17:07:37.481Z"
   },
   {
    "duration": 17,
    "start_time": "2022-03-15T17:07:37.583Z"
   },
   {
    "duration": 16,
    "start_time": "2022-03-15T17:07:37.603Z"
   },
   {
    "duration": 69,
    "start_time": "2022-03-15T17:07:37.622Z"
   },
   {
    "duration": 21,
    "start_time": "2022-03-15T17:07:37.694Z"
   },
   {
    "duration": 30,
    "start_time": "2022-03-15T17:07:37.718Z"
   },
   {
    "duration": 17,
    "start_time": "2022-03-15T17:07:37.751Z"
   },
   {
    "duration": 12,
    "start_time": "2022-03-15T17:07:37.771Z"
   },
   {
    "duration": 229,
    "start_time": "2022-03-15T17:07:37.786Z"
   },
   {
    "duration": 204,
    "start_time": "2022-03-15T17:07:38.022Z"
   },
   {
    "duration": 58,
    "start_time": "2022-03-15T17:07:38.229Z"
   },
   {
    "duration": 5,
    "start_time": "2022-03-15T17:07:38.289Z"
   },
   {
    "duration": 16,
    "start_time": "2022-03-15T17:07:38.296Z"
   },
   {
    "duration": 595,
    "start_time": "2022-03-15T17:07:38.315Z"
   },
   {
    "duration": 14,
    "start_time": "2022-03-15T17:07:38.913Z"
   },
   {
    "duration": 22,
    "start_time": "2022-03-15T17:07:38.930Z"
   },
   {
    "duration": 10,
    "start_time": "2022-03-15T17:07:38.955Z"
   },
   {
    "duration": 25,
    "start_time": "2022-03-15T17:07:38.971Z"
   },
   {
    "duration": 25,
    "start_time": "2022-03-15T17:07:39.000Z"
   },
   {
    "duration": 1358,
    "start_time": "2022-03-15T17:07:39.056Z"
   },
   {
    "duration": 36,
    "start_time": "2022-03-15T17:07:40.417Z"
   },
   {
    "duration": 59,
    "start_time": "2022-03-15T17:07:40.456Z"
   },
   {
    "duration": 68,
    "start_time": "2022-03-15T17:07:40.518Z"
   },
   {
    "duration": 8,
    "start_time": "2022-03-15T17:07:40.588Z"
   },
   {
    "duration": 46,
    "start_time": "2022-03-15T17:07:40.599Z"
   },
   {
    "duration": 45,
    "start_time": "2022-03-15T17:07:40.648Z"
   },
   {
    "duration": 48,
    "start_time": "2022-03-15T17:07:40.696Z"
   },
   {
    "duration": 42,
    "start_time": "2022-03-15T17:07:40.747Z"
   },
   {
    "duration": 3,
    "start_time": "2022-03-15T17:07:40.792Z"
   },
   {
    "duration": 5,
    "start_time": "2022-03-15T17:07:40.798Z"
   },
   {
    "duration": 55,
    "start_time": "2022-03-15T17:07:40.807Z"
   },
   {
    "duration": 3,
    "start_time": "2022-03-15T17:07:40.865Z"
   },
   {
    "duration": 12,
    "start_time": "2022-03-15T17:07:40.870Z"
   },
   {
    "duration": 7,
    "start_time": "2022-03-15T17:07:40.885Z"
   },
   {
    "duration": 1658,
    "start_time": "2022-03-15T17:07:40.895Z"
   },
   {
    "duration": 3507,
    "start_time": "2022-03-15T17:07:42.556Z"
   },
   {
    "duration": 16361,
    "start_time": "2022-03-15T17:07:46.066Z"
   },
   {
    "duration": 126,
    "start_time": "2022-03-15T17:08:02.429Z"
   },
   {
    "duration": 193146,
    "start_time": "2022-03-15T17:14:35.795Z"
   },
   {
    "duration": 580,
    "start_time": "2022-03-15T17:22:19.412Z"
   },
   {
    "duration": 13132,
    "start_time": "2022-03-15T17:22:26.328Z"
   },
   {
    "duration": 1333,
    "start_time": "2022-03-16T03:21:14.819Z"
   },
   {
    "duration": 849,
    "start_time": "2022-03-16T03:21:16.154Z"
   },
   {
    "duration": 36,
    "start_time": "2022-03-16T03:21:17.005Z"
   },
   {
    "duration": 12,
    "start_time": "2022-03-16T03:21:17.043Z"
   },
   {
    "duration": 18,
    "start_time": "2022-03-16T03:21:17.057Z"
   },
   {
    "duration": 4,
    "start_time": "2022-03-16T03:21:17.077Z"
   },
   {
    "duration": 7,
    "start_time": "2022-03-16T03:21:17.083Z"
   },
   {
    "duration": 5,
    "start_time": "2022-03-16T03:21:17.092Z"
   },
   {
    "duration": 13,
    "start_time": "2022-03-16T03:21:17.100Z"
   },
   {
    "duration": 46,
    "start_time": "2022-03-16T03:21:17.115Z"
   },
   {
    "duration": 11,
    "start_time": "2022-03-16T03:21:17.163Z"
   },
   {
    "duration": 10,
    "start_time": "2022-03-16T03:21:17.233Z"
   },
   {
    "duration": 31,
    "start_time": "2022-03-16T03:21:17.244Z"
   },
   {
    "duration": 10,
    "start_time": "2022-03-16T03:21:17.277Z"
   },
   {
    "duration": 8,
    "start_time": "2022-03-16T03:21:17.332Z"
   },
   {
    "duration": 9,
    "start_time": "2022-03-16T03:21:17.342Z"
   },
   {
    "duration": 7,
    "start_time": "2022-03-16T03:21:17.353Z"
   },
   {
    "duration": 117,
    "start_time": "2022-03-16T03:21:17.361Z"
   },
   {
    "duration": 206,
    "start_time": "2022-03-16T03:21:17.480Z"
   },
   {
    "duration": 25,
    "start_time": "2022-03-16T03:21:17.688Z"
   },
   {
    "duration": 18,
    "start_time": "2022-03-16T03:21:17.714Z"
   },
   {
    "duration": 9,
    "start_time": "2022-03-16T03:21:17.734Z"
   },
   {
    "duration": 304,
    "start_time": "2022-03-16T03:21:17.745Z"
   },
   {
    "duration": 8,
    "start_time": "2022-03-16T03:21:18.051Z"
   },
   {
    "duration": 8,
    "start_time": "2022-03-16T03:21:18.061Z"
   },
   {
    "duration": 4,
    "start_time": "2022-03-16T03:21:18.071Z"
   },
   {
    "duration": 8,
    "start_time": "2022-03-16T03:21:18.079Z"
   },
   {
    "duration": 54,
    "start_time": "2022-03-16T03:21:18.089Z"
   },
   {
    "duration": 695,
    "start_time": "2022-03-16T03:21:18.145Z"
   },
   {
    "duration": 11,
    "start_time": "2022-03-16T03:21:18.842Z"
   },
   {
    "duration": 8,
    "start_time": "2022-03-16T03:21:18.855Z"
   },
   {
    "duration": 16,
    "start_time": "2022-03-16T03:21:18.865Z"
   },
   {
    "duration": 6,
    "start_time": "2022-03-16T03:21:18.883Z"
   },
   {
    "duration": 44,
    "start_time": "2022-03-16T03:21:18.891Z"
   },
   {
    "duration": 28,
    "start_time": "2022-03-16T03:21:18.937Z"
   },
   {
    "duration": 11,
    "start_time": "2022-03-16T03:21:18.966Z"
   },
   {
    "duration": 56,
    "start_time": "2022-03-16T03:21:18.979Z"
   },
   {
    "duration": 26,
    "start_time": "2022-03-16T03:21:19.037Z"
   },
   {
    "duration": 3,
    "start_time": "2022-03-16T03:21:19.065Z"
   },
   {
    "duration": 858,
    "start_time": "2022-03-16T03:21:19.069Z"
   },
   {
    "duration": 2058,
    "start_time": "2022-03-16T03:21:19.929Z"
   },
   {
    "duration": 11279,
    "start_time": "2022-03-16T03:21:21.989Z"
   },
   {
    "duration": 125720,
    "start_time": "2022-03-16T03:21:33.271Z"
   },
   {
    "duration": 8149,
    "start_time": "2022-03-16T03:23:38.993Z"
   },
   {
    "duration": 84,
    "start_time": "2022-03-16T03:23:47.144Z"
   },
   {
    "duration": -16896,
    "start_time": "2022-03-16T03:24:04.126Z"
   },
   {
    "duration": 309,
    "start_time": "2022-03-16T03:24:41.012Z"
   },
   {
    "duration": 424,
    "start_time": "2022-03-16T03:24:44.867Z"
   },
   {
    "duration": 4,
    "start_time": "2022-03-16T03:32:04.220Z"
   },
   {
    "duration": 887,
    "start_time": "2022-03-16T03:32:04.227Z"
   },
   {
    "duration": 44,
    "start_time": "2022-03-16T03:32:05.117Z"
   },
   {
    "duration": 14,
    "start_time": "2022-03-16T03:32:05.164Z"
   },
   {
    "duration": 27,
    "start_time": "2022-03-16T03:32:05.180Z"
   },
   {
    "duration": 28,
    "start_time": "2022-03-16T03:32:05.209Z"
   },
   {
    "duration": 17,
    "start_time": "2022-03-16T03:32:05.239Z"
   },
   {
    "duration": 8,
    "start_time": "2022-03-16T03:32:05.258Z"
   },
   {
    "duration": 15,
    "start_time": "2022-03-16T03:32:05.269Z"
   },
   {
    "duration": 61,
    "start_time": "2022-03-16T03:32:05.287Z"
   },
   {
    "duration": 13,
    "start_time": "2022-03-16T03:32:05.350Z"
   },
   {
    "duration": 11,
    "start_time": "2022-03-16T03:32:05.366Z"
   },
   {
    "duration": 63,
    "start_time": "2022-03-16T03:32:05.379Z"
   },
   {
    "duration": 12,
    "start_time": "2022-03-16T03:32:05.444Z"
   },
   {
    "duration": 9,
    "start_time": "2022-03-16T03:32:05.458Z"
   },
   {
    "duration": 12,
    "start_time": "2022-03-16T03:32:05.469Z"
   },
   {
    "duration": 10,
    "start_time": "2022-03-16T03:32:05.483Z"
   },
   {
    "duration": 125,
    "start_time": "2022-03-16T03:32:05.495Z"
   },
   {
    "duration": 131,
    "start_time": "2022-03-16T03:32:05.632Z"
   },
   {
    "duration": 27,
    "start_time": "2022-03-16T03:32:05.766Z"
   },
   {
    "duration": 4,
    "start_time": "2022-03-16T03:32:05.796Z"
   },
   {
    "duration": 35,
    "start_time": "2022-03-16T03:32:05.802Z"
   },
   {
    "duration": 316,
    "start_time": "2022-03-16T03:32:05.839Z"
   },
   {
    "duration": 11,
    "start_time": "2022-03-16T03:32:06.160Z"
   },
   {
    "duration": 9,
    "start_time": "2022-03-16T03:32:06.173Z"
   },
   {
    "duration": 6,
    "start_time": "2022-03-16T03:32:06.184Z"
   },
   {
    "duration": 11,
    "start_time": "2022-03-16T03:32:06.192Z"
   },
   {
    "duration": 16,
    "start_time": "2022-03-16T03:32:06.232Z"
   },
   {
    "duration": 777,
    "start_time": "2022-03-16T03:32:06.250Z"
   },
   {
    "duration": 11,
    "start_time": "2022-03-16T03:32:07.029Z"
   },
   {
    "duration": 11,
    "start_time": "2022-03-16T03:32:07.042Z"
   },
   {
    "duration": 17,
    "start_time": "2022-03-16T03:32:07.055Z"
   },
   {
    "duration": 5,
    "start_time": "2022-03-16T03:32:07.074Z"
   },
   {
    "duration": 22,
    "start_time": "2022-03-16T03:32:07.081Z"
   },
   {
    "duration": 50,
    "start_time": "2022-03-16T03:32:07.105Z"
   },
   {
    "duration": 11,
    "start_time": "2022-03-16T03:32:07.157Z"
   },
   {
    "duration": 39,
    "start_time": "2022-03-16T03:32:07.170Z"
   },
   {
    "duration": 39,
    "start_time": "2022-03-16T03:32:07.210Z"
   },
   {
    "duration": 3,
    "start_time": "2022-03-16T03:32:07.251Z"
   },
   {
    "duration": 838,
    "start_time": "2022-03-16T03:32:07.255Z"
   },
   {
    "duration": 1998,
    "start_time": "2022-03-16T03:32:08.094Z"
   },
   {
    "duration": 11199,
    "start_time": "2022-03-16T03:32:10.094Z"
   },
   {
    "duration": 126496,
    "start_time": "2022-03-16T03:32:21.294Z"
   },
   {
    "duration": 8125,
    "start_time": "2022-03-16T03:34:27.792Z"
   },
   {
    "duration": 324,
    "start_time": "2022-03-16T03:34:35.919Z"
   },
   {
    "duration": 442,
    "start_time": "2022-03-16T03:34:36.245Z"
   },
   {
    "duration": 1149,
    "start_time": "2022-03-17T05:49:44.562Z"
   },
   {
    "duration": 808,
    "start_time": "2022-03-17T05:49:45.713Z"
   },
   {
    "duration": 30,
    "start_time": "2022-03-17T05:49:46.522Z"
   },
   {
    "duration": 27,
    "start_time": "2022-03-17T05:49:46.554Z"
   },
   {
    "duration": 20,
    "start_time": "2022-03-17T05:49:46.583Z"
   },
   {
    "duration": 4,
    "start_time": "2022-03-17T05:49:46.605Z"
   },
   {
    "duration": 6,
    "start_time": "2022-03-17T05:49:46.611Z"
   },
   {
    "duration": 4,
    "start_time": "2022-03-17T05:49:46.620Z"
   },
   {
    "duration": 15,
    "start_time": "2022-03-17T05:49:46.626Z"
   },
   {
    "duration": 55,
    "start_time": "2022-03-17T05:49:46.643Z"
   },
   {
    "duration": 13,
    "start_time": "2022-03-17T05:49:46.700Z"
   },
   {
    "duration": 9,
    "start_time": "2022-03-17T05:49:46.715Z"
   },
   {
    "duration": 26,
    "start_time": "2022-03-17T05:49:46.725Z"
   },
   {
    "duration": 34,
    "start_time": "2022-03-17T05:49:46.753Z"
   },
   {
    "duration": 7,
    "start_time": "2022-03-17T05:49:46.788Z"
   },
   {
    "duration": 8,
    "start_time": "2022-03-17T05:49:46.796Z"
   },
   {
    "duration": 5,
    "start_time": "2022-03-17T05:49:46.806Z"
   },
   {
    "duration": 110,
    "start_time": "2022-03-17T05:49:46.812Z"
   },
   {
    "duration": 116,
    "start_time": "2022-03-17T05:49:46.924Z"
   },
   {
    "duration": 22,
    "start_time": "2022-03-17T05:49:47.041Z"
   },
   {
    "duration": 3,
    "start_time": "2022-03-17T05:49:47.064Z"
   },
   {
    "duration": 28,
    "start_time": "2022-03-17T05:49:47.069Z"
   },
   {
    "duration": 684,
    "start_time": "2022-03-17T05:49:47.100Z"
   },
   {
    "duration": 9,
    "start_time": "2022-03-17T05:49:47.786Z"
   },
   {
    "duration": 7,
    "start_time": "2022-03-17T05:49:47.797Z"
   },
   {
    "duration": 3,
    "start_time": "2022-03-17T05:49:47.806Z"
   },
   {
    "duration": 11,
    "start_time": "2022-03-17T05:49:47.811Z"
   },
   {
    "duration": 19,
    "start_time": "2022-03-17T05:49:47.824Z"
   },
   {
    "duration": 614,
    "start_time": "2022-03-17T05:49:47.844Z"
   },
   {
    "duration": 10,
    "start_time": "2022-03-17T05:49:48.459Z"
   },
   {
    "duration": 13,
    "start_time": "2022-03-17T05:49:48.470Z"
   },
   {
    "duration": 11,
    "start_time": "2022-03-17T05:49:48.485Z"
   },
   {
    "duration": 4,
    "start_time": "2022-03-17T05:49:48.497Z"
   },
   {
    "duration": 17,
    "start_time": "2022-03-17T05:49:48.503Z"
   },
   {
    "duration": 24,
    "start_time": "2022-03-17T05:49:48.521Z"
   },
   {
    "duration": 9,
    "start_time": "2022-03-17T05:49:48.546Z"
   },
   {
    "duration": 49,
    "start_time": "2022-03-17T05:49:48.557Z"
   },
   {
    "duration": 20,
    "start_time": "2022-03-17T05:49:48.608Z"
   },
   {
    "duration": 2,
    "start_time": "2022-03-17T05:49:48.630Z"
   },
   {
    "duration": 748,
    "start_time": "2022-03-17T05:49:48.634Z"
   },
   {
    "duration": 2408,
    "start_time": "2022-03-17T05:49:49.384Z"
   },
   {
    "duration": 10028,
    "start_time": "2022-03-17T05:49:51.794Z"
   },
   {
    "duration": 110663,
    "start_time": "2022-03-17T05:50:01.825Z"
   },
   {
    "duration": 7128,
    "start_time": "2022-03-17T05:51:52.490Z"
   },
   {
    "duration": 291,
    "start_time": "2022-03-17T05:51:59.620Z"
   },
   {
    "duration": 405,
    "start_time": "2022-03-17T05:51:59.913Z"
   },
   {
    "duration": 410,
    "start_time": "2022-03-17T05:55:30.781Z"
   },
   {
    "duration": 666,
    "start_time": "2022-03-17T05:55:44.328Z"
   },
   {
    "duration": 598,
    "start_time": "2022-03-17T05:59:10.451Z"
   },
   {
    "duration": -17457,
    "start_time": "2022-03-17T06:12:04.748Z"
   },
   {
    "duration": -17470,
    "start_time": "2022-03-17T06:12:04.764Z"
   },
   {
    "duration": -17479,
    "start_time": "2022-03-17T06:12:04.776Z"
   },
   {
    "duration": -17507,
    "start_time": "2022-03-17T06:12:04.807Z"
   },
   {
    "duration": -17514,
    "start_time": "2022-03-17T06:12:04.817Z"
   },
   {
    "duration": -17551,
    "start_time": "2022-03-17T06:12:04.858Z"
   },
   {
    "duration": -17560,
    "start_time": "2022-03-17T06:12:04.869Z"
   },
   {
    "duration": -17564,
    "start_time": "2022-03-17T06:12:04.876Z"
   },
   {
    "duration": -17572,
    "start_time": "2022-03-17T06:12:04.888Z"
   },
   {
    "duration": -17598,
    "start_time": "2022-03-17T06:12:04.917Z"
   },
   {
    "duration": -17607,
    "start_time": "2022-03-17T06:12:04.929Z"
   },
   {
    "duration": -17617,
    "start_time": "2022-03-17T06:12:04.942Z"
   },
   {
    "duration": -17625,
    "start_time": "2022-03-17T06:12:04.953Z"
   },
   {
    "duration": -17583,
    "start_time": "2022-03-17T06:12:04.966Z"
   },
   {
    "duration": -17596,
    "start_time": "2022-03-17T06:12:04.982Z"
   },
   {
    "duration": -17601,
    "start_time": "2022-03-17T06:12:04.991Z"
   },
   {
    "duration": -17613,
    "start_time": "2022-03-17T06:12:05.006Z"
   },
   {
    "duration": -17635,
    "start_time": "2022-03-17T06:12:05.031Z"
   },
   {
    "duration": -17640,
    "start_time": "2022-03-17T06:12:05.039Z"
   },
   {
    "duration": -17647,
    "start_time": "2022-03-17T06:12:05.049Z"
   },
   {
    "duration": -17650,
    "start_time": "2022-03-17T06:12:05.062Z"
   },
   {
    "duration": -17659,
    "start_time": "2022-03-17T06:12:05.073Z"
   },
   {
    "duration": -17668,
    "start_time": "2022-03-17T06:12:05.085Z"
   },
   {
    "duration": -17828,
    "start_time": "2022-03-17T06:12:05.247Z"
   },
   {
    "duration": -17772,
    "start_time": "2022-03-17T06:12:05.256Z"
   },
   {
    "duration": -17797,
    "start_time": "2022-03-17T06:12:05.283Z"
   },
   {
    "duration": -17806,
    "start_time": "2022-03-17T06:12:05.294Z"
   },
   {
    "duration": -17852,
    "start_time": "2022-03-17T06:12:05.342Z"
   },
   {
    "duration": -17858,
    "start_time": "2022-03-17T06:12:05.350Z"
   },
   {
    "duration": -17863,
    "start_time": "2022-03-17T06:12:05.357Z"
   },
   {
    "duration": -17867,
    "start_time": "2022-03-17T06:12:05.364Z"
   },
   {
    "duration": -17876,
    "start_time": "2022-03-17T06:12:05.376Z"
   },
   {
    "duration": -17892,
    "start_time": "2022-03-17T06:12:05.396Z"
   },
   {
    "duration": -17897,
    "start_time": "2022-03-17T06:12:05.404Z"
   },
   {
    "duration": -17902,
    "start_time": "2022-03-17T06:12:05.413Z"
   },
   {
    "duration": -17968,
    "start_time": "2022-03-17T06:12:05.485Z"
   },
   {
    "duration": -17924,
    "start_time": "2022-03-17T06:12:05.506Z"
   },
   {
    "duration": -17930,
    "start_time": "2022-03-17T06:12:05.515Z"
   },
   {
    "duration": -17934,
    "start_time": "2022-03-17T06:12:05.521Z"
   },
   {
    "duration": -17939,
    "start_time": "2022-03-17T06:12:05.529Z"
   },
   {
    "duration": -17944,
    "start_time": "2022-03-17T06:12:05.536Z"
   },
   {
    "duration": -17966,
    "start_time": "2022-03-17T06:12:05.561Z"
   },
   {
    "duration": -17973,
    "start_time": "2022-03-17T06:12:05.570Z"
   },
   {
    "duration": -17982,
    "start_time": "2022-03-17T06:12:05.581Z"
   },
   {
    "duration": -17994,
    "start_time": "2022-03-17T06:12:05.595Z"
   },
   {
    "duration": -18012,
    "start_time": "2022-03-17T06:12:05.614Z"
   },
   {
    "duration": 4,
    "start_time": "2022-03-17T06:12:01.394Z"
   },
   {
    "duration": 15,
    "start_time": "2022-03-17T06:12:02.405Z"
   },
   {
    "duration": 317,
    "start_time": "2022-03-17T06:12:06.442Z"
   },
   {
    "duration": 1200,
    "start_time": "2022-03-17T06:12:18.281Z"
   },
   {
    "duration": 1066,
    "start_time": "2022-03-17T06:13:34.670Z"
   },
   {
    "duration": 1130,
    "start_time": "2022-03-17T07:53:03.901Z"
   },
   {
    "duration": 4,
    "start_time": "2022-03-17T07:53:30.559Z"
   },
   {
    "duration": 4,
    "start_time": "2022-03-17T07:54:41.857Z"
   },
   {
    "duration": 5,
    "start_time": "2022-03-17T07:54:42.573Z"
   },
   {
    "duration": 313,
    "start_time": "2022-03-17T07:54:43.292Z"
   },
   {
    "duration": 12,
    "start_time": "2022-03-17T07:55:02.877Z"
   },
   {
    "duration": 11,
    "start_time": "2022-03-17T07:55:19.384Z"
   },
   {
    "duration": 11,
    "start_time": "2022-03-17T07:55:25.833Z"
   },
   {
    "duration": 718,
    "start_time": "2022-03-17T07:55:28.767Z"
   },
   {
    "duration": 4,
    "start_time": "2022-03-17T07:56:43.569Z"
   },
   {
    "duration": 4,
    "start_time": "2022-03-17T07:56:44.510Z"
   },
   {
    "duration": 1119,
    "start_time": "2022-03-17T07:56:45.288Z"
   },
   {
    "duration": 10,
    "start_time": "2022-03-17T07:59:14.784Z"
   },
   {
    "duration": 9,
    "start_time": "2022-03-17T07:59:16.525Z"
   },
   {
    "duration": 373,
    "start_time": "2022-03-17T08:01:30.996Z"
   },
   {
    "duration": 301,
    "start_time": "2022-03-17T08:01:57.659Z"
   },
   {
    "duration": 375,
    "start_time": "2022-03-17T08:02:03.092Z"
   },
   {
    "duration": 292,
    "start_time": "2022-03-17T08:03:29.141Z"
   },
   {
    "duration": 351,
    "start_time": "2022-03-17T08:03:35.575Z"
   },
   {
    "duration": 10,
    "start_time": "2022-03-17T08:03:37.766Z"
   },
   {
    "duration": 49,
    "start_time": "2022-03-17T08:03:38.468Z"
   },
   {
    "duration": 50,
    "start_time": "2022-03-17T08:04:11.393Z"
   },
   {
    "duration": 370,
    "start_time": "2022-03-17T08:04:18.122Z"
   },
   {
    "duration": 50,
    "start_time": "2022-03-17T08:08:23.448Z"
   },
   {
    "duration": 3,
    "start_time": "2022-03-17T08:09:30.812Z"
   },
   {
    "duration": 862,
    "start_time": "2022-03-17T08:09:30.819Z"
   },
   {
    "duration": 30,
    "start_time": "2022-03-17T08:09:31.683Z"
   },
   {
    "duration": 10,
    "start_time": "2022-03-17T08:09:31.715Z"
   },
   {
    "duration": 15,
    "start_time": "2022-03-17T08:09:31.727Z"
   },
   {
    "duration": 5,
    "start_time": "2022-03-17T08:09:31.743Z"
   },
   {
    "duration": 34,
    "start_time": "2022-03-17T08:09:31.749Z"
   },
   {
    "duration": 21,
    "start_time": "2022-03-17T08:09:31.785Z"
   },
   {
    "duration": 16,
    "start_time": "2022-03-17T08:09:31.809Z"
   },
   {
    "duration": 32,
    "start_time": "2022-03-17T08:09:31.827Z"
   },
   {
    "duration": 11,
    "start_time": "2022-03-17T08:09:31.861Z"
   },
   {
    "duration": 15,
    "start_time": "2022-03-17T08:09:31.874Z"
   },
   {
    "duration": 27,
    "start_time": "2022-03-17T08:09:31.891Z"
   },
   {
    "duration": 11,
    "start_time": "2022-03-17T08:09:31.920Z"
   },
   {
    "duration": 7,
    "start_time": "2022-03-17T08:09:31.932Z"
   },
   {
    "duration": 44,
    "start_time": "2022-03-17T08:09:31.941Z"
   },
   {
    "duration": 9,
    "start_time": "2022-03-17T08:09:31.987Z"
   },
   {
    "duration": 93,
    "start_time": "2022-03-17T08:09:31.998Z"
   },
   {
    "duration": 119,
    "start_time": "2022-03-17T08:09:32.093Z"
   },
   {
    "duration": 24,
    "start_time": "2022-03-17T08:09:32.214Z"
   },
   {
    "duration": 3,
    "start_time": "2022-03-17T08:09:32.241Z"
   },
   {
    "duration": 7,
    "start_time": "2022-03-17T08:09:32.246Z"
   },
   {
    "duration": 752,
    "start_time": "2022-03-17T08:09:32.254Z"
   },
   {
    "duration": 3,
    "start_time": "2022-03-17T08:09:33.009Z"
   },
   {
    "duration": 14,
    "start_time": "2022-03-17T08:09:33.014Z"
   },
   {
    "duration": 684,
    "start_time": "2022-03-17T08:09:33.029Z"
   },
   {
    "duration": 3,
    "start_time": "2022-03-17T08:09:33.715Z"
   },
   {
    "duration": 12,
    "start_time": "2022-03-17T08:09:33.720Z"
   },
   {
    "duration": 720,
    "start_time": "2022-03-17T08:09:33.734Z"
   },
   {
    "duration": 8,
    "start_time": "2022-03-17T08:09:34.455Z"
   },
   {
    "duration": 368,
    "start_time": "2022-03-17T08:09:34.464Z"
   },
   {
    "duration": 7,
    "start_time": "2022-03-17T08:09:34.834Z"
   },
   {
    "duration": 63,
    "start_time": "2022-03-17T08:09:34.843Z"
   },
   {
    "duration": 3,
    "start_time": "2022-03-17T08:09:34.908Z"
   },
   {
    "duration": 25,
    "start_time": "2022-03-17T08:09:34.912Z"
   },
   {
    "duration": 18,
    "start_time": "2022-03-17T08:09:34.939Z"
   },
   {
    "duration": 566,
    "start_time": "2022-03-17T08:09:34.959Z"
   },
   {
    "duration": 10,
    "start_time": "2022-03-17T08:09:35.527Z"
   },
   {
    "duration": 19,
    "start_time": "2022-03-17T08:09:35.538Z"
   },
   {
    "duration": 31,
    "start_time": "2022-03-17T08:09:35.558Z"
   },
   {
    "duration": 15,
    "start_time": "2022-03-17T08:09:35.590Z"
   },
   {
    "duration": 43,
    "start_time": "2022-03-17T08:09:35.607Z"
   },
   {
    "duration": 35,
    "start_time": "2022-03-17T08:09:35.652Z"
   },
   {
    "duration": 13,
    "start_time": "2022-03-17T08:09:35.689Z"
   },
   {
    "duration": 38,
    "start_time": "2022-03-17T08:09:35.704Z"
   },
   {
    "duration": 18,
    "start_time": "2022-03-17T08:09:35.744Z"
   },
   {
    "duration": 2,
    "start_time": "2022-03-17T08:09:35.764Z"
   },
   {
    "duration": 736,
    "start_time": "2022-03-17T08:09:35.780Z"
   },
   {
    "duration": 2579,
    "start_time": "2022-03-17T08:09:36.518Z"
   },
   {
    "duration": 10185,
    "start_time": "2022-03-17T08:09:39.098Z"
   },
   {
    "duration": 135124,
    "start_time": "2022-03-17T08:09:49.285Z"
   },
   {
    "duration": 7280,
    "start_time": "2022-03-17T08:12:04.411Z"
   },
   {
    "duration": 307,
    "start_time": "2022-03-17T08:12:11.693Z"
   },
   {
    "duration": 417,
    "start_time": "2022-03-17T08:12:12.001Z"
   },
   {
    "duration": 62,
    "start_time": "2022-03-17T08:12:12.420Z"
   },
   {
    "duration": 48,
    "start_time": "2022-03-17T08:12:38.320Z"
   },
   {
    "duration": 51,
    "start_time": "2022-03-17T08:12:41.848Z"
   },
   {
    "duration": 594,
    "start_time": "2022-03-17T08:14:47.405Z"
   },
   {
    "duration": 9,
    "start_time": "2022-03-17T08:14:49.158Z"
   },
   {
    "duration": 51,
    "start_time": "2022-03-17T08:14:49.952Z"
   },
   {
    "duration": 58,
    "start_time": "2022-03-17T08:14:55.458Z"
   },
   {
    "duration": 338,
    "start_time": "2022-03-17T08:15:55.536Z"
   },
   {
    "duration": 9,
    "start_time": "2022-03-17T08:15:58.349Z"
   },
   {
    "duration": 47,
    "start_time": "2022-03-17T08:15:59.001Z"
   },
   {
    "duration": 474,
    "start_time": "2022-03-17T08:16:50.441Z"
   },
   {
    "duration": 349,
    "start_time": "2022-03-17T08:17:15.123Z"
   },
   {
    "duration": 14,
    "start_time": "2022-03-17T08:17:39.401Z"
   },
   {
    "duration": 13,
    "start_time": "2022-03-17T08:18:01.300Z"
   },
   {
    "duration": 12,
    "start_time": "2022-03-17T08:19:29.019Z"
   },
   {
    "duration": 13,
    "start_time": "2022-03-17T08:19:47.618Z"
   },
   {
    "duration": 447,
    "start_time": "2022-03-17T08:19:56.830Z"
   },
   {
    "duration": 11,
    "start_time": "2022-03-17T08:20:04.660Z"
   },
   {
    "duration": 349,
    "start_time": "2022-03-17T08:22:16.782Z"
   },
   {
    "duration": 360,
    "start_time": "2022-03-17T08:23:05.252Z"
   },
   {
    "duration": 173,
    "start_time": "2022-03-17T08:45:47.888Z"
   },
   {
    "duration": 8,
    "start_time": "2022-03-17T08:47:26.316Z"
   },
   {
    "duration": 6,
    "start_time": "2022-03-17T08:47:35.491Z"
   },
   {
    "duration": 4,
    "start_time": "2022-03-17T08:48:01.865Z"
   },
   {
    "duration": 7,
    "start_time": "2022-03-17T08:48:03.994Z"
   },
   {
    "duration": 287,
    "start_time": "2022-03-17T08:48:16.727Z"
   },
   {
    "duration": 5347,
    "start_time": "2022-03-17T08:49:28.573Z"
   },
   {
    "duration": 344,
    "start_time": "2022-03-17T08:49:40.684Z"
   },
   {
    "duration": 4,
    "start_time": "2022-03-17T08:51:17.158Z"
   },
   {
    "duration": 259,
    "start_time": "2022-03-17T08:51:22.944Z"
   },
   {
    "duration": 294,
    "start_time": "2022-03-17T08:52:56.120Z"
   },
   {
    "duration": 318,
    "start_time": "2022-03-17T08:53:13.768Z"
   },
   {
    "duration": 302,
    "start_time": "2022-03-17T08:53:42.611Z"
   },
   {
    "duration": 5,
    "start_time": "2022-03-17T08:53:56.667Z"
   },
   {
    "duration": 9,
    "start_time": "2022-03-17T08:54:44.868Z"
   },
   {
    "duration": 10,
    "start_time": "2022-03-17T08:55:02.120Z"
   },
   {
    "duration": 6,
    "start_time": "2022-03-17T08:58:53.347Z"
   },
   {
    "duration": 265,
    "start_time": "2022-03-17T08:58:57.548Z"
   },
   {
    "duration": 5,
    "start_time": "2022-03-17T08:59:20.544Z"
   },
   {
    "duration": 5361,
    "start_time": "2022-03-17T09:01:39.989Z"
   },
   {
    "duration": 345,
    "start_time": "2022-03-17T09:01:48.522Z"
   },
   {
    "duration": 434,
    "start_time": "2022-03-17T09:06:29.894Z"
   },
   {
    "duration": 540,
    "start_time": "2022-03-17T09:06:33.425Z"
   },
   {
    "duration": 1711,
    "start_time": "2022-04-21T09:51:31.826Z"
   },
   {
    "duration": 751,
    "start_time": "2022-04-21T09:51:33.539Z"
   },
   {
    "duration": 50,
    "start_time": "2022-04-21T09:51:34.292Z"
   },
   {
    "duration": 18,
    "start_time": "2022-04-21T09:51:34.345Z"
   },
   {
    "duration": 50,
    "start_time": "2022-04-21T09:51:34.365Z"
   },
   {
    "duration": 9,
    "start_time": "2022-04-21T09:51:34.416Z"
   },
   {
    "duration": 10,
    "start_time": "2022-04-21T09:51:34.427Z"
   },
   {
    "duration": 3,
    "start_time": "2022-04-21T09:51:34.440Z"
   },
   {
    "duration": 11,
    "start_time": "2022-04-21T09:51:34.445Z"
   },
   {
    "duration": 57,
    "start_time": "2022-04-21T09:51:34.458Z"
   },
   {
    "duration": 19,
    "start_time": "2022-04-21T09:51:34.517Z"
   },
   {
    "duration": 10,
    "start_time": "2022-04-21T09:51:34.538Z"
   },
   {
    "duration": 30,
    "start_time": "2022-04-21T09:51:34.551Z"
   },
   {
    "duration": 39,
    "start_time": "2022-04-21T09:51:34.583Z"
   },
   {
    "duration": 16,
    "start_time": "2022-04-21T09:51:34.624Z"
   },
   {
    "duration": 8,
    "start_time": "2022-04-21T09:51:34.641Z"
   },
   {
    "duration": 6,
    "start_time": "2022-04-21T09:51:34.650Z"
   },
   {
    "duration": 120,
    "start_time": "2022-04-21T09:51:34.658Z"
   },
   {
    "duration": 141,
    "start_time": "2022-04-21T09:51:34.779Z"
   },
   {
    "duration": 31,
    "start_time": "2022-04-21T09:51:34.922Z"
   },
   {
    "duration": 3,
    "start_time": "2022-04-21T09:51:34.954Z"
   },
   {
    "duration": 5,
    "start_time": "2022-04-21T09:51:34.959Z"
   },
   {
    "duration": 652,
    "start_time": "2022-04-21T09:51:34.965Z"
   },
   {
    "duration": 5,
    "start_time": "2022-04-21T09:51:35.619Z"
   },
   {
    "duration": 19,
    "start_time": "2022-04-21T09:51:35.626Z"
   },
   {
    "duration": 650,
    "start_time": "2022-04-21T09:51:35.646Z"
   },
   {
    "duration": 3,
    "start_time": "2022-04-21T09:51:36.298Z"
   },
   {
    "duration": 5,
    "start_time": "2022-04-21T09:51:36.311Z"
   },
   {
    "duration": 645,
    "start_time": "2022-04-21T09:51:36.318Z"
   },
   {
    "duration": 13,
    "start_time": "2022-04-21T09:51:36.965Z"
   },
   {
    "duration": 322,
    "start_time": "2022-04-21T09:51:36.979Z"
   },
   {
    "duration": 5,
    "start_time": "2022-04-21T09:51:37.307Z"
   },
   {
    "duration": 22,
    "start_time": "2022-04-21T09:51:37.315Z"
   },
   {
    "duration": 15,
    "start_time": "2022-04-21T09:51:37.339Z"
   },
   {
    "duration": 573,
    "start_time": "2022-04-21T09:51:37.356Z"
   },
   {
    "duration": 13,
    "start_time": "2022-04-21T09:51:37.931Z"
   },
   {
    "duration": 10,
    "start_time": "2022-04-21T09:51:37.946Z"
   },
   {
    "duration": 18,
    "start_time": "2022-04-21T09:51:37.957Z"
   },
   {
    "duration": 4,
    "start_time": "2022-04-21T09:51:37.977Z"
   },
   {
    "duration": 34,
    "start_time": "2022-04-21T09:51:38.009Z"
   },
   {
    "duration": 26,
    "start_time": "2022-04-21T09:51:38.044Z"
   },
   {
    "duration": 9,
    "start_time": "2022-04-21T09:51:38.071Z"
   },
   {
    "duration": 69,
    "start_time": "2022-04-21T09:51:38.082Z"
   },
   {
    "duration": 19,
    "start_time": "2022-04-21T09:51:38.153Z"
   },
   {
    "duration": 2,
    "start_time": "2022-04-21T09:51:38.174Z"
   },
   {
    "duration": 53,
    "start_time": "2022-04-21T09:51:38.177Z"
   },
   {
    "duration": 2074,
    "start_time": "2022-04-21T09:51:38.235Z"
   },
   {
    "duration": 7351,
    "start_time": "2022-04-21T09:51:40.312Z"
   },
   {
    "duration": 121839,
    "start_time": "2022-04-21T09:51:47.664Z"
   },
   {
    "duration": 5900,
    "start_time": "2022-04-21T09:53:49.504Z"
   },
   {
    "duration": 13,
    "start_time": "2022-04-21T09:53:55.406Z"
   },
   {
    "duration": 112,
    "start_time": "2022-04-21T09:53:55.422Z"
   },
   {
    "duration": 6660,
    "start_time": "2022-04-21T09:55:45.102Z"
   },
   {
    "duration": 118134,
    "start_time": "2022-04-21T09:56:00.499Z"
   }
  ],
  "kernelspec": {
   "display_name": "Python 3 (ipykernel)",
   "language": "python",
   "name": "python3"
  },
  "language_info": {
   "codemirror_mode": {
    "name": "ipython",
    "version": 3
   },
   "file_extension": ".py",
   "mimetype": "text/x-python",
   "name": "python",
   "nbconvert_exporter": "python",
   "pygments_lexer": "ipython3",
   "version": "3.9.5"
  },
  "toc": {
   "base_numbering": 1,
   "nav_menu": {},
   "number_sections": true,
   "sideBar": true,
   "skip_h1_title": true,
   "title_cell": "Содержание",
   "title_sidebar": "Contents",
   "toc_cell": true,
   "toc_position": {
    "height": "calc(100% - 180px)",
    "left": "10px",
    "top": "150px",
    "width": "409.08px"
   },
   "toc_section_display": true,
   "toc_window_display": true
  }
 },
 "nbformat": 4,
 "nbformat_minor": 2
}
